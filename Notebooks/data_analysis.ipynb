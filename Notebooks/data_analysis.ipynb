{
 "cells": [
  {
   "cell_type": "markdown",
   "id": "a8b3287a",
   "metadata": {},
   "source": [
    "# Food Health Classifier"
   ]
  },
  {
   "cell_type": "markdown",
   "id": "40f4584c",
   "metadata": {},
   "source": [
    "# “Mahsulot haqida ma’lumotlardan foydalanib, u qanchalik qayta ishlangan ekanini oldindan aytadigan model” qurish."
   ]
  },
  {
   "cell_type": "markdown",
   "id": "990ffe5f",
   "metadata": {},
   "source": [
    "# Target Ustuni  = nova_group , nova_group 1–4 oralig‘ida 1: minimal qayta ishlangan (sog‘lom) , 4: yuqori qayta ishlangan (kamroq sog‘lom)"
   ]
  },
  {
   "cell_type": "code",
   "execution_count": 1,
   "id": "478c1210",
   "metadata": {},
   "outputs": [],
   "source": [
    "import pandas as pd\n",
    "import logging\n",
    "\n",
    "# Log fayl manzili\n",
    "log_path = r\"C:\\Users\\Rasulbek907\\Desktop\\Project_MP\\Log\\data_loader.log\"\n",
    "\n",
    "# Log sozlamalari\n",
    "logging.basicConfig(\n",
    "    filename=log_path,\n",
    "    filemode='a',  # Append mode\n",
    "    format='%(asctime)s - %(levelname)s - %(message)s',\n",
    "    level=logging.INFO\n",
    ")\n",
    "\n",
    "try:\n",
    "    logging.info(\"CSV fayl o'qilmoqda:...\")\n",
    "    df = pd.read_csv(r\"C:\\Users\\Rasulbek907\\Desktop\\Project_MP\\Data\\Enginered_Data\\sml_multiclass_dataset.csv\")\n",
    "    logging.info(f\"Fayl muvaffaqiyatli o'qildi. Satırlar soni: {len(df)} ustunlar soni: {len(df.columns)}\")\n",
    "except Exception as e:\n",
    "    logging.error(f\"CSV faylni o'qishda xatolik: {e}\")"
   ]
  },
  {
   "cell_type": "code",
   "execution_count": 2,
   "id": "bb7b7859",
   "metadata": {},
   "outputs": [
    {
     "data": {
      "text/html": [
       "<div>\n",
       "<style scoped>\n",
       "    .dataframe tbody tr th:only-of-type {\n",
       "        vertical-align: middle;\n",
       "    }\n",
       "\n",
       "    .dataframe tbody tr th {\n",
       "        vertical-align: top;\n",
       "    }\n",
       "\n",
       "    .dataframe thead th {\n",
       "        text-align: right;\n",
       "    }\n",
       "</style>\n",
       "<table border=\"1\" class=\"dataframe\">\n",
       "  <thead>\n",
       "    <tr style=\"text-align: right;\">\n",
       "      <th></th>\n",
       "      <th>name_length</th>\n",
       "      <th>is_organic</th>\n",
       "      <th>is_sugar_free</th>\n",
       "      <th>quantity_value</th>\n",
       "      <th>quantity_unit_encoded</th>\n",
       "      <th>category_depth</th>\n",
       "      <th>country_count</th>\n",
       "      <th>product_age_days</th>\n",
       "      <th>created_year</th>\n",
       "      <th>created_month</th>\n",
       "      <th>main_category_encoded</th>\n",
       "      <th>nova_group</th>\n",
       "    </tr>\n",
       "  </thead>\n",
       "  <tbody>\n",
       "    <tr>\n",
       "      <th>0</th>\n",
       "      <td>2</td>\n",
       "      <td>0</td>\n",
       "      <td>0</td>\n",
       "      <td>33.0</td>\n",
       "      <td>7</td>\n",
       "      <td>7</td>\n",
       "      <td>1</td>\n",
       "      <td>3671</td>\n",
       "      <td>2015</td>\n",
       "      <td>8</td>\n",
       "      <td>53</td>\n",
       "      <td>3.28451</td>\n",
       "    </tr>\n",
       "    <tr>\n",
       "      <th>1</th>\n",
       "      <td>1</td>\n",
       "      <td>0</td>\n",
       "      <td>0</td>\n",
       "      <td>100.0</td>\n",
       "      <td>14</td>\n",
       "      <td>1</td>\n",
       "      <td>2</td>\n",
       "      <td>3326</td>\n",
       "      <td>2016</td>\n",
       "      <td>9</td>\n",
       "      <td>459</td>\n",
       "      <td>3.00000</td>\n",
       "    </tr>\n",
       "    <tr>\n",
       "      <th>2</th>\n",
       "      <td>2</td>\n",
       "      <td>0</td>\n",
       "      <td>0</td>\n",
       "      <td>2.0</td>\n",
       "      <td>29</td>\n",
       "      <td>6</td>\n",
       "      <td>1</td>\n",
       "      <td>2590</td>\n",
       "      <td>2018</td>\n",
       "      <td>9</td>\n",
       "      <td>53</td>\n",
       "      <td>1.00000</td>\n",
       "    </tr>\n",
       "    <tr>\n",
       "      <th>3</th>\n",
       "      <td>3</td>\n",
       "      <td>0</td>\n",
       "      <td>0</td>\n",
       "      <td>1.0</td>\n",
       "      <td>29</td>\n",
       "      <td>7</td>\n",
       "      <td>1</td>\n",
       "      <td>4068</td>\n",
       "      <td>2014</td>\n",
       "      <td>9</td>\n",
       "      <td>53</td>\n",
       "      <td>1.00000</td>\n",
       "    </tr>\n",
       "    <tr>\n",
       "      <th>4</th>\n",
       "      <td>1</td>\n",
       "      <td>0</td>\n",
       "      <td>0</td>\n",
       "      <td>33.0</td>\n",
       "      <td>7</td>\n",
       "      <td>6</td>\n",
       "      <td>1</td>\n",
       "      <td>2365</td>\n",
       "      <td>2019</td>\n",
       "      <td>3</td>\n",
       "      <td>68</td>\n",
       "      <td>3.28451</td>\n",
       "    </tr>\n",
       "  </tbody>\n",
       "</table>\n",
       "</div>"
      ],
      "text/plain": [
       "   name_length  is_organic  is_sugar_free  quantity_value  \\\n",
       "0            2           0              0            33.0   \n",
       "1            1           0              0           100.0   \n",
       "2            2           0              0             2.0   \n",
       "3            3           0              0             1.0   \n",
       "4            1           0              0            33.0   \n",
       "\n",
       "   quantity_unit_encoded  category_depth  country_count  product_age_days  \\\n",
       "0                      7               7              1              3671   \n",
       "1                     14               1              2              3326   \n",
       "2                     29               6              1              2590   \n",
       "3                     29               7              1              4068   \n",
       "4                      7               6              1              2365   \n",
       "\n",
       "   created_year  created_month  main_category_encoded  nova_group  \n",
       "0          2015              8                     53     3.28451  \n",
       "1          2016              9                    459     3.00000  \n",
       "2          2018              9                     53     1.00000  \n",
       "3          2014              9                     53     1.00000  \n",
       "4          2019              3                     68     3.28451  "
      ]
     },
     "execution_count": 2,
     "metadata": {},
     "output_type": "execute_result"
    }
   ],
   "source": [
    "df.head()"
   ]
  },
  {
   "cell_type": "code",
   "execution_count": 3,
   "id": "1381815d",
   "metadata": {},
   "outputs": [
    {
     "name": "stdout",
     "output_type": "stream",
     "text": [
      "<class 'pandas.core.frame.DataFrame'>\n",
      "RangeIndex: 4993 entries, 0 to 4992\n",
      "Data columns (total 12 columns):\n",
      " #   Column                 Non-Null Count  Dtype  \n",
      "---  ------                 --------------  -----  \n",
      " 0   name_length            4993 non-null   int64  \n",
      " 1   is_organic             4993 non-null   int64  \n",
      " 2   is_sugar_free          4993 non-null   int64  \n",
      " 3   quantity_value         4993 non-null   float64\n",
      " 4   quantity_unit_encoded  4993 non-null   int64  \n",
      " 5   category_depth         4993 non-null   int64  \n",
      " 6   country_count          4993 non-null   int64  \n",
      " 7   product_age_days       4993 non-null   int64  \n",
      " 8   created_year           4993 non-null   int64  \n",
      " 9   created_month          4993 non-null   int64  \n",
      " 10  main_category_encoded  4993 non-null   int64  \n",
      " 11  nova_group             4993 non-null   float64\n",
      "dtypes: float64(2), int64(10)\n",
      "memory usage: 468.2 KB\n"
     ]
    }
   ],
   "source": [
    "df.info()"
   ]
  },
  {
   "cell_type": "markdown",
   "id": "b735590a",
   "metadata": {},
   "source": [
    "# 🧾 Jadval ustunlari tavsifi"
   ]
  },
  {
   "cell_type": "markdown",
   "id": "49b9e98b",
   "metadata": {},
   "source": [
    "| №    | Ustun nomi                | Tarjima                              | Qisqacha ma’nosi                                                                                   |\n",
    "| ---- | ------------------------- | ------------------------------------ | -------------------------------------------------------------------------------------------------- |\n",
    "| 1️⃣  | **name_length**           | Nomi uzunligi                        | Mahsulot nomidagi belgilar soni (nom uzunligini bildiradi).                                        |\n",
    "| 2️⃣  | **is_organic**            | Organik mahsulotmi                   | 1 — organik, 0 — oddiy mahsulot.                                                                   |\n",
    "| 3️⃣  | **is_sugar_free**         | Shakarsizmi                          | 1 — shakarsiz, 0 — shakarlangan.                                                                   |\n",
    "| 4️⃣  | **quantity_value**        | Miqdor qiymati                       | Mahsulot og‘irligi yoki hajmi (masalan, 100 ml, 250 g).                                            |\n",
    "| 5️⃣  | **quantity_unit_encoded** | Miqdor birligi (kodlangan)           | Miqdor o‘lchov birligi (gramm, litr, dona va hokazo) raqam bilan kodlangan.                        |\n",
    "| 6️⃣  | **category_depth**        | Kategoriya chuqurligi                | Mahsulot qaysi darajadagi kategoriya ichida joylashganini ko‘rsatadi (chuqurroq → aniqroq toifa).  |\n",
    "| 7️⃣  | **country_count**         | Mamlakatlar soni                     | Mahsulot nechta mamlakatda mavjud yoki sotilayotganini bildiradi.                                  |\n",
    "| 8️⃣  | **product_age_days**      | Mahsulot yoshi (kunlarda)            | Mahsulot bazaga kiritilgan kundan boshlab o‘tgan kunlar soni.                                      |\n",
    "| 9️⃣  | **created_year**          | Yaratilgan yil                       | Mahsulot ma’lumotlari bazaga qo‘shilgan yil.                                                       |\n",
    "| 🔟   | **created_month**         | Yaratilgan oy                        | Ma’lumot kiritilgan oy raqami (1–12).                                                              |\n",
    "| 11️⃣ | **main_category_encoded** | Asosiy kategoriya (kodlangan)        | Mahsulotning asosiy turini ifodalovchi kod (masalan: ichimliklar, shirinliklar, sut mahsulotlari). |\n",
    "| 12️⃣ | **nova_group**            | NOVA guruhi (qayta ishlash darajasi) | Mahsulot qayta ishlanganlik darajasi: <br> 1 — tabiiy, 4 — kuchli qayta ishlangan.                 |\n"
   ]
  },
  {
   "cell_type": "code",
   "execution_count": 4,
   "id": "61503ea7",
   "metadata": {},
   "outputs": [
    {
     "data": {
      "text/html": [
       "<div>\n",
       "<style scoped>\n",
       "    .dataframe tbody tr th:only-of-type {\n",
       "        vertical-align: middle;\n",
       "    }\n",
       "\n",
       "    .dataframe tbody tr th {\n",
       "        vertical-align: top;\n",
       "    }\n",
       "\n",
       "    .dataframe thead th {\n",
       "        text-align: right;\n",
       "    }\n",
       "</style>\n",
       "<table border=\"1\" class=\"dataframe\">\n",
       "  <thead>\n",
       "    <tr style=\"text-align: right;\">\n",
       "      <th></th>\n",
       "      <th>name_length</th>\n",
       "      <th>is_organic</th>\n",
       "      <th>is_sugar_free</th>\n",
       "      <th>quantity_value</th>\n",
       "      <th>quantity_unit_encoded</th>\n",
       "      <th>category_depth</th>\n",
       "      <th>country_count</th>\n",
       "      <th>product_age_days</th>\n",
       "      <th>created_year</th>\n",
       "      <th>created_month</th>\n",
       "      <th>main_category_encoded</th>\n",
       "      <th>nova_group</th>\n",
       "    </tr>\n",
       "  </thead>\n",
       "  <tbody>\n",
       "    <tr>\n",
       "      <th>count</th>\n",
       "      <td>4993.00000</td>\n",
       "      <td>4993.00000</td>\n",
       "      <td>4993.0</td>\n",
       "      <td>4993.000000</td>\n",
       "      <td>4993.000000</td>\n",
       "      <td>4993.000000</td>\n",
       "      <td>4993.000000</td>\n",
       "      <td>4993.000000</td>\n",
       "      <td>4993.000000</td>\n",
       "      <td>4993.000000</td>\n",
       "      <td>4993.000000</td>\n",
       "      <td>4993.000000</td>\n",
       "    </tr>\n",
       "    <tr>\n",
       "      <th>mean</th>\n",
       "      <td>3.47126</td>\n",
       "      <td>0.01462</td>\n",
       "      <td>0.0</td>\n",
       "      <td>294.821727</td>\n",
       "      <td>19.069497</td>\n",
       "      <td>7.237332</td>\n",
       "      <td>2.443421</td>\n",
       "      <td>2494.868816</td>\n",
       "      <td>2018.152614</td>\n",
       "      <td>6.031444</td>\n",
       "      <td>262.622471</td>\n",
       "      <td>3.283936</td>\n",
       "    </tr>\n",
       "    <tr>\n",
       "      <th>std</th>\n",
       "      <td>2.12689</td>\n",
       "      <td>0.12004</td>\n",
       "      <td>0.0</td>\n",
       "      <td>230.069482</td>\n",
       "      <td>11.915155</td>\n",
       "      <td>3.399359</td>\n",
       "      <td>2.452280</td>\n",
       "      <td>1232.022279</td>\n",
       "      <td>3.275715</td>\n",
       "      <td>3.332654</td>\n",
       "      <td>174.267565</td>\n",
       "      <td>0.974557</td>\n",
       "    </tr>\n",
       "    <tr>\n",
       "      <th>min</th>\n",
       "      <td>1.00000</td>\n",
       "      <td>0.00000</td>\n",
       "      <td>0.0</td>\n",
       "      <td>0.000000</td>\n",
       "      <td>1.000000</td>\n",
       "      <td>1.000000</td>\n",
       "      <td>1.000000</td>\n",
       "      <td>0.000000</td>\n",
       "      <td>2012.000000</td>\n",
       "      <td>1.000000</td>\n",
       "      <td>0.000000</td>\n",
       "      <td>1.000000</td>\n",
       "    </tr>\n",
       "    <tr>\n",
       "      <th>25%</th>\n",
       "      <td>2.00000</td>\n",
       "      <td>0.00000</td>\n",
       "      <td>0.0</td>\n",
       "      <td>110.000000</td>\n",
       "      <td>14.000000</td>\n",
       "      <td>5.000000</td>\n",
       "      <td>1.000000</td>\n",
       "      <td>1543.000000</td>\n",
       "      <td>2016.000000</td>\n",
       "      <td>3.000000</td>\n",
       "      <td>75.000000</td>\n",
       "      <td>3.000000</td>\n",
       "    </tr>\n",
       "    <tr>\n",
       "      <th>50%</th>\n",
       "      <td>3.00000</td>\n",
       "      <td>0.00000</td>\n",
       "      <td>0.0</td>\n",
       "      <td>250.000000</td>\n",
       "      <td>14.000000</td>\n",
       "      <td>7.000000</td>\n",
       "      <td>2.000000</td>\n",
       "      <td>2499.000000</td>\n",
       "      <td>2018.000000</td>\n",
       "      <td>6.000000</td>\n",
       "      <td>344.000000</td>\n",
       "      <td>4.000000</td>\n",
       "    </tr>\n",
       "    <tr>\n",
       "      <th>75%</th>\n",
       "      <td>5.00000</td>\n",
       "      <td>0.00000</td>\n",
       "      <td>0.0</td>\n",
       "      <td>500.000000</td>\n",
       "      <td>14.000000</td>\n",
       "      <td>10.000000</td>\n",
       "      <td>3.000000</td>\n",
       "      <td>3452.000000</td>\n",
       "      <td>2021.000000</td>\n",
       "      <td>9.000000</td>\n",
       "      <td>415.000000</td>\n",
       "      <td>4.000000</td>\n",
       "    </tr>\n",
       "    <tr>\n",
       "      <th>max</th>\n",
       "      <td>18.00000</td>\n",
       "      <td>1.00000</td>\n",
       "      <td>0.0</td>\n",
       "      <td>2041.165665</td>\n",
       "      <td>71.000000</td>\n",
       "      <td>25.000000</td>\n",
       "      <td>25.000000</td>\n",
       "      <td>4991.000000</td>\n",
       "      <td>2025.000000</td>\n",
       "      <td>12.000000</td>\n",
       "      <td>519.000000</td>\n",
       "      <td>4.000000</td>\n",
       "    </tr>\n",
       "  </tbody>\n",
       "</table>\n",
       "</div>"
      ],
      "text/plain": [
       "       name_length  is_organic  is_sugar_free  quantity_value  \\\n",
       "count   4993.00000  4993.00000         4993.0     4993.000000   \n",
       "mean       3.47126     0.01462            0.0      294.821727   \n",
       "std        2.12689     0.12004            0.0      230.069482   \n",
       "min        1.00000     0.00000            0.0        0.000000   \n",
       "25%        2.00000     0.00000            0.0      110.000000   \n",
       "50%        3.00000     0.00000            0.0      250.000000   \n",
       "75%        5.00000     0.00000            0.0      500.000000   \n",
       "max       18.00000     1.00000            0.0     2041.165665   \n",
       "\n",
       "       quantity_unit_encoded  category_depth  country_count  product_age_days  \\\n",
       "count            4993.000000     4993.000000    4993.000000       4993.000000   \n",
       "mean               19.069497        7.237332       2.443421       2494.868816   \n",
       "std                11.915155        3.399359       2.452280       1232.022279   \n",
       "min                 1.000000        1.000000       1.000000          0.000000   \n",
       "25%                14.000000        5.000000       1.000000       1543.000000   \n",
       "50%                14.000000        7.000000       2.000000       2499.000000   \n",
       "75%                14.000000       10.000000       3.000000       3452.000000   \n",
       "max                71.000000       25.000000      25.000000       4991.000000   \n",
       "\n",
       "       created_year  created_month  main_category_encoded   nova_group  \n",
       "count   4993.000000    4993.000000            4993.000000  4993.000000  \n",
       "mean    2018.152614       6.031444             262.622471     3.283936  \n",
       "std        3.275715       3.332654             174.267565     0.974557  \n",
       "min     2012.000000       1.000000               0.000000     1.000000  \n",
       "25%     2016.000000       3.000000              75.000000     3.000000  \n",
       "50%     2018.000000       6.000000             344.000000     4.000000  \n",
       "75%     2021.000000       9.000000             415.000000     4.000000  \n",
       "max     2025.000000      12.000000             519.000000     4.000000  "
      ]
     },
     "execution_count": 4,
     "metadata": {},
     "output_type": "execute_result"
    }
   ],
   "source": [
    "df.describe()"
   ]
  },
  {
   "cell_type": "markdown",
   "id": "1fde2804",
   "metadata": {},
   "source": [
    "# Asosiy ustunlar bo‘yicha statistik ko‘rsatkichlar"
   ]
  },
  {
   "cell_type": "markdown",
   "id": "26a18880",
   "metadata": {},
   "source": [
    "| Ustun nomi                | O‘rtacha qiymat (mean) | Eng kichik (min) | Eng katta (max) | Izoh                                                                                            |\n",
    "| ------------------------- | ---------------------- | ---------------- | --------------- | ----------------------------------------------------------------------------------------------- |\n",
    "| **name_length**           | 3.47                   | 1                | 18              | O‘rtacha nom uzunligi 3–4 so‘z atrofida, lekin ayrim mahsulot nomlari juda uzun (18 so‘zgacha). |\n",
    "| **is_organic**            | 0.0146                 | 0                | 1               | Faqat ~1.5% mahsulotlar **organik**, bu juda kam.                                               |\n",
    "| **is_sugar_free**         | 0.0                    | 0                | 0               | Hech bir mahsulot **shakarsiz** deb belgilanmagan (yoki ma’lumot yo‘q).                         |\n",
    "| **quantity_value**        | 294.8                  | 0                | 2041            | O‘rtacha mahsulot miqdori 300 birlik atrofida, lekin juda katta farq mavjud.                    |\n",
    "| **quantity_unit_encoded** | 19.06                  | 1                | 71              | Miqdor birliklari (ml, g, kg, L va hok.) keng diapazonda kodlangan.                             |\n",
    "| **category_depth**        | 7.23                   | 1                | 25              | Kategoriyalar 1 dan 25 gacha chuqurlikda, ya’ni murakkab ierarxik tuzilma bor.                  |\n",
    "| **country_count**         | 2.43                   | 1                | 25              | Mahsulotlar o‘rtacha 2–3 ta mamlakatda mavjud, ayrimlari 25 ta davlatda.                        |\n",
    "| **product_age_days**      | 2494                   | 1                | 4991            | Mahsulotlar o‘rtacha 6–7 yillik (ehtimol, platformaga qo‘shilgan vaqtdan beri).                 |\n",
    "| **created_year**          | 2018.15                | 2012             | 2025            | Ko‘pchilik mahsulotlar 2016–2021 oralig‘ida yaratilgan.                                         |\n",
    "| **created_month**         | 6.03                   | 1                | 12              | Yil bo‘yicha teng taqsimlangan, o‘rtacha 6-oy (iyun) atrofida.                                  |\n",
    "| **main_category_encoded** | 262.6                  | 0                | 519             | 500 ga yaqin asosiy kategoriya mavjud, turli xil mahsulot turlari.                              |\n",
    "| **nova_group**            | 3.28                   | 1                | 4               | Ko‘pchilik mahsulotlar **3 yoki 4-darajali qayta ishlangan oziq-ovqat** hisoblanadi.            |\n"
   ]
  },
  {
   "cell_type": "markdown",
   "id": "dfaabcad",
   "metadata": {},
   "source": [
    "# Kuzatishlar va xulosalar"
   ]
  },
  {
   "cell_type": "markdown",
   "id": "04dc5c95",
   "metadata": {},
   "source": [
    "🥦 Organik mahsulotlar juda kam (1–2%), bu ma’lumotlar bazasida sog‘lom oziq-ovqatlar ulushi pastligini ko‘rsatadi.\n",
    "\n",
    "🍬 Shakarsiz mahsulotlar yo‘q, bu ustun ehtimol to‘ldirilmagan yoki barchasi “False”.\n",
    "\n",
    "⚖️ Miqdor (quantity_value) juda farq qiladi (0 dan 2000+ gacha), bu normalizatsiya yoki log-transformatsiya talab qiladi.\n",
    "\n",
    "🌍 Country count ko‘rsatadi: ko‘pchilik mahsulotlar faqat 1–3 ta mamlakatda sotiladi, ayrimlari esa juda ko‘p joyda.\n",
    "\n",
    "📅 created_year va product_age_days ustunlari vaqt bo‘yicha o‘zgarishlarni (trend) tahlil qilish uchun juda qulay.\n",
    "\n",
    "🍔 nova_group qiymatlarining yuqoriligi shuni ko‘rsatadiki, ko‘pchilik mahsulotlar ko‘p qayta ishlangan (sog‘lom emas).\n",
    "\n",
    "🗂️ main_category_encoded da 500 ga yaqin tur mavjud — bu multiclass muammo uchun yaxshi asos."
   ]
  },
  {
   "cell_type": "code",
   "execution_count": 5,
   "id": "4314aece",
   "metadata": {},
   "outputs": [
    {
     "data": {
      "text/plain": [
       "nova_group\n",
       "4.00000    52.553575\n",
       "3.00000    22.010815\n",
       "1.00000    11.355898\n",
       "3.28451     9.833767\n",
       "2.00000     4.245944\n",
       "Name: proportion, dtype: float64"
      ]
     },
     "execution_count": 5,
     "metadata": {},
     "output_type": "execute_result"
    }
   ],
   "source": [
    "df[\"nova_group\"].value_counts(normalize=True) * 100"
   ]
  },
  {
   "cell_type": "markdown",
   "id": "c2399dfb",
   "metadata": {},
   "source": [
    "# 📊 NOVA guruhi tahlili"
   ]
  },
  {
   "cell_type": "markdown",
   "id": "d6f5e4af",
   "metadata": {},
   "source": [
    "| NOVA guruhi | Tushuntirish                                                                             | Ulushi (%) |\n",
    "| ----------- | ---------------------------------------------------------------------------------------- | ---------- |\n",
    "| 4           | Juda ko‘p qayta ishlangan mahsulotlar *(ultra-processed foods)*                          | **52.55%** |\n",
    "| 3           | Qayta ishlangan mahsulotlar *(processed foods)*                                          | **22.01%** |\n",
    "| 1           | Qayta ishlanmagan yoki minimal ishlangan mahsulotlar *(unprocessed/minimally processed)* | **11.36%** |\n",
    "| 3.28451     | Noaniq yoki aralash guruh (ehtimol noto‘g‘ri yoki interpolatsiya qiymat)                 | **9.83%**  |\n",
    "| 2           | Pishirishda ishlatiladigan ingredientlar *(culinary ingredients)*                        | **4.25%**  |\n"
   ]
  },
  {
   "cell_type": "code",
   "execution_count": null,
   "id": "00457050",
   "metadata": {},
   "outputs": [],
   "source": []
  },
  {
   "cell_type": "markdown",
   "id": "a41fa674",
   "metadata": {},
   "source": [
    "# Korrelatsiya jadvali"
   ]
  },
  {
   "cell_type": "code",
   "execution_count": 2,
   "id": "9794be68",
   "metadata": {},
   "outputs": [
    {
     "data": {
      "application/vnd.plotly.v1+json": {
       "config": {
        "plotlyServerURL": "https://plot.ly"
       },
       "data": [
        {
         "coloraxis": "coloraxis",
         "hovertemplate": "x: %{x}<br>y: %{y}<br>color: %{z}<extra></extra>",
         "name": "0",
         "texttemplate": "%{z:.2f}",
         "type": "heatmap",
         "x": [
          "name_length",
          "is_organic",
          "is_sugar_free",
          "quantity_value",
          "quantity_unit_encoded",
          "category_depth",
          "country_count",
          "product_age_days",
          "created_year",
          "created_month",
          "main_category_encoded",
          "nova_group"
         ],
         "xaxis": "x",
         "y": [
          "name_length",
          "is_organic",
          "is_sugar_free",
          "quantity_value",
          "quantity_unit_encoded",
          "category_depth",
          "country_count",
          "product_age_days",
          "created_year",
          "created_month",
          "main_category_encoded",
          "nova_group"
         ],
         "yaxis": "y",
         "z": {
          "bdata": "AAAAAAAA8D9lQtXqS/OpPwAAAAAAAPh/F/W/L4IOnr+Mx6qKNweiv8G9hk4Mk78/xQhEAJ63rL/xhgScZ7zAP/84JoVcNcC/aLqAYeRKkL+VdkyGP6iwP2iNDRD0JbM/ZULV6kvzqT8AAAAAAADwPwAAAAAAAPh/pHA8wTJOn7+DOgBOqQqAP6vBJYTrxKI/aheDldzEk7+vQ3V6N1tZPzvH2MREP3e/z5Pc/FGckr8Kigo/jQeXP2jfkSgPzLS/AAAAAAAA+H8AAAAAAAD4fwAAAAAAAPh/AAAAAAAA+H8AAAAAAAD4fwAAAAAAAPh/AAAAAAAA+H8AAAAAAAD4fwAAAAAAAPh/AAAAAAAA+H8AAAAAAAD4fwAAAAAAAPh/F/W/L4IOnr+kcDzBMk6fvwAAAAAAAPh/AAAAAAAA8D9mFVKZjtLIv6j1Ymn+rqS/W9u6thTns790GT8rQdq0v3ePUacP5rI/GzE1U7c0gj9u/rXDY1e7v0dZf7rI1qG/jMeqijcHor+DOgBOqQqAPwAAAAAAAPh/ZhVSmY7SyL8AAAAAAADwP/8N1Jfgp5q/Xif/ilJWmT9YVxSquPRXPzCBvoyIkTg/RDou6aeAgT+31kpPbQS0v/FleRdBGa2/wb2GTgyTvz+rwSWE68SiPwAAAAAAAPh/qPViaf6upL//DdSX4KeavwAAAAAAAPA/ZGApZAeiwD/KDxmYJ+bKP/6TSap6c8m/IBdJpWSQqL+dbiNgBL+qv5T1n+Lzbqy/xQhEAJ63rL9qF4OV3MSTvwAAAAAAAPh/W9u6thTns79eJ/+KUlaZP2RgKWQHosA/AAAAAAAA8D84FIkWPSzXP4iVxFuQotW/RVHQfiF7or+BjiHlWxKEvzVDWy76Y6U/8YYEnGe8wD+vQ3V6N1tZPwAAAAAAAPh/dBk/K0HatL9YVxSquPRXP8oPGZgn5so/OBSJFj0s1z8AAAAAAADwP7OUWIBigO+/hs8jAXPSrr+QIrKO7n+bv3QPcqAwzqK//zgmhVw1wL87x9jERD93vwAAAAAAAPh/d49Rpw/msj8wgb6MiJE4P/6TSap6c8m/iJXEW5Ci1b+zlFiAYoDvvwAAAAAAAPA/aM2pD85Amb/y5NyqwSShPz3TjgKPQac/aLqAYeRKkL/Pk9z8UZySvwAAAAAAAPh/GzE1U7c0gj9EOi7pp4CBPyAXSaVkkKi/RVHQfiF7or+GzyMBc9Kuv2jNqQ/OQJm/AAAAAAAA8D+9JoBq9h90vwCLCFUSPoe/lXZMhj+osD8Kigo/jQeXPwAAAAAAAPh/bv61w2NXu7+31kpPbQS0v51uI2AEv6q/gY4h5VsShL+QIrKO7n+bv/Lk3KrBJKE/vSaAavYfdL8AAAAAAADwP7Go0j86/7k/aI0NEPQlsz9o35EoD8y0vwAAAAAAAPh/R1l/usjWob/xZXkXQRmtv5T1n+Lzbqy/NUNbLvpjpT90D3KgMM6ivz3TjgKPQac/AIsIVRI+h7+xqNI/Ov+5PwAAAAAAAPA/",
          "dtype": "f8",
          "shape": "12, 12"
         }
        }
       ],
       "layout": {
        "coloraxis": {
         "colorbar": {
          "title": {
           "text": "Korrelatsiya"
          }
         },
         "colorscale": [
          [
           0,
           "rgb(5,48,97)"
          ],
          [
           0.1,
           "rgb(33,102,172)"
          ],
          [
           0.2,
           "rgb(67,147,195)"
          ],
          [
           0.3,
           "rgb(146,197,222)"
          ],
          [
           0.4,
           "rgb(209,229,240)"
          ],
          [
           0.5,
           "rgb(247,247,247)"
          ],
          [
           0.6,
           "rgb(253,219,199)"
          ],
          [
           0.7,
           "rgb(244,165,130)"
          ],
          [
           0.8,
           "rgb(214,96,77)"
          ],
          [
           0.9,
           "rgb(178,24,43)"
          ],
          [
           1,
           "rgb(103,0,31)"
          ]
         ]
        },
        "height": 600,
        "template": {
         "data": {
          "bar": [
           {
            "error_x": {
             "color": "#2a3f5f"
            },
            "error_y": {
             "color": "#2a3f5f"
            },
            "marker": {
             "line": {
              "color": "#E5ECF6",
              "width": 0.5
             },
             "pattern": {
              "fillmode": "overlay",
              "size": 10,
              "solidity": 0.2
             }
            },
            "type": "bar"
           }
          ],
          "barpolar": [
           {
            "marker": {
             "line": {
              "color": "#E5ECF6",
              "width": 0.5
             },
             "pattern": {
              "fillmode": "overlay",
              "size": 10,
              "solidity": 0.2
             }
            },
            "type": "barpolar"
           }
          ],
          "carpet": [
           {
            "aaxis": {
             "endlinecolor": "#2a3f5f",
             "gridcolor": "white",
             "linecolor": "white",
             "minorgridcolor": "white",
             "startlinecolor": "#2a3f5f"
            },
            "baxis": {
             "endlinecolor": "#2a3f5f",
             "gridcolor": "white",
             "linecolor": "white",
             "minorgridcolor": "white",
             "startlinecolor": "#2a3f5f"
            },
            "type": "carpet"
           }
          ],
          "choropleth": [
           {
            "colorbar": {
             "outlinewidth": 0,
             "ticks": ""
            },
            "type": "choropleth"
           }
          ],
          "contour": [
           {
            "colorbar": {
             "outlinewidth": 0,
             "ticks": ""
            },
            "colorscale": [
             [
              0,
              "#0d0887"
             ],
             [
              0.1111111111111111,
              "#46039f"
             ],
             [
              0.2222222222222222,
              "#7201a8"
             ],
             [
              0.3333333333333333,
              "#9c179e"
             ],
             [
              0.4444444444444444,
              "#bd3786"
             ],
             [
              0.5555555555555556,
              "#d8576b"
             ],
             [
              0.6666666666666666,
              "#ed7953"
             ],
             [
              0.7777777777777778,
              "#fb9f3a"
             ],
             [
              0.8888888888888888,
              "#fdca26"
             ],
             [
              1,
              "#f0f921"
             ]
            ],
            "type": "contour"
           }
          ],
          "contourcarpet": [
           {
            "colorbar": {
             "outlinewidth": 0,
             "ticks": ""
            },
            "type": "contourcarpet"
           }
          ],
          "heatmap": [
           {
            "colorbar": {
             "outlinewidth": 0,
             "ticks": ""
            },
            "colorscale": [
             [
              0,
              "#0d0887"
             ],
             [
              0.1111111111111111,
              "#46039f"
             ],
             [
              0.2222222222222222,
              "#7201a8"
             ],
             [
              0.3333333333333333,
              "#9c179e"
             ],
             [
              0.4444444444444444,
              "#bd3786"
             ],
             [
              0.5555555555555556,
              "#d8576b"
             ],
             [
              0.6666666666666666,
              "#ed7953"
             ],
             [
              0.7777777777777778,
              "#fb9f3a"
             ],
             [
              0.8888888888888888,
              "#fdca26"
             ],
             [
              1,
              "#f0f921"
             ]
            ],
            "type": "heatmap"
           }
          ],
          "histogram": [
           {
            "marker": {
             "pattern": {
              "fillmode": "overlay",
              "size": 10,
              "solidity": 0.2
             }
            },
            "type": "histogram"
           }
          ],
          "histogram2d": [
           {
            "colorbar": {
             "outlinewidth": 0,
             "ticks": ""
            },
            "colorscale": [
             [
              0,
              "#0d0887"
             ],
             [
              0.1111111111111111,
              "#46039f"
             ],
             [
              0.2222222222222222,
              "#7201a8"
             ],
             [
              0.3333333333333333,
              "#9c179e"
             ],
             [
              0.4444444444444444,
              "#bd3786"
             ],
             [
              0.5555555555555556,
              "#d8576b"
             ],
             [
              0.6666666666666666,
              "#ed7953"
             ],
             [
              0.7777777777777778,
              "#fb9f3a"
             ],
             [
              0.8888888888888888,
              "#fdca26"
             ],
             [
              1,
              "#f0f921"
             ]
            ],
            "type": "histogram2d"
           }
          ],
          "histogram2dcontour": [
           {
            "colorbar": {
             "outlinewidth": 0,
             "ticks": ""
            },
            "colorscale": [
             [
              0,
              "#0d0887"
             ],
             [
              0.1111111111111111,
              "#46039f"
             ],
             [
              0.2222222222222222,
              "#7201a8"
             ],
             [
              0.3333333333333333,
              "#9c179e"
             ],
             [
              0.4444444444444444,
              "#bd3786"
             ],
             [
              0.5555555555555556,
              "#d8576b"
             ],
             [
              0.6666666666666666,
              "#ed7953"
             ],
             [
              0.7777777777777778,
              "#fb9f3a"
             ],
             [
              0.8888888888888888,
              "#fdca26"
             ],
             [
              1,
              "#f0f921"
             ]
            ],
            "type": "histogram2dcontour"
           }
          ],
          "mesh3d": [
           {
            "colorbar": {
             "outlinewidth": 0,
             "ticks": ""
            },
            "type": "mesh3d"
           }
          ],
          "parcoords": [
           {
            "line": {
             "colorbar": {
              "outlinewidth": 0,
              "ticks": ""
             }
            },
            "type": "parcoords"
           }
          ],
          "pie": [
           {
            "automargin": true,
            "type": "pie"
           }
          ],
          "scatter": [
           {
            "fillpattern": {
             "fillmode": "overlay",
             "size": 10,
             "solidity": 0.2
            },
            "type": "scatter"
           }
          ],
          "scatter3d": [
           {
            "line": {
             "colorbar": {
              "outlinewidth": 0,
              "ticks": ""
             }
            },
            "marker": {
             "colorbar": {
              "outlinewidth": 0,
              "ticks": ""
             }
            },
            "type": "scatter3d"
           }
          ],
          "scattercarpet": [
           {
            "marker": {
             "colorbar": {
              "outlinewidth": 0,
              "ticks": ""
             }
            },
            "type": "scattercarpet"
           }
          ],
          "scattergeo": [
           {
            "marker": {
             "colorbar": {
              "outlinewidth": 0,
              "ticks": ""
             }
            },
            "type": "scattergeo"
           }
          ],
          "scattergl": [
           {
            "marker": {
             "colorbar": {
              "outlinewidth": 0,
              "ticks": ""
             }
            },
            "type": "scattergl"
           }
          ],
          "scattermap": [
           {
            "marker": {
             "colorbar": {
              "outlinewidth": 0,
              "ticks": ""
             }
            },
            "type": "scattermap"
           }
          ],
          "scattermapbox": [
           {
            "marker": {
             "colorbar": {
              "outlinewidth": 0,
              "ticks": ""
             }
            },
            "type": "scattermapbox"
           }
          ],
          "scatterpolar": [
           {
            "marker": {
             "colorbar": {
              "outlinewidth": 0,
              "ticks": ""
             }
            },
            "type": "scatterpolar"
           }
          ],
          "scatterpolargl": [
           {
            "marker": {
             "colorbar": {
              "outlinewidth": 0,
              "ticks": ""
             }
            },
            "type": "scatterpolargl"
           }
          ],
          "scatterternary": [
           {
            "marker": {
             "colorbar": {
              "outlinewidth": 0,
              "ticks": ""
             }
            },
            "type": "scatterternary"
           }
          ],
          "surface": [
           {
            "colorbar": {
             "outlinewidth": 0,
             "ticks": ""
            },
            "colorscale": [
             [
              0,
              "#0d0887"
             ],
             [
              0.1111111111111111,
              "#46039f"
             ],
             [
              0.2222222222222222,
              "#7201a8"
             ],
             [
              0.3333333333333333,
              "#9c179e"
             ],
             [
              0.4444444444444444,
              "#bd3786"
             ],
             [
              0.5555555555555556,
              "#d8576b"
             ],
             [
              0.6666666666666666,
              "#ed7953"
             ],
             [
              0.7777777777777778,
              "#fb9f3a"
             ],
             [
              0.8888888888888888,
              "#fdca26"
             ],
             [
              1,
              "#f0f921"
             ]
            ],
            "type": "surface"
           }
          ],
          "table": [
           {
            "cells": {
             "fill": {
              "color": "#EBF0F8"
             },
             "line": {
              "color": "white"
             }
            },
            "header": {
             "fill": {
              "color": "#C8D4E3"
             },
             "line": {
              "color": "white"
             }
            },
            "type": "table"
           }
          ]
         },
         "layout": {
          "annotationdefaults": {
           "arrowcolor": "#2a3f5f",
           "arrowhead": 0,
           "arrowwidth": 1
          },
          "autotypenumbers": "strict",
          "coloraxis": {
           "colorbar": {
            "outlinewidth": 0,
            "ticks": ""
           }
          },
          "colorscale": {
           "diverging": [
            [
             0,
             "#8e0152"
            ],
            [
             0.1,
             "#c51b7d"
            ],
            [
             0.2,
             "#de77ae"
            ],
            [
             0.3,
             "#f1b6da"
            ],
            [
             0.4,
             "#fde0ef"
            ],
            [
             0.5,
             "#f7f7f7"
            ],
            [
             0.6,
             "#e6f5d0"
            ],
            [
             0.7,
             "#b8e186"
            ],
            [
             0.8,
             "#7fbc41"
            ],
            [
             0.9,
             "#4d9221"
            ],
            [
             1,
             "#276419"
            ]
           ],
           "sequential": [
            [
             0,
             "#0d0887"
            ],
            [
             0.1111111111111111,
             "#46039f"
            ],
            [
             0.2222222222222222,
             "#7201a8"
            ],
            [
             0.3333333333333333,
             "#9c179e"
            ],
            [
             0.4444444444444444,
             "#bd3786"
            ],
            [
             0.5555555555555556,
             "#d8576b"
            ],
            [
             0.6666666666666666,
             "#ed7953"
            ],
            [
             0.7777777777777778,
             "#fb9f3a"
            ],
            [
             0.8888888888888888,
             "#fdca26"
            ],
            [
             1,
             "#f0f921"
            ]
           ],
           "sequentialminus": [
            [
             0,
             "#0d0887"
            ],
            [
             0.1111111111111111,
             "#46039f"
            ],
            [
             0.2222222222222222,
             "#7201a8"
            ],
            [
             0.3333333333333333,
             "#9c179e"
            ],
            [
             0.4444444444444444,
             "#bd3786"
            ],
            [
             0.5555555555555556,
             "#d8576b"
            ],
            [
             0.6666666666666666,
             "#ed7953"
            ],
            [
             0.7777777777777778,
             "#fb9f3a"
            ],
            [
             0.8888888888888888,
             "#fdca26"
            ],
            [
             1,
             "#f0f921"
            ]
           ]
          },
          "colorway": [
           "#636efa",
           "#EF553B",
           "#00cc96",
           "#ab63fa",
           "#FFA15A",
           "#19d3f3",
           "#FF6692",
           "#B6E880",
           "#FF97FF",
           "#FECB52"
          ],
          "font": {
           "color": "#2a3f5f"
          },
          "geo": {
           "bgcolor": "white",
           "lakecolor": "white",
           "landcolor": "#E5ECF6",
           "showlakes": true,
           "showland": true,
           "subunitcolor": "white"
          },
          "hoverlabel": {
           "align": "left"
          },
          "hovermode": "closest",
          "mapbox": {
           "style": "light"
          },
          "paper_bgcolor": "white",
          "plot_bgcolor": "#E5ECF6",
          "polar": {
           "angularaxis": {
            "gridcolor": "white",
            "linecolor": "white",
            "ticks": ""
           },
           "bgcolor": "#E5ECF6",
           "radialaxis": {
            "gridcolor": "white",
            "linecolor": "white",
            "ticks": ""
           }
          },
          "scene": {
           "xaxis": {
            "backgroundcolor": "#E5ECF6",
            "gridcolor": "white",
            "gridwidth": 2,
            "linecolor": "white",
            "showbackground": true,
            "ticks": "",
            "zerolinecolor": "white"
           },
           "yaxis": {
            "backgroundcolor": "#E5ECF6",
            "gridcolor": "white",
            "gridwidth": 2,
            "linecolor": "white",
            "showbackground": true,
            "ticks": "",
            "zerolinecolor": "white"
           },
           "zaxis": {
            "backgroundcolor": "#E5ECF6",
            "gridcolor": "white",
            "gridwidth": 2,
            "linecolor": "white",
            "showbackground": true,
            "ticks": "",
            "zerolinecolor": "white"
           }
          },
          "shapedefaults": {
           "line": {
            "color": "#2a3f5f"
           }
          },
          "ternary": {
           "aaxis": {
            "gridcolor": "white",
            "linecolor": "white",
            "ticks": ""
           },
           "baxis": {
            "gridcolor": "white",
            "linecolor": "white",
            "ticks": ""
           },
           "bgcolor": "#E5ECF6",
           "caxis": {
            "gridcolor": "white",
            "linecolor": "white",
            "ticks": ""
           }
          },
          "title": {
           "x": 0.05
          },
          "xaxis": {
           "automargin": true,
           "gridcolor": "white",
           "linecolor": "white",
           "ticks": "",
           "title": {
            "standoff": 15
           },
           "zerolinecolor": "white",
           "zerolinewidth": 2
          },
          "yaxis": {
           "automargin": true,
           "gridcolor": "white",
           "linecolor": "white",
           "ticks": "",
           "title": {
            "standoff": 15
           },
           "zerolinecolor": "white",
           "zerolinewidth": 2
          }
         }
        },
        "title": {
         "font": {
          "color": "black",
          "size": 22
         },
         "text": "🔗 Korrelatsiya matritsasi (Plotly)"
        },
        "width": 900,
        "xaxis": {
         "anchor": "y",
         "domain": [
          0,
          1
         ]
        },
        "yaxis": {
         "anchor": "x",
         "autorange": "reversed",
         "domain": [
          0,
          1
         ]
        }
       }
      }
     },
     "metadata": {},
     "output_type": "display_data"
    }
   ],
   "source": [
    "import plotly.express as px\n",
    "import pandas as pd\n",
    "\n",
    "corr_matrix = df.corr()\n",
    "\n",
    "fig = px.imshow(\n",
    "    corr_matrix,\n",
    "    text_auto=\".2f\",\n",
    "    color_continuous_scale=\"RdBu_r\",\n",
    "    title=\"🔗 Korrelatsiya matritsasi (Plotly)\",\n",
    "    aspect=\"auto\"\n",
    ")\n",
    "\n",
    "fig.update_layout(\n",
    "    width=900,\n",
    "    height=600,\n",
    "    title_font=dict(size=22, color=\"black\"),\n",
    "    coloraxis_colorbar=dict(title=\"Korrelatsiya\")\n",
    ")\n",
    "\n",
    "fig.show()\n"
   ]
  },
  {
   "cell_type": "markdown",
   "id": "a1d622ae",
   "metadata": {},
   "source": [
    "# Target taqsimoti (nova_group)"
   ]
  },
  {
   "cell_type": "code",
   "execution_count": 4,
   "id": "ac3179bf",
   "metadata": {},
   "outputs": [
    {
     "data": {
      "application/vnd.plotly.v1+json": {
       "config": {
        "plotlyServerURL": "https://plot.ly"
       },
       "data": [
        {
         "bingroup": "x",
         "hovertemplate": "nova_group=%{x}<br>count=%{y}<extra></extra>",
         "legendgroup": "3.28450954283178",
         "marker": {
          "color": "#636efa",
          "pattern": {
           "shape": ""
          }
         },
         "name": "3.28450954283178",
         "orientation": "v",
         "showlegend": true,
         "texttemplate": "%{value}",
         "type": "histogram",
         "x": {
          "bdata": "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",
          "dtype": "f8"
         },
         "xaxis": "x",
         "yaxis": "y"
        },
        {
         "bingroup": "x",
         "hovertemplate": "nova_group=%{x}<br>count=%{y}<extra></extra>",
         "legendgroup": "3.0",
         "marker": {
          "color": "#EF553B",
          "pattern": {
           "shape": ""
          }
         },
         "name": "3.0",
         "orientation": "v",
         "showlegend": true,
         "texttemplate": "%{value}",
         "type": "histogram",
         "x": {
          "bdata": "AAAAAAAACEAAAAAAAAAIQAAAAAAAAAhAAAAAAAAACEAAAAAAAAAIQAAAAAAAAAhAAAAAAAAACEAAAAAAAAAIQAAAAAAAAAhAAAAAAAAACEAAAAAAAAAIQAAAAAAAAAhAAAAAAAAACEAAAAAAAAAIQAAAAAAAAAhAAAAAAAAACEAAAAAAAAAIQAAAAAAAAAhAAAAAAAAACEAAAAAAAAAIQAAAAAAAAAhAAAAAAAAACEAAAAAAAAAIQAAAAAAAAAhAAAAAAAAACEAAAAAAAAAIQAAAAAAAAAhAAAAAAAAACEAAAAAAAAAIQAAAAAAAAAhAAAAAAAAACEAAAAAAAAAIQAAAAAAAAAhAAAAAAAAACEAAAAAAAAAIQAAAAAAAAAhAAAAAAAAACEAAAAAAAAAIQAAAAAAAAAhAAAAAAAAACEAAAAAAAAAIQAAAAAAAAAhAAAAAAAAACEAAAAAAAAAIQAAAAAAAAAhAAAAAAAAACEAAAAAAAAAIQAAAAAAAAAhAAAAAAAAACEAAAAAAAAAIQAAAAAAAAAhAAAAAAAAACEAAAAAAAAAIQAAAAAAAAAhAAAAAAAAACEAAAAAAAAAIQAAAAAAAAAhAAAAAAAAACEAAAAAAAAAIQAAAAAAAAAhAAAAAAAAACEAAAAAAAAAIQAAAAAAAAAhAAAAAAAAACEAAAAAAAAAIQAAAAAAAAAhAAAAAAAAACEAAAAAAAAAIQAAAAAAAAAhAAAAAAAAACEAAAAAAAAAIQAAAAAAAAAhAAAAAAAAACEAAAAAAAAAIQAAAAAAAAAhAAAAAAAAACEAAAAAAAAAIQAAAAAAAAAhAAAAAAAAACEAAAAAAAAAIQAAAAAAAAAhAAAAAAAAACEAAAAAAAAAIQAAAAAAAAAhAAAAAAAAACEAAAAAAAAAIQAAAAAAAAAhAAAAAAAAACEAAAAAAAAAIQAAAAAAAAAhAAAAAAAAACEAAAAAAAAAIQAAAAAAAAAhAAAAAAAAACEAAAAAAAAAIQAAAAAAAAAhAAAAAAAAACEAAAAAAAAAIQAAAAAAAAAhAAAAAAAAACEAAAAAAAAAIQAAAAAAAAAhAAAAAAAAACEAAAAAAAAAIQAAAAAAAAAhAAAAAAAAACEAAAAAAAAAIQAAAAAAAAAhAAAAAAAAACEAAAAAAAAAIQAAAAAAAAAhAAAAAAAAACEAAAAAAAAAIQAAAAAAAAAhAAAAAAAAACEAAAAAAAAAIQAAAAAAAAAhAAAAAAAAACEAAAAAAAAAIQAAAAAAAAAhAAAAAAAAACEAAAAAAAAAIQAAAAAAAAAhAAAAAAAAACEAAAAAAAAAIQAAAAAAAAAhAAAAAAAAACEAAAAAAAAAIQAAAAAAAAAhAAAAAAAAACEAAAAAAAAAIQAAAAAAAAAhAAAAAAAAACEAAAAAAAAAIQAAAAAAAAAhAAAAAAAAACEAAAAAAAAAIQAAAAAAAAAhAAAAAAAAACEAAAAAAAAAIQAAAAAAAAAhAAAAAAAAACEAAAAAAAAAIQAAAAAAAAAhAAAAAAAAACEAAAAAAAAAIQAAAAAAAAAhAAAAAAAAACEAAAAAAAAAIQAAAAAAAAAhAAAAAAAAACEAAAAAAAAAIQAAAAAAAAAhAAAAAAAAACEAAAAAAAAAIQAAAAAAAAAhAAAAAAAAACEAAAAAAAAAIQAAAAAAAAAhAAAAAAAAACEAAAAAAAAAIQAAAAAAAAAhAAAAAAAAACEAAAAAAAAAIQAAAAAAAAAhAAAAAAAAACEAAAAAAAAAIQAAAAAAAAAhAAAAAAAAACEAAAAAAAAAIQAAAAAAAAAhAAAAAAAAACEAAAAAAAAAIQAAAAAAAAAhAAAAAAAAACEAAAAAAAAAIQAAAAAAAAAhAAAAAAAAACEAAAAAAAAAIQAAAAAAAAAhAAAAAAAAACEAAAAAAAAAIQAAAAAAAAAhAAAAAAAAACEAAAAAAAAAIQAAAAAAAAAhAAAAAAAAACEAAAAAAAAAIQAAAAAAAAAhAAAAAAAAACEAAAAAAAAAIQAAAAAAAAAhAAAAAAAAACEAAAAAAAAAIQAAAAAAAAAhAAAAAAAAACEAAAAAAAAAIQAAAAAAAAAhAAAAAAAAACEAAAAAAAAAIQAAAAAAAAAhAAAAAAAAACEAAAAAAAAAIQAAAAAAAAAhAAAAAAAAACEAAAAAAAAAIQAAAAAAAAAhAAAAAAAAACEAAAAAAAAAIQAAAAAAAAAhAAAAAAAAACEAAAAAAAAAIQAAAAAAAAAhAAAAAAAAACEAAAAAAAAAIQAAAAAAAAAhAAAAAAAAACEAAAAAAAAAIQAAAAAAAAAhAAAAAAAAACEAAAAAAAAAIQAAAAAAAAAhAAAAAAAAACEAAAAAAAAAIQAAAAAAAAAhAAAAAAAAACEAAAAAAAAAIQAAAAAAAAAhAAAAAAAAACEAAAAAAAAAIQAAAAAAAAAhAAAAAAAAACEAAAAAAAAAIQAAAAAAAAAhAAAAAAAAACEAAAAAAAAAIQAAAAAAAAAhAAAAAAAAACEAAAAAAAAAIQAAAAAAAAAhAAAAAAAAACEAAAAAAAAAIQAAAAAAAAAhAAAAAAAAACEAAAAAAAAAIQAAAAAAAAAhAAAAAAAAACEAAAAAAAAAIQAAAAAAAAAhAAAAAAAAACEAAAAAAAAAIQAAAAAAAAAhAAAAAAAAACEAAAAAAAAAIQAAAAAAAAAhAAAAAAAAACEAAAAAAAAAIQAAAAAAAAAhAAAAAAAAACEAAAAAAAAAIQAAAAAAAAAhAAAAAAAAACEAAAAAAAAAIQAAAAAAAAAhAAAAAAAAACEAAAAAAAAAIQAAAAAAAAAhAAAAAAAAACEAAAAAAAAAIQAAAAAAAAAhAAAAAAAAACEAAAAAAAAAIQAAAAAAAAAhAAAAAAAAACEAAAAAAAAAIQAAAAAAAAAhAAAAAAAAACEAAAAAAAAAIQAAAAAAAAAhAAAAAAAAACEAAAAAAAAAIQAAAAAAAAAhAAAAAAAAACEAAAAAAAAAIQAAAAAAAAAhAAAAAAAAACEAAAAAAAAAIQAAAAAAAAAhAAAAAAAAACEAAAAAAAAAIQAAAAAAAAAhAAAAAAAAACEAAAAAAAAAIQAAAAAAAAAhAAAAAAAAACEAAAAAAAAAIQAAAAAAAAAhAAAAAAAAACEAAAAAAAAAIQAAAAAAAAAhAAAAAAAAACEAAAAAAAAAIQAAAAAAAAAhAAAAAAAAACEAAAAAAAAAIQAAAAAAAAAhAAAAAAAAACEAAAAAAAAAIQAAAAAAAAAhAAAAAAAAACEAAAAAAAAAIQAAAAAAAAAhAAAAAAAAACEAAAAAAAAAIQAAAAAAAAAhAAAAAAAAACEAAAAAAAAAIQAAAAAAAAAhAAAAAAAAACEAAAAAAAAAIQAAAAAAAAAhAAAAAAAAACEAAAAAAAAAIQAAAAAAAAAhAAAAAAAAACEAAAAAAAAAIQAAAAAAAAAhAAAAAAAAACEAAAAAAAAAIQAAAAAAAAAhAAAAAAAAACEAAAAAAAAAIQAAAAAAAAAhAAAAAAAAACEAAAAAAAAAIQAAAAAAAAAhAAAAAAAAACEAAAAAAAAAIQAAAAAAAAAhAAAAAAAAACEAAAAAAAAAIQAAAAAAAAAhAAAAAAAAACEAAAAAAAAAIQAAAAAAAAAhAAAAAAAAACEAAAAAAAAAIQAAAAAAAAAhAAAAAAAAACEAAAAAAAAAIQAAAAAAAAAhAAAAAAAAACEAAAAAAAAAIQAAAAAAAAAhAAAAAAAAACEAAAAAAAAAIQAAAAAAAAAhAAAAAAAAACEAAAAAAAAAIQAAAAAAAAAhAAAAAAAAACEAAAAAAAAAIQAAAAAAAAAhAAAAAAAAACEAAAAAAAAAIQAAAAAAAAAhAAAAAAAAACEAAAAAAAAAIQAAAAAAAAAhAAAAAAAAACEAAAAAAAAAIQAAAAAAAAAhAAAAAAAAACEAAAAAAAAAIQAAAAAAAAAhAAAAAAAAACEAAAAAAAAAIQAAAAAAAAAhAAAAAAAAACEAAAAAAAAAIQAAAAAAAAAhAAAAAAAAACEAAAAAAAAAIQAAAAAAAAAhAAAAAAAAACEAAAAAAAAAIQAAAAAAAAAhAAAAAAAAACEAAAAAAAAAIQAAAAAAAAAhAAAAAAAAACEAAAAAAAAAIQAAAAAAAAAhAAAAAAAAACEAAAAAAAAAIQAAAAAAAAAhAAAAAAAAACEAAAAAAAAAIQAAAAAAAAAhAAAAAAAAACEAAAAAAAAAIQAAAAAAAAAhAAAAAAAAACEAAAAAAAAAIQAAAAAAAAAhAAAAAAAAACEAAAAAAAAAIQAAAAAAAAAhAAAAAAAAACEAAAAAAAAAIQAAAAAAAAAhAAAAAAAAACEAAAAAAAAAIQAAAAAAAAAhAAAAAAAAACEAAAAAAAAAIQAAAAAAAAAhAAAAAAAAACEAAAAAAAAAIQAAAAAAAAAhAAAAAAAAACEAAAAAAAAAIQAAAAAAAAAhAAAAAAAAACEAAAAAAAAAIQAAAAAAAAAhAAAAAAAAACEAAAAAAAAAIQAAAAAAAAAhAAAAAAAAACEAAAAAAAAAIQAAAAAAAAAhAAAAAAAAACEAAAAAAAAAIQAAAAAAAAAhAAAAAAAAACEAAAAAAAAAIQAAAAAAAAAhAAAAAAAAACEAAAAAAAAAIQAAAAAAAAAhAAAAAAAAACEAAAAAAAAAIQAAAAAAAAAhAAAAAAAAACEAAAAAAAAAIQAAAAAAAAAhAAAAAAAAACEAAAAAAAAAIQAAAAAAAAAhAAAAAAAAACEAAAAAAAAAIQAAAAAAAAAhAAAAAAAAACEAAAAAAAAAIQAAAAAAAAAhAAAAAAAAACEAAAAAAAAAIQAAAAAAAAAhAAAAAAAAACEAAAAAAAAAIQAAAAAAAAAhAAAAAAAAACEAAAAAAAAAIQAAAAAAAAAhAAAAAAAAACEAAAAAAAAAIQAAAAAAAAAhAAAAAAAAACEAAAAAAAAAIQAAAAAAAAAhAAAAAAAAACEAAAAAAAAAIQAAAAAAAAAhAAAAAAAAACEAAAAAAAAAIQAAAAAAAAAhAAAAAAAAACEAAAAAAAAAIQAAAAAAAAAhAAAAAAAAACEAAAAAAAAAIQAAAAAAAAAhAAAAAAAAACEAAAAAAAAAIQAAAAAAAAAhAAAAAAAAACEAAAAAAAAAIQAAAAAAAAAhAAAAAAAAACEAAAAAAAAAIQAAAAAAAAAhAAAAAAAAACEAAAAAAAAAIQAAAAAAAAAhAAAAAAAAACEAAAAAAAAAIQAAAAAAAAAhAAAAAAAAACEAAAAAAAAAIQAAAAAAAAAhAAAAAAAAACEAAAAAAAAAIQAAAAAAAAAhAAAAAAAAACEAAAAAAAAAIQAAAAAAAAAhAAAAAAAAACEAAAAAAAAAIQAAAAAAAAAhAAAAAAAAACEAAAAAAAAAIQAAAAAAAAAhAAAAAAAAACEAAAAAAAAAIQAAAAAAAAAhAAAAAAAAACEAAAAAAAAAIQAAAAAAAAAhAAAAAAAAACEAAAAAAAAAIQAAAAAAAAAhAAAAAAAAACEAAAAAAAAAIQAAAAAAAAAhAAAAAAAAACEAAAAAAAAAIQAAAAAAAAAhAAAAAAAAACEAAAAAAAAAIQAAAAAAAAAhAAAAAAAAACEAAAAAAAAAIQAAAAAAAAAhAAAAAAAAACEAAAAAAAAAIQAAAAAAAAAhAAAAAAAAACEAAAAAAAAAIQAAAAAAAAAhAAAAAAAAACEAAAAAAAAAIQAAAAAAAAAhAAAAAAAAACEAAAAAAAAAIQAAAAAAAAAhAAAAAAAAACEAAAAAAAAAIQAAAAAAAAAhAAAAAAAAACEAAAAAAAAAIQAAAAAAAAAhAAAAAAAAACEAAAAAAAAAIQAAAAAAAAAhAAAAAAAAACEAAAAAAAAAIQAAAAAAAAAhAAAAAAAAACEAAAAAAAAAIQAAAAAAAAAhAAAAAAAAACEAAAAAAAAAIQAAAAAAAAAhAAAAAAAAACEAAAAAAAAAIQAAAAAAAAAhAAAAAAAAACEAAAAAAAAAIQAAAAAAAAAhAAAAAAAAACEAAAAAAAAAIQAAAAAAAAAhAAAAAAAAACEAAAAAAAAAIQAAAAAAAAAhAAAAAAAAACEAAAAAAAAAIQAAAAAAAAAhAAAAAAAAACEAAAAAAAAAIQAAAAAAAAAhAAAAAAAAACEAAAAAAAAAIQAAAAAAAAAhAAAAAAAAACEAAAAAAAAAIQAAAAAAAAAhAAAAAAAAACEAAAAAAAAAIQAAAAAAAAAhAAAAAAAAACEAAAAAAAAAIQAAAAAAAAAhAAAAAAAAACEAAAAAAAAAIQAAAAAAAAAhAAAAAAAAACEAAAAAAAAAIQAAAAAAAAAhAAAAAAAAACEAAAAAAAAAIQAAAAAAAAAhAAAAAAAAACEAAAAAAAAAIQAAAAAAAAAhAAAAAAAAACEAAAAAAAAAIQAAAAAAAAAhAAAAAAAAACEAAAAAAAAAIQAAAAAAAAAhAAAAAAAAACEAAAAAAAAAIQAAAAAAAAAhAAAAAAAAACEAAAAAAAAAIQAAAAAAAAAhAAAAAAAAACEAAAAAAAAAIQAAAAAAAAAhAAAAAAAAACEAAAAAAAAAIQAAAAAAAAAhAAAAAAAAACEAAAAAAAAAIQAAAAAAAAAhAAAAAAAAACEAAAAAAAAAIQAAAAAAAAAhAAAAAAAAACEAAAAAAAAAIQAAAAAAAAAhAAAAAAAAACEAAAAAAAAAIQAAAAAAAAAhAAAAAAAAACEAAAAAAAAAIQAAAAAAAAAhAAAAAAAAACEAAAAAAAAAIQAAAAAAAAAhAAAAAAAAACEAAAAAAAAAIQAAAAAAAAAhAAAAAAAAACEAAAAAAAAAIQAAAAAAAAAhAAAAAAAAACEAAAAAAAAAIQAAAAAAAAAhAAAAAAAAACEAAAAAAAAAIQAAAAAAAAAhAAAAAAAAACEAAAAAAAAAIQAAAAAAAAAhAAAAAAAAACEAAAAAAAAAIQAAAAAAAAAhAAAAAAAAACEAAAAAAAAAIQAAAAAAAAAhAAAAAAAAACEAAAAAAAAAIQAAAAAAAAAhAAAAAAAAACEAAAAAAAAAIQAAAAAAAAAhAAAAAAAAACEAAAAAAAAAIQAAAAAAAAAhAAAAAAAAACEAAAAAAAAAIQAAAAAAAAAhAAAAAAAAACEAAAAAAAAAIQAAAAAAAAAhAAAAAAAAACEAAAAAAAAAIQAAAAAAAAAhAAAAAAAAACEAAAAAAAAAIQAAAAAAAAAhAAAAAAAAACEAAAAAAAAAIQAAAAAAAAAhAAAAAAAAACEAAAAAAAAAIQAAAAAAAAAhAAAAAAAAACEAAAAAAAAAIQAAAAAAAAAhAAAAAAAAACEAAAAAAAAAIQAAAAAAAAAhAAAAAAAAACEAAAAAAAAAIQAAAAAAAAAhAAAAAAAAACEAAAAAAAAAIQAAAAAAAAAhAAAAAAAAACEAAAAAAAAAIQAAAAAAAAAhAAAAAAAAACEAAAAAAAAAIQAAAAAAAAAhAAAAAAAAACEAAAAAAAAAIQAAAAAAAAAhAAAAAAAAACEAAAAAAAAAIQAAAAAAAAAhAAAAAAAAACEAAAAAAAAAIQAAAAAAAAAhAAAAAAAAACEAAAAAAAAAIQAAAAAAAAAhAAAAAAAAACEAAAAAAAAAIQAAAAAAAAAhAAAAAAAAACEAAAAAAAAAIQAAAAAAAAAhAAAAAAAAACEAAAAAAAAAIQAAAAAAAAAhAAAAAAAAACEAAAAAAAAAIQAAAAAAAAAhAAAAAAAAACEAAAAAAAAAIQAAAAAAAAAhAAAAAAAAACEAAAAAAAAAIQAAAAAAAAAhAAAAAAAAACEAAAAAAAAAIQAAAAAAAAAhAAAAAAAAACEAAAAAAAAAIQAAAAAAAAAhAAAAAAAAACEAAAAAAAAAIQAAAAAAAAAhAAAAAAAAACEAAAAAAAAAIQAAAAAAAAAhAAAAAAAAACEAAAAAAAAAIQAAAAAAAAAhAAAAAAAAACEAAAAAAAAAIQAAAAAAAAAhAAAAAAAAACEAAAAAAAAAIQAAAAAAAAAhAAAAAAAAACEAAAAAAAAAIQAAAAAAAAAhAAAAAAAAACEAAAAAAAAAIQAAAAAAAAAhAAAAAAAAACEAAAAAAAAAIQAAAAAAAAAhAAAAAAAAACEAAAAAAAAAIQAAAAAAAAAhAAAAAAAAACEAAAAAAAAAIQAAAAAAAAAhAAAAAAAAACEAAAAAAAAAIQAAAAAAAAAhAAAAAAAAACEAAAAAAAAAIQAAAAAAAAAhAAAAAAAAACEAAAAAAAAAIQAAAAAAAAAhAAAAAAAAACEAAAAAAAAAIQAAAAAAAAAhAAAAAAAAACEAAAAAAAAAIQAAAAAAAAAhAAAAAAAAACEAAAAAAAAAIQAAAAAAAAAhAAAAAAAAACEAAAAAAAAAIQAAAAAAAAAhAAAAAAAAACEAAAAAAAAAIQAAAAAAAAAhAAAAAAAAACEAAAAAAAAAIQAAAAAAAAAhAAAAAAAAACEAAAAAAAAAIQAAAAAAAAAhAAAAAAAAACEAAAAAAAAAIQAAAAAAAAAhAAAAAAAAACEAAAAAAAAAIQAAAAAAAAAhAAAAAAAAACEAAAAAAAAAIQAAAAAAAAAhAAAAAAAAACEAAAAAAAAAIQAAAAAAAAAhAAAAAAAAACEAAAAAAAAAIQAAAAAAAAAhAAAAAAAAACEAAAAAAAAAIQAAAAAAAAAhAAAAAAAAACEAAAAAAAAAIQAAAAAAAAAhAAAAAAAAACEAAAAAAAAAIQAAAAAAAAAhAAAAAAAAACEAAAAAAAAAIQAAAAAAAAAhAAAAAAAAACEAAAAAAAAAIQAAAAAAAAAhAAAAAAAAACEAAAAAAAAAIQAAAAAAAAAhAAAAAAAAACEAAAAAAAAAIQAAAAAAAAAhAAAAAAAAACEAAAAAAAAAIQAAAAAAAAAhAAAAAAAAACEAAAAAAAAAIQAAAAAAAAAhAAAAAAAAACEAAAAAAAAAIQAAAAAAAAAhAAAAAAAAACEAAAAAAAAAIQAAAAAAAAAhAAAAAAAAACEAAAAAAAAAIQAAAAAAAAAhAAAAAAAAACEAAAAAAAAAIQAAAAAAAAAhAAAAAAAAACEAAAAAAAAAIQAAAAAAAAAhAAAAAAAAACEAAAAAAAAAIQAAAAAAAAAhAAAAAAAAACEAAAAAAAAAIQAAAAAAAAAhAAAAAAAAACEAAAAAAAAAIQAAAAAAAAAhAAAAAAAAACEAAAAAAAAAIQAAAAAAAAAhAAAAAAAAACEAAAAAAAAAIQAAAAAAAAAhAAAAAAAAACEAAAAAAAAAIQAAAAAAAAAhAAAAAAAAACEAAAAAAAAAIQAAAAAAAAAhAAAAAAAAACEAAAAAAAAAIQAAAAAAAAAhAAAAAAAAACEAAAAAAAAAIQAAAAAAAAAhAAAAAAAAACEAAAAAAAAAIQAAAAAAAAAhAAAAAAAAACEAAAAAAAAAIQAAAAAAAAAhAAAAAAAAACEAAAAAAAAAIQAAAAAAAAAhAAAAAAAAACEAAAAAAAAAIQAAAAAAAAAhAAAAAAAAACEAAAAAAAAAIQAAAAAAAAAhAAAAAAAAACEAAAAAAAAAIQAAAAAAAAAhAAAAAAAAACEAAAAAAAAAIQAAAAAAAAAhAAAAAAAAACEAAAAAAAAAIQAAAAAAAAAhAAAAAAAAACEAAAAAAAAAIQAAAAAAAAAhAAAAAAAAACEAAAAAAAAAIQAAAAAAAAAhAAAAAAAAACEAAAAAAAAAIQAAAAAAAAAhAAAAAAAAACEAAAAAAAAAIQAAAAAAAAAhAAAAAAAAACEAAAAAAAAAIQAAAAAAAAAhAAAAAAAAACEAAAAAAAAAIQAAAAAAAAAhAAAAAAAAACEAAAAAAAAAIQAAAAAAAAAhAAAAAAAAACEAAAAAAAAAIQAAAAAAAAAhAAAAAAAAACEAAAAAAAAAIQAAAAAAAAAhAAAAAAAAACEAAAAAAAAAIQAAAAAAAAAhAAAAAAAAACEAAAAAAAAAIQAAAAAAAAAhAAAAAAAAACEAAAAAAAAAIQAAAAAAAAAhAAAAAAAAACEAAAAAAAAAIQAAAAAAAAAhAAAAAAAAACEAAAAAAAAAIQAAAAAAAAAhAAAAAAAAACEAAAAAAAAAIQAAAAAAAAAhAAAAAAAAACEAAAAAAAAAIQAAAAAAAAAhAAAAAAAAACEAAAAAAAAAIQAAAAAAAAAhAAAAAAAAACEAAAAAAAAAIQAAAAAAAAAhAAAAAAAAACEAAAAAAAAAIQAAAAAAAAAhAAAAAAAAACEAAAAAAAAAIQAAAAAAAAAhAAAAAAAAACEAAAAAAAAAIQAAAAAAAAAhAAAAAAAAACEAAAAAAAAAIQAAAAAAAAAhAAAAAAAAACEAAAAAAAAAIQAAAAAAAAAhAAAAAAAAACEAAAAAAAAAIQAAAAAAAAAhAAAAAAAAACEAAAAAAAAAIQAAAAAAAAAhAAAAAAAAACEAAAAAAAAAIQAAAAAAAAAhAAAAAAAAACEAAAAAAAAAIQAAAAAAAAAhAAAAAAAAACEAAAAAAAAAIQAAAAAAAAAhAAAAAAAAACEAAAAAAAAAIQAAAAAAAAAhAAAAAAAAACEAAAAAAAAAIQAAAAAAAAAhAAAAAAAAACEAAAAAAAAAIQAAAAAAAAAhAAAAAAAAACEAAAAAAAAAIQAAAAAAAAAhAAAAAAAAACEAAAAAAAAAIQAAAAAAAAAhAAAAAAAAACEAAAAAAAAAIQAAAAAAAAAhAAAAAAAAACEAAAAAAAAAIQAAAAAAAAAhAAAAAAAAACEAAAAAAAAAIQAAAAAAAAAhAAAAAAAAACEAAAAAAAAAIQAAAAAAAAAhAAAAAAAAACEAAAAAAAAAIQAAAAAAAAAhAAAAAAAAACEAAAAAAAAAIQAAAAAAAAAhAAAAAAAAACEAAAAAAAAAIQAAAAAAAAAhAAAAAAAAACEAAAAAAAAAIQAAAAAAAAAhAAAAAAAAACEAAAAAAAAAIQAAAAAAAAAhAAAAAAAAACEAAAAAAAAAIQAAAAAAAAAhAAAAAAAAACEAAAAAAAAAIQAAAAAAAAAhAAAAAAAAACEAAAAAAAAAIQAAAAAAAAAhAAAAAAAAACEAAAAAAAAAIQAAAAAAAAAhAAAAAAAAACEAAAAAAAAAIQAAAAAAAAAhAAAAAAAAACEAAAAAAAAAIQAAAAAAAAAhAAAAAAAAACEAAAAAAAAAIQAAAAAAAAAhAAAAAAAAACEAAAAAAAAAIQAAAAAAAAAhAAAAAAAAACEAAAAAAAAAIQAAAAAAAAAhAAAAAAAAACEAAAAAAAAAIQAAAAAAAAAhAAAAAAAAACEAAAAAAAAAIQAAAAAAAAAhAAAAAAAAACEAAAAAAAAAIQAAAAAAAAAhAAAAAAAAACEAAAAAAAAAIQAAAAAAAAAhAAAAAAAAACEAAAAAAAAAIQAAAAAAAAAhAAAAAAAAACEAAAAAAAAAIQAAAAAAAAAhAAAAAAAAACEAAAAAAAAAIQAAAAAAAAAhAAAAAAAAACEAAAAAAAAAIQAAAAAAAAAhAAAAAAAAACEAAAAAAAAAIQAAAAAAAAAhAAAAAAAAACEAAAAAAAAAIQAAAAAAAAAhAAAAAAAAACEAAAAAAAAAIQAAAAAAAAAhAAAAAAAAACEA=",
          "dtype": "f8"
         },
         "xaxis": "x",
         "yaxis": "y"
        },
        {
         "bingroup": "x",
         "hovertemplate": "nova_group=%{x}<br>count=%{y}<extra></extra>",
         "legendgroup": "1.0",
         "marker": {
          "color": "#00cc96",
          "pattern": {
           "shape": ""
          }
         },
         "name": "1.0",
         "orientation": "v",
         "showlegend": true,
         "texttemplate": "%{value}",
         "type": "histogram",
         "x": {
          "bdata": "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",
          "dtype": "f8"
         },
         "xaxis": "x",
         "yaxis": "y"
        },
        {
         "bingroup": "x",
         "hovertemplate": "nova_group=%{x}<br>count=%{y}<extra></extra>",
         "legendgroup": "4.0",
         "marker": {
          "color": "#ab63fa",
          "pattern": {
           "shape": ""
          }
         },
         "name": "4.0",
         "orientation": "v",
         "showlegend": true,
         "texttemplate": "%{value}",
         "type": "histogram",
         "x": {
          "bdata": "AAAAAAAAEEAAAAAAAAAQQAAAAAAAABBAAAAAAAAAEEAAAAAAAAAQQAAAAAAAABBAAAAAAAAAEEAAAAAAAAAQQAAAAAAAABBAAAAAAAAAEEAAAAAAAAAQQAAAAAAAABBAAAAAAAAAEEAAAAAAAAAQQAAAAAAAABBAAAAAAAAAEEAAAAAAAAAQQAAAAAAAABBAAAAAAAAAEEAAAAAAAAAQQAAAAAAAABBAAAAAAAAAEEAAAAAAAAAQQAAAAAAAABBAAAAAAAAAEEAAAAAAAAAQQAAAAAAAABBAAAAAAAAAEEAAAAAAAAAQQAAAAAAAABBAAAAAAAAAEEAAAAAAAAAQQAAAAAAAABBAAAAAAAAAEEAAAAAAAAAQQAAAAAAAABBAAAAAAAAAEEAAAAAAAAAQQAAAAAAAABBAAAAAAAAAEEAAAAAAAAAQQAAAAAAAABBAAAAAAAAAEEAAAAAAAAAQQAAAAAAAABBAAAAAAAAAEEAAAAAAAAAQQAAAAAAAABBAAAAAAAAAEEAAAAAAAAAQQAAAAAAAABBAAAAAAAAAEEAAAAAAAAAQQAAAAAAAABBAAAAAAAAAEEAAAAAAAAAQQAAAAAAAABBAAAAAAAAAEEAAAAAAAAAQQAAAAAAAABBAAAAAAAAAEEAAAAAAAAAQQAAAAAAAABBAAAAAAAAAEEAAAAAAAAAQQAAAAAAAABBAAAAAAAAAEEAAAAAAAAAQQAAAAAAAABBAAAAAAAAAEEAAAAAAAAAQQAAAAAAAABBAAAAAAAAAEEAAAAAAAAAQQAAAAAAAABBAAAAAAAAAEEAAAAAAAAAQQAAAAAAAABBAAAAAAAAAEEAAAAAAAAAQQAAAAAAAABBAAAAAAAAAEEAAAAAAAAAQQAAAAAAAABBAAAAAAAAAEEAAAAAAAAAQQAAAAAAAABBAAAAAAAAAEEAAAAAAAAAQQAAAAAAAABBAAAAAAAAAEEAAAAAAAAAQQAAAAAAAABBAAAAAAAAAEEAAAAAAAAAQQAAAAAAAABBAAAAAAAAAEEAAAAAAAAAQQAAAAAAAABBAAAAAAAAAEEAAAAAAAAAQQAAAAAAAABBAAAAAAAAAEEAAAAAAAAAQQAAAAAAAABBAAAAAAAAAEEAAAAAAAAAQQAAAAAAAABBAAAAAAAAAEEAAAAAAAAAQQAAAAAAAABBAAAAAAAAAEEAAAAAAAAAQQAAAAAAAABBAAAAAAAAAEEAAAAAAAAAQQAAAAAAAABBAAAAAAAAAEEAAAAAAAAAQQAAAAAAAABBAAAAAAAAAEEAAAAAAAAAQQAAAAAAAABBAAAAAAAAAEEAAAAAAAAAQQAAAAAAAABBAAAAAAAAAEEAAAAAAAAAQQAAAAAAAABBAAAAAAAAAEEAAAAAAAAAQQAAAAAAAABBAAAAAAAAAEEAAAAAAAAAQQAAAAAAAABBAAAAAAAAAEEAAAAAAAAAQQAAAAAAAABBAAAAAAAAAEEAAAAAAAAAQQAAAAAAAABBAAAAAAAAAEEAAAAAAAAAQQAAAAAAAABBAAAAAAAAAEEAAAAAAAAAQQAAAAAAAABBAAAAAAAAAEEAAAAAAAAAQQAAAAAAAABBAAAAAAAAAEEAAAAAAAAAQQAAAAAAAABBAAAAAAAAAEEAAAAAAAAAQQAAAAAAAABBAAAAAAAAAEEAAAAAAAAAQQAAAAAAAABBAAAAAAAAAEEAAAAAAAAAQQAAAAAAAABBAAAAAAAAAEEAAAAAAAAAQQAAAAAAAABBAAAAAAAAAEEAAAAAAAAAQQAAAAAAAABBAAAAAAAAAEEAAAAAAAAAQQAAAAAAAABBAAAAAAAAAEEAAAAAAAAAQQAAAAAAAABBAAAAAAAAAEEAAAAAAAAAQQAAAAAAAABBAAAAAAAAAEEAAAAAAAAAQQAAAAAAAABBAAAAAAAAAEEAAAAAAAAAQQAAAAAAAABBAAAAAAAAAEEAAAAAAAAAQQAAAAAAAABBAAAAAAAAAEEAAAAAAAAAQQAAAAAAAABBAAAAAAAAAEEAAAAAAAAAQQAAAAAAAABBAAAAAAAAAEEAAAAAAAAAQQAAAAAAAABBAAAAAAAAAEEAAAAAAAAAQQAAAAAAAABBAAAAAAAAAEEAAAAAAAAAQQAAAAAAAABBAAAAAAAAAEEAAAAAAAAAQQAAAAAAAABBAAAAAAAAAEEAAAAAAAAAQQAAAAAAAABBAAAAAAAAAEEAAAAAAAAAQQAAAAAAAABBAAAAAAAAAEEAAAAAAAAAQQAAAAAAAABBAAAAAAAAAEEAAAAAAAAAQQAAAAAAAABBAAAAAAAAAEEAAAAAAAAAQQAAAAAAAABBAAAAAAAAAEEAAAAAAAAAQQAAAAAAAABBAAAAAAAAAEEAAAAAAAAAQQAAAAAAAABBAAAAAAAAAEEAAAAAAAAAQQAAAAAAAABBAAAAAAAAAEEAAAAAAAAAQQAAAAAAAABBAAAAAAAAAEEAAAAAAAAAQQAAAAAAAABBAAAAAAAAAEEAAAAAAAAAQQAAAAAAAABBAAAAAAAAAEEAAAAAAAAAQQAAAAAAAABBAAAAAAAAAEEAAAAAAAAAQQAAAAAAAABBAAAAAAAAAEEAAAAAAAAAQQAAAAAAAABBAAAAAAAAAEEAAAAAAAAAQQAAAAAAAABBAAAAAAAAAEEAAAAAAAAAQQAAAAAAAABBAAAAAAAAAEEAAAAAAAAAQQAAAAAAAABBAAAAAAAAAEEAAAAAAAAAQQAAAAAAAABBAAAAAAAAAEEAAAAAAAAAQQAAAAAAAABBAAAAAAAAAEEAAAAAAAAAQQAAAAAAAABBAAAAAAAAAEEAAAAAAAAAQQAAAAAAAABBAAAAAAAAAEEAAAAAAAAAQQAAAAAAAABBAAAAAAAAAEEAAAAAAAAAQQAAAAAAAABBAAAAAAAAAEEAAAAAAAAAQQAAAAAAAABBAAAAAAAAAEEAAAAAAAAAQQAAAAAAAABBAAAAAAAAAEEAAAAAAAAAQQAAAAAAAABBAAAAAAAAAEEAAAAAAAAAQQAAAAAAAABBAAAAAAAAAEEAAAAAAAAAQQAAAAAAAABBAAAAAAAAAEEAAAAAAAAAQQAAAAAAAABBAAAAAAAAAEEAAAAAAAAAQQAAAAAAAABBAAAAAAAAAEEAAAAAAAAAQQAAAAAAAABBAAAAAAAAAEEAAAAAAAAAQQAAAAAAAABBAAAAAAAAAEEAAAAAAAAAQQAAAAAAAABBAAAAAAAAAEEAAAAAAAAAQQAAAAAAAABBAAAAAAAAAEEAAAAAAAAAQQAAAAAAAABBAAAAAAAAAEEAAAAAAAAAQQAAAAAAAABBAAAAAAAAAEEAAAAAAAAAQQAAAAAAAABBAAAAAAAAAEEAAAAAAAAAQQAAAAAAAABBAAAAAAAAAEEAAAAAAAAAQQAAAAAAAABBAAAAAAAAAEEAAAAAAAAAQQAAAAAAAABBAAAAAAAAAEEAAAAAAAAAQQAAAAAAAABBAAAAAAAAAEEAAAAAAAAAQQAAAAAAAABBAAAAAAAAAEEAAAAAAAAAQQAAAAAAAABBAAAAAAAAAEEAAAAAAAAAQQAAAAAAAABBAAAAAAAAAEEAAAAAAAAAQQAAAAAAAABBAAAAAAAAAEEAAAAAAAAAQQAAAAAAAABBAAAAAAAAAEEAAAAAAAAAQQAAAAAAAABBAAAAAAAAAEEAAAAAAAAAQQAAAAAAAABBAAAAAAAAAEEAAAAAAAAAQQAAAAAAAABBAAAAAAAAAEEAAAAAAAAAQQAAAAAAAABBAAAAAAAAAEEAAAAAAAAAQQAAAAAAAABBAAAAAAAAAEEAAAAAAAAAQQAAAAAAAABBAAAAAAAAAEEAAAAAAAAAQQAAAAAAAABBAAAAAAAAAEEAAAAAAAAAQQAAAAAAAABBAAAAAAAAAEEAAAAAAAAAQQAAAAAAAABBAAAAAAAAAEEAAAAAAAAAQQAAAAAAAABBAAAAAAAAAEEAAAAAAAAAQQAAAAAAAABBAAAAAAAAAEEAAAAAAAAAQQAAAAAAAABBAAAAAAAAAEEAAAAAAAAAQQAAAAAAAABBAAAAAAAAAEEAAAAAAAAAQQAAAAAAAABBAAAAAAAAAEEAAAAAAAAAQQAAAAAAAABBAAAAAAAAAEEAAAAAAAAAQQAAAAAAAABBAAAAAAAAAEEAAAAAAAAAQQAAAAAAAABBAAAAAAAAAEEAAAAAAAAAQQAAAAAAAABBAAAAAAAAAEEAAAAAAAAAQQAAAAAAAABBAAAAAAAAAEEAAAAAAAAAQQAAAAAAAABBAAAAAAAAAEEAAAAAAAAAQQAAAAAAAABBAAAAAAAAAEEAAAAAAAAAQQAAAAAAAABBAAAAAAAAAEEAAAAAAAAAQQAAAAAAAABBAAAAAAAAAEEAAAAAAAAAQQAAAAAAAABBAAAAAAAAAEEAAAAAAAAAQQAAAAAAAABBAAAAAAAAAEEAAAAAAAAAQQAAAAAAAABBAAAAAAAAAEEAAAAAAAAAQQAAAAAAAABBAAAAAAAAAEEAAAAAAAAAQQAAAAAAAABBAAAAAAAAAEEAAAAAAAAAQQAAAAAAAABBAAAAAAAAAEEAAAAAAAAAQQAAAAAAAABBAAAAAAAAAEEAAAAAAAAAQQAAAAAAAABBAAAAAAAAAEEAAAAAAAAAQQAAAAAAAABBAAAAAAAAAEEAAAAAAAAAQQAAAAAAAABBAAAAAAAAAEEAAAAAAAAAQQAAAAAAAABBAAAAAAAAAEEAAAAAAAAAQQAAAAAAAABBAAAAAAAAAEEAAAAAAAAAQQAAAAAAAABBAAAAAAAAAEEAAAAAAAAAQQAAAAAAAABBAAAAAAAAAEEAAAAAAAAAQQAAAAAAAABBAAAAAAAAAEEAAAAAAAAAQQAAAAAAAABBAAAAAAAAAEEAAAAAAAAAQQAAAAAAAABBAAAAAAAAAEEAAAAAAAAAQQAAAAAAAABBAAAAAAAAAEEAAAAAAAAAQQAAAAAAAABBAAAAAAAAAEEAAAAAAAAAQQAAAAAAAABBAAAAAAAAAEEAAAAAAAAAQQAAAAAAAABBAAAAAAAAAEEAAAAAAAAAQQAAAAAAAABBAAAAAAAAAEEAAAAAAAAAQQAAAAAAAABBAAAAAAAAAEEAAAAAAAAAQQAAAAAAAABBAAAAAAAAAEEAAAAAAAAAQQAAAAAAAABBAAAAAAAAAEEAAAAAAAAAQQAAAAAAAABBAAAAAAAAAEEAAAAAAAAAQQAAAAAAAABBAAAAAAAAAEEAAAAAAAAAQQAAAAAAAABBAAAAAAAAAEEAAAAAAAAAQQAAAAAAAABBAAAAAAAAAEEAAAAAAAAAQQAAAAAAAABBAAAAAAAAAEEAAAAAAAAAQQAAAAAAAABBAAAAAAAAAEEAAAAAAAAAQQAAAAAAAABBAAAAAAAAAEEAAAAAAAAAQQAAAAAAAABBAAAAAAAAAEEAAAAAAAAAQQAAAAAAAABBAAAAAAAAAEEAAAAAAAAAQQAAAAAAAABBAAAAAAAAAEEAAAAAAAAAQQAAAAAAAABBAAAAAAAAAEEAAAAAAAAAQQAAAAAAAABBAAAAAAAAAEEAAAAAAAAAQQAAAAAAAABBAAAAAAAAAEEAAAAAAAAAQQAAAAAAAABBAAAAAAAAAEEAAAAAAAAAQQAAAAAAAABBAAAAAAAAAEEAAAAAAAAAQQAAAAAAAABBAAAAAAAAAEEAAAAAAAAAQQAAAAAAAABBAAAAAAAAAEEAAAAAAAAAQQAAAAAAAABBAAAAAAAAAEEAAAAAAAAAQQAAAAAAAABBAAAAAAAAAEEAAAAAAAAAQQAAAAAAAABBAAAAAAAAAEEAAAAAAAAAQQAAAAAAAABBAAAAAAAAAEEAAAAAAAAAQQAAAAAAAABBAAAAAAAAAEEAAAAAAAAAQQAAAAAAAABBAAAAAAAAAEEAAAAAAAAAQQAAAAAAAABBAAAAAAAAAEEAAAAAAAAAQQAAAAAAAABBAAAAAAAAAEEAAAAAAAAAQQAAAAAAAABBAAAAAAAAAEEAAAAAAAAAQQAAAAAAAABBAAAAAAAAAEEAAAAAAAAAQQAAAAAAAABBAAAAAAAAAEEAAAAAAAAAQQAAAAAAAABBAAAAAAAAAEEAAAAAAAAAQQAAAAAAAABBAAAAAAAAAEEAAAAAAAAAQQAAAAAAAABBAAAAAAAAAEEAAAAAAAAAQQAAAAAAAABBAAAAAAAAAEEAAAAAAAAAQQAAAAAAAABBAAAAAAAAAEEAAAAAAAAAQQAAAAAAAABBAAAAAAAAAEEAAAAAAAAAQQAAAAAAAABBAAAAAAAAAEEAAAAAAAAAQQAAAAAAAABBAAAAAAAAAEEAAAAAAAAAQQAAAAAAAABBAAAAAAAAAEEAAAAAAAAAQQAAAAAAAABBAAAAAAAAAEEAAAAAAAAAQQAAAAAAAABBAAAAAAAAAEEAAAAAAAAAQQAAAAAAAABBAAAAAAAAAEEAAAAAAAAAQQAAAAAAAABBAAAAAAAAAEEAAAAAAAAAQQAAAAAAAABBAAAAAAAAAEEAAAAAAAAAQQAAAAAAAABBAAAAAAAAAEEAAAAAAAAAQQAAAAAAAABBAAAAAAAAAEEAAAAAAAAAQQAAAAAAAABBAAAAAAAAAEEAAAAAAAAAQQAAAAAAAABBAAAAAAAAAEEAAAAAAAAAQQAAAAAAAABBAAAAAAAAAEEAAAAAAAAAQQAAAAAAAABBAAAAAAAAAEEAAAAAAAAAQQAAAAAAAABBAAAAAAAAAEEAAAAAAAAAQQAAAAAAAABBAAAAAAAAAEEAAAAAAAAAQQAAAAAAAABBAAAAAAAAAEEAAAAAAAAAQQAAAAAAAABBAAAAAAAAAEEAAAAAAAAAQQAAAAAAAABBAAAAAAAAAEEAAAAAAAAAQQAAAAAAAABBAAAAAAAAAEEAAAAAAAAAQQAAAAAAAABBAAAAAAAAAEEAAAAAAAAAQQAAAAAAAABBAAAAAAAAAEEAAAAAAAAAQQAAAAAAAABBAAAAAAAAAEEAAAAAAAAAQQAAAAAAAABBAAAAAAAAAEEAAAAAAAAAQQAAAAAAAABBAAAAAAAAAEEAAAAAAAAAQQAAAAAAAABBAAAAAAAAAEEAAAAAAAAAQQAAAAAAAABBAAAAAAAAAEEAAAAAAAAAQQAAAAAAAABBAAAAAAAAAEEAAAAAAAAAQQAAAAAAAABBAAAAAAAAAEEAAAAAAAAAQQAAAAAAAABBAAAAAAAAAEEAAAAAAAAAQQAAAAAAAABBAAAAAAAAAEEAAAAAAAAAQQAAAAAAAABBAAAAAAAAAEEAAAAAAAAAQQAAAAAAAABBAAAAAAAAAEEAAAAAAAAAQQAAAAAAAABBAAAAAAAAAEEAAAAAAAAAQQAAAAAAAABBAAAAAAAAAEEAAAAAAAAAQQAAAAAAAABBAAAAAAAAAEEAAAAAAAAAQQAAAAAAAABBAAAAAAAAAEEAAAAAAAAAQQAAAAAAAABBAAAAAAAAAEEAAAAAAAAAQQAAAAAAAABBAAAAAAAAAEEAAAAAAAAAQQAAAAAAAABBAAAAAAAAAEEAAAAAAAAAQQAAAAAAAABBAAAAAAAAAEEAAAAAAAAAQQAAAAAAAABBAAAAAAAAAEEAAAAAAAAAQQAAAAAAAABBAAAAAAAAAEEAAAAAAAAAQQAAAAAAAABBAAAAAAAAAEEAAAAAAAAAQQAAAAAAAABBAAAAAAAAAEEAAAAAAAAAQQAAAAAAAABBAAAAAAAAAEEAAAAAAAAAQQAAAAAAAABBAAAAAAAAAEEAAAAAAAAAQQAAAAAAAABBAAAAAAAAAEEAAAAAAAAAQQAAAAAAAABBAAAAAAAAAEEAAAAAAAAAQQAAAAAAAABBAAAAAAAAAEEAAAAAAAAAQQAAAAAAAABBAAAAAAAAAEEAAAAAAAAAQQAAAAAAAABBAAAAAAAAAEEAAAAAAAAAQQAAAAAAAABBAAAAAAAAAEEAAAAAAAAAQQAAAAAAAABBAAAAAAAAAEEAAAAAAAAAQQAAAAAAAABBAAAAAAAAAEEAAAAAAAAAQQAAAAAAAABBAAAAAAAAAEEAAAAAAAAAQQAAAAAAAABBAAAAAAAAAEEAAAAAAAAAQQAAAAAAAABBAAAAAAAAAEEAAAAAAAAAQQAAAAAAAABBAAAAAAAAAEEAAAAAAAAAQQAAAAAAAABBAAAAAAAAAEEAAAAAAAAAQQAAAAAAAABBAAAAAAAAAEEAAAAAAAAAQQAAAAAAAABBAAAAAAAAAEEAAAAAAAAAQQAAAAAAAABBAAAAAAAAAEEAAAAAAAAAQQAAAAAAAABBAAAAAAAAAEEAAAAAAAAAQQAAAAAAAABBAAAAAAAAAEEAAAAAAAAAQQAAAAAAAABBAAAAAAAAAEEAAAAAAAAAQQAAAAAAAABBAAAAAAAAAEEAAAAAAAAAQQAAAAAAAABBAAAAAAAAAEEAAAAAAAAAQQAAAAAAAABBAAAAAAAAAEEAAAAAAAAAQQAAAAAAAABBAAAAAAAAAEEAAAAAAAAAQQAAAAAAAABBAAAAAAAAAEEAAAAAAAAAQQAAAAAAAABBAAAAAAAAAEEAAAAAAAAAQQAAAAAAAABBAAAAAAAAAEEAAAAAAAAAQQAAAAAAAABBAAAAAAAAAEEAAAAAAAAAQQAAAAAAAABBAAAAAAAAAEEAAAAAAAAAQQAAAAAAAABBAAAAAAAAAEEAAAAAAAAAQQAAAAAAAABBAAAAAAAAAEEAAAAAAAAAQQAAAAAAAABBAAAAAAAAAEEAAAAAAAAAQQAAAAAAAABBAAAAAAAAAEEAAAAAAAAAQQAAAAAAAABBAAAAAAAAAEEAAAAAAAAAQQAAAAAAAABBAAAAAAAAAEEAAAAAAAAAQQAAAAAAAABBAAAAAAAAAEEAAAAAAAAAQQAAAAAAAABBAAAAAAAAAEEAAAAAAAAAQQAAAAAAAABBAAAAAAAAAEEAAAAAAAAAQQAAAAAAAABBAAAAAAAAAEEAAAAAAAAAQQAAAAAAAABBAAAAAAAAAEEAAAAAAAAAQQAAAAAAAABBAAAAAAAAAEEAAAAAAAAAQQAAAAAAAABBAAAAAAAAAEEAAAAAAAAAQQAAAAAAAABBAAAAAAAAAEEAAAAAAAAAQQAAAAAAAABBAAAAAAAAAEEAAAAAAAAAQQAAAAAAAABBAAAAAAAAAEEAAAAAAAAAQQAAAAAAAABBAAAAAAAAAEEAAAAAAAAAQQAAAAAAAABBAAAAAAAAAEEAAAAAAAAAQQAAAAAAAABBAAAAAAAAAEEAAAAAAAAAQQAAAAAAAABBAAAAAAAAAEEAAAAAAAAAQQAAAAAAAABBAAAAAAAAAEEAAAAAAAAAQQAAAAAAAABBAAAAAAAAAEEAAAAAAAAAQQAAAAAAAABBAAAAAAAAAEEAAAAAAAAAQQAAAAAAAABBAAAAAAAAAEEAAAAAAAAAQQAAAAAAAABBAAAAAAAAAEEAAAAAAAAAQQAAAAAAAABBAAAAAAAAAEEAAAAAAAAAQQAAAAAAAABBAAAAAAAAAEEAAAAAAAAAQQAAAAAAAABBAAAAAAAAAEEAAAAAAAAAQQAAAAAAAABBAAAAAAAAAEEAAAAAAAAAQQAAAAAAAABBAAAAAAAAAEEAAAAAAAAAQQAAAAAAAABBAAAAAAAAAEEAAAAAAAAAQQAAAAAAAABBAAAAAAAAAEEAAAAAAAAAQQAAAAAAAABBAAAAAAAAAEEAAAAAAAAAQQAAAAAAAABBAAAAAAAAAEEAAAAAAAAAQQAAAAAAAABBAAAAAAAAAEEAAAAAAAAAQQAAAAAAAABBAAAAAAAAAEEAAAAAAAAAQQAAAAAAAABBAAAAAAAAAEEAAAAAAAAAQQAAAAAAAABBAAAAAAAAAEEAAAAAAAAAQQAAAAAAAABBAAAAAAAAAEEAAAAAAAAAQQAAAAAAAABBAAAAAAAAAEEAAAAAAAAAQQAAAAAAAABBAAAAAAAAAEEAAAAAAAAAQQAAAAAAAABBAAAAAAAAAEEAAAAAAAAAQQAAAAAAAABBAAAAAAAAAEEAAAAAAAAAQQAAAAAAAABBAAAAAAAAAEEAAAAAAAAAQQAAAAAAAABBAAAAAAAAAEEAAAAAAAAAQQAAAAAAAABBAAAAAAAAAEEAAAAAAAAAQQAAAAAAAABBAAAAAAAAAEEAAAAAAAAAQQAAAAAAAABBAAAAAAAAAEEAAAAAAAAAQQAAAAAAAABBAAAAAAAAAEEAAAAAAAAAQQAAAAAAAABBAAAAAAAAAEEAAAAAAAAAQQAAAAAAAABBAAAAAAAAAEEAAAAAAAAAQQAAAAAAAABBAAAAAAAAAEEAAAAAAAAAQQAAAAAAAABBAAAAAAAAAEEAAAAAAAAAQQAAAAAAAABBAAAAAAAAAEEAAAAAAAAAQQAAAAAAAABBAAAAAAAAAEEAAAAAAAAAQQAAAAAAAABBAAAAAAAAAEEAAAAAAAAAQQAAAAAAAABBAAAAAAAAAEEAAAAAAAAAQQAAAAAAAABBAAAAAAAAAEEAAAAAAAAAQQAAAAAAAABBAAAAAAAAAEEAAAAAAAAAQQAAAAAAAABBAAAAAAAAAEEAAAAAAAAAQQAAAAAAAABBAAAAAAAAAEEAAAAAAAAAQQAAAAAAAABBAAAAAAAAAEEAAAAAAAAAQQAAAAAAAABBAAAAAAAAAEEAAAAAAAAAQQAAAAAAAABBAAAAAAAAAEEAAAAAAAAAQQAAAAAAAABBAAAAAAAAAEEAAAAAAAAAQQAAAAAAAABBAAAAAAAAAEEAAAAAAAAAQQAAAAAAAABBAAAAAAAAAEEAAAAAAAAAQQAAAAAAAABBAAAAAAAAAEEAAAAAAAAAQQAAAAAAAABBAAAAAAAAAEEAAAAAAAAAQQAAAAAAAABBAAAAAAAAAEEAAAAAAAAAQQAAAAAAAABBAAAAAAAAAEEAAAAAAAAAQQAAAAAAAABBAAAAAAAAAEEAAAAAAAAAQQAAAAAAAABBAAAAAAAAAEEAAAAAAAAAQQAAAAAAAABBAAAAAAAAAEEAAAAAAAAAQQAAAAAAAABBAAAAAAAAAEEAAAAAAAAAQQAAAAAAAABBAAAAAAAAAEEAAAAAAAAAQQAAAAAAAABBAAAAAAAAAEEAAAAAAAAAQQAAAAAAAABBAAAAAAAAAEEAAAAAAAAAQQAAAAAAAABBAAAAAAAAAEEAAAAAAAAAQQAAAAAAAABBAAAAAAAAAEEAAAAAAAAAQQAAAAAAAABBAAAAAAAAAEEAAAAAAAAAQQAAAAAAAABBAAAAAAAAAEEAAAAAAAAAQQAAAAAAAABBAAAAAAAAAEEAAAAAAAAAQQAAAAAAAABBAAAAAAAAAEEAAAAAAAAAQQAAAAAAAABBAAAAAAAAAEEAAAAAAAAAQQAAAAAAAABBAAAAAAAAAEEAAAAAAAAAQQAAAAAAAABBAAAAAAAAAEEAAAAAAAAAQQAAAAAAAABBAAAAAAAAAEEAAAAAAAAAQQAAAAAAAABBAAAAAAAAAEEAAAAAAAAAQQAAAAAAAABBAAAAAAAAAEEAAAAAAAAAQQAAAAAAAABBAAAAAAAAAEEAAAAAAAAAQQAAAAAAAABBAAAAAAAAAEEAAAAAAAAAQQAAAAAAAABBAAAAAAAAAEEAAAAAAAAAQQAAAAAAAABBAAAAAAAAAEEAAAAAAAAAQQAAAAAAAABBAAAAAAAAAEEAAAAAAAAAQQAAAAAAAABBAAAAAAAAAEEAAAAAAAAAQQAAAAAAAABBAAAAAAAAAEEAAAAAAAAAQQAAAAAAAABBAAAAAAAAAEEAAAAAAAAAQQAAAAAAAABBAAAAAAAAAEEAAAAAAAAAQQAAAAAAAABBAAAAAAAAAEEAAAAAAAAAQQAAAAAAAABBAAAAAAAAAEEAAAAAAAAAQQAAAAAAAABBAAAAAAAAAEEAAAAAAAAAQQAAAAAAAABBAAAAAAAAAEEAAAAAAAAAQQAAAAAAAABBAAAAAAAAAEEAAAAAAAAAQQAAAAAAAABBAAAAAAAAAEEAAAAAAAAAQQAAAAAAAABBAAAAAAAAAEEAAAAAAAAAQQAAAAAAAABBAAAAAAAAAEEAAAAAAAAAQQAAAAAAAABBAAAAAAAAAEEAAAAAAAAAQQAAAAAAAABBAAAAAAAAAEEAAAAAAAAAQQAAAAAAAABBAAAAAAAAAEEAAAAAAAAAQQAAAAAAAABBAAAAAAAAAEEAAAAAAAAAQQAAAAAAAABBAAAAAAAAAEEAAAAAAAAAQQAAAAAAAABBAAAAAAAAAEEAAAAAAAAAQQAAAAAAAABBAAAAAAAAAEEAAAAAAAAAQQAAAAAAAABBAAAAAAAAAEEAAAAAAAAAQQAAAAAAAABBAAAAAAAAAEEAAAAAAAAAQQAAAAAAAABBAAAAAAAAAEEAAAAAAAAAQQAAAAAAAABBAAAAAAAAAEEAAAAAAAAAQQAAAAAAAABBAAAAAAAAAEEAAAAAAAAAQQAAAAAAAABBAAAAAAAAAEEAAAAAAAAAQQAAAAAAAABBAAAAAAAAAEEAAAAAAAAAQQAAAAAAAABBAAAAAAAAAEEAAAAAAAAAQQAAAAAAAABBAAAAAAAAAEEAAAAAAAAAQQAAAAAAAABBAAAAAAAAAEEAAAAAAAAAQQAAAAAAAABBAAAAAAAAAEEAAAAAAAAAQQAAAAAAAABBAAAAAAAAAEEAAAAAAAAAQQAAAAAAAABBAAAAAAAAAEEAAAAAAAAAQQAAAAAAAABBAAAAAAAAAEEAAAAAAAAAQQAAAAAAAABBAAAAAAAAAEEAAAAAAAAAQQAAAAAAAABBAAAAAAAAAEEAAAAAAAAAQQAAAAAAAABBAAAAAAAAAEEAAAAAAAAAQQAAAAAAAABBAAAAAAAAAEEAAAAAAAAAQQAAAAAAAABBAAAAAAAAAEEAAAAAAAAAQQAAAAAAAABBAAAAAAAAAEEAAAAAAAAAQQAAAAAAAABBAAAAAAAAAEEAAAAAAAAAQQAAAAAAAABBAAAAAAAAAEEAAAAAAAAAQQAAAAAAAABBAAAAAAAAAEEAAAAAAAAAQQAAAAAAAABBAAAAAAAAAEEAAAAAAAAAQQAAAAAAAABBAAAAAAAAAEEAAAAAAAAAQQAAAAAAAABBAAAAAAAAAEEAAAAAAAAAQQAAAAAAAABBAAAAAAAAAEEAAAAAAAAAQQAAAAAAAABBAAAAAAAAAEEAAAAAAAAAQQAAAAAAAABBAAAAAAAAAEEAAAAAAAAAQQAAAAAAAABBAAAAAAAAAEEAAAAAAAAAQQAAAAAAAABBAAAAAAAAAEEAAAAAAAAAQQAAAAAAAABBAAAAAAAAAEEAAAAAAAAAQQAAAAAAAABBAAAAAAAAAEEAAAAAAAAAQQAAAAAAAABBAAAAAAAAAEEAAAAAAAAAQQAAAAAAAABBAAAAAAAAAEEAAAAAAAAAQQAAAAAAAABBAAAAAAAAAEEAAAAAAAAAQQAAAAAAAABBAAAAAAAAAEEAAAAAAAAAQQAAAAAAAABBAAAAAAAAAEEAAAAAAAAAQQAAAAAAAABBAAAAAAAAAEEAAAAAAAAAQQAAAAAAAABBAAAAAAAAAEEAAAAAAAAAQQAAAAAAAABBAAAAAAAAAEEAAAAAAAAAQQAAAAAAAABBAAAAAAAAAEEAAAAAAAAAQQAAAAAAAABBAAAAAAAAAEEAAAAAAAAAQQAAAAAAAABBAAAAAAAAAEEAAAAAAAAAQQAAAAAAAABBAAAAAAAAAEEAAAAAAAAAQQAAAAAAAABBAAAAAAAAAEEAAAAAAAAAQQAAAAAAAABBAAAAAAAAAEEAAAAAAAAAQQAAAAAAAABBAAAAAAAAAEEAAAAAAAAAQQAAAAAAAABBAAAAAAAAAEEAAAAAAAAAQQAAAAAAAABBAAAAAAAAAEEAAAAAAAAAQQAAAAAAAABBAAAAAAAAAEEAAAAAAAAAQQAAAAAAAABBAAAAAAAAAEEAAAAAAAAAQQAAAAAAAABBAAAAAAAAAEEAAAAAAAAAQQAAAAAAAABBAAAAAAAAAEEAAAAAAAAAQQAAAAAAAABBAAAAAAAAAEEAAAAAAAAAQQAAAAAAAABBAAAAAAAAAEEAAAAAAAAAQQAAAAAAAABBAAAAAAAAAEEAAAAAAAAAQQAAAAAAAABBAAAAAAAAAEEAAAAAAAAAQQAAAAAAAABBAAAAAAAAAEEAAAAAAAAAQQAAAAAAAABBAAAAAAAAAEEAAAAAAAAAQQAAAAAAAABBAAAAAAAAAEEAAAAAAAAAQQAAAAAAAABBAAAAAAAAAEEAAAAAAAAAQQAAAAAAAABBAAAAAAAAAEEAAAAAAAAAQQAAAAAAAABBAAAAAAAAAEEAAAAAAAAAQQAAAAAAAABBAAAAAAAAAEEAAAAAAAAAQQAAAAAAAABBAAAAAAAAAEEAAAAAAAAAQQAAAAAAAABBAAAAAAAAAEEAAAAAAAAAQQAAAAAAAABBAAAAAAAAAEEAAAAAAAAAQQAAAAAAAABBAAAAAAAAAEEAAAAAAAAAQQAAAAAAAABBAAAAAAAAAEEAAAAAAAAAQQAAAAAAAABBAAAAAAAAAEEAAAAAAAAAQQAAAAAAAABBAAAAAAAAAEEAAAAAAAAAQQAAAAAAAABBAAAAAAAAAEEAAAAAAAAAQQAAAAAAAABBAAAAAAAAAEEAAAAAAAAAQQAAAAAAAABBAAAAAAAAAEEAAAAAAAAAQQAAAAAAAABBAAAAAAAAAEEAAAAAAAAAQQAAAAAAAABBAAAAAAAAAEEAAAAAAAAAQQAAAAAAAABBAAAAAAAAAEEAAAAAAAAAQQAAAAAAAABBAAAAAAAAAEEAAAAAAAAAQQAAAAAAAABBAAAAAAAAAEEAAAAAAAAAQQAAAAAAAABBAAAAAAAAAEEAAAAAAAAAQQAAAAAAAABBAAAAAAAAAEEAAAAAAAAAQQAAAAAAAABBAAAAAAAAAEEAAAAAAAAAQQAAAAAAAABBAAAAAAAAAEEAAAAAAAAAQQAAAAAAAABBAAAAAAAAAEEAAAAAAAAAQQAAAAAAAABBAAAAAAAAAEEAAAAAAAAAQQAAAAAAAABBAAAAAAAAAEEAAAAAAAAAQQAAAAAAAABBAAAAAAAAAEEAAAAAAAAAQQAAAAAAAABBAAAAAAAAAEEAAAAAAAAAQQAAAAAAAABBAAAAAAAAAEEAAAAAAAAAQQAAAAAAAABBAAAAAAAAAEEAAAAAAAAAQQAAAAAAAABBAAAAAAAAAEEAAAAAAAAAQQAAAAAAAABBAAAAAAAAAEEAAAAAAAAAQQAAAAAAAABBAAAAAAAAAEEAAAAAAAAAQQAAAAAAAABBAAAAAAAAAEEAAAAAAAAAQQAAAAAAAABBAAAAAAAAAEEAAAAAAAAAQQAAAAAAAABBAAAAAAAAAEEAAAAAAAAAQQAAAAAAAABBAAAAAAAAAEEAAAAAAAAAQQAAAAAAAABBAAAAAAAAAEEAAAAAAAAAQQAAAAAAAABBAAAAAAAAAEEAAAAAAAAAQQAAAAAAAABBAAAAAAAAAEEAAAAAAAAAQQAAAAAAAABBAAAAAAAAAEEAAAAAAAAAQQAAAAAAAABBAAAAAAAAAEEAAAAAAAAAQQAAAAAAAABBAAAAAAAAAEEAAAAAAAAAQQAAAAAAAABBAAAAAAAAAEEAAAAAAAAAQQAAAAAAAABBAAAAAAAAAEEAAAAAAAAAQQAAAAAAAABBAAAAAAAAAEEAAAAAAAAAQQAAAAAAAABBAAAAAAAAAEEAAAAAAAAAQQAAAAAAAABBAAAAAAAAAEEAAAAAAAAAQQAAAAAAAABBAAAAAAAAAEEAAAAAAAAAQQAAAAAAAABBAAAAAAAAAEEAAAAAAAAAQQAAAAAAAABBAAAAAAAAAEEAAAAAAAAAQQAAAAAAAABBAAAAAAAAAEEAAAAAAAAAQQAAAAAAAABBAAAAAAAAAEEAAAAAAAAAQQAAAAAAAABBAAAAAAAAAEEAAAAAAAAAQQAAAAAAAABBAAAAAAAAAEEAAAAAAAAAQQAAAAAAAABBAAAAAAAAAEEAAAAAAAAAQQAAAAAAAABBAAAAAAAAAEEAAAAAAAAAQQAAAAAAAABBAAAAAAAAAEEAAAAAAAAAQQAAAAAAAABBAAAAAAAAAEEAAAAAAAAAQQAAAAAAAABBAAAAAAAAAEEAAAAAAAAAQQAAAAAAAABBAAAAAAAAAEEAAAAAAAAAQQAAAAAAAABBAAAAAAAAAEEAAAAAAAAAQQAAAAAAAABBAAAAAAAAAEEAAAAAAAAAQQAAAAAAAABBAAAAAAAAAEEAAAAAAAAAQQAAAAAAAABBAAAAAAAAAEEAAAAAAAAAQQAAAAAAAABBAAAAAAAAAEEAAAAAAAAAQQAAAAAAAABBAAAAAAAAAEEAAAAAAAAAQQAAAAAAAABBAAAAAAAAAEEAAAAAAAAAQQAAAAAAAABBAAAAAAAAAEEAAAAAAAAAQQAAAAAAAABBAAAAAAAAAEEAAAAAAAAAQQAAAAAAAABBAAAAAAAAAEEAAAAAAAAAQQAAAAAAAABBAAAAAAAAAEEAAAAAAAAAQQAAAAAAAABBAAAAAAAAAEEAAAAAAAAAQQAAAAAAAABBAAAAAAAAAEEAAAAAAAAAQQAAAAAAAABBAAAAAAAAAEEAAAAAAAAAQQAAAAAAAABBAAAAAAAAAEEAAAAAAAAAQQAAAAAAAABBAAAAAAAAAEEAAAAAAAAAQQAAAAAAAABBAAAAAAAAAEEAAAAAAAAAQQAAAAAAAABBAAAAAAAAAEEAAAAAAAAAQQAAAAAAAABBAAAAAAAAAEEAAAAAAAAAQQAAAAAAAABBAAAAAAAAAEEAAAAAAAAAQQAAAAAAAABBAAAAAAAAAEEAAAAAAAAAQQAAAAAAAABBAAAAAAAAAEEAAAAAAAAAQQAAAAAAAABBAAAAAAAAAEEAAAAAAAAAQQAAAAAAAABBAAAAAAAAAEEAAAAAAAAAQQAAAAAAAABBAAAAAAAAAEEAAAAAAAAAQQAAAAAAAABBAAAAAAAAAEEAAAAAAAAAQQAAAAAAAABBAAAAAAAAAEEAAAAAAAAAQQAAAAAAAABBAAAAAAAAAEEAAAAAAAAAQQAAAAAAAABBAAAAAAAAAEEAAAAAAAAAQQAAAAAAAABBAAAAAAAAAEEAAAAAAAAAQQAAAAAAAABBAAAAAAAAAEEAAAAAAAAAQQAAAAAAAABBAAAAAAAAAEEAAAAAAAAAQQAAAAAAAABBAAAAAAAAAEEAAAAAAAAAQQAAAAAAAABBAAAAAAAAAEEAAAAAAAAAQQAAAAAAAABBAAAAAAAAAEEAAAAAAAAAQQAAAAAAAABBAAAAAAAAAEEAAAAAAAAAQQAAAAAAAABBAAAAAAAAAEEAAAAAAAAAQQAAAAAAAABBAAAAAAAAAEEAAAAAAAAAQQAAAAAAAABBAAAAAAAAAEEAAAAAAAAAQQAAAAAAAABBAAAAAAAAAEEAAAAAAAAAQQAAAAAAAABBAAAAAAAAAEEAAAAAAAAAQQAAAAAAAABBAAAAAAAAAEEAAAAAAAAAQQAAAAAAAABBAAAAAAAAAEEAAAAAAAAAQQAAAAAAAABBAAAAAAAAAEEAAAAAAAAAQQAAAAAAAABBAAAAAAAAAEEAAAAAAAAAQQAAAAAAAABBAAAAAAAAAEEAAAAAAAAAQQAAAAAAAABBAAAAAAAAAEEAAAAAAAAAQQAAAAAAAABBAAAAAAAAAEEAAAAAAAAAQQAAAAAAAABBAAAAAAAAAEEAAAAAAAAAQQAAAAAAAABBAAAAAAAAAEEAAAAAAAAAQQAAAAAAAABBAAAAAAAAAEEAAAAAAAAAQQAAAAAAAABBAAAAAAAAAEEAAAAAAAAAQQAAAAAAAABBAAAAAAAAAEEAAAAAAAAAQQAAAAAAAABBAAAAAAAAAEEAAAAAAAAAQQAAAAAAAABBAAAAAAAAAEEAAAAAAAAAQQAAAAAAAABBAAAAAAAAAEEAAAAAAAAAQQAAAAAAAABBAAAAAAAAAEEAAAAAAAAAQQAAAAAAAABBAAAAAAAAAEEAAAAAAAAAQQAAAAAAAABBAAAAAAAAAEEAAAAAAAAAQQAAAAAAAABBAAAAAAAAAEEAAAAAAAAAQQAAAAAAAABBAAAAAAAAAEEAAAAAAAAAQQAAAAAAAABBAAAAAAAAAEEAAAAAAAAAQQAAAAAAAABBAAAAAAAAAEEAAAAAAAAAQQAAAAAAAABBAAAAAAAAAEEAAAAAAAAAQQAAAAAAAABBAAAAAAAAAEEAAAAAAAAAQQAAAAAAAABBAAAAAAAAAEEAAAAAAAAAQQAAAAAAAABBAAAAAAAAAEEAAAAAAAAAQQAAAAAAAABBAAAAAAAAAEEAAAAAAAAAQQAAAAAAAABBAAAAAAAAAEEAAAAAAAAAQQAAAAAAAABBAAAAAAAAAEEAAAAAAAAAQQAAAAAAAABBAAAAAAAAAEEAAAAAAAAAQQAAAAAAAABBAAAAAAAAAEEAAAAAAAAAQQAAAAAAAABBAAAAAAAAAEEAAAAAAAAAQQAAAAAAAABBAAAAAAAAAEEAAAAAAAAAQQAAAAAAAABBAAAAAAAAAEEAAAAAAAAAQQAAAAAAAABBAAAAAAAAAEEAAAAAAAAAQQAAAAAAAABBAAAAAAAAAEEAAAAAAAAAQQAAAAAAAABBAAAAAAAAAEEAAAAAAAAAQQAAAAAAAABBAAAAAAAAAEEAAAAAAAAAQQAAAAAAAABBAAAAAAAAAEEAAAAAAAAAQQAAAAAAAABBAAAAAAAAAEEAAAAAAAAAQQAAAAAAAABBAAAAAAAAAEEAAAAAAAAAQQAAAAAAAABBAAAAAAAAAEEAAAAAAAAAQQAAAAAAAABBAAAAAAAAAEEAAAAAAAAAQQAAAAAAAABBAAAAAAAAAEEAAAAAAAAAQQAAAAAAAABBAAAAAAAAAEEAAAAAAAAAQQAAAAAAAABBAAAAAAAAAEEAAAAAAAAAQQAAAAAAAABBAAAAAAAAAEEAAAAAAAAAQQAAAAAAAABBAAAAAAAAAEEAAAAAAAAAQQAAAAAAAABBAAAAAAAAAEEAAAAAAAAAQQAAAAAAAABBAAAAAAAAAEEAAAAAAAAAQQAAAAAAAABBAAAAAAAAAEEAAAAAAAAAQQAAAAAAAABBAAAAAAAAAEEAAAAAAAAAQQAAAAAAAABBAAAAAAAAAEEAAAAAAAAAQQAAAAAAAABBAAAAAAAAAEEAAAAAAAAAQQAAAAAAAABBAAAAAAAAAEEAAAAAAAAAQQAAAAAAAABBAAAAAAAAAEEAAAAAAAAAQQAAAAAAAABBAAAAAAAAAEEAAAAAAAAAQQAAAAAAAABBAAAAAAAAAEEAAAAAAAAAQQAAAAAAAABBAAAAAAAAAEEAAAAAAAAAQQAAAAAAAABBAAAAAAAAAEEAAAAAAAAAQQAAAAAAAABBAAAAAAAAAEEAAAAAAAAAQQAAAAAAAABBAAAAAAAAAEEAAAAAAAAAQQAAAAAAAABBAAAAAAAAAEEAAAAAAAAAQQAAAAAAAABBAAAAAAAAAEEAAAAAAAAAQQAAAAAAAABBAAAAAAAAAEEAAAAAAAAAQQAAAAAAAABBAAAAAAAAAEEAAAAAAAAAQQAAAAAAAABBAAAAAAAAAEEAAAAAAAAAQQAAAAAAAABBAAAAAAAAAEEAAAAAAAAAQQAAAAAAAABBAAAAAAAAAEEAAAAAAAAAQQAAAAAAAABBAAAAAAAAAEEAAAAAAAAAQQAAAAAAAABBAAAAAAAAAEEAAAAAAAAAQQAAAAAAAABBAAAAAAAAAEEAAAAAAAAAQQAAAAAAAABBAAAAAAAAAEEAAAAAAAAAQQAAAAAAAABBAAAAAAAAAEEAAAAAAAAAQQAAAAAAAABBAAAAAAAAAEEAAAAAAAAAQQAAAAAAAABBAAAAAAAAAEEAAAAAAAAAQQAAAAAAAABBAAAAAAAAAEEAAAAAAAAAQQAAAAAAAABBAAAAAAAAAEEAAAAAAAAAQQAAAAAAAABBAAAAAAAAAEEAAAAAAAAAQQAAAAAAAABBAAAAAAAAAEEAAAAAAAAAQQAAAAAAAABBAAAAAAAAAEEAAAAAAAAAQQAAAAAAAABBAAAAAAAAAEEAAAAAAAAAQQAAAAAAAABBAAAAAAAAAEEAAAAAAAAAQQAAAAAAAABBAAAAAAAAAEEAAAAAAAAAQQAAAAAAAABBAAAAAAAAAEEAAAAAAAAAQQAAAAAAAABBAAAAAAAAAEEAAAAAAAAAQQAAAAAAAABBAAAAAAAAAEEAAAAAAAAAQQAAAAAAAABBAAAAAAAAAEEAAAAAAAAAQQAAAAAAAABBAAAAAAAAAEEAAAAAAAAAQQAAAAAAAABBAAAAAAAAAEEAAAAAAAAAQQAAAAAAAABBAAAAAAAAAEEAAAAAAAAAQQAAAAAAAABBAAAAAAAAAEEAAAAAAAAAQQAAAAAAAABBAAAAAAAAAEEAAAAAAAAAQQAAAAAAAABBAAAAAAAAAEEAAAAAAAAAQQAAAAAAAABBAAAAAAAAAEEAAAAAAAAAQQAAAAAAAABBAAAAAAAAAEEAAAAAAAAAQQAAAAAAAABBAAAAAAAAAEEAAAAAAAAAQQAAAAAAAABBAAAAAAAAAEEAAAAAAAAAQQAAAAAAAABBAAAAAAAAAEEAAAAAAAAAQQAAAAAAAABBAAAAAAAAAEEAAAAAAAAAQQAAAAAAAABBAAAAAAAAAEEAAAAAAAAAQQAAAAAAAABBAAAAAAAAAEEAAAAAAAAAQQAAAAAAAABBAAAAAAAAAEEAAAAAAAAAQQAAAAAAAABBAAAAAAAAAEEAAAAAAAAAQQAAAAAAAABBAAAAAAAAAEEAAAAAAAAAQQAAAAAAAABBAAAAAAAAAEEAAAAAAAAAQQAAAAAAAABBAAAAAAAAAEEAAAAAAAAAQQAAAAAAAABBAAAAAAAAAEEAAAAAAAAAQQAAAAAAAABBAAAAAAAAAEEAAAAAAAAAQQAAAAAAAABBAAAAAAAAAEEAAAAAAAAAQQAAAAAAAABBAAAAAAAAAEEAAAAAAAAAQQAAAAAAAABBAAAAAAAAAEEAAAAAAAAAQQAAAAAAAABBAAAAAAAAAEEAAAAAAAAAQQAAAAAAAABBAAAAAAAAAEEAAAAAAAAAQQAAAAAAAABBAAAAAAAAAEEAAAAAAAAAQQAAAAAAAABBAAAAAAAAAEEAAAAAAAAAQQAAAAAAAABBAAAAAAAAAEEAAAAAAAAAQQAAAAAAAABBAAAAAAAAAEEAAAAAAAAAQQAAAAAAAABBAAAAAAAAAEEAAAAAAAAAQQAAAAAAAABBAAAAAAAAAEEAAAAAAAAAQQAAAAAAAABBAAAAAAAAAEEAAAAAAAAAQQAAAAAAAABBAAAAAAAAAEEAAAAAAAAAQQAAAAAAAABBAAAAAAAAAEEAAAAAAAAAQQAAAAAAAABBAAAAAAAAAEEAAAAAAAAAQQAAAAAAAABBAAAAAAAAAEEAAAAAAAAAQQAAAAAAAABBAAAAAAAAAEEAAAAAAAAAQQAAAAAAAABBAAAAAAAAAEEAAAAAAAAAQQAAAAAAAABBAAAAAAAAAEEAAAAAAAAAQQAAAAAAAABBAAAAAAAAAEEAAAAAAAAAQQAAAAAAAABBAAAAAAAAAEEAAAAAAAAAQQAAAAAAAABBAAAAAAAAAEEAAAAAAAAAQQAAAAAAAABBAAAAAAAAAEEAAAAAAAAAQQAAAAAAAABBAAAAAAAAAEEAAAAAAAAAQQAAAAAAAABBAAAAAAAAAEEAAAAAAAAAQQAAAAAAAABBAAAAAAAAAEEAAAAAAAAAQQAAAAAAAABBAAAAAAAAAEEAAAAAAAAAQQAAAAAAAABBAAAAAAAAAEEAAAAAAAAAQQAAAAAAAABBAAAAAAAAAEEAAAAAAAAAQQAAAAAAAABBAAAAAAAAAEEAAAAAAAAAQQAAAAAAAABBAAAAAAAAAEEAAAAAAAAAQQAAAAAAAABBAAAAAAAAAEEAAAAAAAAAQQAAAAAAAABBAAAAAAAAAEEAAAAAAAAAQQAAAAAAAABBAAAAAAAAAEEAAAAAAAAAQQAAAAAAAABBAAAAAAAAAEEAAAAAAAAAQQAAAAAAAABBAAAAAAAAAEEAAAAAAAAAQQAAAAAAAABBAAAAAAAAAEEAAAAAAAAAQQAAAAAAAABBAAAAAAAAAEEAAAAAAAAAQQAAAAAAAABBAAAAAAAAAEEAAAAAAAAAQQAAAAAAAABBAAAAAAAAAEEAAAAAAAAAQQAAAAAAAABBAAAAAAAAAEEAAAAAAAAAQQAAAAAAAABBAAAAAAAAAEEAAAAAAAAAQQAAAAAAAABBAAAAAAAAAEEAAAAAAAAAQQAAAAAAAABBAAAAAAAAAEEAAAAAAAAAQQAAAAAAAABBAAAAAAAAAEEAAAAAAAAAQQAAAAAAAABBAAAAAAAAAEEAAAAAAAAAQQAAAAAAAABBAAAAAAAAAEEAAAAAAAAAQQAAAAAAAABBAAAAAAAAAEEAAAAAAAAAQQAAAAAAAABBAAAAAAAAAEEAAAAAAAAAQQAAAAAAAABBAAAAAAAAAEEAAAAAAAAAQQAAAAAAAABBAAAAAAAAAEEAAAAAAAAAQQAAAAAAAABBAAAAAAAAAEEAAAAAAAAAQQAAAAAAAABBAAAAAAAAAEEAAAAAAAAAQQAAAAAAAABBAAAAAAAAAEEAAAAAAAAAQQAAAAAAAABBAAAAAAAAAEEAAAAAAAAAQQAAAAAAAABBAAAAAAAAAEEAAAAAAAAAQQAAAAAAAABBAAAAAAAAAEEAAAAAAAAAQQAAAAAAAABBAAAAAAAAAEEAAAAAAAAAQQAAAAAAAABBAAAAAAAAAEEAAAAAAAAAQQAAAAAAAABBAAAAAAAAAEEAAAAAAAAAQQAAAAAAAABBAAAAAAAAAEEAAAAAAAAAQQAAAAAAAABBAAAAAAAAAEEAAAAAAAAAQQAAAAAAAABBAAAAAAAAAEEAAAAAAAAAQQAAAAAAAABBAAAAAAAAAEEAAAAAAAAAQQAAAAAAAABBAAAAAAAAAEEAAAAAAAAAQQAAAAAAAABBAAAAAAAAAEEAAAAAAAAAQQAAAAAAAABBAAAAAAAAAEEAAAAAAAAAQQAAAAAAAABBAAAAAAAAAEEAAAAAAAAAQQAAAAAAAABBAAAAAAAAAEEAAAAAAAAAQQAAAAAAAABBAAAAAAAAAEEAAAAAAAAAQQAAAAAAAABBAAAAAAAAAEEAAAAAAAAAQQAAAAAAAABBAAAAAAAAAEEAAAAAAAAAQQAAAAAAAABBAAAAAAAAAEEAAAAAAAAAQQAAAAAAAABBAAAAAAAAAEEAAAAAAAAAQQAAAAAAAABBAAAAAAAAAEEAAAAAAAAAQQAAAAAAAABBAAAAAAAAAEEAAAAAAAAAQQAAAAAAAABBAAAAAAAAAEEAAAAAAAAAQQAAAAAAAABBAAAAAAAAAEEAAAAAAAAAQQAAAAAAAABBAAAAAAAAAEEAAAAAAAAAQQAAAAAAAABBAAAAAAAAAEEAAAAAAAAAQQAAAAAAAABBAAAAAAAAAEEAAAAAAAAAQQAAAAAAAABBAAAAAAAAAEEAAAAAAAAAQQAAAAAAAABBAAAAAAAAAEEAAAAAAAAAQQAAAAAAAABBAAAAAAAAAEEAAAAAAAAAQQAAAAAAAABBAAAAAAAAAEEAAAAAAAAAQQAAAAAAAABBAAAAAAAAAEEAAAAAAAAAQQAAAAAAAABBAAAAAAAAAEEAAAAAAAAAQQAAAAAAAABBAAAAAAAAAEEAAAAAAAAAQQAAAAAAAABBAAAAAAAAAEEAAAAAAAAAQQAAAAAAAABBAAAAAAAAAEEAAAAAAAAAQQAAAAAAAABBAAAAAAAAAEEAAAAAAAAAQQAAAAAAAABBAAAAAAAAAEEAAAAAAAAAQQAAAAAAAABBAAAAAAAAAEEAAAAAAAAAQQAAAAAAAABBAAAAAAAAAEEAAAAAAAAAQQAAAAAAAABBAAAAAAAAAEEAAAAAAAAAQQAAAAAAAABBAAAAAAAAAEEAAAAAAAAAQQAAAAAAAABBAAAAAAAAAEEAAAAAAAAAQQAAAAAAAABBAAAAAAAAAEEAAAAAAAAAQQAAAAAAAABBAAAAAAAAAEEAAAAAAAAAQQAAAAAAAABBAAAAAAAAAEEAAAAAAAAAQQAAAAAAAABBAAAAAAAAAEEAAAAAAAAAQQAAAAAAAABBAAAAAAAAAEEAAAAAAAAAQQAAAAAAAABBAAAAAAAAAEEAAAAAAAAAQQAAAAAAAABBAAAAAAAAAEEAAAAAAAAAQQAAAAAAAABBAAAAAAAAAEEAAAAAAAAAQQAAAAAAAABBAAAAAAAAAEEAAAAAAAAAQQAAAAAAAABBAAAAAAAAAEEAAAAAAAAAQQAAAAAAAABBAAAAAAAAAEEAAAAAAAAAQQAAAAAAAABBAAAAAAAAAEEAAAAAAAAAQQAAAAAAAABBAAAAAAAAAEEAAAAAAAAAQQAAAAAAAABBAAAAAAAAAEEAAAAAAAAAQQAAAAAAAABBAAAAAAAAAEEAAAAAAAAAQQAAAAAAAABBAAAAAAAAAEEAAAAAAAAAQQAAAAAAAABBAAAAAAAAAEEAAAAAAAAAQQAAAAAAAABBAAAAAAAAAEEAAAAAAAAAQQAAAAAAAABBAAAAAAAAAEEAAAAAAAAAQQAAAAAAAABBAAAAAAAAAEEAAAAAAAAAQQAAAAAAAABBAAAAAAAAAEEAAAAAAAAAQQAAAAAAAABBAAAAAAAAAEEAAAAAAAAAQQAAAAAAAABBAAAAAAAAAEEAAAAAAAAAQQAAAAAAAABBAAAAAAAAAEEAAAAAAAAAQQAAAAAAAABBAAAAAAAAAEEAAAAAAAAAQQAAAAAAAABBAAAAAAAAAEEAAAAAAAAAQQAAAAAAAABBAAAAAAAAAEEAAAAAAAAAQQAAAAAAAABBAAAAAAAAAEEAAAAAAAAAQQAAAAAAAABBAAAAAAAAAEEAAAAAAAAAQQAAAAAAAABBAAAAAAAAAEEAAAAAAAAAQQAAAAAAAABBAAAAAAAAAEEAAAAAAAAAQQAAAAAAAABBAAAAAAAAAEEAAAAAAAAAQQAAAAAAAABBAAAAAAAAAEEAAAAAAAAAQQAAAAAAAABBAAAAAAAAAEEAAAAAAAAAQQAAAAAAAABBAAAAAAAAAEEAAAAAAAAAQQAAAAAAAABBAAAAAAAAAEEAAAAAAAAAQQAAAAAAAABBAAAAAAAAAEEAAAAAAAAAQQAAAAAAAABBAAAAAAAAAEEAAAAAAAAAQQAAAAAAAABBAAAAAAAAAEEAAAAAAAAAQQAAAAAAAABBAAAAAAAAAEEAAAAAAAAAQQAAAAAAAABBAAAAAAAAAEEAAAAAAAAAQQAAAAAAAABBAAAAAAAAAEEAAAAAAAAAQQAAAAAAAABBAAAAAAAAAEEAAAAAAAAAQQAAAAAAAABBAAAAAAAAAEEAAAAAAAAAQQAAAAAAAABBAAAAAAAAAEEAAAAAAAAAQQAAAAAAAABBAAAAAAAAAEEAAAAAAAAAQQAAAAAAAABBAAAAAAAAAEEAAAAAAAAAQQAAAAAAAABBAAAAAAAAAEEAAAAAAAAAQQAAAAAAAABBAAAAAAAAAEEAAAAAAAAAQQAAAAAAAABBAAAAAAAAAEEAAAAAAAAAQQAAAAAAAABBAAAAAAAAAEEAAAAAAAAAQQAAAAAAAABBAAAAAAAAAEEAAAAAAAAAQQAAAAAAAABBAAAAAAAAAEEAAAAAAAAAQQAAAAAAAABBAAAAAAAAAEEAAAAAAAAAQQAAAAAAAABBAAAAAAAAAEEAAAAAAAAAQQAAAAAAAABBAAAAAAAAAEEAAAAAAAAAQQAAAAAAAABBAAAAAAAAAEEAAAAAAAAAQQAAAAAAAABBAAAAAAAAAEEAAAAAAAAAQQAAAAAAAABBAAAAAAAAAEEAAAAAAAAAQQAAAAAAAABBAAAAAAAAAEEAAAAAAAAAQQAAAAAAAABBAAAAAAAAAEEAAAAAAAAAQQAAAAAAAABBAAAAAAAAAEEAAAAAAAAAQQAAAAAAAABBAAAAAAAAAEEAAAAAAAAAQQAAAAAAAABBAAAAAAAAAEEAAAAAAAAAQQAAAAAAAABBAAAAAAAAAEEAAAAAAAAAQQAAAAAAAABBAAAAAAAAAEEAAAAAAAAAQQAAAAAAAABBAAAAAAAAAEEAAAAAAAAAQQAAAAAAAABBAAAAAAAAAEEAAAAAAAAAQQAAAAAAAABBAAAAAAAAAEEAAAAAAAAAQQAAAAAAAABBAAAAAAAAAEEAAAAAAAAAQQAAAAAAAABBAAAAAAAAAEEAAAAAAAAAQQAAAAAAAABBAAAAAAAAAEEAAAAAAAAAQQAAAAAAAABBAAAAAAAAAEEAAAAAAAAAQQAAAAAAAABBAAAAAAAAAEEAAAAAAAAAQQAAAAAAAABBAAAAAAAAAEEAAAAAAAAAQQAAAAAAAABBAAAAAAAAAEEAAAAAAAAAQQAAAAAAAABBAAAAAAAAAEEAAAAAAAAAQQAAAAAAAABBAAAAAAAAAEEAAAAAAAAAQQAAAAAAAABBAAAAAAAAAEEAAAAAAAAAQQAAAAAAAABBAAAAAAAAAEEAAAAAAAAAQQAAAAAAAABBAAAAAAAAAEEAAAAAAAAAQQAAAAAAAABBAAAAAAAAAEEAAAAAAAAAQQAAAAAAAABBAAAAAAAAAEEAAAAAAAAAQQAAAAAAAABBAAAAAAAAAEEAAAAAAAAAQQAAAAAAAABBAAAAAAAAAEEAAAAAAAAAQQAAAAAAAABBAAAAAAAAAEEAAAAAAAAAQQAAAAAAAABBAAAAAAAAAEEAAAAAAAAAQQAAAAAAAABBAAAAAAAAAEEAAAAAAAAAQQAAAAAAAABBAAAAAAAAAEEAAAAAAAAAQQAAAAAAAABBAAAAAAAAAEEAAAAAAAAAQQAAAAAAAABBAAAAAAAAAEEAAAAAAAAAQQAAAAAAAABBAAAAAAAAAEEAAAAAAAAAQQAAAAAAAABBAAAAAAAAAEEAAAAAAAAAQQAAAAAAAABBAAAAAAAAAEEAAAAAAAAAQQAAAAAAAABBAAAAAAAAAEEAAAAAAAAAQQAAAAAAAABBAAAAAAAAAEEAAAAAAAAAQQAAAAAAAABBAAAAAAAAAEEAAAAAAAAAQQAAAAAAAABBAAAAAAAAAEEAAAAAAAAAQQAAAAAAAABBAAAAAAAAAEEAAAAAAAAAQQAAAAAAAABBAAAAAAAAAEEAAAAAAAAAQQAAAAAAAABBAAAAAAAAAEEAAAAAAAAAQQAAAAAAAABBAAAAAAAAAEEAAAAAAAAAQQAAAAAAAABBAAAAAAAAAEEAAAAAAAAAQQAAAAAAAABBAAAAAAAAAEEAAAAAAAAAQQAAAAAAAABBAAAAAAAAAEEAAAAAAAAAQQAAAAAAAABBAAAAAAAAAEEAAAAAAAAAQQAAAAAAAABBAAAAAAAAAEEAAAAAAAAAQQAAAAAAAABBAAAAAAAAAEEAAAAAAAAAQQAAAAAAAABBAAAAAAAAAEEAAAAAAAAAQQAAAAAAAABBAAAAAAAAAEEAAAAAAAAAQQAAAAAAAABBAAAAAAAAAEEAAAAAAAAAQQAAAAAAAABBAAAAAAAAAEEAAAAAAAAAQQAAAAAAAABBAAAAAAAAAEEAAAAAAAAAQQAAAAAAAABBAAAAAAAAAEEAAAAAAAAAQQAAAAAAAABBAAAAAAAAAEEAAAAAAAAAQQAAAAAAAABBAAAAAAAAAEEAAAAAAAAAQQAAAAAAAABBAAAAAAAAAEEAAAAAAAAAQQAAAAAAAABBAAAAAAAAAEEAAAAAAAAAQQAAAAAAAABBAAAAAAAAAEEAAAAAAAAAQQAAAAAAAABBAAAAAAAAAEEAAAAAAAAAQQA==",
          "dtype": "f8"
         },
         "xaxis": "x",
         "yaxis": "y"
        },
        {
         "bingroup": "x",
         "hovertemplate": "nova_group=%{x}<br>count=%{y}<extra></extra>",
         "legendgroup": "2.0",
         "marker": {
          "color": "#FFA15A",
          "pattern": {
           "shape": ""
          }
         },
         "name": "2.0",
         "orientation": "v",
         "showlegend": true,
         "texttemplate": "%{value}",
         "type": "histogram",
         "x": {
          "bdata": "AAAAAAAAAEAAAAAAAAAAQAAAAAAAAABAAAAAAAAAAEAAAAAAAAAAQAAAAAAAAABAAAAAAAAAAEAAAAAAAAAAQAAAAAAAAABAAAAAAAAAAEAAAAAAAAAAQAAAAAAAAABAAAAAAAAAAEAAAAAAAAAAQAAAAAAAAABAAAAAAAAAAEAAAAAAAAAAQAAAAAAAAABAAAAAAAAAAEAAAAAAAAAAQAAAAAAAAABAAAAAAAAAAEAAAAAAAAAAQAAAAAAAAABAAAAAAAAAAEAAAAAAAAAAQAAAAAAAAABAAAAAAAAAAEAAAAAAAAAAQAAAAAAAAABAAAAAAAAAAEAAAAAAAAAAQAAAAAAAAABAAAAAAAAAAEAAAAAAAAAAQAAAAAAAAABAAAAAAAAAAEAAAAAAAAAAQAAAAAAAAABAAAAAAAAAAEAAAAAAAAAAQAAAAAAAAABAAAAAAAAAAEAAAAAAAAAAQAAAAAAAAABAAAAAAAAAAEAAAAAAAAAAQAAAAAAAAABAAAAAAAAAAEAAAAAAAAAAQAAAAAAAAABAAAAAAAAAAEAAAAAAAAAAQAAAAAAAAABAAAAAAAAAAEAAAAAAAAAAQAAAAAAAAABAAAAAAAAAAEAAAAAAAAAAQAAAAAAAAABAAAAAAAAAAEAAAAAAAAAAQAAAAAAAAABAAAAAAAAAAEAAAAAAAAAAQAAAAAAAAABAAAAAAAAAAEAAAAAAAAAAQAAAAAAAAABAAAAAAAAAAEAAAAAAAAAAQAAAAAAAAABAAAAAAAAAAEAAAAAAAAAAQAAAAAAAAABAAAAAAAAAAEAAAAAAAAAAQAAAAAAAAABAAAAAAAAAAEAAAAAAAAAAQAAAAAAAAABAAAAAAAAAAEAAAAAAAAAAQAAAAAAAAABAAAAAAAAAAEAAAAAAAAAAQAAAAAAAAABAAAAAAAAAAEAAAAAAAAAAQAAAAAAAAABAAAAAAAAAAEAAAAAAAAAAQAAAAAAAAABAAAAAAAAAAEAAAAAAAAAAQAAAAAAAAABAAAAAAAAAAEAAAAAAAAAAQAAAAAAAAABAAAAAAAAAAEAAAAAAAAAAQAAAAAAAAABAAAAAAAAAAEAAAAAAAAAAQAAAAAAAAABAAAAAAAAAAEAAAAAAAAAAQAAAAAAAAABAAAAAAAAAAEAAAAAAAAAAQAAAAAAAAABAAAAAAAAAAEAAAAAAAAAAQAAAAAAAAABAAAAAAAAAAEAAAAAAAAAAQAAAAAAAAABAAAAAAAAAAEAAAAAAAAAAQAAAAAAAAABAAAAAAAAAAEAAAAAAAAAAQAAAAAAAAABAAAAAAAAAAEAAAAAAAAAAQAAAAAAAAABAAAAAAAAAAEAAAAAAAAAAQAAAAAAAAABAAAAAAAAAAEAAAAAAAAAAQAAAAAAAAABAAAAAAAAAAEAAAAAAAAAAQAAAAAAAAABAAAAAAAAAAEAAAAAAAAAAQAAAAAAAAABAAAAAAAAAAEAAAAAAAAAAQAAAAAAAAABAAAAAAAAAAEAAAAAAAAAAQAAAAAAAAABAAAAAAAAAAEAAAAAAAAAAQAAAAAAAAABAAAAAAAAAAEAAAAAAAAAAQAAAAAAAAABAAAAAAAAAAEAAAAAAAAAAQAAAAAAAAABAAAAAAAAAAEAAAAAAAAAAQAAAAAAAAABAAAAAAAAAAEAAAAAAAAAAQAAAAAAAAABAAAAAAAAAAEAAAAAAAAAAQAAAAAAAAABAAAAAAAAAAEAAAAAAAAAAQAAAAAAAAABAAAAAAAAAAEAAAAAAAAAAQAAAAAAAAABAAAAAAAAAAEAAAAAAAAAAQAAAAAAAAABAAAAAAAAAAEAAAAAAAAAAQAAAAAAAAABAAAAAAAAAAEAAAAAAAAAAQAAAAAAAAABAAAAAAAAAAEAAAAAAAAAAQAAAAAAAAABAAAAAAAAAAEAAAAAAAAAAQAAAAAAAAABAAAAAAAAAAEAAAAAAAAAAQAAAAAAAAABAAAAAAAAAAEAAAAAAAAAAQAAAAAAAAABAAAAAAAAAAEAAAAAAAAAAQAAAAAAAAABAAAAAAAAAAEAAAAAAAAAAQAAAAAAAAABAAAAAAAAAAEAAAAAAAAAAQAAAAAAAAABAAAAAAAAAAEAAAAAAAAAAQAAAAAAAAABAAAAAAAAAAEAAAAAAAAAAQAAAAAAAAABAAAAAAAAAAEAAAAAAAAAAQAAAAAAAAABAAAAAAAAAAEAAAAAAAAAAQAAAAAAAAABAAAAAAAAAAEAAAAAAAAAAQA==",
          "dtype": "f8"
         },
         "xaxis": "x",
         "yaxis": "y"
        }
       ],
       "layout": {
        "barmode": "relative",
        "height": 500,
        "legend": {
         "title": {
          "text": "nova_group"
         },
         "tracegroupgap": 0
        },
        "showlegend": false,
        "template": {
         "data": {
          "bar": [
           {
            "error_x": {
             "color": "#2a3f5f"
            },
            "error_y": {
             "color": "#2a3f5f"
            },
            "marker": {
             "line": {
              "color": "#E5ECF6",
              "width": 0.5
             },
             "pattern": {
              "fillmode": "overlay",
              "size": 10,
              "solidity": 0.2
             }
            },
            "type": "bar"
           }
          ],
          "barpolar": [
           {
            "marker": {
             "line": {
              "color": "#E5ECF6",
              "width": 0.5
             },
             "pattern": {
              "fillmode": "overlay",
              "size": 10,
              "solidity": 0.2
             }
            },
            "type": "barpolar"
           }
          ],
          "carpet": [
           {
            "aaxis": {
             "endlinecolor": "#2a3f5f",
             "gridcolor": "white",
             "linecolor": "white",
             "minorgridcolor": "white",
             "startlinecolor": "#2a3f5f"
            },
            "baxis": {
             "endlinecolor": "#2a3f5f",
             "gridcolor": "white",
             "linecolor": "white",
             "minorgridcolor": "white",
             "startlinecolor": "#2a3f5f"
            },
            "type": "carpet"
           }
          ],
          "choropleth": [
           {
            "colorbar": {
             "outlinewidth": 0,
             "ticks": ""
            },
            "type": "choropleth"
           }
          ],
          "contour": [
           {
            "colorbar": {
             "outlinewidth": 0,
             "ticks": ""
            },
            "colorscale": [
             [
              0,
              "#0d0887"
             ],
             [
              0.1111111111111111,
              "#46039f"
             ],
             [
              0.2222222222222222,
              "#7201a8"
             ],
             [
              0.3333333333333333,
              "#9c179e"
             ],
             [
              0.4444444444444444,
              "#bd3786"
             ],
             [
              0.5555555555555556,
              "#d8576b"
             ],
             [
              0.6666666666666666,
              "#ed7953"
             ],
             [
              0.7777777777777778,
              "#fb9f3a"
             ],
             [
              0.8888888888888888,
              "#fdca26"
             ],
             [
              1,
              "#f0f921"
             ]
            ],
            "type": "contour"
           }
          ],
          "contourcarpet": [
           {
            "colorbar": {
             "outlinewidth": 0,
             "ticks": ""
            },
            "type": "contourcarpet"
           }
          ],
          "heatmap": [
           {
            "colorbar": {
             "outlinewidth": 0,
             "ticks": ""
            },
            "colorscale": [
             [
              0,
              "#0d0887"
             ],
             [
              0.1111111111111111,
              "#46039f"
             ],
             [
              0.2222222222222222,
              "#7201a8"
             ],
             [
              0.3333333333333333,
              "#9c179e"
             ],
             [
              0.4444444444444444,
              "#bd3786"
             ],
             [
              0.5555555555555556,
              "#d8576b"
             ],
             [
              0.6666666666666666,
              "#ed7953"
             ],
             [
              0.7777777777777778,
              "#fb9f3a"
             ],
             [
              0.8888888888888888,
              "#fdca26"
             ],
             [
              1,
              "#f0f921"
             ]
            ],
            "type": "heatmap"
           }
          ],
          "histogram": [
           {
            "marker": {
             "pattern": {
              "fillmode": "overlay",
              "size": 10,
              "solidity": 0.2
             }
            },
            "type": "histogram"
           }
          ],
          "histogram2d": [
           {
            "colorbar": {
             "outlinewidth": 0,
             "ticks": ""
            },
            "colorscale": [
             [
              0,
              "#0d0887"
             ],
             [
              0.1111111111111111,
              "#46039f"
             ],
             [
              0.2222222222222222,
              "#7201a8"
             ],
             [
              0.3333333333333333,
              "#9c179e"
             ],
             [
              0.4444444444444444,
              "#bd3786"
             ],
             [
              0.5555555555555556,
              "#d8576b"
             ],
             [
              0.6666666666666666,
              "#ed7953"
             ],
             [
              0.7777777777777778,
              "#fb9f3a"
             ],
             [
              0.8888888888888888,
              "#fdca26"
             ],
             [
              1,
              "#f0f921"
             ]
            ],
            "type": "histogram2d"
           }
          ],
          "histogram2dcontour": [
           {
            "colorbar": {
             "outlinewidth": 0,
             "ticks": ""
            },
            "colorscale": [
             [
              0,
              "#0d0887"
             ],
             [
              0.1111111111111111,
              "#46039f"
             ],
             [
              0.2222222222222222,
              "#7201a8"
             ],
             [
              0.3333333333333333,
              "#9c179e"
             ],
             [
              0.4444444444444444,
              "#bd3786"
             ],
             [
              0.5555555555555556,
              "#d8576b"
             ],
             [
              0.6666666666666666,
              "#ed7953"
             ],
             [
              0.7777777777777778,
              "#fb9f3a"
             ],
             [
              0.8888888888888888,
              "#fdca26"
             ],
             [
              1,
              "#f0f921"
             ]
            ],
            "type": "histogram2dcontour"
           }
          ],
          "mesh3d": [
           {
            "colorbar": {
             "outlinewidth": 0,
             "ticks": ""
            },
            "type": "mesh3d"
           }
          ],
          "parcoords": [
           {
            "line": {
             "colorbar": {
              "outlinewidth": 0,
              "ticks": ""
             }
            },
            "type": "parcoords"
           }
          ],
          "pie": [
           {
            "automargin": true,
            "type": "pie"
           }
          ],
          "scatter": [
           {
            "fillpattern": {
             "fillmode": "overlay",
             "size": 10,
             "solidity": 0.2
            },
            "type": "scatter"
           }
          ],
          "scatter3d": [
           {
            "line": {
             "colorbar": {
              "outlinewidth": 0,
              "ticks": ""
             }
            },
            "marker": {
             "colorbar": {
              "outlinewidth": 0,
              "ticks": ""
             }
            },
            "type": "scatter3d"
           }
          ],
          "scattercarpet": [
           {
            "marker": {
             "colorbar": {
              "outlinewidth": 0,
              "ticks": ""
             }
            },
            "type": "scattercarpet"
           }
          ],
          "scattergeo": [
           {
            "marker": {
             "colorbar": {
              "outlinewidth": 0,
              "ticks": ""
             }
            },
            "type": "scattergeo"
           }
          ],
          "scattergl": [
           {
            "marker": {
             "colorbar": {
              "outlinewidth": 0,
              "ticks": ""
             }
            },
            "type": "scattergl"
           }
          ],
          "scattermap": [
           {
            "marker": {
             "colorbar": {
              "outlinewidth": 0,
              "ticks": ""
             }
            },
            "type": "scattermap"
           }
          ],
          "scattermapbox": [
           {
            "marker": {
             "colorbar": {
              "outlinewidth": 0,
              "ticks": ""
             }
            },
            "type": "scattermapbox"
           }
          ],
          "scatterpolar": [
           {
            "marker": {
             "colorbar": {
              "outlinewidth": 0,
              "ticks": ""
             }
            },
            "type": "scatterpolar"
           }
          ],
          "scatterpolargl": [
           {
            "marker": {
             "colorbar": {
              "outlinewidth": 0,
              "ticks": ""
             }
            },
            "type": "scatterpolargl"
           }
          ],
          "scatterternary": [
           {
            "marker": {
             "colorbar": {
              "outlinewidth": 0,
              "ticks": ""
             }
            },
            "type": "scatterternary"
           }
          ],
          "surface": [
           {
            "colorbar": {
             "outlinewidth": 0,
             "ticks": ""
            },
            "colorscale": [
             [
              0,
              "#0d0887"
             ],
             [
              0.1111111111111111,
              "#46039f"
             ],
             [
              0.2222222222222222,
              "#7201a8"
             ],
             [
              0.3333333333333333,
              "#9c179e"
             ],
             [
              0.4444444444444444,
              "#bd3786"
             ],
             [
              0.5555555555555556,
              "#d8576b"
             ],
             [
              0.6666666666666666,
              "#ed7953"
             ],
             [
              0.7777777777777778,
              "#fb9f3a"
             ],
             [
              0.8888888888888888,
              "#fdca26"
             ],
             [
              1,
              "#f0f921"
             ]
            ],
            "type": "surface"
           }
          ],
          "table": [
           {
            "cells": {
             "fill": {
              "color": "#EBF0F8"
             },
             "line": {
              "color": "white"
             }
            },
            "header": {
             "fill": {
              "color": "#C8D4E3"
             },
             "line": {
              "color": "white"
             }
            },
            "type": "table"
           }
          ]
         },
         "layout": {
          "annotationdefaults": {
           "arrowcolor": "#2a3f5f",
           "arrowhead": 0,
           "arrowwidth": 1
          },
          "autotypenumbers": "strict",
          "coloraxis": {
           "colorbar": {
            "outlinewidth": 0,
            "ticks": ""
           }
          },
          "colorscale": {
           "diverging": [
            [
             0,
             "#8e0152"
            ],
            [
             0.1,
             "#c51b7d"
            ],
            [
             0.2,
             "#de77ae"
            ],
            [
             0.3,
             "#f1b6da"
            ],
            [
             0.4,
             "#fde0ef"
            ],
            [
             0.5,
             "#f7f7f7"
            ],
            [
             0.6,
             "#e6f5d0"
            ],
            [
             0.7,
             "#b8e186"
            ],
            [
             0.8,
             "#7fbc41"
            ],
            [
             0.9,
             "#4d9221"
            ],
            [
             1,
             "#276419"
            ]
           ],
           "sequential": [
            [
             0,
             "#0d0887"
            ],
            [
             0.1111111111111111,
             "#46039f"
            ],
            [
             0.2222222222222222,
             "#7201a8"
            ],
            [
             0.3333333333333333,
             "#9c179e"
            ],
            [
             0.4444444444444444,
             "#bd3786"
            ],
            [
             0.5555555555555556,
             "#d8576b"
            ],
            [
             0.6666666666666666,
             "#ed7953"
            ],
            [
             0.7777777777777778,
             "#fb9f3a"
            ],
            [
             0.8888888888888888,
             "#fdca26"
            ],
            [
             1,
             "#f0f921"
            ]
           ],
           "sequentialminus": [
            [
             0,
             "#0d0887"
            ],
            [
             0.1111111111111111,
             "#46039f"
            ],
            [
             0.2222222222222222,
             "#7201a8"
            ],
            [
             0.3333333333333333,
             "#9c179e"
            ],
            [
             0.4444444444444444,
             "#bd3786"
            ],
            [
             0.5555555555555556,
             "#d8576b"
            ],
            [
             0.6666666666666666,
             "#ed7953"
            ],
            [
             0.7777777777777778,
             "#fb9f3a"
            ],
            [
             0.8888888888888888,
             "#fdca26"
            ],
            [
             1,
             "#f0f921"
            ]
           ]
          },
          "colorway": [
           "#636efa",
           "#EF553B",
           "#00cc96",
           "#ab63fa",
           "#FFA15A",
           "#19d3f3",
           "#FF6692",
           "#B6E880",
           "#FF97FF",
           "#FECB52"
          ],
          "font": {
           "color": "#2a3f5f"
          },
          "geo": {
           "bgcolor": "white",
           "lakecolor": "white",
           "landcolor": "#E5ECF6",
           "showlakes": true,
           "showland": true,
           "subunitcolor": "white"
          },
          "hoverlabel": {
           "align": "left"
          },
          "hovermode": "closest",
          "mapbox": {
           "style": "light"
          },
          "paper_bgcolor": "white",
          "plot_bgcolor": "#E5ECF6",
          "polar": {
           "angularaxis": {
            "gridcolor": "white",
            "linecolor": "white",
            "ticks": ""
           },
           "bgcolor": "#E5ECF6",
           "radialaxis": {
            "gridcolor": "white",
            "linecolor": "white",
            "ticks": ""
           }
          },
          "scene": {
           "xaxis": {
            "backgroundcolor": "#E5ECF6",
            "gridcolor": "white",
            "gridwidth": 2,
            "linecolor": "white",
            "showbackground": true,
            "ticks": "",
            "zerolinecolor": "white"
           },
           "yaxis": {
            "backgroundcolor": "#E5ECF6",
            "gridcolor": "white",
            "gridwidth": 2,
            "linecolor": "white",
            "showbackground": true,
            "ticks": "",
            "zerolinecolor": "white"
           },
           "zaxis": {
            "backgroundcolor": "#E5ECF6",
            "gridcolor": "white",
            "gridwidth": 2,
            "linecolor": "white",
            "showbackground": true,
            "ticks": "",
            "zerolinecolor": "white"
           }
          },
          "shapedefaults": {
           "line": {
            "color": "#2a3f5f"
           }
          },
          "ternary": {
           "aaxis": {
            "gridcolor": "white",
            "linecolor": "white",
            "ticks": ""
           },
           "baxis": {
            "gridcolor": "white",
            "linecolor": "white",
            "ticks": ""
           },
           "bgcolor": "#E5ECF6",
           "caxis": {
            "gridcolor": "white",
            "linecolor": "white",
            "ticks": ""
           }
          },
          "title": {
           "x": 0.05
          },
          "xaxis": {
           "automargin": true,
           "gridcolor": "white",
           "linecolor": "white",
           "ticks": "",
           "title": {
            "standoff": 15
           },
           "zerolinecolor": "white",
           "zerolinewidth": 2
          },
          "yaxis": {
           "automargin": true,
           "gridcolor": "white",
           "linecolor": "white",
           "ticks": "",
           "title": {
            "standoff": 15
           },
           "zerolinecolor": "white",
           "zerolinewidth": 2
          }
         }
        },
        "title": {
         "font": {
          "color": "black",
          "size": 22
         },
         "text": "🎯 Nova Group sinflar soni"
        },
        "width": 800,
        "xaxis": {
         "anchor": "y",
         "categoryarray": [
          3.28450954283178,
          3,
          1,
          4,
          2
         ],
         "categoryorder": "array",
         "domain": [
          0,
          1
         ],
         "title": {
          "text": "NOVA guruhi"
         }
        },
        "yaxis": {
         "anchor": "x",
         "domain": [
          0,
          1
         ],
         "title": {
          "text": "Mahsulotlar soni"
         }
        }
       }
      }
     },
     "metadata": {},
     "output_type": "display_data"
    }
   ],
   "source": [
    "import plotly.express as px\n",
    "\n",
    "fig = px.histogram(\n",
    "    data_frame=df,\n",
    "    x=\"nova_group\",\n",
    "    color=\"nova_group\",  # ranglarni har sinf uchun ajratish\n",
    "    text_auto=True,      # ustida sonlarni ko‘rsatish\n",
    "    title=\"🎯 Nova Group sinflar soni\",\n",
    ")\n",
    "\n",
    "fig.update_layout(\n",
    "    width=800,\n",
    "    height=500,\n",
    "    title_font=dict(size=22, color=\"black\"),\n",
    "    xaxis_title=\"NOVA guruhi\",\n",
    "    yaxis_title=\"Mahsulotlar soni\",\n",
    "    showlegend=False\n",
    ")\n",
    "\n",
    "fig.show()\n"
   ]
  },
  {
   "cell_type": "markdown",
   "id": "737ef0ee",
   "metadata": {},
   "source": [
    "# Pairplot (feature–feature bog‘liqligi)"
   ]
  },
  {
   "cell_type": "code",
   "execution_count": 10,
   "id": "631c80dc",
   "metadata": {},
   "outputs": [
    {
     "data": {
      "application/vnd.plotly.v1+json": {
       "config": {
        "plotlyServerURL": "https://plot.ly"
       },
       "data": [
        {
         "diagonal": {
          "visible": false
         },
         "dimensions": [
          {
           "axis": {
            "matches": true
           },
           "label": "name_length",
           "values": {
            "bdata": "AgIDAwQCBAQFAwIBBAMIBQYDAQEEAgQCAwICAgYDAQIFBgIBAgIGAgICBgIEBAMEAQIFAwMBBwMBAgUDAgMCBQIBBwUDAwMBAgUCAwYICQMKAQQDAwMBAQQDBgEBBwoDBAMIAgMBBQUGAwMBAQIDBQICBgUFAwUDAgQLAwICAQULAQUFBQMBAgMHAgMGAwEFAgIDBQQBAgMCCQUDBQYICwIEAgYDAQIIBAQFBQIDAQUEAgEFBgYDAQMDAwICAgMDBwEGAgMFBAUEBQIIAgYFAgQEAgQCAgMCAQUGCQEECgMIAwECBAMOAgICBQQFCAEDBgEEBAMCBQgEAQMHAQICBQMCAgMCBgIBBgMBAQYDAgQCBggDAQUEBAcFAwECAQQCAgUDBAQDBgEDBAMDCAIBAgICBAUDAwMEAQMDAwQEAwIEBQICAQICAQEDAQEBAQUEAgUCAwIFBAUFBQMBBAUHAQQBAwMBAQQBBAQBAgEEAwkFAQMCAQQBAgwDAQIDBAIDCAMCBwEGBAYCAwMDAQUEAQIHAgYDAwMBAwIFAgQDAgMEAQECAgQDAwMGBgcGAQUBBQcDBwMDAwIBCgICBAEGBQMCBAMBBwQHAgMJBwMJAwMDAwMDAgICBgMCAwcEBAQDAgQIAwQEAQYGAQECAQEBAwQBAgE=",
            "dtype": "i1"
           }
          },
          {
           "axis": {
            "matches": true
           },
           "label": "is_organic",
           "values": {
            "bdata": "AAAAAAAAAAAAAAAAAAAAAAAAAAAAAAAAAAAAAAAAAAAAAAAAAAAAAAAAAAAAAAAAAAAAAAAAAAAAAAAAAAAAAAAAAAAAAAAAAAAAAAAAAAAAAAEAAAAAAAAAAAAAAAAAAAAAAAAAAAAAAAAAAAAAAAAAAAAAAAAAAAAAAAAAAAAAAAAAAAAAAAAAAAAAAAAAAAAAAAAAAAAAAAAAAAAAAAABAAAAAAAAAAAAAAAAAAAAAAAAAAAAAAAAAAAAAAAAAAAAAAAAAAAAAAAAAAAAAAAAAAAAAAAAAAAAAAAAAAAAAAAAAAAAAAAAAAAAAAAAAAAAAAAAAAAAAAAAAAAAAAAAAAAAAAAAAAAAAAAAAAAAAAAAAAAAAAAAAAAAAAAAAAEAAAAAAAAAAAAAAAAAAAAAAAAAAAAAAAAAAAAAAAAAAAAAAAAAAAAAAAAAAAAAAAAAAAAAAAAAAAAAAAAAAAAAAAAAAAAAAAAAAAAAAAAAAAAAAAAAAAAAAAAAAAAAAAAAAAAAAAAAAAAAAAAAAAABAAAAAAAAAAABAAAAAAAAAAAAAAAAAAAAAAAAAAAAAAAAAAAAAAAAAAAAAAAAAAAAAAAAAAAAAAAAAAAAAAAAAAAAAAAAAAAAAAAAAAAAAAAAAAAAAAAAAAAAAAAAAAAAAAA=",
            "dtype": "i1"
           }
          },
          {
           "axis": {
            "matches": true
           },
           "label": "is_sugar_free",
           "values": {
            "bdata": "AAAAAAAAAAAAAAAAAAAAAAAAAAAAAAAAAAAAAAAAAAAAAAAAAAAAAAAAAAAAAAAAAAAAAAAAAAAAAAAAAAAAAAAAAAAAAAAAAAAAAAAAAAAAAAAAAAAAAAAAAAAAAAAAAAAAAAAAAAAAAAAAAAAAAAAAAAAAAAAAAAAAAAAAAAAAAAAAAAAAAAAAAAAAAAAAAAAAAAAAAAAAAAAAAAAAAAAAAAAAAAAAAAAAAAAAAAAAAAAAAAAAAAAAAAAAAAAAAAAAAAAAAAAAAAAAAAAAAAAAAAAAAAAAAAAAAAAAAAAAAAAAAAAAAAAAAAAAAAAAAAAAAAAAAAAAAAAAAAAAAAAAAAAAAAAAAAAAAAAAAAAAAAAAAAAAAAAAAAAAAAAAAAAAAAAAAAAAAAAAAAAAAAAAAAAAAAAAAAAAAAAAAAAAAAAAAAAAAAAAAAAAAAAAAAAAAAAAAAAAAAAAAAAAAAAAAAAAAAAAAAAAAAAAAAAAAAAAAAAAAAAAAAAAAAAAAAAAAAAAAAAAAAAAAAAAAAAAAAAAAAAAAAAAAAAAAAAAAAAAAAAAAAAAAAAAAAAAAAAAAAAAAAAAAAAAAAAAAAAAAAAAAAAAAAAAAAAAAAAAAAAAAAAAAAAAAAAAAAAAAAAAAAAAAAAAAAAAAAAAAAAAAAA=",
            "dtype": "i1"
           }
          },
          {
           "axis": {
            "matches": true
           },
           "label": "quantity_value",
           "values": {
            "bdata": "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",
            "dtype": "f8"
           }
          },
          {
           "axis": {
            "matches": true
           },
           "label": "quantity_unit_encoded",
           "values": {
            "bdata": "Dg4qDg4ODg4ODg4ODg4ODioODg4ODg4ORw4ODiobDg4ODkcOHSoODioODg4HHQ4ODg4OMBsODhMODhMODg4dDiodDgcODg4ODA4ODh4ODg4ODhsbDiAODg4ODg4bDg4ODg4OGw4qDg4ODg4ODg4ODg4ODg4ODg4dDg4OHQcOHQ4OLCoOBw0qDg4ODg4bDg4OHQ4dDg4OHRM1DhsqDg4ODhsgKioqDg4ODg4OHQ4OKg4OIA4ODg4ODg4ODg4ORyoODg4ODg5HDg4XDg4ODg4OHQ4dEw4ODg4ODioODg4ODg4ODg4OHSEODg4ODioODg4ODg4dDg4ODg4ODg4ODg4qBx0sDg4ODg4sDg4OBw4ODg4OKg4OHQ5HDioODg4ODiwODg4dDg4ODhsOHQ4dLA42Dg4ODg4ODg4ODg5HDg4dDg4qDg4ODh0ODg4ODg4ODg4ODg4ODkcOBw4ODh0ODg4ODg4ODg4ODg4ODg5HDg4ODg4ODg4bDg4ODioODg4ODg4ORw4qDg4OMQ4ODi8ODg5HDg4OLA4dDg4OHSoODhIdDg4ODg4OPg4OLA4ODkdHDg4ODg4ODg4ODg4ODg4ODg4ODg4dDg4ODg4ODg4ODg4ODg4ODioODg5HBw4ODg4sDg4OBw4ODg4ODh0ODioODg4ODg4ODg4=",
            "dtype": "i1"
           }
          },
          {
           "axis": {
            "matches": true
           },
           "label": "category_depth",
           "values": {
            "bdata": "DgQHCAUICAkMCgUBCQEICAcJBQEMBwcIAwcCCAkJBwgFBwcMDgEGCwMMCg8HCQkKEgYNBwwHCAsHDwkJDgoFBggHBQYKCQUHBgsECAkCBgkFBg0KBgQOAQEGBwEJCggBBQ0GCQQFCAUFBgkBAQcGCQsBBwsICwkDCwQIBQUBBgwLCwsHBw0DDQ0KCggKCgMICwgHCQgGCgcECw0JDAEJBwsMBwcGDAcCCAsKCwsJBAkCCwYKDA8HBwgJBgYGAQULDgEGCgcDBQQBCgkHDAgKBwYICgYGBQUHAgUHCQEBBwUGCQEHBQEJDwkEBgUKDAUEBQEHCQ8LCgkMCQEJBwcDBAcCCggFBQYLBgcGAQUKCgYNAwsMBQgECgkNDAIGBQ0MCAoJCQIGCQQNDwoOAgsFCQEHBwcECgcLBwUFCAkBCgIJBgoJBgYHBQcOCAcGCgsECAEKAwYICwYKBQ8LBQEJBgcBCAgIAQYFBgYKBgkECQwOAwEGBwUJCwUGAwELCAgFBQIKBwQFDAwCCwUIBAoEBQUFCAcMCQgGBwEHBAoECAgCDQsJBwQLAwkHBggECAkKCAgLDgEHBQkBAQoIFwoFCQUIBgcGBQUHCQYECgQICQsFAQcKAwYFCgkIBAoFCAcFCQIMCQcHCgcKBAUGBgcECwgICQo=",
            "dtype": "i1"
           }
          },
          {
           "axis": {
            "matches": true
           },
           "label": "country_count",
           "values": {
            "bdata": "AQEDAQIBAQIBAQEBAQEMAgIOAgEDAQMGBgEBBQMBAQICAhQCBAIDAQEHAQEBBgIDAQIGAgEBAQMBAQUDAQIEAQIDAQIBAgEDAQECAQEFAgEGAgEBAQEBAgEFAQEEAQYBBgEBAgMBBQcCAgMJAQMBAQYBAQMBCQEBBAEBAwIBAQgBAQIBAQECAQMCAQIBAQECAgoEAgYBAQQBCgcPAwQGCQEDAwEEFAIBAwQBAQIBAQEBAgMDAwMCAwMBAQICAgMBAQIBAgwCAQECAgEBAQIBDgECCgEEAwECAgEBAQECAQIBAwIBCgECAQECAQEGAgEFBAEEAQIBAgUICQEIAQIDAQIBAwQBAQECAQIBAQEBAgEFAgQCAQEBBQELAQEDAQUCAwIMAgECAgEBCwYBAgQCAgEFAwUBAgIIAQEBAQEBCAIEAgIDAgEGBQICAgEFDQIBAQYBAQECBAIBAgQCAQMJBAIBAQUBAQEEAgIBAQECAQIBBAEBCAEBAQgDAwEVAgECAgELAwEBBQEDAwEBAQEBAgcCAQIBAgECAwUDBAIDAgMDBAECAgECAgMBAQEBBwICCwEBAQYCAgEBAQMIAgIDAgEBAwIBAgIBAwECAQIMAwECAQECAwYBAQYCAgIBAgEGAwEBAQIBAQIEBQITAQYBAgIBAgE=",
            "dtype": "i1"
           }
          },
          {
           "axis": {
            "matches": true
           },
           "label": "product_age_days",
           "values": {
            "bdata": "cgllBOAI/ARpEhMPbg6vC6IPvwXKB0UAogU6DOcOLAwUD0EQyAkxAoUIswSMDXgOQwmGCMcDEQ8fEiQLbwJXC34DoAlQEtMRxgO1B8MOmwvlAWAIgwJSD9oC8Ai2CDIJiQHuDl0JKQkSD2oAphF2EQAA2AouCOgESAjRDn4PXQabDzsLxg+ODDgCUAi0CDkDEgY8B7gIYgteEmIJ6hA4CrIGqwONC5wQIwZyBaMM0gBJAq0OiAgkAukJdQrECr0GahIxEv0L2QquCuQG1AxzELYIPwpxCWEQ4QWWEjsELgFyCogG9AtZBVwKxA7MDQIQbA4bA0YE0xJbA0oBkBECDs0GuAIxD5YDKwwICYEGswj6B3cNRg0fDNgSXQebEKIO/wQjEMELlAs+ErkKegc6BUoKJRPMEeQRuRHMCfEJEQjREBUJswt8CKMPORMhCqgHwwxZAzQPyw+ZBwAHaghkDWAJNwJeCr8SOglCD64Oegr8BxMHPBDNDbwKzQksEbQHzA1ICSsPwgLMEdsJ8ARgBcAJww3pBLcRigMvAiIQDhOLA4sG0Q7eC7cPQAudBnwLWg1GBKcRCAWCASYN6AcICm4KbxJhBAwJNg+1BXsMLQb7CBoCJQGICG0JgAs0CO8M4g59AjMM9QXRCWEN9wnjDU4FIQ+nAM4O0AXWBCoPlQNNBzIC9AXTChwFZgWZBvsGFweKEVYHWA1pCGkGtQvjCI8Ingp9EtMN8Q/JCzACMxAMC7EPQgSFAqwOAw6WDW4MBAllDGsJhAlgCNEPXAqQAgUEKAxHBq4ODwnwC5ILigpKA8YQhwrvELoGwQeAChsPAACIAigOiwSWBzMIvgrUC/EQAQr1CoQKjQojBo0LMgt8CBIGqwkAAEwMtRCWCUAG6AeQCpoD/wEpBjYQARCFBoIERANtCoERfQNOBdgK2AGyCGoC2AnEB/sEEAJLDfIRhAGNB2QF+gY9Bo8NgQOPC24IPhH5B0kJQA5zCuUGrw9WDOAOeg7sEuERbwpcBiUIWgg6ApENGArQAVIL0gs8BcoJxQpPBoMGhwFQBt4JgwsZBScOAAA7BzMOuwssCEcITA4eCJMK/QqjCAcRkgvGCggE4gzMADII6QpCCHgFyAmuB4kSwwRVCoMOLhHkAkEJbA2JCxsElw+nD+MDKg8UCIcB5AF5EGAESQp/BcwJUg0ZCjwKsQ9kDssOKBEuD/IN6gF6CFEHVAaTD/AHIAnTDlIKlARqDZIJngnBEjcDmQ9FBzsJ7RA2EaYLWAUaBGMKdwPDAz4L1g4ACT0GBgINEQcR2QuqA/ISvwFcDywKNQL7C1YCFQ+NAQ==",
            "dtype": "i2"
           }
          },
          {
           "axis": {
            "matches": true
           },
           "label": "created_year",
           "values": {
            "bdata": "4QfmB+MH5QfcB98H3gfhB94H5AfkB+gH5QfhB98H4QfeB94H4gfoB+MH5QfgB98H4gfjB+YH3wfdB+EH5wfhB+YH4gfcB90H5wfkB98H4QflB+MH6AfeB+cH4wfiB+IH6AfeB+MH4wffB+cH3AfdB+gH4gfjB+YH4wfeB94H5AfeB+EH3gfgB+gH4wfjB+cH5QfkB+MH4QfcB+MH3QfiB+QH5gfhB9wH5QflB+AH6AfnB98H4wfoB+IH4gfiB+QH3AfcB+EH4gfiB+QH4AfeB+MH4gfjB94H5QfcB+UH5wfiB+UH4QfmB+EH3wfgB9wH3wfnB+YH3AfnB+gH3QffB+UH5wfeB+cH4AfjB+UH4wfjB+AH4AfhB9wH4wfdB98H5QfeB+EH4QfdB+IH5AfmB+IH3AfdB90H3AfiB+IH5AfdB+IH4QfjB94H3AfiB+IH4AfnB98H3QfkB+QH4wffB+MH5wfiB9wH4gfeB98H4gfjB+MH3AfgB+IH4gfdB+QH3wfiB98H5wfdB+IH5gfmB+IH3wflB90H5gfnB94H3AfnB+UH3wffB94H4QfkB+EH3wflB90H5gfoB+AH4wfiB98H3AfmB+MH3gfkB+EH5AfjB+gH5gfjB+MH4QfjB+AH3wfnB+EH5QfiB98H4gfgB+UH3wfoB98H4wfmB94H5wfiB+gH5QfiB+UH5QfkB+QH5AfdB+QH4AfjB+QH4QfjB+MH4gfcB98H3QfhB+cH3gfhB94H4gfmB98H3wfgB+AH4wfhB+MH4wfjB94H4gfnB+YH4QflB98H4wfhB+AH4gfnB94H4gfdB+QH5AfiB98H6AfnB98H5gfjB+MH4gfhB90H4QfiB+IH4gflB+EH4QfjB+UH4wfoB+EH3gfiB+MH5AfiB+YH5wfkB94H3gflB+UH5gfiB90H5gfmB+IH6AfiB+cH4gfkB+UH5wfgB90H6AfiB+UH4wfkB+AH5gfgB+MH3QfkB+MH3wfiB+QH3gfhB98H3wfcB90H4gfkB+MH4wfnB+AH4QfnB+EH4QfmB+IH4gflB+QH6AflB+IH4QfmB98H5wfkB98H4QfkB+MH3wfjB+EH4gfjB90H4QfiB+YH3wfoB+MH4gfjB+UH4gfjB9wH5gfiB98H3QfkB+MH4AfhB+UH3gfeB+cH3wfkB+gH6AfeB+YH4gflB+IH4AfiB+IH3gffB98H3QfeB98H5wfjB+MH5QfeB+QH4wffB+IH5QfgB+MH4gfcB+YH3gfkB+IH3QfdB+EH5QfmB+IH5wflB+EH3gfiB+QH5wfdB90H4QfnB9wH6AfeB+EH5wfhB+gH3wfoBw==",
            "dtype": "i2"
           }
          },
          {
           "axis": {
            "matches": true
           },
           "label": "created_month",
           "values": {
            "bdata": "AgUBBAoCCwYJCQIMCgMFBAgGBQMCAwQJCggKAgEKAwsICQkEAgUEBgQMAQYDBwQGCAsDBAIEBQcLAwcCBgoKBgsDCAkCDAYDBAkDCwoDDAQMCAMKAQcJBwoHCgELBgQKCgUCAgMFBgQJCAIEBAkLCAUDBgEEBgIMBgEKBgMLAwwBAwoCCQYDBwcFBwQGCgUGCwYHBwEDAwIIBQQECgoKAwoGCAMLBAkECQYBCwQBCwgCCQUJCAUHBQoGCgEDAwoDBwgCBQMDBAEMBAMDCQsFBgQDAQIFCwUJDAgDAwUFCQICCwIFDAwBDAcDCwMCBAYKAgMEBgoMCgEKAQMFBgUIAwUEBwEMAwcMCQQEAwkKBgYJAQoMAwcJAwkKAQQGDAMJBgECAgsIAQYFBAUFBQUMBQYBBgsMBAYDDAkJBwsKBAUHDAIFBAUCBwIHAQQDAgwMBAQJAgwGBQEDCQYFCAEDBQMMBQUGCAECCQEIBgoEBgcHCAIECgYJAQIFAQcEAwYJCQkECgkFBwIDAgIJCAUICQMCCggKBQILAQwKAgEGBAQKAgsIAQkLBgIKBgcFCgMEBQUFCwcBAQECBgEJBQoKBgMGBQIFBAgJDAkJBQoDAQYHAQUCBgcIBgQLBQIHCgcFAwkLCAkGBgIJAwIHBQwMBwQCAgE=",
            "dtype": "i1"
           }
          },
          {
           "axis": {
            "matches": true
           },
           "label": "main_category_encoded",
           "values": {
            "bdata": "EgA1AKQAVADLAZABNACfAZABkAHaAfgAEgAxAJABWAFDAMsBywHxARIAkAHLAcsBywHLAY0AkAFDAJ8AVACiAcsBoAHLARIAMgF+AJABkAGGAEIBogESAEQAkAGfAJABkAGGABIAkAGiAVQAEgAXAFQANQASAJ8ANQASACsAywEtAKIB5gFDAJABkAGGAIoB7QASAMsBnwAAAYYA/ABDAMsBywGQAaIBkAFDAIYA4wC2ABAAVADlATUAmwESAF4BywGfAZUBkAHLAZABywH4AQ0ADQCRAUkAVwENANEBkAESAGgBkAESAJABjAGQAUMAkAGGAOYBogFEAGcAQwCQAaIBogEtAMsBkAE1AIUAkAGQAYYAnwAMAKIBkAFaAJABkAGQAZ8AkAHLAZABRACJAKIBUQFUAbQAnwHTAZABpAASAKgARACGAIYASwCQARkAEgANAIwBEgCfACYBhgCQAcsBkAGQAQwAkAGiAUsANACQARIAEgCQAcsBKgCGABUA5gGuAF0BkAFCAcsBSwBbAJoBkAGfAJUBjQFUAKIBNQDmARIAkAGGAHcAywGQATUAogCfABIA5gHVAZUAYAE1AMsBkAHkAJABNQBAAaIBkAFDAJABkAGGAFMBkAGQAYUAVABSAEQAnwCQARIAkQHLATEBUQF8AZABVACQAYYAQwASAPABEgASAMsBhgCGAKIBkAHLAZABsQCVAZABEgCGAJABhgA1ABIANACQAcsBDACQATgAEgCiAYUADQASABIADQCQAbQAYAEbAJABEgCKAZABRAASAEQAywEMAJ8AnwC+AMsBDQDLAYIAkAGiAXcAVABdAcsBnwCfAEABDQAkARIAkAGiAaIBywGiAZABNQBUAEQARABUAEIBUwENAIYAkAF6AZABhQCQAaIBMQGGAJABhgAxARIAywG8AMsBpAASABkBnwHLAZABQgASAMsBNQCGAJ8AywGQAcsBkAESABIAXABTAAUCogHLAQ0AkgHHAJABpQDyATgAywFUAIwBywESAC0AkAE0AIoBDQCfAXIAkAGfAJABnwGQAZ4BywFCAZABkAGiAUQA+wGQAecAEgBcARIAhgCiAUMAEgCQAaQAEgA1AJABkAHLAaIBDwGQARIAkAGfAJ8AVACQAaIBoQEKABIAEgCOARIAkAGQAfUAhQFEAMsBEgCiAcsB6wFCAQ0AywHLAYYAhgCQAaIBVgBdAcsBkAGGAMsBkAGiAZABZAA1AJ8ApAASAMsBEgD7AaIBngESAMcAywE1AMsBRADfARIAnwCKAZABkAFDAJAB2gE1AFEBRACrAcsBkAESAJABogGQAQ==",
            "dtype": "i2"
           }
          },
          {
           "axis": {
            "matches": true
           },
           "label": "nova_group",
           "values": {
            "bdata": "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",
            "dtype": "f8"
           }
          }
         ],
         "hovertemplate": "%{xaxis.title.text}=%{x}<br>%{yaxis.title.text}=%{y}<br>nova_group=%{marker.color}<extra></extra>",
         "legendgroup": "",
         "marker": {
          "color": {
           "bdata": "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",
           "dtype": "f8"
          },
          "coloraxis": "coloraxis",
          "opacity": 0.7,
          "size": 4,
          "symbol": "circle"
         },
         "name": "",
         "showlegend": false,
         "type": "splom"
        }
       ],
       "layout": {
        "coloraxis": {
         "colorbar": {
          "title": {
           "text": "nova_group"
          }
         },
         "colorscale": [
          [
           0,
           "rgb(5,48,97)"
          ],
          [
           0.1,
           "rgb(33,102,172)"
          ],
          [
           0.2,
           "rgb(67,147,195)"
          ],
          [
           0.3,
           "rgb(146,197,222)"
          ],
          [
           0.4,
           "rgb(209,229,240)"
          ],
          [
           0.5,
           "rgb(247,247,247)"
          ],
          [
           0.6,
           "rgb(253,219,199)"
          ],
          [
           0.7,
           "rgb(244,165,130)"
          ],
          [
           0.8,
           "rgb(214,96,77)"
          ],
          [
           0.9,
           "rgb(178,24,43)"
          ],
          [
           1,
           "rgb(103,0,31)"
          ]
         ]
        },
        "dragmode": "select",
        "height": 900,
        "legend": {
         "tracegroupgap": 0
        },
        "template": {
         "data": {
          "bar": [
           {
            "error_x": {
             "color": "#2a3f5f"
            },
            "error_y": {
             "color": "#2a3f5f"
            },
            "marker": {
             "line": {
              "color": "#E5ECF6",
              "width": 0.5
             },
             "pattern": {
              "fillmode": "overlay",
              "size": 10,
              "solidity": 0.2
             }
            },
            "type": "bar"
           }
          ],
          "barpolar": [
           {
            "marker": {
             "line": {
              "color": "#E5ECF6",
              "width": 0.5
             },
             "pattern": {
              "fillmode": "overlay",
              "size": 10,
              "solidity": 0.2
             }
            },
            "type": "barpolar"
           }
          ],
          "carpet": [
           {
            "aaxis": {
             "endlinecolor": "#2a3f5f",
             "gridcolor": "white",
             "linecolor": "white",
             "minorgridcolor": "white",
             "startlinecolor": "#2a3f5f"
            },
            "baxis": {
             "endlinecolor": "#2a3f5f",
             "gridcolor": "white",
             "linecolor": "white",
             "minorgridcolor": "white",
             "startlinecolor": "#2a3f5f"
            },
            "type": "carpet"
           }
          ],
          "choropleth": [
           {
            "colorbar": {
             "outlinewidth": 0,
             "ticks": ""
            },
            "type": "choropleth"
           }
          ],
          "contour": [
           {
            "colorbar": {
             "outlinewidth": 0,
             "ticks": ""
            },
            "colorscale": [
             [
              0,
              "#0d0887"
             ],
             [
              0.1111111111111111,
              "#46039f"
             ],
             [
              0.2222222222222222,
              "#7201a8"
             ],
             [
              0.3333333333333333,
              "#9c179e"
             ],
             [
              0.4444444444444444,
              "#bd3786"
             ],
             [
              0.5555555555555556,
              "#d8576b"
             ],
             [
              0.6666666666666666,
              "#ed7953"
             ],
             [
              0.7777777777777778,
              "#fb9f3a"
             ],
             [
              0.8888888888888888,
              "#fdca26"
             ],
             [
              1,
              "#f0f921"
             ]
            ],
            "type": "contour"
           }
          ],
          "contourcarpet": [
           {
            "colorbar": {
             "outlinewidth": 0,
             "ticks": ""
            },
            "type": "contourcarpet"
           }
          ],
          "heatmap": [
           {
            "colorbar": {
             "outlinewidth": 0,
             "ticks": ""
            },
            "colorscale": [
             [
              0,
              "#0d0887"
             ],
             [
              0.1111111111111111,
              "#46039f"
             ],
             [
              0.2222222222222222,
              "#7201a8"
             ],
             [
              0.3333333333333333,
              "#9c179e"
             ],
             [
              0.4444444444444444,
              "#bd3786"
             ],
             [
              0.5555555555555556,
              "#d8576b"
             ],
             [
              0.6666666666666666,
              "#ed7953"
             ],
             [
              0.7777777777777778,
              "#fb9f3a"
             ],
             [
              0.8888888888888888,
              "#fdca26"
             ],
             [
              1,
              "#f0f921"
             ]
            ],
            "type": "heatmap"
           }
          ],
          "histogram": [
           {
            "marker": {
             "pattern": {
              "fillmode": "overlay",
              "size": 10,
              "solidity": 0.2
             }
            },
            "type": "histogram"
           }
          ],
          "histogram2d": [
           {
            "colorbar": {
             "outlinewidth": 0,
             "ticks": ""
            },
            "colorscale": [
             [
              0,
              "#0d0887"
             ],
             [
              0.1111111111111111,
              "#46039f"
             ],
             [
              0.2222222222222222,
              "#7201a8"
             ],
             [
              0.3333333333333333,
              "#9c179e"
             ],
             [
              0.4444444444444444,
              "#bd3786"
             ],
             [
              0.5555555555555556,
              "#d8576b"
             ],
             [
              0.6666666666666666,
              "#ed7953"
             ],
             [
              0.7777777777777778,
              "#fb9f3a"
             ],
             [
              0.8888888888888888,
              "#fdca26"
             ],
             [
              1,
              "#f0f921"
             ]
            ],
            "type": "histogram2d"
           }
          ],
          "histogram2dcontour": [
           {
            "colorbar": {
             "outlinewidth": 0,
             "ticks": ""
            },
            "colorscale": [
             [
              0,
              "#0d0887"
             ],
             [
              0.1111111111111111,
              "#46039f"
             ],
             [
              0.2222222222222222,
              "#7201a8"
             ],
             [
              0.3333333333333333,
              "#9c179e"
             ],
             [
              0.4444444444444444,
              "#bd3786"
             ],
             [
              0.5555555555555556,
              "#d8576b"
             ],
             [
              0.6666666666666666,
              "#ed7953"
             ],
             [
              0.7777777777777778,
              "#fb9f3a"
             ],
             [
              0.8888888888888888,
              "#fdca26"
             ],
             [
              1,
              "#f0f921"
             ]
            ],
            "type": "histogram2dcontour"
           }
          ],
          "mesh3d": [
           {
            "colorbar": {
             "outlinewidth": 0,
             "ticks": ""
            },
            "type": "mesh3d"
           }
          ],
          "parcoords": [
           {
            "line": {
             "colorbar": {
              "outlinewidth": 0,
              "ticks": ""
             }
            },
            "type": "parcoords"
           }
          ],
          "pie": [
           {
            "automargin": true,
            "type": "pie"
           }
          ],
          "scatter": [
           {
            "fillpattern": {
             "fillmode": "overlay",
             "size": 10,
             "solidity": 0.2
            },
            "type": "scatter"
           }
          ],
          "scatter3d": [
           {
            "line": {
             "colorbar": {
              "outlinewidth": 0,
              "ticks": ""
             }
            },
            "marker": {
             "colorbar": {
              "outlinewidth": 0,
              "ticks": ""
             }
            },
            "type": "scatter3d"
           }
          ],
          "scattercarpet": [
           {
            "marker": {
             "colorbar": {
              "outlinewidth": 0,
              "ticks": ""
             }
            },
            "type": "scattercarpet"
           }
          ],
          "scattergeo": [
           {
            "marker": {
             "colorbar": {
              "outlinewidth": 0,
              "ticks": ""
             }
            },
            "type": "scattergeo"
           }
          ],
          "scattergl": [
           {
            "marker": {
             "colorbar": {
              "outlinewidth": 0,
              "ticks": ""
             }
            },
            "type": "scattergl"
           }
          ],
          "scattermap": [
           {
            "marker": {
             "colorbar": {
              "outlinewidth": 0,
              "ticks": ""
             }
            },
            "type": "scattermap"
           }
          ],
          "scattermapbox": [
           {
            "marker": {
             "colorbar": {
              "outlinewidth": 0,
              "ticks": ""
             }
            },
            "type": "scattermapbox"
           }
          ],
          "scatterpolar": [
           {
            "marker": {
             "colorbar": {
              "outlinewidth": 0,
              "ticks": ""
             }
            },
            "type": "scatterpolar"
           }
          ],
          "scatterpolargl": [
           {
            "marker": {
             "colorbar": {
              "outlinewidth": 0,
              "ticks": ""
             }
            },
            "type": "scatterpolargl"
           }
          ],
          "scatterternary": [
           {
            "marker": {
             "colorbar": {
              "outlinewidth": 0,
              "ticks": ""
             }
            },
            "type": "scatterternary"
           }
          ],
          "surface": [
           {
            "colorbar": {
             "outlinewidth": 0,
             "ticks": ""
            },
            "colorscale": [
             [
              0,
              "#0d0887"
             ],
             [
              0.1111111111111111,
              "#46039f"
             ],
             [
              0.2222222222222222,
              "#7201a8"
             ],
             [
              0.3333333333333333,
              "#9c179e"
             ],
             [
              0.4444444444444444,
              "#bd3786"
             ],
             [
              0.5555555555555556,
              "#d8576b"
             ],
             [
              0.6666666666666666,
              "#ed7953"
             ],
             [
              0.7777777777777778,
              "#fb9f3a"
             ],
             [
              0.8888888888888888,
              "#fdca26"
             ],
             [
              1,
              "#f0f921"
             ]
            ],
            "type": "surface"
           }
          ],
          "table": [
           {
            "cells": {
             "fill": {
              "color": "#EBF0F8"
             },
             "line": {
              "color": "white"
             }
            },
            "header": {
             "fill": {
              "color": "#C8D4E3"
             },
             "line": {
              "color": "white"
             }
            },
            "type": "table"
           }
          ]
         },
         "layout": {
          "annotationdefaults": {
           "arrowcolor": "#2a3f5f",
           "arrowhead": 0,
           "arrowwidth": 1
          },
          "autotypenumbers": "strict",
          "coloraxis": {
           "colorbar": {
            "outlinewidth": 0,
            "ticks": ""
           }
          },
          "colorscale": {
           "diverging": [
            [
             0,
             "#8e0152"
            ],
            [
             0.1,
             "#c51b7d"
            ],
            [
             0.2,
             "#de77ae"
            ],
            [
             0.3,
             "#f1b6da"
            ],
            [
             0.4,
             "#fde0ef"
            ],
            [
             0.5,
             "#f7f7f7"
            ],
            [
             0.6,
             "#e6f5d0"
            ],
            [
             0.7,
             "#b8e186"
            ],
            [
             0.8,
             "#7fbc41"
            ],
            [
             0.9,
             "#4d9221"
            ],
            [
             1,
             "#276419"
            ]
           ],
           "sequential": [
            [
             0,
             "#0d0887"
            ],
            [
             0.1111111111111111,
             "#46039f"
            ],
            [
             0.2222222222222222,
             "#7201a8"
            ],
            [
             0.3333333333333333,
             "#9c179e"
            ],
            [
             0.4444444444444444,
             "#bd3786"
            ],
            [
             0.5555555555555556,
             "#d8576b"
            ],
            [
             0.6666666666666666,
             "#ed7953"
            ],
            [
             0.7777777777777778,
             "#fb9f3a"
            ],
            [
             0.8888888888888888,
             "#fdca26"
            ],
            [
             1,
             "#f0f921"
            ]
           ],
           "sequentialminus": [
            [
             0,
             "#0d0887"
            ],
            [
             0.1111111111111111,
             "#46039f"
            ],
            [
             0.2222222222222222,
             "#7201a8"
            ],
            [
             0.3333333333333333,
             "#9c179e"
            ],
            [
             0.4444444444444444,
             "#bd3786"
            ],
            [
             0.5555555555555556,
             "#d8576b"
            ],
            [
             0.6666666666666666,
             "#ed7953"
            ],
            [
             0.7777777777777778,
             "#fb9f3a"
            ],
            [
             0.8888888888888888,
             "#fdca26"
            ],
            [
             1,
             "#f0f921"
            ]
           ]
          },
          "colorway": [
           "#636efa",
           "#EF553B",
           "#00cc96",
           "#ab63fa",
           "#FFA15A",
           "#19d3f3",
           "#FF6692",
           "#B6E880",
           "#FF97FF",
           "#FECB52"
          ],
          "font": {
           "color": "#2a3f5f"
          },
          "geo": {
           "bgcolor": "white",
           "lakecolor": "white",
           "landcolor": "#E5ECF6",
           "showlakes": true,
           "showland": true,
           "subunitcolor": "white"
          },
          "hoverlabel": {
           "align": "left"
          },
          "hovermode": "closest",
          "mapbox": {
           "style": "light"
          },
          "paper_bgcolor": "white",
          "plot_bgcolor": "#E5ECF6",
          "polar": {
           "angularaxis": {
            "gridcolor": "white",
            "linecolor": "white",
            "ticks": ""
           },
           "bgcolor": "#E5ECF6",
           "radialaxis": {
            "gridcolor": "white",
            "linecolor": "white",
            "ticks": ""
           }
          },
          "scene": {
           "xaxis": {
            "backgroundcolor": "#E5ECF6",
            "gridcolor": "white",
            "gridwidth": 2,
            "linecolor": "white",
            "showbackground": true,
            "ticks": "",
            "zerolinecolor": "white"
           },
           "yaxis": {
            "backgroundcolor": "#E5ECF6",
            "gridcolor": "white",
            "gridwidth": 2,
            "linecolor": "white",
            "showbackground": true,
            "ticks": "",
            "zerolinecolor": "white"
           },
           "zaxis": {
            "backgroundcolor": "#E5ECF6",
            "gridcolor": "white",
            "gridwidth": 2,
            "linecolor": "white",
            "showbackground": true,
            "ticks": "",
            "zerolinecolor": "white"
           }
          },
          "shapedefaults": {
           "line": {
            "color": "#2a3f5f"
           }
          },
          "ternary": {
           "aaxis": {
            "gridcolor": "white",
            "linecolor": "white",
            "ticks": ""
           },
           "baxis": {
            "gridcolor": "white",
            "linecolor": "white",
            "ticks": ""
           },
           "bgcolor": "#E5ECF6",
           "caxis": {
            "gridcolor": "white",
            "linecolor": "white",
            "ticks": ""
           }
          },
          "title": {
           "x": 0.05
          },
          "xaxis": {
           "automargin": true,
           "gridcolor": "white",
           "linecolor": "white",
           "ticks": "",
           "title": {
            "standoff": 15
           },
           "zerolinecolor": "white",
           "zerolinewidth": 2
          },
          "yaxis": {
           "automargin": true,
           "gridcolor": "white",
           "linecolor": "white",
           "ticks": "",
           "title": {
            "standoff": 15
           },
           "zerolinecolor": "white",
           "zerolinewidth": 2
          }
         }
        },
        "title": {
         "font": {
          "color": "black",
          "size": 22
         },
         "text": "🎯 Pairplot (Plotly) — Nova Group bo‘yicha"
        },
        "width": 900
       }
      }
     },
     "metadata": {},
     "output_type": "display_data"
    }
   ],
   "source": [
    "import plotly.express as px\n",
    "\n",
    "# 500 ta tasodifiy namunani olish\n",
    "sample_df = df.sample(500, random_state=42)\n",
    "\n",
    "# Plotly scatter matrix (pairplot ekvivalenti)\n",
    "fig = px.scatter_matrix(\n",
    "    sample_df,\n",
    "    dimensions=sample_df.select_dtypes(include=['int64', 'float64']).columns,  # faqat raqamli ustunlar\n",
    "    color=\"nova_group\",\n",
    "    title=\"🎯 Pairplot (Plotly) — Nova Group bo‘yicha\",\n",
    "    height=900,\n",
    "    width=900,\n",
    "    color_continuous_scale=\"RdBu_r\"\n",
    ")\n",
    "\n",
    "fig.update_traces(diagonal_visible=False, marker=dict(size=4, opacity=0.7))\n",
    "fig.update_layout(title_font=dict(size=22, color=\"black\"))\n",
    "\n",
    "fig.show()\n"
   ]
  },
  {
   "cell_type": "markdown",
   "id": "d1d33f13",
   "metadata": {},
   "source": [
    "# Product trend — created_year vs nova_group (yillik tendensiyalar)"
   ]
  },
  {
   "cell_type": "code",
   "execution_count": 11,
   "id": "d67cae7d",
   "metadata": {},
   "outputs": [
    {
     "data": {
      "application/vnd.plotly.v1+json": {
       "config": {
        "plotlyServerURL": "https://plot.ly"
       },
       "data": [
        {
         "hovertemplate": "nova_group=1.0<br>created_year=%{x}<br>count=%{y}<extra></extra>",
         "legendgroup": "1.0",
         "line": {
          "color": "#636efa",
          "dash": "solid"
         },
         "marker": {
          "symbol": "circle"
         },
         "mode": "lines+markers",
         "name": "1.0",
         "orientation": "v",
         "showlegend": true,
         "type": "scatter",
         "x": {
          "bdata": "3AfdB94H3wfgB+EH4gfjB+QH5QfmB+cH6Ac=",
          "dtype": "i2"
         },
         "xaxis": "x",
         "y": {
          "bdata": "Jy4fLyosXDYvJy8VEg==",
          "dtype": "i1"
         },
         "yaxis": "y"
        },
        {
         "hovertemplate": "nova_group=2.0<br>created_year=%{x}<br>count=%{y}<extra></extra>",
         "legendgroup": "2.0",
         "line": {
          "color": "#EF553B",
          "dash": "solid"
         },
         "marker": {
          "symbol": "circle"
         },
         "mode": "lines+markers",
         "name": "2.0",
         "orientation": "v",
         "showlegend": true,
         "type": "scatter",
         "x": {
          "bdata": "3AfdB94H3wfgB+EH4gfjB+QH5QfmB+cH6Ac=",
          "dtype": "i2"
         },
         "xaxis": "x",
         "y": {
          "bdata": "CBQXFBYSGRgQFAMIBQ==",
          "dtype": "i1"
         },
         "yaxis": "y"
        },
        {
         "hovertemplate": "nova_group=3.0<br>created_year=%{x}<br>count=%{y}<extra></extra>",
         "legendgroup": "3.0",
         "line": {
          "color": "#00cc96",
          "dash": "solid"
         },
         "marker": {
          "symbol": "circle"
         },
         "mode": "lines+markers",
         "name": "3.0",
         "orientation": "v",
         "showlegend": true,
         "type": "scatter",
         "x": {
          "bdata": "3AfdB94H3wfgB+EH4gfjB+QH5QfmB+cH6Ac=",
          "dtype": "i2"
         },
         "xaxis": "x",
         "y": {
          "bdata": "LQA0AEUAZABMAHEAsgCNAFgATgBIAEYAEQA=",
          "dtype": "i2"
         },
         "yaxis": "y"
        },
        {
         "hovertemplate": "nova_group=3.28450954283178<br>created_year=%{x}<br>count=%{y}<extra></extra>",
         "legendgroup": "3.28450954283178",
         "line": {
          "color": "#ab63fa",
          "dash": "solid"
         },
         "marker": {
          "symbol": "circle"
         },
         "mode": "lines+markers",
         "name": "3.28450954283178",
         "orientation": "v",
         "showlegend": true,
         "type": "scatter",
         "x": {
          "bdata": "3AfdB94H3wfgB+EH4gfjB+QH5QfmB+cH6AfpBw==",
          "dtype": "i2"
         },
         "xaxis": "x",
         "y": {
          "bdata": "BQkHEQ0aTTciMi0sbAE=",
          "dtype": "i1"
         },
         "yaxis": "y"
        },
        {
         "hovertemplate": "nova_group=4.0<br>created_year=%{x}<br>count=%{y}<extra></extra>",
         "legendgroup": "4.0",
         "line": {
          "color": "#FFA15A",
          "dash": "solid"
         },
         "marker": {
          "symbol": "circle"
         },
         "mode": "lines+markers",
         "name": "4.0",
         "orientation": "v",
         "showlegend": true,
         "type": "scatter",
         "x": {
          "bdata": "3AfdB94H3wfgB+EH4gfjB+QH5QfmB+cH6Ac=",
          "dtype": "i2"
         },
         "xaxis": "x",
         "y": {
          "bdata": "YQC+AJsA8AC+AOgAfwEHAcoAxwCxAL0AawA=",
          "dtype": "i2"
         },
         "yaxis": "y"
        }
       ],
       "layout": {
        "legend": {
         "title": {
          "text": "nova_group"
         },
         "tracegroupgap": 0
        },
        "template": {
         "data": {
          "bar": [
           {
            "error_x": {
             "color": "#2a3f5f"
            },
            "error_y": {
             "color": "#2a3f5f"
            },
            "marker": {
             "line": {
              "color": "#E5ECF6",
              "width": 0.5
             },
             "pattern": {
              "fillmode": "overlay",
              "size": 10,
              "solidity": 0.2
             }
            },
            "type": "bar"
           }
          ],
          "barpolar": [
           {
            "marker": {
             "line": {
              "color": "#E5ECF6",
              "width": 0.5
             },
             "pattern": {
              "fillmode": "overlay",
              "size": 10,
              "solidity": 0.2
             }
            },
            "type": "barpolar"
           }
          ],
          "carpet": [
           {
            "aaxis": {
             "endlinecolor": "#2a3f5f",
             "gridcolor": "white",
             "linecolor": "white",
             "minorgridcolor": "white",
             "startlinecolor": "#2a3f5f"
            },
            "baxis": {
             "endlinecolor": "#2a3f5f",
             "gridcolor": "white",
             "linecolor": "white",
             "minorgridcolor": "white",
             "startlinecolor": "#2a3f5f"
            },
            "type": "carpet"
           }
          ],
          "choropleth": [
           {
            "colorbar": {
             "outlinewidth": 0,
             "ticks": ""
            },
            "type": "choropleth"
           }
          ],
          "contour": [
           {
            "colorbar": {
             "outlinewidth": 0,
             "ticks": ""
            },
            "colorscale": [
             [
              0,
              "#0d0887"
             ],
             [
              0.1111111111111111,
              "#46039f"
             ],
             [
              0.2222222222222222,
              "#7201a8"
             ],
             [
              0.3333333333333333,
              "#9c179e"
             ],
             [
              0.4444444444444444,
              "#bd3786"
             ],
             [
              0.5555555555555556,
              "#d8576b"
             ],
             [
              0.6666666666666666,
              "#ed7953"
             ],
             [
              0.7777777777777778,
              "#fb9f3a"
             ],
             [
              0.8888888888888888,
              "#fdca26"
             ],
             [
              1,
              "#f0f921"
             ]
            ],
            "type": "contour"
           }
          ],
          "contourcarpet": [
           {
            "colorbar": {
             "outlinewidth": 0,
             "ticks": ""
            },
            "type": "contourcarpet"
           }
          ],
          "heatmap": [
           {
            "colorbar": {
             "outlinewidth": 0,
             "ticks": ""
            },
            "colorscale": [
             [
              0,
              "#0d0887"
             ],
             [
              0.1111111111111111,
              "#46039f"
             ],
             [
              0.2222222222222222,
              "#7201a8"
             ],
             [
              0.3333333333333333,
              "#9c179e"
             ],
             [
              0.4444444444444444,
              "#bd3786"
             ],
             [
              0.5555555555555556,
              "#d8576b"
             ],
             [
              0.6666666666666666,
              "#ed7953"
             ],
             [
              0.7777777777777778,
              "#fb9f3a"
             ],
             [
              0.8888888888888888,
              "#fdca26"
             ],
             [
              1,
              "#f0f921"
             ]
            ],
            "type": "heatmap"
           }
          ],
          "histogram": [
           {
            "marker": {
             "pattern": {
              "fillmode": "overlay",
              "size": 10,
              "solidity": 0.2
             }
            },
            "type": "histogram"
           }
          ],
          "histogram2d": [
           {
            "colorbar": {
             "outlinewidth": 0,
             "ticks": ""
            },
            "colorscale": [
             [
              0,
              "#0d0887"
             ],
             [
              0.1111111111111111,
              "#46039f"
             ],
             [
              0.2222222222222222,
              "#7201a8"
             ],
             [
              0.3333333333333333,
              "#9c179e"
             ],
             [
              0.4444444444444444,
              "#bd3786"
             ],
             [
              0.5555555555555556,
              "#d8576b"
             ],
             [
              0.6666666666666666,
              "#ed7953"
             ],
             [
              0.7777777777777778,
              "#fb9f3a"
             ],
             [
              0.8888888888888888,
              "#fdca26"
             ],
             [
              1,
              "#f0f921"
             ]
            ],
            "type": "histogram2d"
           }
          ],
          "histogram2dcontour": [
           {
            "colorbar": {
             "outlinewidth": 0,
             "ticks": ""
            },
            "colorscale": [
             [
              0,
              "#0d0887"
             ],
             [
              0.1111111111111111,
              "#46039f"
             ],
             [
              0.2222222222222222,
              "#7201a8"
             ],
             [
              0.3333333333333333,
              "#9c179e"
             ],
             [
              0.4444444444444444,
              "#bd3786"
             ],
             [
              0.5555555555555556,
              "#d8576b"
             ],
             [
              0.6666666666666666,
              "#ed7953"
             ],
             [
              0.7777777777777778,
              "#fb9f3a"
             ],
             [
              0.8888888888888888,
              "#fdca26"
             ],
             [
              1,
              "#f0f921"
             ]
            ],
            "type": "histogram2dcontour"
           }
          ],
          "mesh3d": [
           {
            "colorbar": {
             "outlinewidth": 0,
             "ticks": ""
            },
            "type": "mesh3d"
           }
          ],
          "parcoords": [
           {
            "line": {
             "colorbar": {
              "outlinewidth": 0,
              "ticks": ""
             }
            },
            "type": "parcoords"
           }
          ],
          "pie": [
           {
            "automargin": true,
            "type": "pie"
           }
          ],
          "scatter": [
           {
            "fillpattern": {
             "fillmode": "overlay",
             "size": 10,
             "solidity": 0.2
            },
            "type": "scatter"
           }
          ],
          "scatter3d": [
           {
            "line": {
             "colorbar": {
              "outlinewidth": 0,
              "ticks": ""
             }
            },
            "marker": {
             "colorbar": {
              "outlinewidth": 0,
              "ticks": ""
             }
            },
            "type": "scatter3d"
           }
          ],
          "scattercarpet": [
           {
            "marker": {
             "colorbar": {
              "outlinewidth": 0,
              "ticks": ""
             }
            },
            "type": "scattercarpet"
           }
          ],
          "scattergeo": [
           {
            "marker": {
             "colorbar": {
              "outlinewidth": 0,
              "ticks": ""
             }
            },
            "type": "scattergeo"
           }
          ],
          "scattergl": [
           {
            "marker": {
             "colorbar": {
              "outlinewidth": 0,
              "ticks": ""
             }
            },
            "type": "scattergl"
           }
          ],
          "scattermap": [
           {
            "marker": {
             "colorbar": {
              "outlinewidth": 0,
              "ticks": ""
             }
            },
            "type": "scattermap"
           }
          ],
          "scattermapbox": [
           {
            "marker": {
             "colorbar": {
              "outlinewidth": 0,
              "ticks": ""
             }
            },
            "type": "scattermapbox"
           }
          ],
          "scatterpolar": [
           {
            "marker": {
             "colorbar": {
              "outlinewidth": 0,
              "ticks": ""
             }
            },
            "type": "scatterpolar"
           }
          ],
          "scatterpolargl": [
           {
            "marker": {
             "colorbar": {
              "outlinewidth": 0,
              "ticks": ""
             }
            },
            "type": "scatterpolargl"
           }
          ],
          "scatterternary": [
           {
            "marker": {
             "colorbar": {
              "outlinewidth": 0,
              "ticks": ""
             }
            },
            "type": "scatterternary"
           }
          ],
          "surface": [
           {
            "colorbar": {
             "outlinewidth": 0,
             "ticks": ""
            },
            "colorscale": [
             [
              0,
              "#0d0887"
             ],
             [
              0.1111111111111111,
              "#46039f"
             ],
             [
              0.2222222222222222,
              "#7201a8"
             ],
             [
              0.3333333333333333,
              "#9c179e"
             ],
             [
              0.4444444444444444,
              "#bd3786"
             ],
             [
              0.5555555555555556,
              "#d8576b"
             ],
             [
              0.6666666666666666,
              "#ed7953"
             ],
             [
              0.7777777777777778,
              "#fb9f3a"
             ],
             [
              0.8888888888888888,
              "#fdca26"
             ],
             [
              1,
              "#f0f921"
             ]
            ],
            "type": "surface"
           }
          ],
          "table": [
           {
            "cells": {
             "fill": {
              "color": "#EBF0F8"
             },
             "line": {
              "color": "white"
             }
            },
            "header": {
             "fill": {
              "color": "#C8D4E3"
             },
             "line": {
              "color": "white"
             }
            },
            "type": "table"
           }
          ]
         },
         "layout": {
          "annotationdefaults": {
           "arrowcolor": "#2a3f5f",
           "arrowhead": 0,
           "arrowwidth": 1
          },
          "autotypenumbers": "strict",
          "coloraxis": {
           "colorbar": {
            "outlinewidth": 0,
            "ticks": ""
           }
          },
          "colorscale": {
           "diverging": [
            [
             0,
             "#8e0152"
            ],
            [
             0.1,
             "#c51b7d"
            ],
            [
             0.2,
             "#de77ae"
            ],
            [
             0.3,
             "#f1b6da"
            ],
            [
             0.4,
             "#fde0ef"
            ],
            [
             0.5,
             "#f7f7f7"
            ],
            [
             0.6,
             "#e6f5d0"
            ],
            [
             0.7,
             "#b8e186"
            ],
            [
             0.8,
             "#7fbc41"
            ],
            [
             0.9,
             "#4d9221"
            ],
            [
             1,
             "#276419"
            ]
           ],
           "sequential": [
            [
             0,
             "#0d0887"
            ],
            [
             0.1111111111111111,
             "#46039f"
            ],
            [
             0.2222222222222222,
             "#7201a8"
            ],
            [
             0.3333333333333333,
             "#9c179e"
            ],
            [
             0.4444444444444444,
             "#bd3786"
            ],
            [
             0.5555555555555556,
             "#d8576b"
            ],
            [
             0.6666666666666666,
             "#ed7953"
            ],
            [
             0.7777777777777778,
             "#fb9f3a"
            ],
            [
             0.8888888888888888,
             "#fdca26"
            ],
            [
             1,
             "#f0f921"
            ]
           ],
           "sequentialminus": [
            [
             0,
             "#0d0887"
            ],
            [
             0.1111111111111111,
             "#46039f"
            ],
            [
             0.2222222222222222,
             "#7201a8"
            ],
            [
             0.3333333333333333,
             "#9c179e"
            ],
            [
             0.4444444444444444,
             "#bd3786"
            ],
            [
             0.5555555555555556,
             "#d8576b"
            ],
            [
             0.6666666666666666,
             "#ed7953"
            ],
            [
             0.7777777777777778,
             "#fb9f3a"
            ],
            [
             0.8888888888888888,
             "#fdca26"
            ],
            [
             1,
             "#f0f921"
            ]
           ]
          },
          "colorway": [
           "#636efa",
           "#EF553B",
           "#00cc96",
           "#ab63fa",
           "#FFA15A",
           "#19d3f3",
           "#FF6692",
           "#B6E880",
           "#FF97FF",
           "#FECB52"
          ],
          "font": {
           "color": "#2a3f5f"
          },
          "geo": {
           "bgcolor": "white",
           "lakecolor": "white",
           "landcolor": "#E5ECF6",
           "showlakes": true,
           "showland": true,
           "subunitcolor": "white"
          },
          "hoverlabel": {
           "align": "left"
          },
          "hovermode": "closest",
          "mapbox": {
           "style": "light"
          },
          "paper_bgcolor": "white",
          "plot_bgcolor": "#E5ECF6",
          "polar": {
           "angularaxis": {
            "gridcolor": "white",
            "linecolor": "white",
            "ticks": ""
           },
           "bgcolor": "#E5ECF6",
           "radialaxis": {
            "gridcolor": "white",
            "linecolor": "white",
            "ticks": ""
           }
          },
          "scene": {
           "xaxis": {
            "backgroundcolor": "#E5ECF6",
            "gridcolor": "white",
            "gridwidth": 2,
            "linecolor": "white",
            "showbackground": true,
            "ticks": "",
            "zerolinecolor": "white"
           },
           "yaxis": {
            "backgroundcolor": "#E5ECF6",
            "gridcolor": "white",
            "gridwidth": 2,
            "linecolor": "white",
            "showbackground": true,
            "ticks": "",
            "zerolinecolor": "white"
           },
           "zaxis": {
            "backgroundcolor": "#E5ECF6",
            "gridcolor": "white",
            "gridwidth": 2,
            "linecolor": "white",
            "showbackground": true,
            "ticks": "",
            "zerolinecolor": "white"
           }
          },
          "shapedefaults": {
           "line": {
            "color": "#2a3f5f"
           }
          },
          "ternary": {
           "aaxis": {
            "gridcolor": "white",
            "linecolor": "white",
            "ticks": ""
           },
           "baxis": {
            "gridcolor": "white",
            "linecolor": "white",
            "ticks": ""
           },
           "bgcolor": "#E5ECF6",
           "caxis": {
            "gridcolor": "white",
            "linecolor": "white",
            "ticks": ""
           }
          },
          "title": {
           "x": 0.05
          },
          "xaxis": {
           "automargin": true,
           "gridcolor": "white",
           "linecolor": "white",
           "ticks": "",
           "title": {
            "standoff": 15
           },
           "zerolinecolor": "white",
           "zerolinewidth": 2
          },
          "yaxis": {
           "automargin": true,
           "gridcolor": "white",
           "linecolor": "white",
           "ticks": "",
           "title": {
            "standoff": 15
           },
           "zerolinecolor": "white",
           "zerolinewidth": 2
          }
         }
        },
        "title": {
         "text": "Yillik taqsimot: har bir Nova Group bo'yicha mahsulotlar soni"
        },
        "xaxis": {
         "anchor": "y",
         "domain": [
          0,
          1
         ],
         "dtick": 1,
         "title": {
          "text": "created_year"
         }
        },
        "yaxis": {
         "anchor": "x",
         "domain": [
          0,
          1
         ],
         "title": {
          "text": "count"
         }
        }
       }
      }
     },
     "metadata": {},
     "output_type": "display_data"
    },
    {
     "data": {
      "application/vnd.plotly.v1+json": {
       "config": {
        "plotlyServerURL": "https://plot.ly"
       },
       "data": [
        {
         "hovertemplate": "created_year=%{x}<br>count=%{y}<br>nova_group=%{marker.color}<extra></extra>",
         "legendgroup": "",
         "marker": {
          "color": {
           "bdata": "AAAAAAAA8D8AAAAAAAAAQAAAAAAAAAhANeZu8KxGCkAAAAAAAAAQQAAAAAAAAPA/AAAAAAAAAEAAAAAAAAAIQDXmbvCsRgpAAAAAAAAAEEAAAAAAAADwPwAAAAAAAABAAAAAAAAACEA15m7wrEYKQAAAAAAAABBAAAAAAAAA8D8AAAAAAAAAQAAAAAAAAAhANeZu8KxGCkAAAAAAAAAQQAAAAAAAAPA/AAAAAAAAAEAAAAAAAAAIQDXmbvCsRgpAAAAAAAAAEEAAAAAAAADwPwAAAAAAAABAAAAAAAAACEA15m7wrEYKQAAAAAAAABBAAAAAAAAA8D8AAAAAAAAAQAAAAAAAAAhANeZu8KxGCkAAAAAAAAAQQAAAAAAAAPA/AAAAAAAAAEAAAAAAAAAIQDXmbvCsRgpAAAAAAAAAEEAAAAAAAADwPwAAAAAAAABAAAAAAAAACEA15m7wrEYKQAAAAAAAABBAAAAAAAAA8D8AAAAAAAAAQAAAAAAAAAhANeZu8KxGCkAAAAAAAAAQQAAAAAAAAPA/AAAAAAAAAEAAAAAAAAAIQDXmbvCsRgpAAAAAAAAAEEAAAAAAAADwPwAAAAAAAABAAAAAAAAACEA15m7wrEYKQAAAAAAAABBAAAAAAAAA8D8AAAAAAAAAQAAAAAAAAAhANeZu8KxGCkAAAAAAAAAQQDXmbvCsRgpA",
           "dtype": "f8"
          },
          "coloraxis": "coloraxis",
          "pattern": {
           "shape": ""
          }
         },
         "name": "",
         "orientation": "v",
         "showlegend": false,
         "textposition": "auto",
         "type": "bar",
         "x": {
          "bdata": "3AfcB9wH3AfcB90H3QfdB90H3QfeB94H3gfeB94H3wffB98H3wffB+AH4AfgB+AH4AfhB+EH4QfhB+EH4gfiB+IH4gfiB+MH4wfjB+MH4wfkB+QH5AfkB+QH5QflB+UH5QflB+YH5gfmB+YH5gfnB+cH5wfnB+cH6AfoB+gH6AfoB+kH",
          "dtype": "i2"
         },
         "xaxis": "x",
         "y": {
          "bdata": "JwAIAC0ABQBhAC4AFAA0AAkAvgAfABcARQAHAJsALwAUAGQAEQDwACoAFgBMAA0AvgAsABIAcQAaAOgAXAAZALIATQB/ATYAGACNADcABwEvABAAWAAiAMoAJwAUAE4AMgDHAC8AAwBIAC0AsQAVAAgARgAsAL0AEgAFABEAbABrAAEA",
          "dtype": "i2"
         },
         "yaxis": "y"
        }
       ],
       "layout": {
        "barmode": "stack",
        "coloraxis": {
         "colorbar": {
          "title": {
           "text": "nova_group"
          }
         },
         "colorscale": [
          [
           0,
           "#0d0887"
          ],
          [
           0.1111111111111111,
           "#46039f"
          ],
          [
           0.2222222222222222,
           "#7201a8"
          ],
          [
           0.3333333333333333,
           "#9c179e"
          ],
          [
           0.4444444444444444,
           "#bd3786"
          ],
          [
           0.5555555555555556,
           "#d8576b"
          ],
          [
           0.6666666666666666,
           "#ed7953"
          ],
          [
           0.7777777777777778,
           "#fb9f3a"
          ],
          [
           0.8888888888888888,
           "#fdca26"
          ],
          [
           1,
           "#f0f921"
          ]
         ]
        },
        "legend": {
         "tracegroupgap": 0
        },
        "template": {
         "data": {
          "bar": [
           {
            "error_x": {
             "color": "#2a3f5f"
            },
            "error_y": {
             "color": "#2a3f5f"
            },
            "marker": {
             "line": {
              "color": "#E5ECF6",
              "width": 0.5
             },
             "pattern": {
              "fillmode": "overlay",
              "size": 10,
              "solidity": 0.2
             }
            },
            "type": "bar"
           }
          ],
          "barpolar": [
           {
            "marker": {
             "line": {
              "color": "#E5ECF6",
              "width": 0.5
             },
             "pattern": {
              "fillmode": "overlay",
              "size": 10,
              "solidity": 0.2
             }
            },
            "type": "barpolar"
           }
          ],
          "carpet": [
           {
            "aaxis": {
             "endlinecolor": "#2a3f5f",
             "gridcolor": "white",
             "linecolor": "white",
             "minorgridcolor": "white",
             "startlinecolor": "#2a3f5f"
            },
            "baxis": {
             "endlinecolor": "#2a3f5f",
             "gridcolor": "white",
             "linecolor": "white",
             "minorgridcolor": "white",
             "startlinecolor": "#2a3f5f"
            },
            "type": "carpet"
           }
          ],
          "choropleth": [
           {
            "colorbar": {
             "outlinewidth": 0,
             "ticks": ""
            },
            "type": "choropleth"
           }
          ],
          "contour": [
           {
            "colorbar": {
             "outlinewidth": 0,
             "ticks": ""
            },
            "colorscale": [
             [
              0,
              "#0d0887"
             ],
             [
              0.1111111111111111,
              "#46039f"
             ],
             [
              0.2222222222222222,
              "#7201a8"
             ],
             [
              0.3333333333333333,
              "#9c179e"
             ],
             [
              0.4444444444444444,
              "#bd3786"
             ],
             [
              0.5555555555555556,
              "#d8576b"
             ],
             [
              0.6666666666666666,
              "#ed7953"
             ],
             [
              0.7777777777777778,
              "#fb9f3a"
             ],
             [
              0.8888888888888888,
              "#fdca26"
             ],
             [
              1,
              "#f0f921"
             ]
            ],
            "type": "contour"
           }
          ],
          "contourcarpet": [
           {
            "colorbar": {
             "outlinewidth": 0,
             "ticks": ""
            },
            "type": "contourcarpet"
           }
          ],
          "heatmap": [
           {
            "colorbar": {
             "outlinewidth": 0,
             "ticks": ""
            },
            "colorscale": [
             [
              0,
              "#0d0887"
             ],
             [
              0.1111111111111111,
              "#46039f"
             ],
             [
              0.2222222222222222,
              "#7201a8"
             ],
             [
              0.3333333333333333,
              "#9c179e"
             ],
             [
              0.4444444444444444,
              "#bd3786"
             ],
             [
              0.5555555555555556,
              "#d8576b"
             ],
             [
              0.6666666666666666,
              "#ed7953"
             ],
             [
              0.7777777777777778,
              "#fb9f3a"
             ],
             [
              0.8888888888888888,
              "#fdca26"
             ],
             [
              1,
              "#f0f921"
             ]
            ],
            "type": "heatmap"
           }
          ],
          "histogram": [
           {
            "marker": {
             "pattern": {
              "fillmode": "overlay",
              "size": 10,
              "solidity": 0.2
             }
            },
            "type": "histogram"
           }
          ],
          "histogram2d": [
           {
            "colorbar": {
             "outlinewidth": 0,
             "ticks": ""
            },
            "colorscale": [
             [
              0,
              "#0d0887"
             ],
             [
              0.1111111111111111,
              "#46039f"
             ],
             [
              0.2222222222222222,
              "#7201a8"
             ],
             [
              0.3333333333333333,
              "#9c179e"
             ],
             [
              0.4444444444444444,
              "#bd3786"
             ],
             [
              0.5555555555555556,
              "#d8576b"
             ],
             [
              0.6666666666666666,
              "#ed7953"
             ],
             [
              0.7777777777777778,
              "#fb9f3a"
             ],
             [
              0.8888888888888888,
              "#fdca26"
             ],
             [
              1,
              "#f0f921"
             ]
            ],
            "type": "histogram2d"
           }
          ],
          "histogram2dcontour": [
           {
            "colorbar": {
             "outlinewidth": 0,
             "ticks": ""
            },
            "colorscale": [
             [
              0,
              "#0d0887"
             ],
             [
              0.1111111111111111,
              "#46039f"
             ],
             [
              0.2222222222222222,
              "#7201a8"
             ],
             [
              0.3333333333333333,
              "#9c179e"
             ],
             [
              0.4444444444444444,
              "#bd3786"
             ],
             [
              0.5555555555555556,
              "#d8576b"
             ],
             [
              0.6666666666666666,
              "#ed7953"
             ],
             [
              0.7777777777777778,
              "#fb9f3a"
             ],
             [
              0.8888888888888888,
              "#fdca26"
             ],
             [
              1,
              "#f0f921"
             ]
            ],
            "type": "histogram2dcontour"
           }
          ],
          "mesh3d": [
           {
            "colorbar": {
             "outlinewidth": 0,
             "ticks": ""
            },
            "type": "mesh3d"
           }
          ],
          "parcoords": [
           {
            "line": {
             "colorbar": {
              "outlinewidth": 0,
              "ticks": ""
             }
            },
            "type": "parcoords"
           }
          ],
          "pie": [
           {
            "automargin": true,
            "type": "pie"
           }
          ],
          "scatter": [
           {
            "fillpattern": {
             "fillmode": "overlay",
             "size": 10,
             "solidity": 0.2
            },
            "type": "scatter"
           }
          ],
          "scatter3d": [
           {
            "line": {
             "colorbar": {
              "outlinewidth": 0,
              "ticks": ""
             }
            },
            "marker": {
             "colorbar": {
              "outlinewidth": 0,
              "ticks": ""
             }
            },
            "type": "scatter3d"
           }
          ],
          "scattercarpet": [
           {
            "marker": {
             "colorbar": {
              "outlinewidth": 0,
              "ticks": ""
             }
            },
            "type": "scattercarpet"
           }
          ],
          "scattergeo": [
           {
            "marker": {
             "colorbar": {
              "outlinewidth": 0,
              "ticks": ""
             }
            },
            "type": "scattergeo"
           }
          ],
          "scattergl": [
           {
            "marker": {
             "colorbar": {
              "outlinewidth": 0,
              "ticks": ""
             }
            },
            "type": "scattergl"
           }
          ],
          "scattermap": [
           {
            "marker": {
             "colorbar": {
              "outlinewidth": 0,
              "ticks": ""
             }
            },
            "type": "scattermap"
           }
          ],
          "scattermapbox": [
           {
            "marker": {
             "colorbar": {
              "outlinewidth": 0,
              "ticks": ""
             }
            },
            "type": "scattermapbox"
           }
          ],
          "scatterpolar": [
           {
            "marker": {
             "colorbar": {
              "outlinewidth": 0,
              "ticks": ""
             }
            },
            "type": "scatterpolar"
           }
          ],
          "scatterpolargl": [
           {
            "marker": {
             "colorbar": {
              "outlinewidth": 0,
              "ticks": ""
             }
            },
            "type": "scatterpolargl"
           }
          ],
          "scatterternary": [
           {
            "marker": {
             "colorbar": {
              "outlinewidth": 0,
              "ticks": ""
             }
            },
            "type": "scatterternary"
           }
          ],
          "surface": [
           {
            "colorbar": {
             "outlinewidth": 0,
             "ticks": ""
            },
            "colorscale": [
             [
              0,
              "#0d0887"
             ],
             [
              0.1111111111111111,
              "#46039f"
             ],
             [
              0.2222222222222222,
              "#7201a8"
             ],
             [
              0.3333333333333333,
              "#9c179e"
             ],
             [
              0.4444444444444444,
              "#bd3786"
             ],
             [
              0.5555555555555556,
              "#d8576b"
             ],
             [
              0.6666666666666666,
              "#ed7953"
             ],
             [
              0.7777777777777778,
              "#fb9f3a"
             ],
             [
              0.8888888888888888,
              "#fdca26"
             ],
             [
              1,
              "#f0f921"
             ]
            ],
            "type": "surface"
           }
          ],
          "table": [
           {
            "cells": {
             "fill": {
              "color": "#EBF0F8"
             },
             "line": {
              "color": "white"
             }
            },
            "header": {
             "fill": {
              "color": "#C8D4E3"
             },
             "line": {
              "color": "white"
             }
            },
            "type": "table"
           }
          ]
         },
         "layout": {
          "annotationdefaults": {
           "arrowcolor": "#2a3f5f",
           "arrowhead": 0,
           "arrowwidth": 1
          },
          "autotypenumbers": "strict",
          "coloraxis": {
           "colorbar": {
            "outlinewidth": 0,
            "ticks": ""
           }
          },
          "colorscale": {
           "diverging": [
            [
             0,
             "#8e0152"
            ],
            [
             0.1,
             "#c51b7d"
            ],
            [
             0.2,
             "#de77ae"
            ],
            [
             0.3,
             "#f1b6da"
            ],
            [
             0.4,
             "#fde0ef"
            ],
            [
             0.5,
             "#f7f7f7"
            ],
            [
             0.6,
             "#e6f5d0"
            ],
            [
             0.7,
             "#b8e186"
            ],
            [
             0.8,
             "#7fbc41"
            ],
            [
             0.9,
             "#4d9221"
            ],
            [
             1,
             "#276419"
            ]
           ],
           "sequential": [
            [
             0,
             "#0d0887"
            ],
            [
             0.1111111111111111,
             "#46039f"
            ],
            [
             0.2222222222222222,
             "#7201a8"
            ],
            [
             0.3333333333333333,
             "#9c179e"
            ],
            [
             0.4444444444444444,
             "#bd3786"
            ],
            [
             0.5555555555555556,
             "#d8576b"
            ],
            [
             0.6666666666666666,
             "#ed7953"
            ],
            [
             0.7777777777777778,
             "#fb9f3a"
            ],
            [
             0.8888888888888888,
             "#fdca26"
            ],
            [
             1,
             "#f0f921"
            ]
           ],
           "sequentialminus": [
            [
             0,
             "#0d0887"
            ],
            [
             0.1111111111111111,
             "#46039f"
            ],
            [
             0.2222222222222222,
             "#7201a8"
            ],
            [
             0.3333333333333333,
             "#9c179e"
            ],
            [
             0.4444444444444444,
             "#bd3786"
            ],
            [
             0.5555555555555556,
             "#d8576b"
            ],
            [
             0.6666666666666666,
             "#ed7953"
            ],
            [
             0.7777777777777778,
             "#fb9f3a"
            ],
            [
             0.8888888888888888,
             "#fdca26"
            ],
            [
             1,
             "#f0f921"
            ]
           ]
          },
          "colorway": [
           "#636efa",
           "#EF553B",
           "#00cc96",
           "#ab63fa",
           "#FFA15A",
           "#19d3f3",
           "#FF6692",
           "#B6E880",
           "#FF97FF",
           "#FECB52"
          ],
          "font": {
           "color": "#2a3f5f"
          },
          "geo": {
           "bgcolor": "white",
           "lakecolor": "white",
           "landcolor": "#E5ECF6",
           "showlakes": true,
           "showland": true,
           "subunitcolor": "white"
          },
          "hoverlabel": {
           "align": "left"
          },
          "hovermode": "closest",
          "mapbox": {
           "style": "light"
          },
          "paper_bgcolor": "white",
          "plot_bgcolor": "#E5ECF6",
          "polar": {
           "angularaxis": {
            "gridcolor": "white",
            "linecolor": "white",
            "ticks": ""
           },
           "bgcolor": "#E5ECF6",
           "radialaxis": {
            "gridcolor": "white",
            "linecolor": "white",
            "ticks": ""
           }
          },
          "scene": {
           "xaxis": {
            "backgroundcolor": "#E5ECF6",
            "gridcolor": "white",
            "gridwidth": 2,
            "linecolor": "white",
            "showbackground": true,
            "ticks": "",
            "zerolinecolor": "white"
           },
           "yaxis": {
            "backgroundcolor": "#E5ECF6",
            "gridcolor": "white",
            "gridwidth": 2,
            "linecolor": "white",
            "showbackground": true,
            "ticks": "",
            "zerolinecolor": "white"
           },
           "zaxis": {
            "backgroundcolor": "#E5ECF6",
            "gridcolor": "white",
            "gridwidth": 2,
            "linecolor": "white",
            "showbackground": true,
            "ticks": "",
            "zerolinecolor": "white"
           }
          },
          "shapedefaults": {
           "line": {
            "color": "#2a3f5f"
           }
          },
          "ternary": {
           "aaxis": {
            "gridcolor": "white",
            "linecolor": "white",
            "ticks": ""
           },
           "baxis": {
            "gridcolor": "white",
            "linecolor": "white",
            "ticks": ""
           },
           "bgcolor": "#E5ECF6",
           "caxis": {
            "gridcolor": "white",
            "linecolor": "white",
            "ticks": ""
           }
          },
          "title": {
           "x": 0.05
          },
          "xaxis": {
           "automargin": true,
           "gridcolor": "white",
           "linecolor": "white",
           "ticks": "",
           "title": {
            "standoff": 15
           },
           "zerolinecolor": "white",
           "zerolinewidth": 2
          },
          "yaxis": {
           "automargin": true,
           "gridcolor": "white",
           "linecolor": "white",
           "ticks": "",
           "title": {
            "standoff": 15
           },
           "zerolinecolor": "white",
           "zerolinewidth": 2
          }
         }
        },
        "title": {
         "text": "Yillik taqsimot (stacked) — Nova Group"
        },
        "xaxis": {
         "anchor": "y",
         "domain": [
          0,
          1
         ],
         "dtick": 1,
         "title": {
          "text": "created_year"
         }
        },
        "yaxis": {
         "anchor": "x",
         "domain": [
          0,
          1
         ],
         "title": {
          "text": "count"
         }
        }
       }
      }
     },
     "metadata": {},
     "output_type": "display_data"
    }
   ],
   "source": [
    "import pandas as pd\n",
    "import plotly.express as px\n",
    "\n",
    "# df — sizning final_df DataFrame'ingiz\n",
    "# Agar CSV dan o'qilsa:\n",
    "# df = pd.read_csv(r\"C:\\Users\\Rasulbek907\\Desktop\\Project_MP\\Data\\Enginered_Data\\sml_multiclass_dataset.csv\")\n",
    "\n",
    "# 1. Yillik count — har bir nova_group uchun\n",
    "year_counts = df.groupby([\"created_year\", \"nova_group\"]).size().reset_index(name=\"count\")\n",
    "\n",
    "fig = px.line(year_counts.sort_values(\"created_year\"),\n",
    "              x=\"created_year\", y=\"count\", color=\"nova_group\",\n",
    "              markers=True,\n",
    "              title=\"Yillik taqsimot: har bir Nova Group bo'yicha mahsulotlar soni\")\n",
    "fig.update_layout(xaxis=dict(dtick=1))\n",
    "fig.show()\n",
    "\n",
    "# ➤ Agar stack qilingan bar ko'rinishini xohlasangiz:\n",
    "fig2 = px.bar(year_counts, x=\"created_year\", y=\"count\", color=\"nova_group\",\n",
    "              title=\"Yillik taqsimot (stacked) — Nova Group\")\n",
    "fig2.update_layout(barmode=\"stack\", xaxis=dict(dtick=1))\n",
    "fig2.show()\n"
   ]
  },
  {
   "cell_type": "code",
   "execution_count": null,
   "id": "c25a539d",
   "metadata": {},
   "outputs": [],
   "source": []
  },
  {
   "cell_type": "markdown",
   "id": "8bebc6be",
   "metadata": {},
   "source": [
    "# Healthy vs Unhealthy — is_organic, is_sugar_free bilan nova_group taqqosi"
   ]
  },
  {
   "cell_type": "code",
   "execution_count": 12,
   "id": "27d43475",
   "metadata": {},
   "outputs": [
    {
     "data": {
      "application/vnd.plotly.v1+json": {
       "config": {
        "plotlyServerURL": "https://plot.ly"
       },
       "data": [
        {
         "hovertemplate": "Nova Group=%{x}<br>% Organik=%{y}<extra></extra>",
         "legendgroup": "",
         "marker": {
          "color": "#636efa",
          "pattern": {
           "shape": ""
          }
         },
         "name": "",
         "orientation": "v",
         "showlegend": false,
         "textposition": "auto",
         "type": "bar",
         "x": {
          "bdata": "AAAAAAAA8D8AAAAAAAAAQAAAAAAAAAhANeZu8KxGCkAAAAAAAAAQQA==",
          "dtype": "f8"
         },
         "xaxis": "x",
         "y": {
          "bdata": "WZZlWZZlCUDtc0hNMN4CQEBtoQFLeglA21FpIroRyj8TtStRuxLhPw==",
          "dtype": "f8"
         },
         "yaxis": "y"
        }
       ],
       "layout": {
        "barmode": "relative",
        "legend": {
         "tracegroupgap": 0
        },
        "template": {
         "data": {
          "bar": [
           {
            "error_x": {
             "color": "#2a3f5f"
            },
            "error_y": {
             "color": "#2a3f5f"
            },
            "marker": {
             "line": {
              "color": "#E5ECF6",
              "width": 0.5
             },
             "pattern": {
              "fillmode": "overlay",
              "size": 10,
              "solidity": 0.2
             }
            },
            "type": "bar"
           }
          ],
          "barpolar": [
           {
            "marker": {
             "line": {
              "color": "#E5ECF6",
              "width": 0.5
             },
             "pattern": {
              "fillmode": "overlay",
              "size": 10,
              "solidity": 0.2
             }
            },
            "type": "barpolar"
           }
          ],
          "carpet": [
           {
            "aaxis": {
             "endlinecolor": "#2a3f5f",
             "gridcolor": "white",
             "linecolor": "white",
             "minorgridcolor": "white",
             "startlinecolor": "#2a3f5f"
            },
            "baxis": {
             "endlinecolor": "#2a3f5f",
             "gridcolor": "white",
             "linecolor": "white",
             "minorgridcolor": "white",
             "startlinecolor": "#2a3f5f"
            },
            "type": "carpet"
           }
          ],
          "choropleth": [
           {
            "colorbar": {
             "outlinewidth": 0,
             "ticks": ""
            },
            "type": "choropleth"
           }
          ],
          "contour": [
           {
            "colorbar": {
             "outlinewidth": 0,
             "ticks": ""
            },
            "colorscale": [
             [
              0,
              "#0d0887"
             ],
             [
              0.1111111111111111,
              "#46039f"
             ],
             [
              0.2222222222222222,
              "#7201a8"
             ],
             [
              0.3333333333333333,
              "#9c179e"
             ],
             [
              0.4444444444444444,
              "#bd3786"
             ],
             [
              0.5555555555555556,
              "#d8576b"
             ],
             [
              0.6666666666666666,
              "#ed7953"
             ],
             [
              0.7777777777777778,
              "#fb9f3a"
             ],
             [
              0.8888888888888888,
              "#fdca26"
             ],
             [
              1,
              "#f0f921"
             ]
            ],
            "type": "contour"
           }
          ],
          "contourcarpet": [
           {
            "colorbar": {
             "outlinewidth": 0,
             "ticks": ""
            },
            "type": "contourcarpet"
           }
          ],
          "heatmap": [
           {
            "colorbar": {
             "outlinewidth": 0,
             "ticks": ""
            },
            "colorscale": [
             [
              0,
              "#0d0887"
             ],
             [
              0.1111111111111111,
              "#46039f"
             ],
             [
              0.2222222222222222,
              "#7201a8"
             ],
             [
              0.3333333333333333,
              "#9c179e"
             ],
             [
              0.4444444444444444,
              "#bd3786"
             ],
             [
              0.5555555555555556,
              "#d8576b"
             ],
             [
              0.6666666666666666,
              "#ed7953"
             ],
             [
              0.7777777777777778,
              "#fb9f3a"
             ],
             [
              0.8888888888888888,
              "#fdca26"
             ],
             [
              1,
              "#f0f921"
             ]
            ],
            "type": "heatmap"
           }
          ],
          "histogram": [
           {
            "marker": {
             "pattern": {
              "fillmode": "overlay",
              "size": 10,
              "solidity": 0.2
             }
            },
            "type": "histogram"
           }
          ],
          "histogram2d": [
           {
            "colorbar": {
             "outlinewidth": 0,
             "ticks": ""
            },
            "colorscale": [
             [
              0,
              "#0d0887"
             ],
             [
              0.1111111111111111,
              "#46039f"
             ],
             [
              0.2222222222222222,
              "#7201a8"
             ],
             [
              0.3333333333333333,
              "#9c179e"
             ],
             [
              0.4444444444444444,
              "#bd3786"
             ],
             [
              0.5555555555555556,
              "#d8576b"
             ],
             [
              0.6666666666666666,
              "#ed7953"
             ],
             [
              0.7777777777777778,
              "#fb9f3a"
             ],
             [
              0.8888888888888888,
              "#fdca26"
             ],
             [
              1,
              "#f0f921"
             ]
            ],
            "type": "histogram2d"
           }
          ],
          "histogram2dcontour": [
           {
            "colorbar": {
             "outlinewidth": 0,
             "ticks": ""
            },
            "colorscale": [
             [
              0,
              "#0d0887"
             ],
             [
              0.1111111111111111,
              "#46039f"
             ],
             [
              0.2222222222222222,
              "#7201a8"
             ],
             [
              0.3333333333333333,
              "#9c179e"
             ],
             [
              0.4444444444444444,
              "#bd3786"
             ],
             [
              0.5555555555555556,
              "#d8576b"
             ],
             [
              0.6666666666666666,
              "#ed7953"
             ],
             [
              0.7777777777777778,
              "#fb9f3a"
             ],
             [
              0.8888888888888888,
              "#fdca26"
             ],
             [
              1,
              "#f0f921"
             ]
            ],
            "type": "histogram2dcontour"
           }
          ],
          "mesh3d": [
           {
            "colorbar": {
             "outlinewidth": 0,
             "ticks": ""
            },
            "type": "mesh3d"
           }
          ],
          "parcoords": [
           {
            "line": {
             "colorbar": {
              "outlinewidth": 0,
              "ticks": ""
             }
            },
            "type": "parcoords"
           }
          ],
          "pie": [
           {
            "automargin": true,
            "type": "pie"
           }
          ],
          "scatter": [
           {
            "fillpattern": {
             "fillmode": "overlay",
             "size": 10,
             "solidity": 0.2
            },
            "type": "scatter"
           }
          ],
          "scatter3d": [
           {
            "line": {
             "colorbar": {
              "outlinewidth": 0,
              "ticks": ""
             }
            },
            "marker": {
             "colorbar": {
              "outlinewidth": 0,
              "ticks": ""
             }
            },
            "type": "scatter3d"
           }
          ],
          "scattercarpet": [
           {
            "marker": {
             "colorbar": {
              "outlinewidth": 0,
              "ticks": ""
             }
            },
            "type": "scattercarpet"
           }
          ],
          "scattergeo": [
           {
            "marker": {
             "colorbar": {
              "outlinewidth": 0,
              "ticks": ""
             }
            },
            "type": "scattergeo"
           }
          ],
          "scattergl": [
           {
            "marker": {
             "colorbar": {
              "outlinewidth": 0,
              "ticks": ""
             }
            },
            "type": "scattergl"
           }
          ],
          "scattermap": [
           {
            "marker": {
             "colorbar": {
              "outlinewidth": 0,
              "ticks": ""
             }
            },
            "type": "scattermap"
           }
          ],
          "scattermapbox": [
           {
            "marker": {
             "colorbar": {
              "outlinewidth": 0,
              "ticks": ""
             }
            },
            "type": "scattermapbox"
           }
          ],
          "scatterpolar": [
           {
            "marker": {
             "colorbar": {
              "outlinewidth": 0,
              "ticks": ""
             }
            },
            "type": "scatterpolar"
           }
          ],
          "scatterpolargl": [
           {
            "marker": {
             "colorbar": {
              "outlinewidth": 0,
              "ticks": ""
             }
            },
            "type": "scatterpolargl"
           }
          ],
          "scatterternary": [
           {
            "marker": {
             "colorbar": {
              "outlinewidth": 0,
              "ticks": ""
             }
            },
            "type": "scatterternary"
           }
          ],
          "surface": [
           {
            "colorbar": {
             "outlinewidth": 0,
             "ticks": ""
            },
            "colorscale": [
             [
              0,
              "#0d0887"
             ],
             [
              0.1111111111111111,
              "#46039f"
             ],
             [
              0.2222222222222222,
              "#7201a8"
             ],
             [
              0.3333333333333333,
              "#9c179e"
             ],
             [
              0.4444444444444444,
              "#bd3786"
             ],
             [
              0.5555555555555556,
              "#d8576b"
             ],
             [
              0.6666666666666666,
              "#ed7953"
             ],
             [
              0.7777777777777778,
              "#fb9f3a"
             ],
             [
              0.8888888888888888,
              "#fdca26"
             ],
             [
              1,
              "#f0f921"
             ]
            ],
            "type": "surface"
           }
          ],
          "table": [
           {
            "cells": {
             "fill": {
              "color": "#EBF0F8"
             },
             "line": {
              "color": "white"
             }
            },
            "header": {
             "fill": {
              "color": "#C8D4E3"
             },
             "line": {
              "color": "white"
             }
            },
            "type": "table"
           }
          ]
         },
         "layout": {
          "annotationdefaults": {
           "arrowcolor": "#2a3f5f",
           "arrowhead": 0,
           "arrowwidth": 1
          },
          "autotypenumbers": "strict",
          "coloraxis": {
           "colorbar": {
            "outlinewidth": 0,
            "ticks": ""
           }
          },
          "colorscale": {
           "diverging": [
            [
             0,
             "#8e0152"
            ],
            [
             0.1,
             "#c51b7d"
            ],
            [
             0.2,
             "#de77ae"
            ],
            [
             0.3,
             "#f1b6da"
            ],
            [
             0.4,
             "#fde0ef"
            ],
            [
             0.5,
             "#f7f7f7"
            ],
            [
             0.6,
             "#e6f5d0"
            ],
            [
             0.7,
             "#b8e186"
            ],
            [
             0.8,
             "#7fbc41"
            ],
            [
             0.9,
             "#4d9221"
            ],
            [
             1,
             "#276419"
            ]
           ],
           "sequential": [
            [
             0,
             "#0d0887"
            ],
            [
             0.1111111111111111,
             "#46039f"
            ],
            [
             0.2222222222222222,
             "#7201a8"
            ],
            [
             0.3333333333333333,
             "#9c179e"
            ],
            [
             0.4444444444444444,
             "#bd3786"
            ],
            [
             0.5555555555555556,
             "#d8576b"
            ],
            [
             0.6666666666666666,
             "#ed7953"
            ],
            [
             0.7777777777777778,
             "#fb9f3a"
            ],
            [
             0.8888888888888888,
             "#fdca26"
            ],
            [
             1,
             "#f0f921"
            ]
           ],
           "sequentialminus": [
            [
             0,
             "#0d0887"
            ],
            [
             0.1111111111111111,
             "#46039f"
            ],
            [
             0.2222222222222222,
             "#7201a8"
            ],
            [
             0.3333333333333333,
             "#9c179e"
            ],
            [
             0.4444444444444444,
             "#bd3786"
            ],
            [
             0.5555555555555556,
             "#d8576b"
            ],
            [
             0.6666666666666666,
             "#ed7953"
            ],
            [
             0.7777777777777778,
             "#fb9f3a"
            ],
            [
             0.8888888888888888,
             "#fdca26"
            ],
            [
             1,
             "#f0f921"
            ]
           ]
          },
          "colorway": [
           "#636efa",
           "#EF553B",
           "#00cc96",
           "#ab63fa",
           "#FFA15A",
           "#19d3f3",
           "#FF6692",
           "#B6E880",
           "#FF97FF",
           "#FECB52"
          ],
          "font": {
           "color": "#2a3f5f"
          },
          "geo": {
           "bgcolor": "white",
           "lakecolor": "white",
           "landcolor": "#E5ECF6",
           "showlakes": true,
           "showland": true,
           "subunitcolor": "white"
          },
          "hoverlabel": {
           "align": "left"
          },
          "hovermode": "closest",
          "mapbox": {
           "style": "light"
          },
          "paper_bgcolor": "white",
          "plot_bgcolor": "#E5ECF6",
          "polar": {
           "angularaxis": {
            "gridcolor": "white",
            "linecolor": "white",
            "ticks": ""
           },
           "bgcolor": "#E5ECF6",
           "radialaxis": {
            "gridcolor": "white",
            "linecolor": "white",
            "ticks": ""
           }
          },
          "scene": {
           "xaxis": {
            "backgroundcolor": "#E5ECF6",
            "gridcolor": "white",
            "gridwidth": 2,
            "linecolor": "white",
            "showbackground": true,
            "ticks": "",
            "zerolinecolor": "white"
           },
           "yaxis": {
            "backgroundcolor": "#E5ECF6",
            "gridcolor": "white",
            "gridwidth": 2,
            "linecolor": "white",
            "showbackground": true,
            "ticks": "",
            "zerolinecolor": "white"
           },
           "zaxis": {
            "backgroundcolor": "#E5ECF6",
            "gridcolor": "white",
            "gridwidth": 2,
            "linecolor": "white",
            "showbackground": true,
            "ticks": "",
            "zerolinecolor": "white"
           }
          },
          "shapedefaults": {
           "line": {
            "color": "#2a3f5f"
           }
          },
          "ternary": {
           "aaxis": {
            "gridcolor": "white",
            "linecolor": "white",
            "ticks": ""
           },
           "baxis": {
            "gridcolor": "white",
            "linecolor": "white",
            "ticks": ""
           },
           "bgcolor": "#E5ECF6",
           "caxis": {
            "gridcolor": "white",
            "linecolor": "white",
            "ticks": ""
           }
          },
          "title": {
           "x": 0.05
          },
          "xaxis": {
           "automargin": true,
           "gridcolor": "white",
           "linecolor": "white",
           "ticks": "",
           "title": {
            "standoff": 15
           },
           "zerolinecolor": "white",
           "zerolinewidth": 2
          },
          "yaxis": {
           "automargin": true,
           "gridcolor": "white",
           "linecolor": "white",
           "ticks": "",
           "title": {
            "standoff": 15
           },
           "zerolinecolor": "white",
           "zerolinewidth": 2
          }
         }
        },
        "title": {
         "text": "Nova Group bo'yicha organik mahsulotlar foizi (%)"
        },
        "xaxis": {
         "anchor": "y",
         "domain": [
          0,
          1
         ],
         "title": {
          "text": "Nova Group"
         }
        },
        "yaxis": {
         "anchor": "x",
         "domain": [
          0,
          1
         ],
         "title": {
          "text": "% Organik"
         }
        }
       }
      }
     },
     "metadata": {},
     "output_type": "display_data"
    },
    {
     "data": {
      "application/vnd.plotly.v1+json": {
       "config": {
        "plotlyServerURL": "https://plot.ly"
       },
       "data": [
        {
         "hovertemplate": "Nova Group=%{x}<br>Count sugar_free=%{y}<extra></extra>",
         "legendgroup": "",
         "marker": {
          "color": "#636efa",
          "pattern": {
           "shape": ""
          }
         },
         "name": "",
         "orientation": "v",
         "showlegend": false,
         "textposition": "auto",
         "type": "bar",
         "x": {
          "bdata": "AAAAAAAA8D8AAAAAAAAAQAAAAAAAAAhANeZu8KxGCkAAAAAAAAAQQA==",
          "dtype": "f8"
         },
         "xaxis": "x",
         "y": {
          "bdata": "AAAAAAA=",
          "dtype": "i1"
         },
         "yaxis": "y"
        }
       ],
       "layout": {
        "barmode": "relative",
        "legend": {
         "tracegroupgap": 0
        },
        "template": {
         "data": {
          "bar": [
           {
            "error_x": {
             "color": "#2a3f5f"
            },
            "error_y": {
             "color": "#2a3f5f"
            },
            "marker": {
             "line": {
              "color": "#E5ECF6",
              "width": 0.5
             },
             "pattern": {
              "fillmode": "overlay",
              "size": 10,
              "solidity": 0.2
             }
            },
            "type": "bar"
           }
          ],
          "barpolar": [
           {
            "marker": {
             "line": {
              "color": "#E5ECF6",
              "width": 0.5
             },
             "pattern": {
              "fillmode": "overlay",
              "size": 10,
              "solidity": 0.2
             }
            },
            "type": "barpolar"
           }
          ],
          "carpet": [
           {
            "aaxis": {
             "endlinecolor": "#2a3f5f",
             "gridcolor": "white",
             "linecolor": "white",
             "minorgridcolor": "white",
             "startlinecolor": "#2a3f5f"
            },
            "baxis": {
             "endlinecolor": "#2a3f5f",
             "gridcolor": "white",
             "linecolor": "white",
             "minorgridcolor": "white",
             "startlinecolor": "#2a3f5f"
            },
            "type": "carpet"
           }
          ],
          "choropleth": [
           {
            "colorbar": {
             "outlinewidth": 0,
             "ticks": ""
            },
            "type": "choropleth"
           }
          ],
          "contour": [
           {
            "colorbar": {
             "outlinewidth": 0,
             "ticks": ""
            },
            "colorscale": [
             [
              0,
              "#0d0887"
             ],
             [
              0.1111111111111111,
              "#46039f"
             ],
             [
              0.2222222222222222,
              "#7201a8"
             ],
             [
              0.3333333333333333,
              "#9c179e"
             ],
             [
              0.4444444444444444,
              "#bd3786"
             ],
             [
              0.5555555555555556,
              "#d8576b"
             ],
             [
              0.6666666666666666,
              "#ed7953"
             ],
             [
              0.7777777777777778,
              "#fb9f3a"
             ],
             [
              0.8888888888888888,
              "#fdca26"
             ],
             [
              1,
              "#f0f921"
             ]
            ],
            "type": "contour"
           }
          ],
          "contourcarpet": [
           {
            "colorbar": {
             "outlinewidth": 0,
             "ticks": ""
            },
            "type": "contourcarpet"
           }
          ],
          "heatmap": [
           {
            "colorbar": {
             "outlinewidth": 0,
             "ticks": ""
            },
            "colorscale": [
             [
              0,
              "#0d0887"
             ],
             [
              0.1111111111111111,
              "#46039f"
             ],
             [
              0.2222222222222222,
              "#7201a8"
             ],
             [
              0.3333333333333333,
              "#9c179e"
             ],
             [
              0.4444444444444444,
              "#bd3786"
             ],
             [
              0.5555555555555556,
              "#d8576b"
             ],
             [
              0.6666666666666666,
              "#ed7953"
             ],
             [
              0.7777777777777778,
              "#fb9f3a"
             ],
             [
              0.8888888888888888,
              "#fdca26"
             ],
             [
              1,
              "#f0f921"
             ]
            ],
            "type": "heatmap"
           }
          ],
          "histogram": [
           {
            "marker": {
             "pattern": {
              "fillmode": "overlay",
              "size": 10,
              "solidity": 0.2
             }
            },
            "type": "histogram"
           }
          ],
          "histogram2d": [
           {
            "colorbar": {
             "outlinewidth": 0,
             "ticks": ""
            },
            "colorscale": [
             [
              0,
              "#0d0887"
             ],
             [
              0.1111111111111111,
              "#46039f"
             ],
             [
              0.2222222222222222,
              "#7201a8"
             ],
             [
              0.3333333333333333,
              "#9c179e"
             ],
             [
              0.4444444444444444,
              "#bd3786"
             ],
             [
              0.5555555555555556,
              "#d8576b"
             ],
             [
              0.6666666666666666,
              "#ed7953"
             ],
             [
              0.7777777777777778,
              "#fb9f3a"
             ],
             [
              0.8888888888888888,
              "#fdca26"
             ],
             [
              1,
              "#f0f921"
             ]
            ],
            "type": "histogram2d"
           }
          ],
          "histogram2dcontour": [
           {
            "colorbar": {
             "outlinewidth": 0,
             "ticks": ""
            },
            "colorscale": [
             [
              0,
              "#0d0887"
             ],
             [
              0.1111111111111111,
              "#46039f"
             ],
             [
              0.2222222222222222,
              "#7201a8"
             ],
             [
              0.3333333333333333,
              "#9c179e"
             ],
             [
              0.4444444444444444,
              "#bd3786"
             ],
             [
              0.5555555555555556,
              "#d8576b"
             ],
             [
              0.6666666666666666,
              "#ed7953"
             ],
             [
              0.7777777777777778,
              "#fb9f3a"
             ],
             [
              0.8888888888888888,
              "#fdca26"
             ],
             [
              1,
              "#f0f921"
             ]
            ],
            "type": "histogram2dcontour"
           }
          ],
          "mesh3d": [
           {
            "colorbar": {
             "outlinewidth": 0,
             "ticks": ""
            },
            "type": "mesh3d"
           }
          ],
          "parcoords": [
           {
            "line": {
             "colorbar": {
              "outlinewidth": 0,
              "ticks": ""
             }
            },
            "type": "parcoords"
           }
          ],
          "pie": [
           {
            "automargin": true,
            "type": "pie"
           }
          ],
          "scatter": [
           {
            "fillpattern": {
             "fillmode": "overlay",
             "size": 10,
             "solidity": 0.2
            },
            "type": "scatter"
           }
          ],
          "scatter3d": [
           {
            "line": {
             "colorbar": {
              "outlinewidth": 0,
              "ticks": ""
             }
            },
            "marker": {
             "colorbar": {
              "outlinewidth": 0,
              "ticks": ""
             }
            },
            "type": "scatter3d"
           }
          ],
          "scattercarpet": [
           {
            "marker": {
             "colorbar": {
              "outlinewidth": 0,
              "ticks": ""
             }
            },
            "type": "scattercarpet"
           }
          ],
          "scattergeo": [
           {
            "marker": {
             "colorbar": {
              "outlinewidth": 0,
              "ticks": ""
             }
            },
            "type": "scattergeo"
           }
          ],
          "scattergl": [
           {
            "marker": {
             "colorbar": {
              "outlinewidth": 0,
              "ticks": ""
             }
            },
            "type": "scattergl"
           }
          ],
          "scattermap": [
           {
            "marker": {
             "colorbar": {
              "outlinewidth": 0,
              "ticks": ""
             }
            },
            "type": "scattermap"
           }
          ],
          "scattermapbox": [
           {
            "marker": {
             "colorbar": {
              "outlinewidth": 0,
              "ticks": ""
             }
            },
            "type": "scattermapbox"
           }
          ],
          "scatterpolar": [
           {
            "marker": {
             "colorbar": {
              "outlinewidth": 0,
              "ticks": ""
             }
            },
            "type": "scatterpolar"
           }
          ],
          "scatterpolargl": [
           {
            "marker": {
             "colorbar": {
              "outlinewidth": 0,
              "ticks": ""
             }
            },
            "type": "scatterpolargl"
           }
          ],
          "scatterternary": [
           {
            "marker": {
             "colorbar": {
              "outlinewidth": 0,
              "ticks": ""
             }
            },
            "type": "scatterternary"
           }
          ],
          "surface": [
           {
            "colorbar": {
             "outlinewidth": 0,
             "ticks": ""
            },
            "colorscale": [
             [
              0,
              "#0d0887"
             ],
             [
              0.1111111111111111,
              "#46039f"
             ],
             [
              0.2222222222222222,
              "#7201a8"
             ],
             [
              0.3333333333333333,
              "#9c179e"
             ],
             [
              0.4444444444444444,
              "#bd3786"
             ],
             [
              0.5555555555555556,
              "#d8576b"
             ],
             [
              0.6666666666666666,
              "#ed7953"
             ],
             [
              0.7777777777777778,
              "#fb9f3a"
             ],
             [
              0.8888888888888888,
              "#fdca26"
             ],
             [
              1,
              "#f0f921"
             ]
            ],
            "type": "surface"
           }
          ],
          "table": [
           {
            "cells": {
             "fill": {
              "color": "#EBF0F8"
             },
             "line": {
              "color": "white"
             }
            },
            "header": {
             "fill": {
              "color": "#C8D4E3"
             },
             "line": {
              "color": "white"
             }
            },
            "type": "table"
           }
          ]
         },
         "layout": {
          "annotationdefaults": {
           "arrowcolor": "#2a3f5f",
           "arrowhead": 0,
           "arrowwidth": 1
          },
          "autotypenumbers": "strict",
          "coloraxis": {
           "colorbar": {
            "outlinewidth": 0,
            "ticks": ""
           }
          },
          "colorscale": {
           "diverging": [
            [
             0,
             "#8e0152"
            ],
            [
             0.1,
             "#c51b7d"
            ],
            [
             0.2,
             "#de77ae"
            ],
            [
             0.3,
             "#f1b6da"
            ],
            [
             0.4,
             "#fde0ef"
            ],
            [
             0.5,
             "#f7f7f7"
            ],
            [
             0.6,
             "#e6f5d0"
            ],
            [
             0.7,
             "#b8e186"
            ],
            [
             0.8,
             "#7fbc41"
            ],
            [
             0.9,
             "#4d9221"
            ],
            [
             1,
             "#276419"
            ]
           ],
           "sequential": [
            [
             0,
             "#0d0887"
            ],
            [
             0.1111111111111111,
             "#46039f"
            ],
            [
             0.2222222222222222,
             "#7201a8"
            ],
            [
             0.3333333333333333,
             "#9c179e"
            ],
            [
             0.4444444444444444,
             "#bd3786"
            ],
            [
             0.5555555555555556,
             "#d8576b"
            ],
            [
             0.6666666666666666,
             "#ed7953"
            ],
            [
             0.7777777777777778,
             "#fb9f3a"
            ],
            [
             0.8888888888888888,
             "#fdca26"
            ],
            [
             1,
             "#f0f921"
            ]
           ],
           "sequentialminus": [
            [
             0,
             "#0d0887"
            ],
            [
             0.1111111111111111,
             "#46039f"
            ],
            [
             0.2222222222222222,
             "#7201a8"
            ],
            [
             0.3333333333333333,
             "#9c179e"
            ],
            [
             0.4444444444444444,
             "#bd3786"
            ],
            [
             0.5555555555555556,
             "#d8576b"
            ],
            [
             0.6666666666666666,
             "#ed7953"
            ],
            [
             0.7777777777777778,
             "#fb9f3a"
            ],
            [
             0.8888888888888888,
             "#fdca26"
            ],
            [
             1,
             "#f0f921"
            ]
           ]
          },
          "colorway": [
           "#636efa",
           "#EF553B",
           "#00cc96",
           "#ab63fa",
           "#FFA15A",
           "#19d3f3",
           "#FF6692",
           "#B6E880",
           "#FF97FF",
           "#FECB52"
          ],
          "font": {
           "color": "#2a3f5f"
          },
          "geo": {
           "bgcolor": "white",
           "lakecolor": "white",
           "landcolor": "#E5ECF6",
           "showlakes": true,
           "showland": true,
           "subunitcolor": "white"
          },
          "hoverlabel": {
           "align": "left"
          },
          "hovermode": "closest",
          "mapbox": {
           "style": "light"
          },
          "paper_bgcolor": "white",
          "plot_bgcolor": "#E5ECF6",
          "polar": {
           "angularaxis": {
            "gridcolor": "white",
            "linecolor": "white",
            "ticks": ""
           },
           "bgcolor": "#E5ECF6",
           "radialaxis": {
            "gridcolor": "white",
            "linecolor": "white",
            "ticks": ""
           }
          },
          "scene": {
           "xaxis": {
            "backgroundcolor": "#E5ECF6",
            "gridcolor": "white",
            "gridwidth": 2,
            "linecolor": "white",
            "showbackground": true,
            "ticks": "",
            "zerolinecolor": "white"
           },
           "yaxis": {
            "backgroundcolor": "#E5ECF6",
            "gridcolor": "white",
            "gridwidth": 2,
            "linecolor": "white",
            "showbackground": true,
            "ticks": "",
            "zerolinecolor": "white"
           },
           "zaxis": {
            "backgroundcolor": "#E5ECF6",
            "gridcolor": "white",
            "gridwidth": 2,
            "linecolor": "white",
            "showbackground": true,
            "ticks": "",
            "zerolinecolor": "white"
           }
          },
          "shapedefaults": {
           "line": {
            "color": "#2a3f5f"
           }
          },
          "ternary": {
           "aaxis": {
            "gridcolor": "white",
            "linecolor": "white",
            "ticks": ""
           },
           "baxis": {
            "gridcolor": "white",
            "linecolor": "white",
            "ticks": ""
           },
           "bgcolor": "#E5ECF6",
           "caxis": {
            "gridcolor": "white",
            "linecolor": "white",
            "ticks": ""
           }
          },
          "title": {
           "x": 0.05
          },
          "xaxis": {
           "automargin": true,
           "gridcolor": "white",
           "linecolor": "white",
           "ticks": "",
           "title": {
            "standoff": 15
           },
           "zerolinecolor": "white",
           "zerolinewidth": 2
          },
          "yaxis": {
           "automargin": true,
           "gridcolor": "white",
           "linecolor": "white",
           "ticks": "",
           "title": {
            "standoff": 15
           },
           "zerolinecolor": "white",
           "zerolinewidth": 2
          }
         }
        },
        "title": {
         "text": "Nova Group bo'yicha 'sugar free' count"
        },
        "xaxis": {
         "anchor": "y",
         "domain": [
          0,
          1
         ],
         "title": {
          "text": "Nova Group"
         }
        },
        "yaxis": {
         "anchor": "x",
         "domain": [
          0,
          1
         ],
         "title": {
          "text": "Count sugar_free"
         }
        }
       }
      }
     },
     "metadata": {},
     "output_type": "display_data"
    },
    {
     "data": {
      "application/vnd.plotly.v1+json": {
       "config": {
        "plotlyServerURL": "https://plot.ly"
       },
       "data": [
        {
         "hovertemplate": "is_organic=0<br>nova_group=%{x}<br>count=%{y}<extra></extra>",
         "legendgroup": "0",
         "marker": {
          "color": "#636efa",
          "pattern": {
           "shape": ""
          }
         },
         "name": "0",
         "orientation": "v",
         "showlegend": true,
         "textposition": "auto",
         "type": "bar",
         "x": {
          "bdata": "AAAAAAAA8D8AAAAAAAAAQAAAAAAAAAhANeZu8KxGCkAAAAAAAAAQQA==",
          "dtype": "f8"
         },
         "xaxis": "x",
         "y": {
          "bdata": "JQLPACgE6gEyCg==",
          "dtype": "i2"
         },
         "yaxis": "y"
        },
        {
         "hovertemplate": "is_organic=1<br>nova_group=%{x}<br>count=%{y}<extra></extra>",
         "legendgroup": "1",
         "marker": {
          "color": "#EF553B",
          "pattern": {
           "shape": ""
          }
         },
         "name": "1",
         "orientation": "v",
         "showlegend": true,
         "textposition": "auto",
         "type": "bar",
         "x": {
          "bdata": "AAAAAAAA8D8AAAAAAAAAQAAAAAAAAAhANeZu8KxGCkAAAAAAAAAQQA==",
          "dtype": "f8"
         },
         "xaxis": "x",
         "y": {
          "bdata": "EgUjAQ4=",
          "dtype": "i1"
         },
         "yaxis": "y"
        }
       ],
       "layout": {
        "barmode": "stack",
        "legend": {
         "title": {
          "text": "is_organic"
         },
         "tracegroupgap": 0
        },
        "template": {
         "data": {
          "bar": [
           {
            "error_x": {
             "color": "#2a3f5f"
            },
            "error_y": {
             "color": "#2a3f5f"
            },
            "marker": {
             "line": {
              "color": "#E5ECF6",
              "width": 0.5
             },
             "pattern": {
              "fillmode": "overlay",
              "size": 10,
              "solidity": 0.2
             }
            },
            "type": "bar"
           }
          ],
          "barpolar": [
           {
            "marker": {
             "line": {
              "color": "#E5ECF6",
              "width": 0.5
             },
             "pattern": {
              "fillmode": "overlay",
              "size": 10,
              "solidity": 0.2
             }
            },
            "type": "barpolar"
           }
          ],
          "carpet": [
           {
            "aaxis": {
             "endlinecolor": "#2a3f5f",
             "gridcolor": "white",
             "linecolor": "white",
             "minorgridcolor": "white",
             "startlinecolor": "#2a3f5f"
            },
            "baxis": {
             "endlinecolor": "#2a3f5f",
             "gridcolor": "white",
             "linecolor": "white",
             "minorgridcolor": "white",
             "startlinecolor": "#2a3f5f"
            },
            "type": "carpet"
           }
          ],
          "choropleth": [
           {
            "colorbar": {
             "outlinewidth": 0,
             "ticks": ""
            },
            "type": "choropleth"
           }
          ],
          "contour": [
           {
            "colorbar": {
             "outlinewidth": 0,
             "ticks": ""
            },
            "colorscale": [
             [
              0,
              "#0d0887"
             ],
             [
              0.1111111111111111,
              "#46039f"
             ],
             [
              0.2222222222222222,
              "#7201a8"
             ],
             [
              0.3333333333333333,
              "#9c179e"
             ],
             [
              0.4444444444444444,
              "#bd3786"
             ],
             [
              0.5555555555555556,
              "#d8576b"
             ],
             [
              0.6666666666666666,
              "#ed7953"
             ],
             [
              0.7777777777777778,
              "#fb9f3a"
             ],
             [
              0.8888888888888888,
              "#fdca26"
             ],
             [
              1,
              "#f0f921"
             ]
            ],
            "type": "contour"
           }
          ],
          "contourcarpet": [
           {
            "colorbar": {
             "outlinewidth": 0,
             "ticks": ""
            },
            "type": "contourcarpet"
           }
          ],
          "heatmap": [
           {
            "colorbar": {
             "outlinewidth": 0,
             "ticks": ""
            },
            "colorscale": [
             [
              0,
              "#0d0887"
             ],
             [
              0.1111111111111111,
              "#46039f"
             ],
             [
              0.2222222222222222,
              "#7201a8"
             ],
             [
              0.3333333333333333,
              "#9c179e"
             ],
             [
              0.4444444444444444,
              "#bd3786"
             ],
             [
              0.5555555555555556,
              "#d8576b"
             ],
             [
              0.6666666666666666,
              "#ed7953"
             ],
             [
              0.7777777777777778,
              "#fb9f3a"
             ],
             [
              0.8888888888888888,
              "#fdca26"
             ],
             [
              1,
              "#f0f921"
             ]
            ],
            "type": "heatmap"
           }
          ],
          "histogram": [
           {
            "marker": {
             "pattern": {
              "fillmode": "overlay",
              "size": 10,
              "solidity": 0.2
             }
            },
            "type": "histogram"
           }
          ],
          "histogram2d": [
           {
            "colorbar": {
             "outlinewidth": 0,
             "ticks": ""
            },
            "colorscale": [
             [
              0,
              "#0d0887"
             ],
             [
              0.1111111111111111,
              "#46039f"
             ],
             [
              0.2222222222222222,
              "#7201a8"
             ],
             [
              0.3333333333333333,
              "#9c179e"
             ],
             [
              0.4444444444444444,
              "#bd3786"
             ],
             [
              0.5555555555555556,
              "#d8576b"
             ],
             [
              0.6666666666666666,
              "#ed7953"
             ],
             [
              0.7777777777777778,
              "#fb9f3a"
             ],
             [
              0.8888888888888888,
              "#fdca26"
             ],
             [
              1,
              "#f0f921"
             ]
            ],
            "type": "histogram2d"
           }
          ],
          "histogram2dcontour": [
           {
            "colorbar": {
             "outlinewidth": 0,
             "ticks": ""
            },
            "colorscale": [
             [
              0,
              "#0d0887"
             ],
             [
              0.1111111111111111,
              "#46039f"
             ],
             [
              0.2222222222222222,
              "#7201a8"
             ],
             [
              0.3333333333333333,
              "#9c179e"
             ],
             [
              0.4444444444444444,
              "#bd3786"
             ],
             [
              0.5555555555555556,
              "#d8576b"
             ],
             [
              0.6666666666666666,
              "#ed7953"
             ],
             [
              0.7777777777777778,
              "#fb9f3a"
             ],
             [
              0.8888888888888888,
              "#fdca26"
             ],
             [
              1,
              "#f0f921"
             ]
            ],
            "type": "histogram2dcontour"
           }
          ],
          "mesh3d": [
           {
            "colorbar": {
             "outlinewidth": 0,
             "ticks": ""
            },
            "type": "mesh3d"
           }
          ],
          "parcoords": [
           {
            "line": {
             "colorbar": {
              "outlinewidth": 0,
              "ticks": ""
             }
            },
            "type": "parcoords"
           }
          ],
          "pie": [
           {
            "automargin": true,
            "type": "pie"
           }
          ],
          "scatter": [
           {
            "fillpattern": {
             "fillmode": "overlay",
             "size": 10,
             "solidity": 0.2
            },
            "type": "scatter"
           }
          ],
          "scatter3d": [
           {
            "line": {
             "colorbar": {
              "outlinewidth": 0,
              "ticks": ""
             }
            },
            "marker": {
             "colorbar": {
              "outlinewidth": 0,
              "ticks": ""
             }
            },
            "type": "scatter3d"
           }
          ],
          "scattercarpet": [
           {
            "marker": {
             "colorbar": {
              "outlinewidth": 0,
              "ticks": ""
             }
            },
            "type": "scattercarpet"
           }
          ],
          "scattergeo": [
           {
            "marker": {
             "colorbar": {
              "outlinewidth": 0,
              "ticks": ""
             }
            },
            "type": "scattergeo"
           }
          ],
          "scattergl": [
           {
            "marker": {
             "colorbar": {
              "outlinewidth": 0,
              "ticks": ""
             }
            },
            "type": "scattergl"
           }
          ],
          "scattermap": [
           {
            "marker": {
             "colorbar": {
              "outlinewidth": 0,
              "ticks": ""
             }
            },
            "type": "scattermap"
           }
          ],
          "scattermapbox": [
           {
            "marker": {
             "colorbar": {
              "outlinewidth": 0,
              "ticks": ""
             }
            },
            "type": "scattermapbox"
           }
          ],
          "scatterpolar": [
           {
            "marker": {
             "colorbar": {
              "outlinewidth": 0,
              "ticks": ""
             }
            },
            "type": "scatterpolar"
           }
          ],
          "scatterpolargl": [
           {
            "marker": {
             "colorbar": {
              "outlinewidth": 0,
              "ticks": ""
             }
            },
            "type": "scatterpolargl"
           }
          ],
          "scatterternary": [
           {
            "marker": {
             "colorbar": {
              "outlinewidth": 0,
              "ticks": ""
             }
            },
            "type": "scatterternary"
           }
          ],
          "surface": [
           {
            "colorbar": {
             "outlinewidth": 0,
             "ticks": ""
            },
            "colorscale": [
             [
              0,
              "#0d0887"
             ],
             [
              0.1111111111111111,
              "#46039f"
             ],
             [
              0.2222222222222222,
              "#7201a8"
             ],
             [
              0.3333333333333333,
              "#9c179e"
             ],
             [
              0.4444444444444444,
              "#bd3786"
             ],
             [
              0.5555555555555556,
              "#d8576b"
             ],
             [
              0.6666666666666666,
              "#ed7953"
             ],
             [
              0.7777777777777778,
              "#fb9f3a"
             ],
             [
              0.8888888888888888,
              "#fdca26"
             ],
             [
              1,
              "#f0f921"
             ]
            ],
            "type": "surface"
           }
          ],
          "table": [
           {
            "cells": {
             "fill": {
              "color": "#EBF0F8"
             },
             "line": {
              "color": "white"
             }
            },
            "header": {
             "fill": {
              "color": "#C8D4E3"
             },
             "line": {
              "color": "white"
             }
            },
            "type": "table"
           }
          ]
         },
         "layout": {
          "annotationdefaults": {
           "arrowcolor": "#2a3f5f",
           "arrowhead": 0,
           "arrowwidth": 1
          },
          "autotypenumbers": "strict",
          "coloraxis": {
           "colorbar": {
            "outlinewidth": 0,
            "ticks": ""
           }
          },
          "colorscale": {
           "diverging": [
            [
             0,
             "#8e0152"
            ],
            [
             0.1,
             "#c51b7d"
            ],
            [
             0.2,
             "#de77ae"
            ],
            [
             0.3,
             "#f1b6da"
            ],
            [
             0.4,
             "#fde0ef"
            ],
            [
             0.5,
             "#f7f7f7"
            ],
            [
             0.6,
             "#e6f5d0"
            ],
            [
             0.7,
             "#b8e186"
            ],
            [
             0.8,
             "#7fbc41"
            ],
            [
             0.9,
             "#4d9221"
            ],
            [
             1,
             "#276419"
            ]
           ],
           "sequential": [
            [
             0,
             "#0d0887"
            ],
            [
             0.1111111111111111,
             "#46039f"
            ],
            [
             0.2222222222222222,
             "#7201a8"
            ],
            [
             0.3333333333333333,
             "#9c179e"
            ],
            [
             0.4444444444444444,
             "#bd3786"
            ],
            [
             0.5555555555555556,
             "#d8576b"
            ],
            [
             0.6666666666666666,
             "#ed7953"
            ],
            [
             0.7777777777777778,
             "#fb9f3a"
            ],
            [
             0.8888888888888888,
             "#fdca26"
            ],
            [
             1,
             "#f0f921"
            ]
           ],
           "sequentialminus": [
            [
             0,
             "#0d0887"
            ],
            [
             0.1111111111111111,
             "#46039f"
            ],
            [
             0.2222222222222222,
             "#7201a8"
            ],
            [
             0.3333333333333333,
             "#9c179e"
            ],
            [
             0.4444444444444444,
             "#bd3786"
            ],
            [
             0.5555555555555556,
             "#d8576b"
            ],
            [
             0.6666666666666666,
             "#ed7953"
            ],
            [
             0.7777777777777778,
             "#fb9f3a"
            ],
            [
             0.8888888888888888,
             "#fdca26"
            ],
            [
             1,
             "#f0f921"
            ]
           ]
          },
          "colorway": [
           "#636efa",
           "#EF553B",
           "#00cc96",
           "#ab63fa",
           "#FFA15A",
           "#19d3f3",
           "#FF6692",
           "#B6E880",
           "#FF97FF",
           "#FECB52"
          ],
          "font": {
           "color": "#2a3f5f"
          },
          "geo": {
           "bgcolor": "white",
           "lakecolor": "white",
           "landcolor": "#E5ECF6",
           "showlakes": true,
           "showland": true,
           "subunitcolor": "white"
          },
          "hoverlabel": {
           "align": "left"
          },
          "hovermode": "closest",
          "mapbox": {
           "style": "light"
          },
          "paper_bgcolor": "white",
          "plot_bgcolor": "#E5ECF6",
          "polar": {
           "angularaxis": {
            "gridcolor": "white",
            "linecolor": "white",
            "ticks": ""
           },
           "bgcolor": "#E5ECF6",
           "radialaxis": {
            "gridcolor": "white",
            "linecolor": "white",
            "ticks": ""
           }
          },
          "scene": {
           "xaxis": {
            "backgroundcolor": "#E5ECF6",
            "gridcolor": "white",
            "gridwidth": 2,
            "linecolor": "white",
            "showbackground": true,
            "ticks": "",
            "zerolinecolor": "white"
           },
           "yaxis": {
            "backgroundcolor": "#E5ECF6",
            "gridcolor": "white",
            "gridwidth": 2,
            "linecolor": "white",
            "showbackground": true,
            "ticks": "",
            "zerolinecolor": "white"
           },
           "zaxis": {
            "backgroundcolor": "#E5ECF6",
            "gridcolor": "white",
            "gridwidth": 2,
            "linecolor": "white",
            "showbackground": true,
            "ticks": "",
            "zerolinecolor": "white"
           }
          },
          "shapedefaults": {
           "line": {
            "color": "#2a3f5f"
           }
          },
          "ternary": {
           "aaxis": {
            "gridcolor": "white",
            "linecolor": "white",
            "ticks": ""
           },
           "baxis": {
            "gridcolor": "white",
            "linecolor": "white",
            "ticks": ""
           },
           "bgcolor": "#E5ECF6",
           "caxis": {
            "gridcolor": "white",
            "linecolor": "white",
            "ticks": ""
           }
          },
          "title": {
           "x": 0.05
          },
          "xaxis": {
           "automargin": true,
           "gridcolor": "white",
           "linecolor": "white",
           "ticks": "",
           "title": {
            "standoff": 15
           },
           "zerolinecolor": "white",
           "zerolinewidth": 2
          },
          "yaxis": {
           "automargin": true,
           "gridcolor": "white",
           "linecolor": "white",
           "ticks": "",
           "title": {
            "standoff": 15
           },
           "zerolinecolor": "white",
           "zerolinewidth": 2
          }
         }
        },
        "title": {
         "text": "Nova Group vs Organik (count)"
        },
        "xaxis": {
         "anchor": "y",
         "domain": [
          0,
          1
         ],
         "title": {
          "text": "nova_group"
         }
        },
        "yaxis": {
         "anchor": "x",
         "domain": [
          0,
          1
         ],
         "title": {
          "text": "count"
         }
        }
       }
      }
     },
     "metadata": {},
     "output_type": "display_data"
    }
   ],
   "source": [
    "# 2a: is_organic foizlari — nova_group bo'yicha\n",
    "org = df.groupby(\"nova_group\")[\"is_organic\"].mean().reset_index()\n",
    "org[\"pct_organic\"] = org[\"is_organic\"] * 100\n",
    "\n",
    "fig = px.bar(org, x=\"nova_group\", y=\"pct_organic\",\n",
    "             title=\"Nova Group bo'yicha organik mahsulotlar foizi (%)\",\n",
    "             labels={\"pct_organic\":\"% Organik\", \"nova_group\":\"Nova Group\"})\n",
    "fig.show()\n",
    "\n",
    "# 2b: is_sugar_free — agar hammasi 0 bo'lsa, grafik bo'sh chiqadi; lekin umumiy taqsimotni ko'rsatamiz\n",
    "sugar = df.groupby(\"nova_group\")[\"is_sugar_free\"].sum().reset_index()\n",
    "fig = px.bar(sugar, x=\"nova_group\", y=\"is_sugar_free\",\n",
    "             title=\"Nova Group bo'yicha 'sugar free' count\",\n",
    "             labels={\"is_sugar_free\":\"Count sugar_free\", \"nova_group\":\"Nova Group\"})\n",
    "fig.show()\n",
    "\n",
    "# 2c: Organik/No-organik taqsimotini stacked bar sifatida:\n",
    "agg = df.groupby([\"nova_group\", \"is_organic\"]).size().reset_index(name=\"count\")\n",
    "agg[\"is_organic\"] = agg[\"is_organic\"].astype(str)  # for nicer legend\n",
    "fig = px.bar(agg, x=\"nova_group\", y=\"count\", color=\"is_organic\",\n",
    "             title=\"Nova Group vs Organik (count)\")\n",
    "fig.update_layout(barmode=\"stack\")\n",
    "fig.show()\n"
   ]
  },
  {
   "cell_type": "code",
   "execution_count": null,
   "id": "afffb274",
   "metadata": {},
   "outputs": [],
   "source": []
  },
  {
   "cell_type": "markdown",
   "id": "5495f374",
   "metadata": {},
   "source": [
    "# Quantity-based segmentation — quantity_value & quantity_unit"
   ]
  },
  {
   "cell_type": "code",
   "execution_count": 13,
   "id": "5b27bd6f",
   "metadata": {},
   "outputs": [
    {
     "data": {
      "application/vnd.plotly.v1+json": {
       "config": {
        "plotlyServerURL": "https://plot.ly"
       },
       "data": [
        {
         "alignmentgroup": "True",
         "hovertemplate": "Nova Group=%{x}<br>log(1+quantity_value)=%{y}<extra></extra>",
         "legendgroup": "",
         "marker": {
          "color": "#636efa"
         },
         "name": "",
         "notched": false,
         "offsetgroup": "",
         "orientation": "v",
         "showlegend": false,
         "type": "box",
         "x": {
          "bdata": "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",
          "dtype": "f8"
         },
         "x0": " ",
         "xaxis": "x",
         "y": {
          "bdata": "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",
          "dtype": "f8"
         },
         "y0": " ",
         "yaxis": "y"
        }
       ],
       "layout": {
        "boxmode": "group",
        "legend": {
         "tracegroupgap": 0
        },
        "template": {
         "data": {
          "bar": [
           {
            "error_x": {
             "color": "#2a3f5f"
            },
            "error_y": {
             "color": "#2a3f5f"
            },
            "marker": {
             "line": {
              "color": "#E5ECF6",
              "width": 0.5
             },
             "pattern": {
              "fillmode": "overlay",
              "size": 10,
              "solidity": 0.2
             }
            },
            "type": "bar"
           }
          ],
          "barpolar": [
           {
            "marker": {
             "line": {
              "color": "#E5ECF6",
              "width": 0.5
             },
             "pattern": {
              "fillmode": "overlay",
              "size": 10,
              "solidity": 0.2
             }
            },
            "type": "barpolar"
           }
          ],
          "carpet": [
           {
            "aaxis": {
             "endlinecolor": "#2a3f5f",
             "gridcolor": "white",
             "linecolor": "white",
             "minorgridcolor": "white",
             "startlinecolor": "#2a3f5f"
            },
            "baxis": {
             "endlinecolor": "#2a3f5f",
             "gridcolor": "white",
             "linecolor": "white",
             "minorgridcolor": "white",
             "startlinecolor": "#2a3f5f"
            },
            "type": "carpet"
           }
          ],
          "choropleth": [
           {
            "colorbar": {
             "outlinewidth": 0,
             "ticks": ""
            },
            "type": "choropleth"
           }
          ],
          "contour": [
           {
            "colorbar": {
             "outlinewidth": 0,
             "ticks": ""
            },
            "colorscale": [
             [
              0,
              "#0d0887"
             ],
             [
              0.1111111111111111,
              "#46039f"
             ],
             [
              0.2222222222222222,
              "#7201a8"
             ],
             [
              0.3333333333333333,
              "#9c179e"
             ],
             [
              0.4444444444444444,
              "#bd3786"
             ],
             [
              0.5555555555555556,
              "#d8576b"
             ],
             [
              0.6666666666666666,
              "#ed7953"
             ],
             [
              0.7777777777777778,
              "#fb9f3a"
             ],
             [
              0.8888888888888888,
              "#fdca26"
             ],
             [
              1,
              "#f0f921"
             ]
            ],
            "type": "contour"
           }
          ],
          "contourcarpet": [
           {
            "colorbar": {
             "outlinewidth": 0,
             "ticks": ""
            },
            "type": "contourcarpet"
           }
          ],
          "heatmap": [
           {
            "colorbar": {
             "outlinewidth": 0,
             "ticks": ""
            },
            "colorscale": [
             [
              0,
              "#0d0887"
             ],
             [
              0.1111111111111111,
              "#46039f"
             ],
             [
              0.2222222222222222,
              "#7201a8"
             ],
             [
              0.3333333333333333,
              "#9c179e"
             ],
             [
              0.4444444444444444,
              "#bd3786"
             ],
             [
              0.5555555555555556,
              "#d8576b"
             ],
             [
              0.6666666666666666,
              "#ed7953"
             ],
             [
              0.7777777777777778,
              "#fb9f3a"
             ],
             [
              0.8888888888888888,
              "#fdca26"
             ],
             [
              1,
              "#f0f921"
             ]
            ],
            "type": "heatmap"
           }
          ],
          "histogram": [
           {
            "marker": {
             "pattern": {
              "fillmode": "overlay",
              "size": 10,
              "solidity": 0.2
             }
            },
            "type": "histogram"
           }
          ],
          "histogram2d": [
           {
            "colorbar": {
             "outlinewidth": 0,
             "ticks": ""
            },
            "colorscale": [
             [
              0,
              "#0d0887"
             ],
             [
              0.1111111111111111,
              "#46039f"
             ],
             [
              0.2222222222222222,
              "#7201a8"
             ],
             [
              0.3333333333333333,
              "#9c179e"
             ],
             [
              0.4444444444444444,
              "#bd3786"
             ],
             [
              0.5555555555555556,
              "#d8576b"
             ],
             [
              0.6666666666666666,
              "#ed7953"
             ],
             [
              0.7777777777777778,
              "#fb9f3a"
             ],
             [
              0.8888888888888888,
              "#fdca26"
             ],
             [
              1,
              "#f0f921"
             ]
            ],
            "type": "histogram2d"
           }
          ],
          "histogram2dcontour": [
           {
            "colorbar": {
             "outlinewidth": 0,
             "ticks": ""
            },
            "colorscale": [
             [
              0,
              "#0d0887"
             ],
             [
              0.1111111111111111,
              "#46039f"
             ],
             [
              0.2222222222222222,
              "#7201a8"
             ],
             [
              0.3333333333333333,
              "#9c179e"
             ],
             [
              0.4444444444444444,
              "#bd3786"
             ],
             [
              0.5555555555555556,
              "#d8576b"
             ],
             [
              0.6666666666666666,
              "#ed7953"
             ],
             [
              0.7777777777777778,
              "#fb9f3a"
             ],
             [
              0.8888888888888888,
              "#fdca26"
             ],
             [
              1,
              "#f0f921"
             ]
            ],
            "type": "histogram2dcontour"
           }
          ],
          "mesh3d": [
           {
            "colorbar": {
             "outlinewidth": 0,
             "ticks": ""
            },
            "type": "mesh3d"
           }
          ],
          "parcoords": [
           {
            "line": {
             "colorbar": {
              "outlinewidth": 0,
              "ticks": ""
             }
            },
            "type": "parcoords"
           }
          ],
          "pie": [
           {
            "automargin": true,
            "type": "pie"
           }
          ],
          "scatter": [
           {
            "fillpattern": {
             "fillmode": "overlay",
             "size": 10,
             "solidity": 0.2
            },
            "type": "scatter"
           }
          ],
          "scatter3d": [
           {
            "line": {
             "colorbar": {
              "outlinewidth": 0,
              "ticks": ""
             }
            },
            "marker": {
             "colorbar": {
              "outlinewidth": 0,
              "ticks": ""
             }
            },
            "type": "scatter3d"
           }
          ],
          "scattercarpet": [
           {
            "marker": {
             "colorbar": {
              "outlinewidth": 0,
              "ticks": ""
             }
            },
            "type": "scattercarpet"
           }
          ],
          "scattergeo": [
           {
            "marker": {
             "colorbar": {
              "outlinewidth": 0,
              "ticks": ""
             }
            },
            "type": "scattergeo"
           }
          ],
          "scattergl": [
           {
            "marker": {
             "colorbar": {
              "outlinewidth": 0,
              "ticks": ""
             }
            },
            "type": "scattergl"
           }
          ],
          "scattermap": [
           {
            "marker": {
             "colorbar": {
              "outlinewidth": 0,
              "ticks": ""
             }
            },
            "type": "scattermap"
           }
          ],
          "scattermapbox": [
           {
            "marker": {
             "colorbar": {
              "outlinewidth": 0,
              "ticks": ""
             }
            },
            "type": "scattermapbox"
           }
          ],
          "scatterpolar": [
           {
            "marker": {
             "colorbar": {
              "outlinewidth": 0,
              "ticks": ""
             }
            },
            "type": "scatterpolar"
           }
          ],
          "scatterpolargl": [
           {
            "marker": {
             "colorbar": {
              "outlinewidth": 0,
              "ticks": ""
             }
            },
            "type": "scatterpolargl"
           }
          ],
          "scatterternary": [
           {
            "marker": {
             "colorbar": {
              "outlinewidth": 0,
              "ticks": ""
             }
            },
            "type": "scatterternary"
           }
          ],
          "surface": [
           {
            "colorbar": {
             "outlinewidth": 0,
             "ticks": ""
            },
            "colorscale": [
             [
              0,
              "#0d0887"
             ],
             [
              0.1111111111111111,
              "#46039f"
             ],
             [
              0.2222222222222222,
              "#7201a8"
             ],
             [
              0.3333333333333333,
              "#9c179e"
             ],
             [
              0.4444444444444444,
              "#bd3786"
             ],
             [
              0.5555555555555556,
              "#d8576b"
             ],
             [
              0.6666666666666666,
              "#ed7953"
             ],
             [
              0.7777777777777778,
              "#fb9f3a"
             ],
             [
              0.8888888888888888,
              "#fdca26"
             ],
             [
              1,
              "#f0f921"
             ]
            ],
            "type": "surface"
           }
          ],
          "table": [
           {
            "cells": {
             "fill": {
              "color": "#EBF0F8"
             },
             "line": {
              "color": "white"
             }
            },
            "header": {
             "fill": {
              "color": "#C8D4E3"
             },
             "line": {
              "color": "white"
             }
            },
            "type": "table"
           }
          ]
         },
         "layout": {
          "annotationdefaults": {
           "arrowcolor": "#2a3f5f",
           "arrowhead": 0,
           "arrowwidth": 1
          },
          "autotypenumbers": "strict",
          "coloraxis": {
           "colorbar": {
            "outlinewidth": 0,
            "ticks": ""
           }
          },
          "colorscale": {
           "diverging": [
            [
             0,
             "#8e0152"
            ],
            [
             0.1,
             "#c51b7d"
            ],
            [
             0.2,
             "#de77ae"
            ],
            [
             0.3,
             "#f1b6da"
            ],
            [
             0.4,
             "#fde0ef"
            ],
            [
             0.5,
             "#f7f7f7"
            ],
            [
             0.6,
             "#e6f5d0"
            ],
            [
             0.7,
             "#b8e186"
            ],
            [
             0.8,
             "#7fbc41"
            ],
            [
             0.9,
             "#4d9221"
            ],
            [
             1,
             "#276419"
            ]
           ],
           "sequential": [
            [
             0,
             "#0d0887"
            ],
            [
             0.1111111111111111,
             "#46039f"
            ],
            [
             0.2222222222222222,
             "#7201a8"
            ],
            [
             0.3333333333333333,
             "#9c179e"
            ],
            [
             0.4444444444444444,
             "#bd3786"
            ],
            [
             0.5555555555555556,
             "#d8576b"
            ],
            [
             0.6666666666666666,
             "#ed7953"
            ],
            [
             0.7777777777777778,
             "#fb9f3a"
            ],
            [
             0.8888888888888888,
             "#fdca26"
            ],
            [
             1,
             "#f0f921"
            ]
           ],
           "sequentialminus": [
            [
             0,
             "#0d0887"
            ],
            [
             0.1111111111111111,
             "#46039f"
            ],
            [
             0.2222222222222222,
             "#7201a8"
            ],
            [
             0.3333333333333333,
             "#9c179e"
            ],
            [
             0.4444444444444444,
             "#bd3786"
            ],
            [
             0.5555555555555556,
             "#d8576b"
            ],
            [
             0.6666666666666666,
             "#ed7953"
            ],
            [
             0.7777777777777778,
             "#fb9f3a"
            ],
            [
             0.8888888888888888,
             "#fdca26"
            ],
            [
             1,
             "#f0f921"
            ]
           ]
          },
          "colorway": [
           "#636efa",
           "#EF553B",
           "#00cc96",
           "#ab63fa",
           "#FFA15A",
           "#19d3f3",
           "#FF6692",
           "#B6E880",
           "#FF97FF",
           "#FECB52"
          ],
          "font": {
           "color": "#2a3f5f"
          },
          "geo": {
           "bgcolor": "white",
           "lakecolor": "white",
           "landcolor": "#E5ECF6",
           "showlakes": true,
           "showland": true,
           "subunitcolor": "white"
          },
          "hoverlabel": {
           "align": "left"
          },
          "hovermode": "closest",
          "mapbox": {
           "style": "light"
          },
          "paper_bgcolor": "white",
          "plot_bgcolor": "#E5ECF6",
          "polar": {
           "angularaxis": {
            "gridcolor": "white",
            "linecolor": "white",
            "ticks": ""
           },
           "bgcolor": "#E5ECF6",
           "radialaxis": {
            "gridcolor": "white",
            "linecolor": "white",
            "ticks": ""
           }
          },
          "scene": {
           "xaxis": {
            "backgroundcolor": "#E5ECF6",
            "gridcolor": "white",
            "gridwidth": 2,
            "linecolor": "white",
            "showbackground": true,
            "ticks": "",
            "zerolinecolor": "white"
           },
           "yaxis": {
            "backgroundcolor": "#E5ECF6",
            "gridcolor": "white",
            "gridwidth": 2,
            "linecolor": "white",
            "showbackground": true,
            "ticks": "",
            "zerolinecolor": "white"
           },
           "zaxis": {
            "backgroundcolor": "#E5ECF6",
            "gridcolor": "white",
            "gridwidth": 2,
            "linecolor": "white",
            "showbackground": true,
            "ticks": "",
            "zerolinecolor": "white"
           }
          },
          "shapedefaults": {
           "line": {
            "color": "#2a3f5f"
           }
          },
          "ternary": {
           "aaxis": {
            "gridcolor": "white",
            "linecolor": "white",
            "ticks": ""
           },
           "baxis": {
            "gridcolor": "white",
            "linecolor": "white",
            "ticks": ""
           },
           "bgcolor": "#E5ECF6",
           "caxis": {
            "gridcolor": "white",
            "linecolor": "white",
            "ticks": ""
           }
          },
          "title": {
           "x": 0.05
          },
          "xaxis": {
           "automargin": true,
           "gridcolor": "white",
           "linecolor": "white",
           "ticks": "",
           "title": {
            "standoff": 15
           },
           "zerolinecolor": "white",
           "zerolinewidth": 2
          },
          "yaxis": {
           "automargin": true,
           "gridcolor": "white",
           "linecolor": "white",
           "ticks": "",
           "title": {
            "standoff": 15
           },
           "zerolinecolor": "white",
           "zerolinewidth": 2
          }
         }
        },
        "title": {
         "text": "Log(1+quantity_value) bo'yicha Nova Group (Boxplot)"
        },
        "xaxis": {
         "anchor": "y",
         "domain": [
          0,
          1
         ],
         "title": {
          "text": "Nova Group"
         }
        },
        "yaxis": {
         "anchor": "x",
         "domain": [
          0,
          1
         ],
         "title": {
          "text": "log(1+quantity_value)"
         }
        }
       }
      }
     },
     "metadata": {},
     "output_type": "display_data"
    },
    {
     "data": {
      "application/vnd.plotly.v1+json": {
       "config": {
        "plotlyServerURL": "https://plot.ly"
       },
       "data": [
        {
         "customdata": {
          "bdata": "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",
          "dtype": "i2",
          "shape": "4993, 1"
         },
         "hovertemplate": "quantity_value=%{x}<br>product_age_days=%{y}<br>country_count=%{marker.size}<br>main_category_encoded=%{customdata[0]}<br>nova_group=%{marker.color}<extra></extra>",
         "legendgroup": "",
         "marker": {
          "color": {
           "bdata": "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",
           "dtype": "f8"
          },
          "coloraxis": "coloraxis",
          "size": {
           "bdata": "AQIBAQEBDAEEAgEBAQgBAQIBDxgBEQEBAQIEAQECAQEDDgENChABAQIOAQECDA8BAQELAQ0BAgUBAQEBAQQBAQMBAQEBCwEWAQ8EAQMOCAULAQEBAwEDBAQHAQoIAQEBAwEIAQEGAQICAwEBAQIDAQcBAwEBCw0BAQUCARABAQEBAQEFAgMGEwMKGQECAgEBAQEBAgYCDA8BAgkEBQEGAgECAxMBAQcHAhIBAQECCAEJBwEBBwECDAUCDgMDFwIFAQEBAgUGCwIBAgYCBQEBAQIKAQIEAwQBCAIKBggHAgMBAQsBDA0DAQIBAQkDAQEBAQ4BDAMJAQIHAQUBAQEBCQcBAgEGEgkBAwEBAgEBEwEEBAEDBQICAQECAQQBAgQCBAIEAQQCAQIBBQECAQIDAxcBBgMCAg0ECAEBFQELAQECAgECAwIBBAUBAQgLBAgPBwEBAQEDAQEDAgELAQIJBAQEBgEIBAkKAQQBCQIBAQEDAQEIAgYBAQEEAwYBAQEBAQEBBwMIAQYCAgcBAQYCAQIBAQEDAQIBBwMBAQMDBAIFAQEGAgIGAQEDCQECAwIBBgYBAwwBAQYBAQQBAgEEAgIJBAQFBQECBQICAwUBAQIDBAECCgMBDgEKAg4BAwIHCgEBAwIBAQIBAQECAgIFAgMBAg0JBgIBAQEBAgEBBAIDAgECAgMFAgEDCAYCAgECBAcCBAIBAQYCBgYCAwEBAQEBAQEBAgEDAgIDAQkFAwUEAwIBAQEBAQECAgICAQECAgEBAwMCAgsDBQEBAgYLAw0JBQcBAQQDAgMFAQEEBwMCAQMBAQICAQEBAQIDBxUCAwICAwIBAQIBAgEBAQECAgEBBAYBAgICAgkCAQMIAgEBAQQCAQEBBgMCBQIEAwICAgIBBwQECAYFBQkCAgIBAQEBBRQBAgIBAQEEAgMCAgICBwECAwMEAQMCBAIBBgEBAgIDAwECAgEIAgEDAQMBAQECAwEBAQERBwIBAgEBBwgDAQMBAgEBBAEDAgIFAQEFAQMBAgUFAgEDAgIDAgEEAgEBAQEEAQICCwMBAQEDAwIBAQQBBQEHAgIBAQYBAQIBAQEIBgEDAQICBQQCAQICAQECAgMBAQUBDAMCAQECAgICAQIDCA0CAgEBAgoDBwIDAgIBAQICCwMDAQEBAQIBBQIBAQEBAwUDBQIBAgEBAQEEBgUIAwMDAgIEBQMNCwEBAgMEAgIBAgECAgEBAgEFAgQDBwsCAgEDAQIBBQECAQEFAgEJAQECAQECAQICAwECAgIBAQEBAwMDAgIDBAICBwEBAwICAQECAQEDAQICAgsCAgEBAQEBAQcCAgoCCwEBAQECAgECAgMCAgMBAgIFAQMCAQ4BAQEBBQQDBAMBAgEBAQYCCAIEAQMBAQECCgICAwECAQICAgUEAwEEBAIEAgQCBAUBAQMBAQMEBAEBAQIEBAQCAggCAwIBAQUCAgEDAQICAQEBAgMNAwMEAQMBAQIFAQICAgUDAgECBAUDBAEBAQEDAQkEAgECCQUBBgEBAgEEAgUGAgMRAwEBAQEBAggFBgMBBQEDBAcCAQICAgUBAwIFAg8CAwMBAQICAgEEAgEFAQEHAgIBBgIBBAIBAwIBAgUCAQECBgIFAwEBAQkIAQEBAQEBBQYCAgEBCAcGAQMBAgMCCgYCAwkBAQIBAQEBAQEBAQEBAgUFAgEDAQIDBQMGAgMBAQEFBQIBAQEGBwIDAgUCBAgBAQEBAQQBAQQBAgICAQYHBwQBAwEBAQEBAwEBAQECAQEDAgICAg4DCAIBAgIBAQEBAgEBAREFBAMBBAEFAgIFAgICAQECAQECAQIDAgMBBQEDAQEBAQEBAQEFAgEDAwMCBgECAQEBAgEDAQIDBgEDAgMBAQEBAgMBAwMBAgQCBAECAQIGBgwDAQoBBAEIAwIDAgEJAQEBBQEBAQEBAwICAwMDAQIEAQ4BAQEBAQIBBgIBAwEBAQ0OAQIBAgIEAgIBAQECBQQCAQICBgECAQEBAgIBAgEBAQECAwIDAQECAwIEAQEBAQMCAgICAQEBAQQCAgECAgIFAwICAQQCAgYCAQIBAQEBAQUBAgEDBAMDAQIDAQICAgMFAQMCAgcIAgMBAgIBAgcCAgICAQECAQEBAQIDAQIEAgIDAQECAQMFCAEBAQEDAQoHAwMCAwQFAwIGDAgBAgEBAgIDCAEIAwoCAgIDAgIDAQMDAwMDAQICAgEEAQEEBQMCAQMCAQMBAgIBAQIBAQIBAgMBAQEHAQEBBQECAgIBAQMBAQYBAQIBAQEFAQQBBQgCCAEBAwEDAQECAQIBAQECBQEBBgEDAwMCAQQCAQMCBQECAQICBQECAwICAgMDAQEBAgYCAQIBAQMFAgEFAQECBQECBAECBQgBAwIFAQMBAQIBAgIBAgEBAQEBAQEBBgICAQQCAgEDAwIBAQMDBgMCAQIDAQEBAQEBAQcEAQYEAwEBAQECAQIDAgEBAwMCAgEBAQICAQEBAQECAQEBAgQCBQEBAQUCAQEKBAECAgECAQEBAQEBAQEBAQEBAQEBAwMDAgEBAgIHAQMCAQEBAQEBAQIBAQIBAQIEAQIBAQQDAgICAgEGAQQCAgEBAQEBAQIBAQUCAQEBAQEBAQICAgUBBgUDAQIDAgICAQEBAQMGAQEBAQEDAwYBEAEBAQQCBQMEAQECAgIFAQIBAQEBAQICAgEBBwEBAgsCBQQBAQILAQkDAgIDBwICAwMBAQEBAQIBAQMGAgEDAQIDAgICAggCAgIDAgcBCwEBAQEBAQEBAgICAQECBAEBAQQCCAEBAQEDAQEBAQEBAQECCQECAgICAQIBAQEBAQMEBQMDAQMDAQQCAgICAgQBAgUCAQIBAQEBAQEBAQEBAQEBAwIDAwEBBgEBBAcEAgcCAgIBAgIBAQIBAQEBAQQCAQMBBgICAQICAwUCAQIHBAICAQEBAgEBAQICAQEBAQEBBAQDAQMBAgIDAQIBBAsDAQICAQEBBgICAQIDAQEBAgIDCAECAQEDAQECAQEGAQQBAgEDBgICAgECBAEBAgQBAQEBAgQBAgMCAgEEAgUBAgEBAgEEAgEBAwECAgMBAQEBAwMBAQECBAgCAQECAQEBAgEBAQEBAQECAQECBAIEAQEBAQUDAwEBAwIDBAEBAgECBQICEAMDAQECAQECAgIEAQEBAQEBAQMCAQEGAgECAQICCQECAQMFBAYCAwICAQEBAQMBAgEBAQEBAQEBAgEBAQECAwECAQQEAQIBCAICAgIDAwICAgcEAgMDCwICAgQBAgEBAQEOAQEBAQECAgECBAEGAgQDAgEDBAgBCQECAgICAQIGBQYCBQYBAwEKAgEGAQEFAQECAQEBAgECAQEBBAIBAQUCAQMCAgIDAgICCAIDAwEDCAEBAgEBAQICAQIBAQMBAQEDAQICAwEDAQUCAwQBBAICAQQBBAIHAgIFAgIBAwECBgECAQIBBwEBBAEBAgEBAQIBBQICAQICAgYCAQMCCAIIBAsDAgQBBgEBAwECAgMEAQIBAQECAgEBAQECBQICAwECAQIDAgQBAgEDCQIHAQICAgICAQEBAgEFAQgBAQEBAwIBAQEBAQEBAQMGAwQCAwEDCAMBAgIEAgMCBgIGAQICAgEBAQEBAQECAQEBAQEBAQEHBAEEAgIEAQECAgECAQEEAgIGBAMFAwICAwIBAgMCAgECAQEBDAIBAgECAgICAQIBAQEBAQECAQgQAQEBAwECAwIDAQICAwIBAwIEAQEDAQICAQIIAgMCAQEBAQQCAQEBAQECAQEBAQgCAwEBARQHAQICAwMCAQcCCgMDAQECAwIDBQIBAQEBAQMCAQIBAQEBAQIBAQQBAQECAQIBAgICBAEHAQEBAgICAgEDAgIDAwEJBQQEAQMDAgEBAgECAgEBAQEBAQICAQIBAQEBAQEBAQEBAgEBBwYCAQMCAgIBAQIBAQMDAQMEAwMCAQEFCAIBBAIBAgIBAgECAgEBAQEBAgECAgECAwIBAQECAQIBAQEDAQMBAgIBAQEBAgEGAQIBAQEBAQEEAQEBAQMBAQEBAQECAQEBAQIFBAgBAQEBAQMDDQICAgIKBAIQAgMBCgIDAQEBAQEBAQEBAQEBAgEBAQIBAQEBAQEBAwgEAQIDAgECBgEGAgYCAgIBAgMBAQIBAQEGAQEBAQMBAQEBAQEBAQEBAQEBBAEDAQQBAgIBAQEBAQEEAQMCAgMDAQECAQIBAQECBQICAgEBAQEBAQEBAwEBAwEBAQEBBAECAgIFAgEDAQQCAQIGAgIBAgEDAQIBAwECBgIDAgQCAgECAQ0KAgIBAgUCAQIBAQIBAQUCAQEBAQICAQEBAQIBAgMBAQgCAQEDAQIBAwEEAgIBAgMEAQsDAwMHAwICAQUKAgMBAQEDAQIDAQMBCgEBAQEBAQECAQMBAQIBAQEBAQEBAQIBAgIHBQIBAgQBAgECBAEBAQIBAgEBAwMBBQECAgIDAQMEAgECBgMMAQEBAwECAgEBAQEBAQEBAQQBAgIBAQICAQECAQgBAgEBAQEBAQEBAQEGBAEEAgQBAQMBAQIBAQECAgEFAwIBAgIDAQQCAgkDAQkFCQQCBQICBAICAgIBAQEBAQEDAgIBAQEBAQIBAQECAgIBAgMBAQEBAQIBAgEDAQIBAQICBQEDBQEBDAMEAwIFAgEEAgEBAQUCBQQBAQIBAgEFAwICBgIBEQMBAwICAgIEAQEBAQEBAQMBAgUEAQIEAwMBAgECAQcDAQIEBQQBAQICAgECAgIEAQEEAQIBAgEBAQEBAgEBAwECAQIBAgEBAgEBAQECBAECAQMFAQQCBAIBAgICAgEBAgcCAQIBAQIFAgICBgICAQECBgUBAwECAgEBAgICAQQCAgEIAQEBAQEBAgEBAgEBAQEBAQECAQEDAQEBAQEBAQIIBAEFAgMEAQIBAgICAgICAwIGAQECAgICAgICAQEDAQMEAwMCAQEBBAECAQMBAQECAwUHAgIDAQcBAwQCAQEBAgEBAQEBAQEBAQECAQEBAQEBAQEBAQICAgYCBAMCAgIDAwIKAQIFBAECAwMBAQEBAQEBAgIDAwQCAgMFAgMCAwEBAQICBgICAQIBAQEBAgEBAQECAgEBAQEBAQECAQEDAwIDAQEBAQIBAQEBAgEBAQEDAQQDCAMJAwICAQQCAQEBAQEBAQQBAgEBAgEBAwECAgIDBQMBAgoCAgIDAgICAQEBAQICAQEBAQEBAwEBAgEBAgIBBQQCAQIBAgEBAQEBBgECAQEBAgEBAQEBAQECAgMBAQEDAQECBQUBAwMCAQEBBgEBBAEDBAEBAQMCAwIBAgkDBAECAgICBgECAgECAQUBAQIBBAEBAQIBAQEBAgELARICCAECAQEBAQIBAQEBAQICAgEEAQEBAwMBAQEBAwIDAgECDAIEAgEEBwIMBQMBAQECCAICAwEBAQECAQEBBAIBAgIBAQECAQIBAQEBAgEBAQEBAQEBAQEEBAEFAQEBAQECAQEBAQEBAQEBAQIDAwMEAQMBAgEDAQEBAQEBAQQBAQEDAQEGAQIBAgIBBQICAQEBBgsEDAMCAgECAQMBAQEBBgECAQUBAQEBAgEBAQEBAQIBAQEBAQIBAgEBAQECAQEBAQEBAQEBAwEBAQUBAQECAQIDAwICAQEBAQEBBAECAQECAgIEAQEBBgMHAQcCBgcEAwYCAQICAgIBAQICAQYCAQEBAQEBAQIBAQIBAgEDAQECAQEBAQEBAQECAQEBAQIDAQECAQIBAgEDAQEDAQEBAQECAQICAgICBAICAgICBwQBAwYEBQEBBAMCAgICAwECAQIDAgICAQEBAgIBAQEBAgEBAQIBAwEBAgEBAQEBAgEBAQECAQEBAQEBAgIDBgIBAgMBAQICAwQCAgQDCgECBAECAQEBAQwCAgICAwEDAgEEAwMJBQEDAgIDBAQBAgEBAgECAQEBAQEBBgECAQEBAQECAwICAQEBAQEBAgEBAQECAQMBAgIBBgEBAQMHAwMCAQECAgECAQEDAwEBBAICAQkEAgECAgQCAQEBAgIBAgICAwYEAgIBAgECBAQCAQEBAQICAQMBAQEBAQECAQEBAgEBAQMBAgECAwECAQEBAQEBAQEBBQIHAgEBAQEBAgMGBwECAQMBAQECAQECAQECAQEBAQEBAQIBAQQCAQEDBAIDAQICAQICAgcDAQIBAgEGCAICAgEBAQQBAgIBAQMBAQECAgIBAQIBAQIHBQEBAQEBAQECAQECAgMCAQEBAQEBAQMBAQEBAQIBAQIBAQEBAgECAwIDAQMBAwIFBAIEAQEBAwMCAgICAwELAQIJAgIBAgEKAgICAQIDAwICAgECAwMHCgICBgMBAQICAwUHAQMCAQEBAQECAgEBAQIDAwEBAgEBAQEBAQEBAQUCBAEBAQEBAQQBAgEBAQMBAQEBAQEBAQECAQEEAgMBAgICAQEBAgMBAQEBAQECAQIBBwIEBQIBAgICAgwBAQIBAQUFBAEBAQICAgICBQIBAQICBQEBAQECAQECAQEBAQEBAQECBgUBAQICAwEBAQEBAQEBAgECAQEBAQEBAQIBAwELBAEBBAECAgMBAQIHAgIBAQICAQEBAwIDBwEBAgEBAgEDAwYBAwIBAQ==",
           "dtype": "i1"
          },
          "sizemode": "area",
          "sizeref": 0.0625,
          "symbol": "circle"
         },
         "mode": "markers",
         "name": "",
         "showlegend": false,
         "type": "scattergl",
         "x": {
          "bdata": "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",
          "dtype": "f8"
         },
         "xaxis": "x",
         "y": {
          "bdata": "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",
          "dtype": "i2"
         },
         "yaxis": "y"
        }
       ],
       "layout": {
        "coloraxis": {
         "colorbar": {
          "title": {
           "text": "nova_group"
          }
         },
         "colorscale": [
          [
           0,
           "#0d0887"
          ],
          [
           0.1111111111111111,
           "#46039f"
          ],
          [
           0.2222222222222222,
           "#7201a8"
          ],
          [
           0.3333333333333333,
           "#9c179e"
          ],
          [
           0.4444444444444444,
           "#bd3786"
          ],
          [
           0.5555555555555556,
           "#d8576b"
          ],
          [
           0.6666666666666666,
           "#ed7953"
          ],
          [
           0.7777777777777778,
           "#fb9f3a"
          ],
          [
           0.8888888888888888,
           "#fdca26"
          ],
          [
           1,
           "#f0f921"
          ]
         ]
        },
        "legend": {
         "itemsizing": "constant",
         "tracegroupgap": 0
        },
        "template": {
         "data": {
          "bar": [
           {
            "error_x": {
             "color": "#2a3f5f"
            },
            "error_y": {
             "color": "#2a3f5f"
            },
            "marker": {
             "line": {
              "color": "#E5ECF6",
              "width": 0.5
             },
             "pattern": {
              "fillmode": "overlay",
              "size": 10,
              "solidity": 0.2
             }
            },
            "type": "bar"
           }
          ],
          "barpolar": [
           {
            "marker": {
             "line": {
              "color": "#E5ECF6",
              "width": 0.5
             },
             "pattern": {
              "fillmode": "overlay",
              "size": 10,
              "solidity": 0.2
             }
            },
            "type": "barpolar"
           }
          ],
          "carpet": [
           {
            "aaxis": {
             "endlinecolor": "#2a3f5f",
             "gridcolor": "white",
             "linecolor": "white",
             "minorgridcolor": "white",
             "startlinecolor": "#2a3f5f"
            },
            "baxis": {
             "endlinecolor": "#2a3f5f",
             "gridcolor": "white",
             "linecolor": "white",
             "minorgridcolor": "white",
             "startlinecolor": "#2a3f5f"
            },
            "type": "carpet"
           }
          ],
          "choropleth": [
           {
            "colorbar": {
             "outlinewidth": 0,
             "ticks": ""
            },
            "type": "choropleth"
           }
          ],
          "contour": [
           {
            "colorbar": {
             "outlinewidth": 0,
             "ticks": ""
            },
            "colorscale": [
             [
              0,
              "#0d0887"
             ],
             [
              0.1111111111111111,
              "#46039f"
             ],
             [
              0.2222222222222222,
              "#7201a8"
             ],
             [
              0.3333333333333333,
              "#9c179e"
             ],
             [
              0.4444444444444444,
              "#bd3786"
             ],
             [
              0.5555555555555556,
              "#d8576b"
             ],
             [
              0.6666666666666666,
              "#ed7953"
             ],
             [
              0.7777777777777778,
              "#fb9f3a"
             ],
             [
              0.8888888888888888,
              "#fdca26"
             ],
             [
              1,
              "#f0f921"
             ]
            ],
            "type": "contour"
           }
          ],
          "contourcarpet": [
           {
            "colorbar": {
             "outlinewidth": 0,
             "ticks": ""
            },
            "type": "contourcarpet"
           }
          ],
          "heatmap": [
           {
            "colorbar": {
             "outlinewidth": 0,
             "ticks": ""
            },
            "colorscale": [
             [
              0,
              "#0d0887"
             ],
             [
              0.1111111111111111,
              "#46039f"
             ],
             [
              0.2222222222222222,
              "#7201a8"
             ],
             [
              0.3333333333333333,
              "#9c179e"
             ],
             [
              0.4444444444444444,
              "#bd3786"
             ],
             [
              0.5555555555555556,
              "#d8576b"
             ],
             [
              0.6666666666666666,
              "#ed7953"
             ],
             [
              0.7777777777777778,
              "#fb9f3a"
             ],
             [
              0.8888888888888888,
              "#fdca26"
             ],
             [
              1,
              "#f0f921"
             ]
            ],
            "type": "heatmap"
           }
          ],
          "histogram": [
           {
            "marker": {
             "pattern": {
              "fillmode": "overlay",
              "size": 10,
              "solidity": 0.2
             }
            },
            "type": "histogram"
           }
          ],
          "histogram2d": [
           {
            "colorbar": {
             "outlinewidth": 0,
             "ticks": ""
            },
            "colorscale": [
             [
              0,
              "#0d0887"
             ],
             [
              0.1111111111111111,
              "#46039f"
             ],
             [
              0.2222222222222222,
              "#7201a8"
             ],
             [
              0.3333333333333333,
              "#9c179e"
             ],
             [
              0.4444444444444444,
              "#bd3786"
             ],
             [
              0.5555555555555556,
              "#d8576b"
             ],
             [
              0.6666666666666666,
              "#ed7953"
             ],
             [
              0.7777777777777778,
              "#fb9f3a"
             ],
             [
              0.8888888888888888,
              "#fdca26"
             ],
             [
              1,
              "#f0f921"
             ]
            ],
            "type": "histogram2d"
           }
          ],
          "histogram2dcontour": [
           {
            "colorbar": {
             "outlinewidth": 0,
             "ticks": ""
            },
            "colorscale": [
             [
              0,
              "#0d0887"
             ],
             [
              0.1111111111111111,
              "#46039f"
             ],
             [
              0.2222222222222222,
              "#7201a8"
             ],
             [
              0.3333333333333333,
              "#9c179e"
             ],
             [
              0.4444444444444444,
              "#bd3786"
             ],
             [
              0.5555555555555556,
              "#d8576b"
             ],
             [
              0.6666666666666666,
              "#ed7953"
             ],
             [
              0.7777777777777778,
              "#fb9f3a"
             ],
             [
              0.8888888888888888,
              "#fdca26"
             ],
             [
              1,
              "#f0f921"
             ]
            ],
            "type": "histogram2dcontour"
           }
          ],
          "mesh3d": [
           {
            "colorbar": {
             "outlinewidth": 0,
             "ticks": ""
            },
            "type": "mesh3d"
           }
          ],
          "parcoords": [
           {
            "line": {
             "colorbar": {
              "outlinewidth": 0,
              "ticks": ""
             }
            },
            "type": "parcoords"
           }
          ],
          "pie": [
           {
            "automargin": true,
            "type": "pie"
           }
          ],
          "scatter": [
           {
            "fillpattern": {
             "fillmode": "overlay",
             "size": 10,
             "solidity": 0.2
            },
            "type": "scatter"
           }
          ],
          "scatter3d": [
           {
            "line": {
             "colorbar": {
              "outlinewidth": 0,
              "ticks": ""
             }
            },
            "marker": {
             "colorbar": {
              "outlinewidth": 0,
              "ticks": ""
             }
            },
            "type": "scatter3d"
           }
          ],
          "scattercarpet": [
           {
            "marker": {
             "colorbar": {
              "outlinewidth": 0,
              "ticks": ""
             }
            },
            "type": "scattercarpet"
           }
          ],
          "scattergeo": [
           {
            "marker": {
             "colorbar": {
              "outlinewidth": 0,
              "ticks": ""
             }
            },
            "type": "scattergeo"
           }
          ],
          "scattergl": [
           {
            "marker": {
             "colorbar": {
              "outlinewidth": 0,
              "ticks": ""
             }
            },
            "type": "scattergl"
           }
          ],
          "scattermap": [
           {
            "marker": {
             "colorbar": {
              "outlinewidth": 0,
              "ticks": ""
             }
            },
            "type": "scattermap"
           }
          ],
          "scattermapbox": [
           {
            "marker": {
             "colorbar": {
              "outlinewidth": 0,
              "ticks": ""
             }
            },
            "type": "scattermapbox"
           }
          ],
          "scatterpolar": [
           {
            "marker": {
             "colorbar": {
              "outlinewidth": 0,
              "ticks": ""
             }
            },
            "type": "scatterpolar"
           }
          ],
          "scatterpolargl": [
           {
            "marker": {
             "colorbar": {
              "outlinewidth": 0,
              "ticks": ""
             }
            },
            "type": "scatterpolargl"
           }
          ],
          "scatterternary": [
           {
            "marker": {
             "colorbar": {
              "outlinewidth": 0,
              "ticks": ""
             }
            },
            "type": "scatterternary"
           }
          ],
          "surface": [
           {
            "colorbar": {
             "outlinewidth": 0,
             "ticks": ""
            },
            "colorscale": [
             [
              0,
              "#0d0887"
             ],
             [
              0.1111111111111111,
              "#46039f"
             ],
             [
              0.2222222222222222,
              "#7201a8"
             ],
             [
              0.3333333333333333,
              "#9c179e"
             ],
             [
              0.4444444444444444,
              "#bd3786"
             ],
             [
              0.5555555555555556,
              "#d8576b"
             ],
             [
              0.6666666666666666,
              "#ed7953"
             ],
             [
              0.7777777777777778,
              "#fb9f3a"
             ],
             [
              0.8888888888888888,
              "#fdca26"
             ],
             [
              1,
              "#f0f921"
             ]
            ],
            "type": "surface"
           }
          ],
          "table": [
           {
            "cells": {
             "fill": {
              "color": "#EBF0F8"
             },
             "line": {
              "color": "white"
             }
            },
            "header": {
             "fill": {
              "color": "#C8D4E3"
             },
             "line": {
              "color": "white"
             }
            },
            "type": "table"
           }
          ]
         },
         "layout": {
          "annotationdefaults": {
           "arrowcolor": "#2a3f5f",
           "arrowhead": 0,
           "arrowwidth": 1
          },
          "autotypenumbers": "strict",
          "coloraxis": {
           "colorbar": {
            "outlinewidth": 0,
            "ticks": ""
           }
          },
          "colorscale": {
           "diverging": [
            [
             0,
             "#8e0152"
            ],
            [
             0.1,
             "#c51b7d"
            ],
            [
             0.2,
             "#de77ae"
            ],
            [
             0.3,
             "#f1b6da"
            ],
            [
             0.4,
             "#fde0ef"
            ],
            [
             0.5,
             "#f7f7f7"
            ],
            [
             0.6,
             "#e6f5d0"
            ],
            [
             0.7,
             "#b8e186"
            ],
            [
             0.8,
             "#7fbc41"
            ],
            [
             0.9,
             "#4d9221"
            ],
            [
             1,
             "#276419"
            ]
           ],
           "sequential": [
            [
             0,
             "#0d0887"
            ],
            [
             0.1111111111111111,
             "#46039f"
            ],
            [
             0.2222222222222222,
             "#7201a8"
            ],
            [
             0.3333333333333333,
             "#9c179e"
            ],
            [
             0.4444444444444444,
             "#bd3786"
            ],
            [
             0.5555555555555556,
             "#d8576b"
            ],
            [
             0.6666666666666666,
             "#ed7953"
            ],
            [
             0.7777777777777778,
             "#fb9f3a"
            ],
            [
             0.8888888888888888,
             "#fdca26"
            ],
            [
             1,
             "#f0f921"
            ]
           ],
           "sequentialminus": [
            [
             0,
             "#0d0887"
            ],
            [
             0.1111111111111111,
             "#46039f"
            ],
            [
             0.2222222222222222,
             "#7201a8"
            ],
            [
             0.3333333333333333,
             "#9c179e"
            ],
            [
             0.4444444444444444,
             "#bd3786"
            ],
            [
             0.5555555555555556,
             "#d8576b"
            ],
            [
             0.6666666666666666,
             "#ed7953"
            ],
            [
             0.7777777777777778,
             "#fb9f3a"
            ],
            [
             0.8888888888888888,
             "#fdca26"
            ],
            [
             1,
             "#f0f921"
            ]
           ]
          },
          "colorway": [
           "#636efa",
           "#EF553B",
           "#00cc96",
           "#ab63fa",
           "#FFA15A",
           "#19d3f3",
           "#FF6692",
           "#B6E880",
           "#FF97FF",
           "#FECB52"
          ],
          "font": {
           "color": "#2a3f5f"
          },
          "geo": {
           "bgcolor": "white",
           "lakecolor": "white",
           "landcolor": "#E5ECF6",
           "showlakes": true,
           "showland": true,
           "subunitcolor": "white"
          },
          "hoverlabel": {
           "align": "left"
          },
          "hovermode": "closest",
          "mapbox": {
           "style": "light"
          },
          "paper_bgcolor": "white",
          "plot_bgcolor": "#E5ECF6",
          "polar": {
           "angularaxis": {
            "gridcolor": "white",
            "linecolor": "white",
            "ticks": ""
           },
           "bgcolor": "#E5ECF6",
           "radialaxis": {
            "gridcolor": "white",
            "linecolor": "white",
            "ticks": ""
           }
          },
          "scene": {
           "xaxis": {
            "backgroundcolor": "#E5ECF6",
            "gridcolor": "white",
            "gridwidth": 2,
            "linecolor": "white",
            "showbackground": true,
            "ticks": "",
            "zerolinecolor": "white"
           },
           "yaxis": {
            "backgroundcolor": "#E5ECF6",
            "gridcolor": "white",
            "gridwidth": 2,
            "linecolor": "white",
            "showbackground": true,
            "ticks": "",
            "zerolinecolor": "white"
           },
           "zaxis": {
            "backgroundcolor": "#E5ECF6",
            "gridcolor": "white",
            "gridwidth": 2,
            "linecolor": "white",
            "showbackground": true,
            "ticks": "",
            "zerolinecolor": "white"
           }
          },
          "shapedefaults": {
           "line": {
            "color": "#2a3f5f"
           }
          },
          "ternary": {
           "aaxis": {
            "gridcolor": "white",
            "linecolor": "white",
            "ticks": ""
           },
           "baxis": {
            "gridcolor": "white",
            "linecolor": "white",
            "ticks": ""
           },
           "bgcolor": "#E5ECF6",
           "caxis": {
            "gridcolor": "white",
            "linecolor": "white",
            "ticks": ""
           }
          },
          "title": {
           "x": 0.05
          },
          "xaxis": {
           "automargin": true,
           "gridcolor": "white",
           "linecolor": "white",
           "ticks": "",
           "title": {
            "standoff": 15
           },
           "zerolinecolor": "white",
           "zerolinewidth": 2
          },
          "yaxis": {
           "automargin": true,
           "gridcolor": "white",
           "linecolor": "white",
           "ticks": "",
           "title": {
            "standoff": 15
           },
           "zerolinecolor": "white",
           "zerolinewidth": 2
          }
         }
        },
        "title": {
         "text": "Quantity vs Age (size=country_count) — rang=Nova Group"
        },
        "xaxis": {
         "anchor": "y",
         "domain": [
          0,
          1
         ],
         "title": {
          "text": "quantity_value"
         },
         "type": "log"
        },
        "yaxis": {
         "anchor": "x",
         "domain": [
          0,
          1
         ],
         "title": {
          "text": "product_age_days"
         }
        }
       }
      }
     },
     "metadata": {},
     "output_type": "display_data"
    }
   ],
   "source": [
    "import numpy as np\n",
    "\n",
    "# 3a: Boxplot (log scale) — quantity_value by nova_group\n",
    "df = df.copy()\n",
    "df[\"quantity_value_pos\"] = df[\"quantity_value\"].apply(lambda x: x if x>0 else np.nan)  # 0 yoki <=0 larni NaN qiling\n",
    "df[\"log_q\"] = np.log1p(df[\"quantity_value_pos\"])  # log(1+x) transform\n",
    "\n",
    "fig = px.box(df, x=\"nova_group\", y=\"log_q\",\n",
    "             title=\"Log(1+quantity_value) bo'yicha Nova Group (Boxplot)\",\n",
    "             labels={\"log_q\":\"log(1+quantity_value)\", \"nova_group\":\"Nova Group\"})\n",
    "fig.show()\n",
    "\n",
    "# 3b: Scatter: quantity_value vs product_age_days, ranglash nova_group bilan, hajm country_count\n",
    "fig = px.scatter(df, x=\"quantity_value\", y=\"product_age_days\", color=\"nova_group\",\n",
    "                 size=\"country_count\", hover_data=[\"main_category_encoded\"],\n",
    "                 title=\"Quantity vs Age (size=country_count) — rang=Nova Group\",\n",
    "                 log_x=True)  # quantity juda katta diapazonda bo'lsa log_x foydali\n",
    "fig.show()\n",
    "\n",
    "# 3c: Boxplot per unit (agar quantity_unit mavjud va ko'p unit turlari bo'lsa)\n",
    "if \"quantity_unit\" in df.columns:\n",
    "    # show top 10 units for clarity\n",
    "    top_units = df[\"quantity_unit\"].value_counts().nlargest(10).index\n",
    "    sub = df[df[\"quantity_unit\"].isin(top_units)]\n",
    "    fig = px.box(sub, x=\"quantity_unit\", y=\"log_q\", color=\"nova_group\",\n",
    "                 title=\"Top units bo'yicha log(quantity) taqsimoti (top 10 units)\")\n",
    "    fig.show()\n"
   ]
  },
  {
   "cell_type": "markdown",
   "id": "16d28474",
   "metadata": {},
   "source": []
  },
  {
   "cell_type": "markdown",
   "id": "3ac8efb9",
   "metadata": {},
   "source": [
    "# Countries count — country_count vs nova_group"
   ]
  },
  {
   "cell_type": "code",
   "execution_count": 14,
   "id": "05759024",
   "metadata": {},
   "outputs": [
    {
     "data": {
      "application/vnd.plotly.v1+json": {
       "config": {
        "plotlyServerURL": "https://plot.ly"
       },
       "data": [
        {
         "alignmentgroup": "True",
         "hovertemplate": "Nova Group=%{x}<br>Country Count=%{y}<extra></extra>",
         "legendgroup": "",
         "marker": {
          "color": "#636efa"
         },
         "name": "",
         "notched": false,
         "offsetgroup": "",
         "orientation": "v",
         "showlegend": false,
         "type": "box",
         "x": {
          "bdata": "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",
          "dtype": "f8"
         },
         "x0": " ",
         "xaxis": "x",
         "y": {
          "bdata": "AQIBAQEBDAEEAgEBAQgBAQIBDxgBEQEBAQIEAQECAQEDDgENChABAQIOAQECDA8BAQELAQ0BAgUBAQEBAQQBAQMBAQEBCwEWAQ8EAQMOCAULAQEBAwEDBAQHAQoIAQEBAwEIAQEGAQICAwEBAQIDAQcBAwEBCw0BAQUCARABAQEBAQEFAgMGEwMKGQECAgEBAQEBAgYCDA8BAgkEBQEGAgECAxMBAQcHAhIBAQECCAEJBwEBBwECDAUCDgMDFwIFAQEBAgUGCwIBAgYCBQEBAQIKAQIEAwQBCAIKBggHAgMBAQsBDA0DAQIBAQkDAQEBAQ4BDAMJAQIHAQUBAQEBCQcBAgEGEgkBAwEBAgEBEwEEBAEDBQICAQECAQQBAgQCBAIEAQQCAQIBBQECAQIDAxcBBgMCAg0ECAEBFQELAQECAgECAwIBBAUBAQgLBAgPBwEBAQEDAQEDAgELAQIJBAQEBgEIBAkKAQQBCQIBAQEDAQEIAgYBAQEEAwYBAQEBAQEBBwMIAQYCAgcBAQYCAQIBAQEDAQIBBwMBAQMDBAIFAQEGAgIGAQEDCQECAwIBBgYBAwwBAQYBAQQBAgEEAgIJBAQFBQECBQICAwUBAQIDBAECCgMBDgEKAg4BAwIHCgEBAwIBAQIBAQECAgIFAgMBAg0JBgIBAQEBAgEBBAIDAgECAgMFAgEDCAYCAgECBAcCBAIBAQYCBgYCAwEBAQEBAQEBAgEDAgIDAQkFAwUEAwIBAQEBAQECAgICAQECAgEBAwMCAgsDBQEBAgYLAw0JBQcBAQQDAgMFAQEEBwMCAQMBAQICAQEBAQIDBxUCAwICAwIBAQIBAgEBAQECAgEBBAYBAgICAgkCAQMIAgEBAQQCAQEBBgMCBQIEAwICAgIBBwQECAYFBQkCAgIBAQEBBRQBAgIBAQEEAgMCAgICBwECAwMEAQMCBAIBBgEBAgIDAwECAgEIAgEDAQMBAQECAwEBAQERBwIBAgEBBwgDAQMBAgEBBAEDAgIFAQEFAQMBAgUFAgEDAgIDAgEEAgEBAQEEAQICCwMBAQEDAwIBAQQBBQEHAgIBAQYBAQIBAQEIBgEDAQICBQQCAQICAQECAgMBAQUBDAMCAQECAgICAQIDCA0CAgEBAgoDBwIDAgIBAQICCwMDAQEBAQIBBQIBAQEBAwUDBQIBAgEBAQEEBgUIAwMDAgIEBQMNCwEBAgMEAgIBAgECAgEBAgEFAgQDBwsCAgEDAQIBBQECAQEFAgEJAQECAQECAQICAwECAgIBAQEBAwMDAgIDBAICBwEBAwICAQECAQEDAQICAgsCAgEBAQEBAQcCAgoCCwEBAQECAgECAgMCAgMBAgIFAQMCAQ4BAQEBBQQDBAMBAgEBAQYCCAIEAQMBAQECCgICAwECAQICAgUEAwEEBAIEAgQCBAUBAQMBAQMEBAEBAQIEBAQCAggCAwIBAQUCAgEDAQICAQEBAgMNAwMEAQMBAQIFAQICAgUDAgECBAUDBAEBAQEDAQkEAgECCQUBBgEBAgEEAgUGAgMRAwEBAQEBAggFBgMBBQEDBAcCAQICAgUBAwIFAg8CAwMBAQICAgEEAgEFAQEHAgIBBgIBBAIBAwIBAgUCAQECBgIFAwEBAQkIAQEBAQEBBQYCAgEBCAcGAQMBAgMCCgYCAwkBAQIBAQEBAQEBAQEBAgUFAgEDAQIDBQMGAgMBAQEFBQIBAQEGBwIDAgUCBAgBAQEBAQQBAQQBAgICAQYHBwQBAwEBAQEBAwEBAQECAQEDAgICAg4DCAIBAgIBAQEBAgEBAREFBAMBBAEFAgIFAgICAQECAQECAQIDAgMBBQEDAQEBAQEBAQEFAgEDAwMCBgECAQEBAgEDAQIDBgEDAgMBAQEBAgMBAwMBAgQCBAECAQIGBgwDAQoBBAEIAwIDAgEJAQEBBQEBAQEBAwICAwMDAQIEAQ4BAQEBAQIBBgIBAwEBAQ0OAQIBAgIEAgIBAQECBQQCAQICBgECAQEBAgIBAgEBAQECAwIDAQECAwIEAQEBAQMCAgICAQEBAQQCAgECAgIFAwICAQQCAgYCAQIBAQEBAQUBAgEDBAMDAQIDAQICAgMFAQMCAgcIAgMBAgIBAgcCAgICAQECAQEBAQIDAQIEAgIDAQECAQMFCAEBAQEDAQoHAwMCAwQFAwIGDAgBAgEBAgIDCAEIAwoCAgIDAgIDAQMDAwMDAQICAgEEAQEEBQMCAQMCAQMBAgIBAQIBAQIBAgMBAQEHAQEBBQECAgIBAQMBAQYBAQIBAQEFAQQBBQgCCAEBAwEDAQECAQIBAQECBQEBBgEDAwMCAQQCAQMCBQECAQICBQECAwICAgMDAQEBAgYCAQIBAQMFAgEFAQECBQECBAECBQgBAwIFAQMBAQIBAgIBAgEBAQEBAQEBBgICAQQCAgEDAwIBAQMDBgMCAQIDAQEBAQEBAQcEAQYEAwEBAQECAQIDAgEBAwMCAgEBAQICAQEBAQECAQEBAgQCBQEBAQUCAQEKBAECAgECAQEBAQEBAQEBAQEBAQEBAwMDAgEBAgIHAQMCAQEBAQEBAQIBAQIBAQIEAQIBAQQDAgICAgEGAQQCAgEBAQEBAQIBAQUCAQEBAQEBAQICAgUBBgUDAQIDAgICAQEBAQMGAQEBAQEDAwYBEAEBAQQCBQMEAQECAgIFAQIBAQEBAQICAgEBBwEBAgsCBQQBAQILAQkDAgIDBwICAwMBAQEBAQIBAQMGAgEDAQIDAgICAggCAgIDAgcBCwEBAQEBAQEBAgICAQECBAEBAQQCCAEBAQEDAQEBAQEBAQECCQECAgICAQIBAQEBAQMEBQMDAQMDAQQCAgICAgQBAgUCAQIBAQEBAQEBAQEBAQEBAwIDAwEBBgEBBAcEAgcCAgIBAgIBAQIBAQEBAQQCAQMBBgICAQICAwUCAQIHBAICAQEBAgEBAQICAQEBAQEBBAQDAQMBAgIDAQIBBAsDAQICAQEBBgICAQIDAQEBAgIDCAECAQEDAQECAQEGAQQBAgEDBgICAgECBAEBAgQBAQEBAgQBAgMCAgEEAgUBAgEBAgEEAgEBAwECAgMBAQEBAwMBAQECBAgCAQECAQEBAgEBAQEBAQECAQECBAIEAQEBAQUDAwEBAwIDBAEBAgECBQICEAMDAQECAQECAgIEAQEBAQEBAQMCAQEGAgECAQICCQECAQMFBAYCAwICAQEBAQMBAgEBAQEBAQEBAgEBAQECAwECAQQEAQIBCAICAgIDAwICAgcEAgMDCwICAgQBAgEBAQEOAQEBAQECAgECBAEGAgQDAgEDBAgBCQECAgICAQIGBQYCBQYBAwEKAgEGAQEFAQECAQEBAgECAQEBBAIBAQUCAQMCAgIDAgICCAIDAwEDCAEBAgEBAQICAQIBAQMBAQEDAQICAwEDAQUCAwQBBAICAQQBBAIHAgIFAgIBAwECBgECAQIBBwEBBAEBAgEBAQIBBQICAQICAgYCAQMCCAIIBAsDAgQBBgEBAwECAgMEAQIBAQECAgEBAQECBQICAwECAQIDAgQBAgEDCQIHAQICAgICAQEBAgEFAQgBAQEBAwIBAQEBAQEBAQMGAwQCAwEDCAMBAgIEAgMCBgIGAQICAgEBAQEBAQECAQEBAQEBAQEHBAEEAgIEAQECAgECAQEEAgIGBAMFAwICAwIBAgMCAgECAQEBDAIBAgECAgICAQIBAQEBAQECAQgQAQEBAwECAwIDAQICAwIBAwIEAQEDAQICAQIIAgMCAQEBAQQCAQEBAQECAQEBAQgCAwEBARQHAQICAwMCAQcCCgMDAQECAwIDBQIBAQEBAQMCAQIBAQEBAQIBAQQBAQECAQIBAgICBAEHAQEBAgICAgEDAgIDAwEJBQQEAQMDAgEBAgECAgEBAQEBAQICAQIBAQEBAQEBAQEBAgEBBwYCAQMCAgIBAQIBAQMDAQMEAwMCAQEFCAIBBAIBAgIBAgECAgEBAQEBAgECAgECAwIBAQECAQIBAQEDAQMBAgIBAQEBAgEGAQIBAQEBAQEEAQEBAQMBAQEBAQECAQEBAQIFBAgBAQEBAQMDDQICAgIKBAIQAgMBCgIDAQEBAQEBAQEBAQEBAgEBAQIBAQEBAQEBAwgEAQIDAgECBgEGAgYCAgIBAgMBAQIBAQEGAQEBAQMBAQEBAQEBAQEBAQEBBAEDAQQBAgIBAQEBAQEEAQMCAgMDAQECAQIBAQECBQICAgEBAQEBAQEBAwEBAwEBAQEBBAECAgIFAgEDAQQCAQIGAgIBAgEDAQIBAwECBgIDAgQCAgECAQ0KAgIBAgUCAQIBAQIBAQUCAQEBAQICAQEBAQIBAgMBAQgCAQEDAQIBAwEEAgIBAgMEAQsDAwMHAwICAQUKAgMBAQEDAQIDAQMBCgEBAQEBAQECAQMBAQIBAQEBAQEBAQIBAgIHBQIBAgQBAgECBAEBAQIBAgEBAwMBBQECAgIDAQMEAgECBgMMAQEBAwECAgEBAQEBAQEBAQQBAgIBAQICAQECAQgBAgEBAQEBAQEBAQEGBAEEAgQBAQMBAQIBAQECAgEFAwIBAgIDAQQCAgkDAQkFCQQCBQICBAICAgIBAQEBAQEDAgIBAQEBAQIBAQECAgIBAgMBAQEBAQIBAgEDAQIBAQICBQEDBQEBDAMEAwIFAgEEAgEBAQUCBQQBAQIBAgEFAwICBgIBEQMBAwICAgIEAQEBAQEBAQMBAgUEAQIEAwMBAgECAQcDAQIEBQQBAQICAgECAgIEAQEEAQIBAgEBAQEBAgEBAwECAQIBAgEBAgEBAQECBAECAQMFAQQCBAIBAgICAgEBAgcCAQIBAQIFAgICBgICAQECBgUBAwECAgEBAgICAQQCAgEIAQEBAQEBAgEBAgEBAQEBAQECAQEDAQEBAQEBAQIIBAEFAgMEAQIBAgICAgICAwIGAQECAgICAgICAQEDAQMEAwMCAQEBBAECAQMBAQECAwUHAgIDAQcBAwQCAQEBAgEBAQEBAQEBAQECAQEBAQEBAQEBAQICAgYCBAMCAgIDAwIKAQIFBAECAwMBAQEBAQEBAgIDAwQCAgMFAgMCAwEBAQICBgICAQIBAQEBAgEBAQECAgEBAQEBAQECAQEDAwIDAQEBAQIBAQEBAgEBAQEDAQQDCAMJAwICAQQCAQEBAQEBAQQBAgEBAgEBAwECAgIDBQMBAgoCAgIDAgICAQEBAQICAQEBAQEBAwEBAgEBAgIBBQQCAQIBAgEBAQEBBgECAQEBAgEBAQEBAQECAgMBAQEDAQECBQUBAwMCAQEBBgEBBAEDBAEBAQMCAwIBAgkDBAECAgICBgECAgECAQUBAQIBBAEBAQIBAQEBAgELARICCAECAQEBAQIBAQEBAQICAgEEAQEBAwMBAQEBAwIDAgECDAIEAgEEBwIMBQMBAQECCAICAwEBAQECAQEBBAIBAgIBAQECAQIBAQEBAgEBAQEBAQEBAQEEBAEFAQEBAQECAQEBAQEBAQEBAQIDAwMEAQMBAgEDAQEBAQEBAQQBAQEDAQEGAQIBAgIBBQICAQEBBgsEDAMCAgECAQMBAQEBBgECAQUBAQEBAgEBAQEBAQIBAQEBAQIBAgEBAQECAQEBAQEBAQEBAwEBAQUBAQECAQIDAwICAQEBAQEBBAECAQECAgIEAQEBBgMHAQcCBgcEAwYCAQICAgIBAQICAQYCAQEBAQEBAQIBAQIBAgEDAQECAQEBAQEBAQECAQEBAQIDAQECAQIBAgEDAQEDAQEBAQECAQICAgICBAICAgICBwQBAwYEBQEBBAMCAgICAwECAQIDAgICAQEBAgIBAQEBAgEBAQIBAwEBAgEBAQEBAgEBAQECAQEBAQEBAgIDBgIBAgMBAQICAwQCAgQDCgECBAECAQEBAQwCAgICAwEDAgEEAwMJBQEDAgIDBAQBAgEBAgECAQEBAQEBBgECAQEBAQECAwICAQEBAQEBAgEBAQECAQMBAgIBBgEBAQMHAwMCAQECAgECAQEDAwEBBAICAQkEAgECAgQCAQEBAgIBAgICAwYEAgIBAgECBAQCAQEBAQICAQMBAQEBAQECAQEBAgEBAQMBAgECAwECAQEBAQEBAQEBBQIHAgEBAQEBAgMGBwECAQMBAQECAQECAQECAQEBAQEBAQIBAQQCAQEDBAIDAQICAQICAgcDAQIBAgEGCAICAgEBAQQBAgIBAQMBAQECAgIBAQIBAQIHBQEBAQEBAQECAQECAgMCAQEBAQEBAQMBAQEBAQIBAQIBAQEBAgECAwIDAQMBAwIFBAIEAQEBAwMCAgICAwELAQIJAgIBAgEKAgICAQIDAwICAgECAwMHCgICBgMBAQICAwUHAQMCAQEBAQECAgEBAQIDAwEBAgEBAQEBAQEBAQUCBAEBAQEBAQQBAgEBAQMBAQEBAQEBAQECAQEEAgMBAgICAQEBAgMBAQEBAQECAQIBBwIEBQIBAgICAgwBAQIBAQUFBAEBAQICAgICBQIBAQICBQEBAQECAQECAQEBAQEBAQECBgUBAQICAwEBAQEBAQEBAgECAQEBAQEBAQIBAwELBAEBBAECAgMBAQIHAgIBAQICAQEBAwIDBwEBAgEBAgEDAwYBAwIBAQ==",
          "dtype": "i1"
         },
         "y0": " ",
         "yaxis": "y"
        }
       ],
       "layout": {
        "boxmode": "group",
        "legend": {
         "tracegroupgap": 0
        },
        "template": {
         "data": {
          "bar": [
           {
            "error_x": {
             "color": "#2a3f5f"
            },
            "error_y": {
             "color": "#2a3f5f"
            },
            "marker": {
             "line": {
              "color": "#E5ECF6",
              "width": 0.5
             },
             "pattern": {
              "fillmode": "overlay",
              "size": 10,
              "solidity": 0.2
             }
            },
            "type": "bar"
           }
          ],
          "barpolar": [
           {
            "marker": {
             "line": {
              "color": "#E5ECF6",
              "width": 0.5
             },
             "pattern": {
              "fillmode": "overlay",
              "size": 10,
              "solidity": 0.2
             }
            },
            "type": "barpolar"
           }
          ],
          "carpet": [
           {
            "aaxis": {
             "endlinecolor": "#2a3f5f",
             "gridcolor": "white",
             "linecolor": "white",
             "minorgridcolor": "white",
             "startlinecolor": "#2a3f5f"
            },
            "baxis": {
             "endlinecolor": "#2a3f5f",
             "gridcolor": "white",
             "linecolor": "white",
             "minorgridcolor": "white",
             "startlinecolor": "#2a3f5f"
            },
            "type": "carpet"
           }
          ],
          "choropleth": [
           {
            "colorbar": {
             "outlinewidth": 0,
             "ticks": ""
            },
            "type": "choropleth"
           }
          ],
          "contour": [
           {
            "colorbar": {
             "outlinewidth": 0,
             "ticks": ""
            },
            "colorscale": [
             [
              0,
              "#0d0887"
             ],
             [
              0.1111111111111111,
              "#46039f"
             ],
             [
              0.2222222222222222,
              "#7201a8"
             ],
             [
              0.3333333333333333,
              "#9c179e"
             ],
             [
              0.4444444444444444,
              "#bd3786"
             ],
             [
              0.5555555555555556,
              "#d8576b"
             ],
             [
              0.6666666666666666,
              "#ed7953"
             ],
             [
              0.7777777777777778,
              "#fb9f3a"
             ],
             [
              0.8888888888888888,
              "#fdca26"
             ],
             [
              1,
              "#f0f921"
             ]
            ],
            "type": "contour"
           }
          ],
          "contourcarpet": [
           {
            "colorbar": {
             "outlinewidth": 0,
             "ticks": ""
            },
            "type": "contourcarpet"
           }
          ],
          "heatmap": [
           {
            "colorbar": {
             "outlinewidth": 0,
             "ticks": ""
            },
            "colorscale": [
             [
              0,
              "#0d0887"
             ],
             [
              0.1111111111111111,
              "#46039f"
             ],
             [
              0.2222222222222222,
              "#7201a8"
             ],
             [
              0.3333333333333333,
              "#9c179e"
             ],
             [
              0.4444444444444444,
              "#bd3786"
             ],
             [
              0.5555555555555556,
              "#d8576b"
             ],
             [
              0.6666666666666666,
              "#ed7953"
             ],
             [
              0.7777777777777778,
              "#fb9f3a"
             ],
             [
              0.8888888888888888,
              "#fdca26"
             ],
             [
              1,
              "#f0f921"
             ]
            ],
            "type": "heatmap"
           }
          ],
          "histogram": [
           {
            "marker": {
             "pattern": {
              "fillmode": "overlay",
              "size": 10,
              "solidity": 0.2
             }
            },
            "type": "histogram"
           }
          ],
          "histogram2d": [
           {
            "colorbar": {
             "outlinewidth": 0,
             "ticks": ""
            },
            "colorscale": [
             [
              0,
              "#0d0887"
             ],
             [
              0.1111111111111111,
              "#46039f"
             ],
             [
              0.2222222222222222,
              "#7201a8"
             ],
             [
              0.3333333333333333,
              "#9c179e"
             ],
             [
              0.4444444444444444,
              "#bd3786"
             ],
             [
              0.5555555555555556,
              "#d8576b"
             ],
             [
              0.6666666666666666,
              "#ed7953"
             ],
             [
              0.7777777777777778,
              "#fb9f3a"
             ],
             [
              0.8888888888888888,
              "#fdca26"
             ],
             [
              1,
              "#f0f921"
             ]
            ],
            "type": "histogram2d"
           }
          ],
          "histogram2dcontour": [
           {
            "colorbar": {
             "outlinewidth": 0,
             "ticks": ""
            },
            "colorscale": [
             [
              0,
              "#0d0887"
             ],
             [
              0.1111111111111111,
              "#46039f"
             ],
             [
              0.2222222222222222,
              "#7201a8"
             ],
             [
              0.3333333333333333,
              "#9c179e"
             ],
             [
              0.4444444444444444,
              "#bd3786"
             ],
             [
              0.5555555555555556,
              "#d8576b"
             ],
             [
              0.6666666666666666,
              "#ed7953"
             ],
             [
              0.7777777777777778,
              "#fb9f3a"
             ],
             [
              0.8888888888888888,
              "#fdca26"
             ],
             [
              1,
              "#f0f921"
             ]
            ],
            "type": "histogram2dcontour"
           }
          ],
          "mesh3d": [
           {
            "colorbar": {
             "outlinewidth": 0,
             "ticks": ""
            },
            "type": "mesh3d"
           }
          ],
          "parcoords": [
           {
            "line": {
             "colorbar": {
              "outlinewidth": 0,
              "ticks": ""
             }
            },
            "type": "parcoords"
           }
          ],
          "pie": [
           {
            "automargin": true,
            "type": "pie"
           }
          ],
          "scatter": [
           {
            "fillpattern": {
             "fillmode": "overlay",
             "size": 10,
             "solidity": 0.2
            },
            "type": "scatter"
           }
          ],
          "scatter3d": [
           {
            "line": {
             "colorbar": {
              "outlinewidth": 0,
              "ticks": ""
             }
            },
            "marker": {
             "colorbar": {
              "outlinewidth": 0,
              "ticks": ""
             }
            },
            "type": "scatter3d"
           }
          ],
          "scattercarpet": [
           {
            "marker": {
             "colorbar": {
              "outlinewidth": 0,
              "ticks": ""
             }
            },
            "type": "scattercarpet"
           }
          ],
          "scattergeo": [
           {
            "marker": {
             "colorbar": {
              "outlinewidth": 0,
              "ticks": ""
             }
            },
            "type": "scattergeo"
           }
          ],
          "scattergl": [
           {
            "marker": {
             "colorbar": {
              "outlinewidth": 0,
              "ticks": ""
             }
            },
            "type": "scattergl"
           }
          ],
          "scattermap": [
           {
            "marker": {
             "colorbar": {
              "outlinewidth": 0,
              "ticks": ""
             }
            },
            "type": "scattermap"
           }
          ],
          "scattermapbox": [
           {
            "marker": {
             "colorbar": {
              "outlinewidth": 0,
              "ticks": ""
             }
            },
            "type": "scattermapbox"
           }
          ],
          "scatterpolar": [
           {
            "marker": {
             "colorbar": {
              "outlinewidth": 0,
              "ticks": ""
             }
            },
            "type": "scatterpolar"
           }
          ],
          "scatterpolargl": [
           {
            "marker": {
             "colorbar": {
              "outlinewidth": 0,
              "ticks": ""
             }
            },
            "type": "scatterpolargl"
           }
          ],
          "scatterternary": [
           {
            "marker": {
             "colorbar": {
              "outlinewidth": 0,
              "ticks": ""
             }
            },
            "type": "scatterternary"
           }
          ],
          "surface": [
           {
            "colorbar": {
             "outlinewidth": 0,
             "ticks": ""
            },
            "colorscale": [
             [
              0,
              "#0d0887"
             ],
             [
              0.1111111111111111,
              "#46039f"
             ],
             [
              0.2222222222222222,
              "#7201a8"
             ],
             [
              0.3333333333333333,
              "#9c179e"
             ],
             [
              0.4444444444444444,
              "#bd3786"
             ],
             [
              0.5555555555555556,
              "#d8576b"
             ],
             [
              0.6666666666666666,
              "#ed7953"
             ],
             [
              0.7777777777777778,
              "#fb9f3a"
             ],
             [
              0.8888888888888888,
              "#fdca26"
             ],
             [
              1,
              "#f0f921"
             ]
            ],
            "type": "surface"
           }
          ],
          "table": [
           {
            "cells": {
             "fill": {
              "color": "#EBF0F8"
             },
             "line": {
              "color": "white"
             }
            },
            "header": {
             "fill": {
              "color": "#C8D4E3"
             },
             "line": {
              "color": "white"
             }
            },
            "type": "table"
           }
          ]
         },
         "layout": {
          "annotationdefaults": {
           "arrowcolor": "#2a3f5f",
           "arrowhead": 0,
           "arrowwidth": 1
          },
          "autotypenumbers": "strict",
          "coloraxis": {
           "colorbar": {
            "outlinewidth": 0,
            "ticks": ""
           }
          },
          "colorscale": {
           "diverging": [
            [
             0,
             "#8e0152"
            ],
            [
             0.1,
             "#c51b7d"
            ],
            [
             0.2,
             "#de77ae"
            ],
            [
             0.3,
             "#f1b6da"
            ],
            [
             0.4,
             "#fde0ef"
            ],
            [
             0.5,
             "#f7f7f7"
            ],
            [
             0.6,
             "#e6f5d0"
            ],
            [
             0.7,
             "#b8e186"
            ],
            [
             0.8,
             "#7fbc41"
            ],
            [
             0.9,
             "#4d9221"
            ],
            [
             1,
             "#276419"
            ]
           ],
           "sequential": [
            [
             0,
             "#0d0887"
            ],
            [
             0.1111111111111111,
             "#46039f"
            ],
            [
             0.2222222222222222,
             "#7201a8"
            ],
            [
             0.3333333333333333,
             "#9c179e"
            ],
            [
             0.4444444444444444,
             "#bd3786"
            ],
            [
             0.5555555555555556,
             "#d8576b"
            ],
            [
             0.6666666666666666,
             "#ed7953"
            ],
            [
             0.7777777777777778,
             "#fb9f3a"
            ],
            [
             0.8888888888888888,
             "#fdca26"
            ],
            [
             1,
             "#f0f921"
            ]
           ],
           "sequentialminus": [
            [
             0,
             "#0d0887"
            ],
            [
             0.1111111111111111,
             "#46039f"
            ],
            [
             0.2222222222222222,
             "#7201a8"
            ],
            [
             0.3333333333333333,
             "#9c179e"
            ],
            [
             0.4444444444444444,
             "#bd3786"
            ],
            [
             0.5555555555555556,
             "#d8576b"
            ],
            [
             0.6666666666666666,
             "#ed7953"
            ],
            [
             0.7777777777777778,
             "#fb9f3a"
            ],
            [
             0.8888888888888888,
             "#fdca26"
            ],
            [
             1,
             "#f0f921"
            ]
           ]
          },
          "colorway": [
           "#636efa",
           "#EF553B",
           "#00cc96",
           "#ab63fa",
           "#FFA15A",
           "#19d3f3",
           "#FF6692",
           "#B6E880",
           "#FF97FF",
           "#FECB52"
          ],
          "font": {
           "color": "#2a3f5f"
          },
          "geo": {
           "bgcolor": "white",
           "lakecolor": "white",
           "landcolor": "#E5ECF6",
           "showlakes": true,
           "showland": true,
           "subunitcolor": "white"
          },
          "hoverlabel": {
           "align": "left"
          },
          "hovermode": "closest",
          "mapbox": {
           "style": "light"
          },
          "paper_bgcolor": "white",
          "plot_bgcolor": "#E5ECF6",
          "polar": {
           "angularaxis": {
            "gridcolor": "white",
            "linecolor": "white",
            "ticks": ""
           },
           "bgcolor": "#E5ECF6",
           "radialaxis": {
            "gridcolor": "white",
            "linecolor": "white",
            "ticks": ""
           }
          },
          "scene": {
           "xaxis": {
            "backgroundcolor": "#E5ECF6",
            "gridcolor": "white",
            "gridwidth": 2,
            "linecolor": "white",
            "showbackground": true,
            "ticks": "",
            "zerolinecolor": "white"
           },
           "yaxis": {
            "backgroundcolor": "#E5ECF6",
            "gridcolor": "white",
            "gridwidth": 2,
            "linecolor": "white",
            "showbackground": true,
            "ticks": "",
            "zerolinecolor": "white"
           },
           "zaxis": {
            "backgroundcolor": "#E5ECF6",
            "gridcolor": "white",
            "gridwidth": 2,
            "linecolor": "white",
            "showbackground": true,
            "ticks": "",
            "zerolinecolor": "white"
           }
          },
          "shapedefaults": {
           "line": {
            "color": "#2a3f5f"
           }
          },
          "ternary": {
           "aaxis": {
            "gridcolor": "white",
            "linecolor": "white",
            "ticks": ""
           },
           "baxis": {
            "gridcolor": "white",
            "linecolor": "white",
            "ticks": ""
           },
           "bgcolor": "#E5ECF6",
           "caxis": {
            "gridcolor": "white",
            "linecolor": "white",
            "ticks": ""
           }
          },
          "title": {
           "x": 0.05
          },
          "xaxis": {
           "automargin": true,
           "gridcolor": "white",
           "linecolor": "white",
           "ticks": "",
           "title": {
            "standoff": 15
           },
           "zerolinecolor": "white",
           "zerolinewidth": 2
          },
          "yaxis": {
           "automargin": true,
           "gridcolor": "white",
           "linecolor": "white",
           "ticks": "",
           "title": {
            "standoff": 15
           },
           "zerolinecolor": "white",
           "zerolinewidth": 2
          }
         }
        },
        "title": {
         "text": "Nova Group bo'yicha country_count (Boxplot)"
        },
        "xaxis": {
         "anchor": "y",
         "domain": [
          0,
          1
         ],
         "title": {
          "text": "Nova Group"
         }
        },
        "yaxis": {
         "anchor": "x",
         "domain": [
          0,
          1
         ],
         "title": {
          "text": "Country Count"
         }
        }
       }
      }
     },
     "metadata": {},
     "output_type": "display_data"
    },
    {
     "data": {
      "application/vnd.plotly.v1+json": {
       "config": {
        "plotlyServerURL": "https://plot.ly"
       },
       "data": [
        {
         "alignmentgroup": "True",
         "box": {
          "visible": true
         },
         "hovertemplate": "nova_group=%{x}<br>country_count=%{y}<extra></extra>",
         "legendgroup": "",
         "marker": {
          "color": "#636efa"
         },
         "name": "",
         "offsetgroup": "",
         "orientation": "v",
         "points": "all",
         "scalegroup": "True",
         "showlegend": false,
         "type": "violin",
         "x": {
          "bdata": "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",
          "dtype": "f8"
         },
         "x0": " ",
         "xaxis": "x",
         "y": {
          "bdata": "AQIBAQEBDAEEAgEBAQgBAQIBDxgBEQEBAQIEAQECAQEDDgENChABAQIOAQECDA8BAQELAQ0BAgUBAQEBAQQBAQMBAQEBCwEWAQ8EAQMOCAULAQEBAwEDBAQHAQoIAQEBAwEIAQEGAQICAwEBAQIDAQcBAwEBCw0BAQUCARABAQEBAQEFAgMGEwMKGQECAgEBAQEBAgYCDA8BAgkEBQEGAgECAxMBAQcHAhIBAQECCAEJBwEBBwECDAUCDgMDFwIFAQEBAgUGCwIBAgYCBQEBAQIKAQIEAwQBCAIKBggHAgMBAQsBDA0DAQIBAQkDAQEBAQ4BDAMJAQIHAQUBAQEBCQcBAgEGEgkBAwEBAgEBEwEEBAEDBQICAQECAQQBAgQCBAIEAQQCAQIBBQECAQIDAxcBBgMCAg0ECAEBFQELAQECAgECAwIBBAUBAQgLBAgPBwEBAQEDAQEDAgELAQIJBAQEBgEIBAkKAQQBCQIBAQEDAQEIAgYBAQEEAwYBAQEBAQEBBwMIAQYCAgcBAQYCAQIBAQEDAQIBBwMBAQMDBAIFAQEGAgIGAQEDCQECAwIBBgYBAwwBAQYBAQQBAgEEAgIJBAQFBQECBQICAwUBAQIDBAECCgMBDgEKAg4BAwIHCgEBAwIBAQIBAQECAgIFAgMBAg0JBgIBAQEBAgEBBAIDAgECAgMFAgEDCAYCAgECBAcCBAIBAQYCBgYCAwEBAQEBAQEBAgEDAgIDAQkFAwUEAwIBAQEBAQECAgICAQECAgEBAwMCAgsDBQEBAgYLAw0JBQcBAQQDAgMFAQEEBwMCAQMBAQICAQEBAQIDBxUCAwICAwIBAQIBAgEBAQECAgEBBAYBAgICAgkCAQMIAgEBAQQCAQEBBgMCBQIEAwICAgIBBwQECAYFBQkCAgIBAQEBBRQBAgIBAQEEAgMCAgICBwECAwMEAQMCBAIBBgEBAgIDAwECAgEIAgEDAQMBAQECAwEBAQERBwIBAgEBBwgDAQMBAgEBBAEDAgIFAQEFAQMBAgUFAgEDAgIDAgEEAgEBAQEEAQICCwMBAQEDAwIBAQQBBQEHAgIBAQYBAQIBAQEIBgEDAQICBQQCAQICAQECAgMBAQUBDAMCAQECAgICAQIDCA0CAgEBAgoDBwIDAgIBAQICCwMDAQEBAQIBBQIBAQEBAwUDBQIBAgEBAQEEBgUIAwMDAgIEBQMNCwEBAgMEAgIBAgECAgEBAgEFAgQDBwsCAgEDAQIBBQECAQEFAgEJAQECAQECAQICAwECAgIBAQEBAwMDAgIDBAICBwEBAwICAQECAQEDAQICAgsCAgEBAQEBAQcCAgoCCwEBAQECAgECAgMCAgMBAgIFAQMCAQ4BAQEBBQQDBAMBAgEBAQYCCAIEAQMBAQECCgICAwECAQICAgUEAwEEBAIEAgQCBAUBAQMBAQMEBAEBAQIEBAQCAggCAwIBAQUCAgEDAQICAQEBAgMNAwMEAQMBAQIFAQICAgUDAgECBAUDBAEBAQEDAQkEAgECCQUBBgEBAgEEAgUGAgMRAwEBAQEBAggFBgMBBQEDBAcCAQICAgUBAwIFAg8CAwMBAQICAgEEAgEFAQEHAgIBBgIBBAIBAwIBAgUCAQECBgIFAwEBAQkIAQEBAQEBBQYCAgEBCAcGAQMBAgMCCgYCAwkBAQIBAQEBAQEBAQEBAgUFAgEDAQIDBQMGAgMBAQEFBQIBAQEGBwIDAgUCBAgBAQEBAQQBAQQBAgICAQYHBwQBAwEBAQEBAwEBAQECAQEDAgICAg4DCAIBAgIBAQEBAgEBAREFBAMBBAEFAgIFAgICAQECAQECAQIDAgMBBQEDAQEBAQEBAQEFAgEDAwMCBgECAQEBAgEDAQIDBgEDAgMBAQEBAgMBAwMBAgQCBAECAQIGBgwDAQoBBAEIAwIDAgEJAQEBBQEBAQEBAwICAwMDAQIEAQ4BAQEBAQIBBgIBAwEBAQ0OAQIBAgIEAgIBAQECBQQCAQICBgECAQEBAgIBAgEBAQECAwIDAQECAwIEAQEBAQMCAgICAQEBAQQCAgECAgIFAwICAQQCAgYCAQIBAQEBAQUBAgEDBAMDAQIDAQICAgMFAQMCAgcIAgMBAgIBAgcCAgICAQECAQEBAQIDAQIEAgIDAQECAQMFCAEBAQEDAQoHAwMCAwQFAwIGDAgBAgEBAgIDCAEIAwoCAgIDAgIDAQMDAwMDAQICAgEEAQEEBQMCAQMCAQMBAgIBAQIBAQIBAgMBAQEHAQEBBQECAgIBAQMBAQYBAQIBAQEFAQQBBQgCCAEBAwEDAQECAQIBAQECBQEBBgEDAwMCAQQCAQMCBQECAQICBQECAwICAgMDAQEBAgYCAQIBAQMFAgEFAQECBQECBAECBQgBAwIFAQMBAQIBAgIBAgEBAQEBAQEBBgICAQQCAgEDAwIBAQMDBgMCAQIDAQEBAQEBAQcEAQYEAwEBAQECAQIDAgEBAwMCAgEBAQICAQEBAQECAQEBAgQCBQEBAQUCAQEKBAECAgECAQEBAQEBAQEBAQEBAQEBAwMDAgEBAgIHAQMCAQEBAQEBAQIBAQIBAQIEAQIBAQQDAgICAgEGAQQCAgEBAQEBAQIBAQUCAQEBAQEBAQICAgUBBgUDAQIDAgICAQEBAQMGAQEBAQEDAwYBEAEBAQQCBQMEAQECAgIFAQIBAQEBAQICAgEBBwEBAgsCBQQBAQILAQkDAgIDBwICAwMBAQEBAQIBAQMGAgEDAQIDAgICAggCAgIDAgcBCwEBAQEBAQEBAgICAQECBAEBAQQCCAEBAQEDAQEBAQEBAQECCQECAgICAQIBAQEBAQMEBQMDAQMDAQQCAgICAgQBAgUCAQIBAQEBAQEBAQEBAQEBAwIDAwEBBgEBBAcEAgcCAgIBAgIBAQIBAQEBAQQCAQMBBgICAQICAwUCAQIHBAICAQEBAgEBAQICAQEBAQEBBAQDAQMBAgIDAQIBBAsDAQICAQEBBgICAQIDAQEBAgIDCAECAQEDAQECAQEGAQQBAgEDBgICAgECBAEBAgQBAQEBAgQBAgMCAgEEAgUBAgEBAgEEAgEBAwECAgMBAQEBAwMBAQECBAgCAQECAQEBAgEBAQEBAQECAQECBAIEAQEBAQUDAwEBAwIDBAEBAgECBQICEAMDAQECAQECAgIEAQEBAQEBAQMCAQEGAgECAQICCQECAQMFBAYCAwICAQEBAQMBAgEBAQEBAQEBAgEBAQECAwECAQQEAQIBCAICAgIDAwICAgcEAgMDCwICAgQBAgEBAQEOAQEBAQECAgECBAEGAgQDAgEDBAgBCQECAgICAQIGBQYCBQYBAwEKAgEGAQEFAQECAQEBAgECAQEBBAIBAQUCAQMCAgIDAgICCAIDAwEDCAEBAgEBAQICAQIBAQMBAQEDAQICAwEDAQUCAwQBBAICAQQBBAIHAgIFAgIBAwECBgECAQIBBwEBBAEBAgEBAQIBBQICAQICAgYCAQMCCAIIBAsDAgQBBgEBAwECAgMEAQIBAQECAgEBAQECBQICAwECAQIDAgQBAgEDCQIHAQICAgICAQEBAgEFAQgBAQEBAwIBAQEBAQEBAQMGAwQCAwEDCAMBAgIEAgMCBgIGAQICAgEBAQEBAQECAQEBAQEBAQEHBAEEAgIEAQECAgECAQEEAgIGBAMFAwICAwIBAgMCAgECAQEBDAIBAgECAgICAQIBAQEBAQECAQgQAQEBAwECAwIDAQICAwIBAwIEAQEDAQICAQIIAgMCAQEBAQQCAQEBAQECAQEBAQgCAwEBARQHAQICAwMCAQcCCgMDAQECAwIDBQIBAQEBAQMCAQIBAQEBAQIBAQQBAQECAQIBAgICBAEHAQEBAgICAgEDAgIDAwEJBQQEAQMDAgEBAgECAgEBAQEBAQICAQIBAQEBAQEBAQEBAgEBBwYCAQMCAgIBAQIBAQMDAQMEAwMCAQEFCAIBBAIBAgIBAgECAgEBAQEBAgECAgECAwIBAQECAQIBAQEDAQMBAgIBAQEBAgEGAQIBAQEBAQEEAQEBAQMBAQEBAQECAQEBAQIFBAgBAQEBAQMDDQICAgIKBAIQAgMBCgIDAQEBAQEBAQEBAQEBAgEBAQIBAQEBAQEBAwgEAQIDAgECBgEGAgYCAgIBAgMBAQIBAQEGAQEBAQMBAQEBAQEBAQEBAQEBBAEDAQQBAgIBAQEBAQEEAQMCAgMDAQECAQIBAQECBQICAgEBAQEBAQEBAwEBAwEBAQEBBAECAgIFAgEDAQQCAQIGAgIBAgEDAQIBAwECBgIDAgQCAgECAQ0KAgIBAgUCAQIBAQIBAQUCAQEBAQICAQEBAQIBAgMBAQgCAQEDAQIBAwEEAgIBAgMEAQsDAwMHAwICAQUKAgMBAQEDAQIDAQMBCgEBAQEBAQECAQMBAQIBAQEBAQEBAQIBAgIHBQIBAgQBAgECBAEBAQIBAgEBAwMBBQECAgIDAQMEAgECBgMMAQEBAwECAgEBAQEBAQEBAQQBAgIBAQICAQECAQgBAgEBAQEBAQEBAQEGBAEEAgQBAQMBAQIBAQECAgEFAwIBAgIDAQQCAgkDAQkFCQQCBQICBAICAgIBAQEBAQEDAgIBAQEBAQIBAQECAgIBAgMBAQEBAQIBAgEDAQIBAQICBQEDBQEBDAMEAwIFAgEEAgEBAQUCBQQBAQIBAgEFAwICBgIBEQMBAwICAgIEAQEBAQEBAQMBAgUEAQIEAwMBAgECAQcDAQIEBQQBAQICAgECAgIEAQEEAQIBAgEBAQEBAgEBAwECAQIBAgEBAgEBAQECBAECAQMFAQQCBAIBAgICAgEBAgcCAQIBAQIFAgICBgICAQECBgUBAwECAgEBAgICAQQCAgEIAQEBAQEBAgEBAgEBAQEBAQECAQEDAQEBAQEBAQIIBAEFAgMEAQIBAgICAgICAwIGAQECAgICAgICAQEDAQMEAwMCAQEBBAECAQMBAQECAwUHAgIDAQcBAwQCAQEBAgEBAQEBAQEBAQECAQEBAQEBAQEBAQICAgYCBAMCAgIDAwIKAQIFBAECAwMBAQEBAQEBAgIDAwQCAgMFAgMCAwEBAQICBgICAQIBAQEBAgEBAQECAgEBAQEBAQECAQEDAwIDAQEBAQIBAQEBAgEBAQEDAQQDCAMJAwICAQQCAQEBAQEBAQQBAgEBAgEBAwECAgIDBQMBAgoCAgIDAgICAQEBAQICAQEBAQEBAwEBAgEBAgIBBQQCAQIBAgEBAQEBBgECAQEBAgEBAQEBAQECAgMBAQEDAQECBQUBAwMCAQEBBgEBBAEDBAEBAQMCAwIBAgkDBAECAgICBgECAgECAQUBAQIBBAEBAQIBAQEBAgELARICCAECAQEBAQIBAQEBAQICAgEEAQEBAwMBAQEBAwIDAgECDAIEAgEEBwIMBQMBAQECCAICAwEBAQECAQEBBAIBAgIBAQECAQIBAQEBAgEBAQEBAQEBAQEEBAEFAQEBAQECAQEBAQEBAQEBAQIDAwMEAQMBAgEDAQEBAQEBAQQBAQEDAQEGAQIBAgIBBQICAQEBBgsEDAMCAgECAQMBAQEBBgECAQUBAQEBAgEBAQEBAQIBAQEBAQIBAgEBAQECAQEBAQEBAQEBAwEBAQUBAQECAQIDAwICAQEBAQEBBAECAQECAgIEAQEBBgMHAQcCBgcEAwYCAQICAgIBAQICAQYCAQEBAQEBAQIBAQIBAgEDAQECAQEBAQEBAQECAQEBAQIDAQECAQIBAgEDAQEDAQEBAQECAQICAgICBAICAgICBwQBAwYEBQEBBAMCAgICAwECAQIDAgICAQEBAgIBAQEBAgEBAQIBAwEBAgEBAQEBAgEBAQECAQEBAQEBAgIDBgIBAgMBAQICAwQCAgQDCgECBAECAQEBAQwCAgICAwEDAgEEAwMJBQEDAgIDBAQBAgEBAgECAQEBAQEBBgECAQEBAQECAwICAQEBAQEBAgEBAQECAQMBAgIBBgEBAQMHAwMCAQECAgECAQEDAwEBBAICAQkEAgECAgQCAQEBAgIBAgICAwYEAgIBAgECBAQCAQEBAQICAQMBAQEBAQECAQEBAgEBAQMBAgECAwECAQEBAQEBAQEBBQIHAgEBAQEBAgMGBwECAQMBAQECAQECAQECAQEBAQEBAQIBAQQCAQEDBAIDAQICAQICAgcDAQIBAgEGCAICAgEBAQQBAgIBAQMBAQECAgIBAQIBAQIHBQEBAQEBAQECAQECAgMCAQEBAQEBAQMBAQEBAQIBAQIBAQEBAgECAwIDAQMBAwIFBAIEAQEBAwMCAgICAwELAQIJAgIBAgEKAgICAQIDAwICAgECAwMHCgICBgMBAQICAwUHAQMCAQEBAQECAgEBAQIDAwEBAgEBAQEBAQEBAQUCBAEBAQEBAQQBAgEBAQMBAQEBAQEBAQECAQEEAgMBAgICAQEBAgMBAQEBAQECAQIBBwIEBQIBAgICAgwBAQIBAQUFBAEBAQICAgICBQIBAQICBQEBAQECAQECAQEBAQEBAQECBgUBAQICAwEBAQEBAQEBAgECAQEBAQEBAQIBAwELBAEBBAECAgMBAQIHAgIBAQICAQEBAwIDBwEBAgEBAgEDAwYBAwIBAQ==",
          "dtype": "i1"
         },
         "y0": " ",
         "yaxis": "y"
        }
       ],
       "layout": {
        "legend": {
         "tracegroupgap": 0
        },
        "template": {
         "data": {
          "bar": [
           {
            "error_x": {
             "color": "#2a3f5f"
            },
            "error_y": {
             "color": "#2a3f5f"
            },
            "marker": {
             "line": {
              "color": "#E5ECF6",
              "width": 0.5
             },
             "pattern": {
              "fillmode": "overlay",
              "size": 10,
              "solidity": 0.2
             }
            },
            "type": "bar"
           }
          ],
          "barpolar": [
           {
            "marker": {
             "line": {
              "color": "#E5ECF6",
              "width": 0.5
             },
             "pattern": {
              "fillmode": "overlay",
              "size": 10,
              "solidity": 0.2
             }
            },
            "type": "barpolar"
           }
          ],
          "carpet": [
           {
            "aaxis": {
             "endlinecolor": "#2a3f5f",
             "gridcolor": "white",
             "linecolor": "white",
             "minorgridcolor": "white",
             "startlinecolor": "#2a3f5f"
            },
            "baxis": {
             "endlinecolor": "#2a3f5f",
             "gridcolor": "white",
             "linecolor": "white",
             "minorgridcolor": "white",
             "startlinecolor": "#2a3f5f"
            },
            "type": "carpet"
           }
          ],
          "choropleth": [
           {
            "colorbar": {
             "outlinewidth": 0,
             "ticks": ""
            },
            "type": "choropleth"
           }
          ],
          "contour": [
           {
            "colorbar": {
             "outlinewidth": 0,
             "ticks": ""
            },
            "colorscale": [
             [
              0,
              "#0d0887"
             ],
             [
              0.1111111111111111,
              "#46039f"
             ],
             [
              0.2222222222222222,
              "#7201a8"
             ],
             [
              0.3333333333333333,
              "#9c179e"
             ],
             [
              0.4444444444444444,
              "#bd3786"
             ],
             [
              0.5555555555555556,
              "#d8576b"
             ],
             [
              0.6666666666666666,
              "#ed7953"
             ],
             [
              0.7777777777777778,
              "#fb9f3a"
             ],
             [
              0.8888888888888888,
              "#fdca26"
             ],
             [
              1,
              "#f0f921"
             ]
            ],
            "type": "contour"
           }
          ],
          "contourcarpet": [
           {
            "colorbar": {
             "outlinewidth": 0,
             "ticks": ""
            },
            "type": "contourcarpet"
           }
          ],
          "heatmap": [
           {
            "colorbar": {
             "outlinewidth": 0,
             "ticks": ""
            },
            "colorscale": [
             [
              0,
              "#0d0887"
             ],
             [
              0.1111111111111111,
              "#46039f"
             ],
             [
              0.2222222222222222,
              "#7201a8"
             ],
             [
              0.3333333333333333,
              "#9c179e"
             ],
             [
              0.4444444444444444,
              "#bd3786"
             ],
             [
              0.5555555555555556,
              "#d8576b"
             ],
             [
              0.6666666666666666,
              "#ed7953"
             ],
             [
              0.7777777777777778,
              "#fb9f3a"
             ],
             [
              0.8888888888888888,
              "#fdca26"
             ],
             [
              1,
              "#f0f921"
             ]
            ],
            "type": "heatmap"
           }
          ],
          "histogram": [
           {
            "marker": {
             "pattern": {
              "fillmode": "overlay",
              "size": 10,
              "solidity": 0.2
             }
            },
            "type": "histogram"
           }
          ],
          "histogram2d": [
           {
            "colorbar": {
             "outlinewidth": 0,
             "ticks": ""
            },
            "colorscale": [
             [
              0,
              "#0d0887"
             ],
             [
              0.1111111111111111,
              "#46039f"
             ],
             [
              0.2222222222222222,
              "#7201a8"
             ],
             [
              0.3333333333333333,
              "#9c179e"
             ],
             [
              0.4444444444444444,
              "#bd3786"
             ],
             [
              0.5555555555555556,
              "#d8576b"
             ],
             [
              0.6666666666666666,
              "#ed7953"
             ],
             [
              0.7777777777777778,
              "#fb9f3a"
             ],
             [
              0.8888888888888888,
              "#fdca26"
             ],
             [
              1,
              "#f0f921"
             ]
            ],
            "type": "histogram2d"
           }
          ],
          "histogram2dcontour": [
           {
            "colorbar": {
             "outlinewidth": 0,
             "ticks": ""
            },
            "colorscale": [
             [
              0,
              "#0d0887"
             ],
             [
              0.1111111111111111,
              "#46039f"
             ],
             [
              0.2222222222222222,
              "#7201a8"
             ],
             [
              0.3333333333333333,
              "#9c179e"
             ],
             [
              0.4444444444444444,
              "#bd3786"
             ],
             [
              0.5555555555555556,
              "#d8576b"
             ],
             [
              0.6666666666666666,
              "#ed7953"
             ],
             [
              0.7777777777777778,
              "#fb9f3a"
             ],
             [
              0.8888888888888888,
              "#fdca26"
             ],
             [
              1,
              "#f0f921"
             ]
            ],
            "type": "histogram2dcontour"
           }
          ],
          "mesh3d": [
           {
            "colorbar": {
             "outlinewidth": 0,
             "ticks": ""
            },
            "type": "mesh3d"
           }
          ],
          "parcoords": [
           {
            "line": {
             "colorbar": {
              "outlinewidth": 0,
              "ticks": ""
             }
            },
            "type": "parcoords"
           }
          ],
          "pie": [
           {
            "automargin": true,
            "type": "pie"
           }
          ],
          "scatter": [
           {
            "fillpattern": {
             "fillmode": "overlay",
             "size": 10,
             "solidity": 0.2
            },
            "type": "scatter"
           }
          ],
          "scatter3d": [
           {
            "line": {
             "colorbar": {
              "outlinewidth": 0,
              "ticks": ""
             }
            },
            "marker": {
             "colorbar": {
              "outlinewidth": 0,
              "ticks": ""
             }
            },
            "type": "scatter3d"
           }
          ],
          "scattercarpet": [
           {
            "marker": {
             "colorbar": {
              "outlinewidth": 0,
              "ticks": ""
             }
            },
            "type": "scattercarpet"
           }
          ],
          "scattergeo": [
           {
            "marker": {
             "colorbar": {
              "outlinewidth": 0,
              "ticks": ""
             }
            },
            "type": "scattergeo"
           }
          ],
          "scattergl": [
           {
            "marker": {
             "colorbar": {
              "outlinewidth": 0,
              "ticks": ""
             }
            },
            "type": "scattergl"
           }
          ],
          "scattermap": [
           {
            "marker": {
             "colorbar": {
              "outlinewidth": 0,
              "ticks": ""
             }
            },
            "type": "scattermap"
           }
          ],
          "scattermapbox": [
           {
            "marker": {
             "colorbar": {
              "outlinewidth": 0,
              "ticks": ""
             }
            },
            "type": "scattermapbox"
           }
          ],
          "scatterpolar": [
           {
            "marker": {
             "colorbar": {
              "outlinewidth": 0,
              "ticks": ""
             }
            },
            "type": "scatterpolar"
           }
          ],
          "scatterpolargl": [
           {
            "marker": {
             "colorbar": {
              "outlinewidth": 0,
              "ticks": ""
             }
            },
            "type": "scatterpolargl"
           }
          ],
          "scatterternary": [
           {
            "marker": {
             "colorbar": {
              "outlinewidth": 0,
              "ticks": ""
             }
            },
            "type": "scatterternary"
           }
          ],
          "surface": [
           {
            "colorbar": {
             "outlinewidth": 0,
             "ticks": ""
            },
            "colorscale": [
             [
              0,
              "#0d0887"
             ],
             [
              0.1111111111111111,
              "#46039f"
             ],
             [
              0.2222222222222222,
              "#7201a8"
             ],
             [
              0.3333333333333333,
              "#9c179e"
             ],
             [
              0.4444444444444444,
              "#bd3786"
             ],
             [
              0.5555555555555556,
              "#d8576b"
             ],
             [
              0.6666666666666666,
              "#ed7953"
             ],
             [
              0.7777777777777778,
              "#fb9f3a"
             ],
             [
              0.8888888888888888,
              "#fdca26"
             ],
             [
              1,
              "#f0f921"
             ]
            ],
            "type": "surface"
           }
          ],
          "table": [
           {
            "cells": {
             "fill": {
              "color": "#EBF0F8"
             },
             "line": {
              "color": "white"
             }
            },
            "header": {
             "fill": {
              "color": "#C8D4E3"
             },
             "line": {
              "color": "white"
             }
            },
            "type": "table"
           }
          ]
         },
         "layout": {
          "annotationdefaults": {
           "arrowcolor": "#2a3f5f",
           "arrowhead": 0,
           "arrowwidth": 1
          },
          "autotypenumbers": "strict",
          "coloraxis": {
           "colorbar": {
            "outlinewidth": 0,
            "ticks": ""
           }
          },
          "colorscale": {
           "diverging": [
            [
             0,
             "#8e0152"
            ],
            [
             0.1,
             "#c51b7d"
            ],
            [
             0.2,
             "#de77ae"
            ],
            [
             0.3,
             "#f1b6da"
            ],
            [
             0.4,
             "#fde0ef"
            ],
            [
             0.5,
             "#f7f7f7"
            ],
            [
             0.6,
             "#e6f5d0"
            ],
            [
             0.7,
             "#b8e186"
            ],
            [
             0.8,
             "#7fbc41"
            ],
            [
             0.9,
             "#4d9221"
            ],
            [
             1,
             "#276419"
            ]
           ],
           "sequential": [
            [
             0,
             "#0d0887"
            ],
            [
             0.1111111111111111,
             "#46039f"
            ],
            [
             0.2222222222222222,
             "#7201a8"
            ],
            [
             0.3333333333333333,
             "#9c179e"
            ],
            [
             0.4444444444444444,
             "#bd3786"
            ],
            [
             0.5555555555555556,
             "#d8576b"
            ],
            [
             0.6666666666666666,
             "#ed7953"
            ],
            [
             0.7777777777777778,
             "#fb9f3a"
            ],
            [
             0.8888888888888888,
             "#fdca26"
            ],
            [
             1,
             "#f0f921"
            ]
           ],
           "sequentialminus": [
            [
             0,
             "#0d0887"
            ],
            [
             0.1111111111111111,
             "#46039f"
            ],
            [
             0.2222222222222222,
             "#7201a8"
            ],
            [
             0.3333333333333333,
             "#9c179e"
            ],
            [
             0.4444444444444444,
             "#bd3786"
            ],
            [
             0.5555555555555556,
             "#d8576b"
            ],
            [
             0.6666666666666666,
             "#ed7953"
            ],
            [
             0.7777777777777778,
             "#fb9f3a"
            ],
            [
             0.8888888888888888,
             "#fdca26"
            ],
            [
             1,
             "#f0f921"
            ]
           ]
          },
          "colorway": [
           "#636efa",
           "#EF553B",
           "#00cc96",
           "#ab63fa",
           "#FFA15A",
           "#19d3f3",
           "#FF6692",
           "#B6E880",
           "#FF97FF",
           "#FECB52"
          ],
          "font": {
           "color": "#2a3f5f"
          },
          "geo": {
           "bgcolor": "white",
           "lakecolor": "white",
           "landcolor": "#E5ECF6",
           "showlakes": true,
           "showland": true,
           "subunitcolor": "white"
          },
          "hoverlabel": {
           "align": "left"
          },
          "hovermode": "closest",
          "mapbox": {
           "style": "light"
          },
          "paper_bgcolor": "white",
          "plot_bgcolor": "#E5ECF6",
          "polar": {
           "angularaxis": {
            "gridcolor": "white",
            "linecolor": "white",
            "ticks": ""
           },
           "bgcolor": "#E5ECF6",
           "radialaxis": {
            "gridcolor": "white",
            "linecolor": "white",
            "ticks": ""
           }
          },
          "scene": {
           "xaxis": {
            "backgroundcolor": "#E5ECF6",
            "gridcolor": "white",
            "gridwidth": 2,
            "linecolor": "white",
            "showbackground": true,
            "ticks": "",
            "zerolinecolor": "white"
           },
           "yaxis": {
            "backgroundcolor": "#E5ECF6",
            "gridcolor": "white",
            "gridwidth": 2,
            "linecolor": "white",
            "showbackground": true,
            "ticks": "",
            "zerolinecolor": "white"
           },
           "zaxis": {
            "backgroundcolor": "#E5ECF6",
            "gridcolor": "white",
            "gridwidth": 2,
            "linecolor": "white",
            "showbackground": true,
            "ticks": "",
            "zerolinecolor": "white"
           }
          },
          "shapedefaults": {
           "line": {
            "color": "#2a3f5f"
           }
          },
          "ternary": {
           "aaxis": {
            "gridcolor": "white",
            "linecolor": "white",
            "ticks": ""
           },
           "baxis": {
            "gridcolor": "white",
            "linecolor": "white",
            "ticks": ""
           },
           "bgcolor": "#E5ECF6",
           "caxis": {
            "gridcolor": "white",
            "linecolor": "white",
            "ticks": ""
           }
          },
          "title": {
           "x": 0.05
          },
          "xaxis": {
           "automargin": true,
           "gridcolor": "white",
           "linecolor": "white",
           "ticks": "",
           "title": {
            "standoff": 15
           },
           "zerolinecolor": "white",
           "zerolinewidth": 2
          },
          "yaxis": {
           "automargin": true,
           "gridcolor": "white",
           "linecolor": "white",
           "ticks": "",
           "title": {
            "standoff": 15
           },
           "zerolinecolor": "white",
           "zerolinewidth": 2
          }
         }
        },
        "title": {
         "text": "Nova Group bo'yicha country_count (Violin + box + points)"
        },
        "violinmode": "group",
        "xaxis": {
         "anchor": "y",
         "domain": [
          0,
          1
         ],
         "title": {
          "text": "nova_group"
         }
        },
        "yaxis": {
         "anchor": "x",
         "domain": [
          0,
          1
         ],
         "title": {
          "text": "country_count"
         }
        }
       }
      }
     },
     "metadata": {},
     "output_type": "display_data"
    },
    {
     "data": {
      "application/vnd.plotly.v1+json": {
       "config": {
        "plotlyServerURL": "https://plot.ly"
       },
       "data": [
        {
         "hovertemplate": "nova_group=%{x}<br>country_count=%{y}<extra></extra>",
         "legendgroup": "",
         "marker": {
          "color": "#636efa",
          "pattern": {
           "shape": ""
          }
         },
         "name": "",
         "orientation": "v",
         "showlegend": false,
         "textposition": "auto",
         "type": "bar",
         "x": {
          "bdata": "AAAAAAAA8D8AAAAAAAAAQAAAAAAAAAhANeZu8KxGCkAAAAAAAAAQQA==",
          "dtype": "f8"
         },
         "xaxis": "x",
         "y": {
          "bdata": "NrjY4GKDA0A6pCYYb2UBQCQP3QHo1AJAezykDyZl+j9XonYlajcFQA==",
          "dtype": "f8"
         },
         "yaxis": "y"
        }
       ],
       "layout": {
        "barmode": "relative",
        "legend": {
         "tracegroupgap": 0
        },
        "template": {
         "data": {
          "bar": [
           {
            "error_x": {
             "color": "#2a3f5f"
            },
            "error_y": {
             "color": "#2a3f5f"
            },
            "marker": {
             "line": {
              "color": "#E5ECF6",
              "width": 0.5
             },
             "pattern": {
              "fillmode": "overlay",
              "size": 10,
              "solidity": 0.2
             }
            },
            "type": "bar"
           }
          ],
          "barpolar": [
           {
            "marker": {
             "line": {
              "color": "#E5ECF6",
              "width": 0.5
             },
             "pattern": {
              "fillmode": "overlay",
              "size": 10,
              "solidity": 0.2
             }
            },
            "type": "barpolar"
           }
          ],
          "carpet": [
           {
            "aaxis": {
             "endlinecolor": "#2a3f5f",
             "gridcolor": "white",
             "linecolor": "white",
             "minorgridcolor": "white",
             "startlinecolor": "#2a3f5f"
            },
            "baxis": {
             "endlinecolor": "#2a3f5f",
             "gridcolor": "white",
             "linecolor": "white",
             "minorgridcolor": "white",
             "startlinecolor": "#2a3f5f"
            },
            "type": "carpet"
           }
          ],
          "choropleth": [
           {
            "colorbar": {
             "outlinewidth": 0,
             "ticks": ""
            },
            "type": "choropleth"
           }
          ],
          "contour": [
           {
            "colorbar": {
             "outlinewidth": 0,
             "ticks": ""
            },
            "colorscale": [
             [
              0,
              "#0d0887"
             ],
             [
              0.1111111111111111,
              "#46039f"
             ],
             [
              0.2222222222222222,
              "#7201a8"
             ],
             [
              0.3333333333333333,
              "#9c179e"
             ],
             [
              0.4444444444444444,
              "#bd3786"
             ],
             [
              0.5555555555555556,
              "#d8576b"
             ],
             [
              0.6666666666666666,
              "#ed7953"
             ],
             [
              0.7777777777777778,
              "#fb9f3a"
             ],
             [
              0.8888888888888888,
              "#fdca26"
             ],
             [
              1,
              "#f0f921"
             ]
            ],
            "type": "contour"
           }
          ],
          "contourcarpet": [
           {
            "colorbar": {
             "outlinewidth": 0,
             "ticks": ""
            },
            "type": "contourcarpet"
           }
          ],
          "heatmap": [
           {
            "colorbar": {
             "outlinewidth": 0,
             "ticks": ""
            },
            "colorscale": [
             [
              0,
              "#0d0887"
             ],
             [
              0.1111111111111111,
              "#46039f"
             ],
             [
              0.2222222222222222,
              "#7201a8"
             ],
             [
              0.3333333333333333,
              "#9c179e"
             ],
             [
              0.4444444444444444,
              "#bd3786"
             ],
             [
              0.5555555555555556,
              "#d8576b"
             ],
             [
              0.6666666666666666,
              "#ed7953"
             ],
             [
              0.7777777777777778,
              "#fb9f3a"
             ],
             [
              0.8888888888888888,
              "#fdca26"
             ],
             [
              1,
              "#f0f921"
             ]
            ],
            "type": "heatmap"
           }
          ],
          "histogram": [
           {
            "marker": {
             "pattern": {
              "fillmode": "overlay",
              "size": 10,
              "solidity": 0.2
             }
            },
            "type": "histogram"
           }
          ],
          "histogram2d": [
           {
            "colorbar": {
             "outlinewidth": 0,
             "ticks": ""
            },
            "colorscale": [
             [
              0,
              "#0d0887"
             ],
             [
              0.1111111111111111,
              "#46039f"
             ],
             [
              0.2222222222222222,
              "#7201a8"
             ],
             [
              0.3333333333333333,
              "#9c179e"
             ],
             [
              0.4444444444444444,
              "#bd3786"
             ],
             [
              0.5555555555555556,
              "#d8576b"
             ],
             [
              0.6666666666666666,
              "#ed7953"
             ],
             [
              0.7777777777777778,
              "#fb9f3a"
             ],
             [
              0.8888888888888888,
              "#fdca26"
             ],
             [
              1,
              "#f0f921"
             ]
            ],
            "type": "histogram2d"
           }
          ],
          "histogram2dcontour": [
           {
            "colorbar": {
             "outlinewidth": 0,
             "ticks": ""
            },
            "colorscale": [
             [
              0,
              "#0d0887"
             ],
             [
              0.1111111111111111,
              "#46039f"
             ],
             [
              0.2222222222222222,
              "#7201a8"
             ],
             [
              0.3333333333333333,
              "#9c179e"
             ],
             [
              0.4444444444444444,
              "#bd3786"
             ],
             [
              0.5555555555555556,
              "#d8576b"
             ],
             [
              0.6666666666666666,
              "#ed7953"
             ],
             [
              0.7777777777777778,
              "#fb9f3a"
             ],
             [
              0.8888888888888888,
              "#fdca26"
             ],
             [
              1,
              "#f0f921"
             ]
            ],
            "type": "histogram2dcontour"
           }
          ],
          "mesh3d": [
           {
            "colorbar": {
             "outlinewidth": 0,
             "ticks": ""
            },
            "type": "mesh3d"
           }
          ],
          "parcoords": [
           {
            "line": {
             "colorbar": {
              "outlinewidth": 0,
              "ticks": ""
             }
            },
            "type": "parcoords"
           }
          ],
          "pie": [
           {
            "automargin": true,
            "type": "pie"
           }
          ],
          "scatter": [
           {
            "fillpattern": {
             "fillmode": "overlay",
             "size": 10,
             "solidity": 0.2
            },
            "type": "scatter"
           }
          ],
          "scatter3d": [
           {
            "line": {
             "colorbar": {
              "outlinewidth": 0,
              "ticks": ""
             }
            },
            "marker": {
             "colorbar": {
              "outlinewidth": 0,
              "ticks": ""
             }
            },
            "type": "scatter3d"
           }
          ],
          "scattercarpet": [
           {
            "marker": {
             "colorbar": {
              "outlinewidth": 0,
              "ticks": ""
             }
            },
            "type": "scattercarpet"
           }
          ],
          "scattergeo": [
           {
            "marker": {
             "colorbar": {
              "outlinewidth": 0,
              "ticks": ""
             }
            },
            "type": "scattergeo"
           }
          ],
          "scattergl": [
           {
            "marker": {
             "colorbar": {
              "outlinewidth": 0,
              "ticks": ""
             }
            },
            "type": "scattergl"
           }
          ],
          "scattermap": [
           {
            "marker": {
             "colorbar": {
              "outlinewidth": 0,
              "ticks": ""
             }
            },
            "type": "scattermap"
           }
          ],
          "scattermapbox": [
           {
            "marker": {
             "colorbar": {
              "outlinewidth": 0,
              "ticks": ""
             }
            },
            "type": "scattermapbox"
           }
          ],
          "scatterpolar": [
           {
            "marker": {
             "colorbar": {
              "outlinewidth": 0,
              "ticks": ""
             }
            },
            "type": "scatterpolar"
           }
          ],
          "scatterpolargl": [
           {
            "marker": {
             "colorbar": {
              "outlinewidth": 0,
              "ticks": ""
             }
            },
            "type": "scatterpolargl"
           }
          ],
          "scatterternary": [
           {
            "marker": {
             "colorbar": {
              "outlinewidth": 0,
              "ticks": ""
             }
            },
            "type": "scatterternary"
           }
          ],
          "surface": [
           {
            "colorbar": {
             "outlinewidth": 0,
             "ticks": ""
            },
            "colorscale": [
             [
              0,
              "#0d0887"
             ],
             [
              0.1111111111111111,
              "#46039f"
             ],
             [
              0.2222222222222222,
              "#7201a8"
             ],
             [
              0.3333333333333333,
              "#9c179e"
             ],
             [
              0.4444444444444444,
              "#bd3786"
             ],
             [
              0.5555555555555556,
              "#d8576b"
             ],
             [
              0.6666666666666666,
              "#ed7953"
             ],
             [
              0.7777777777777778,
              "#fb9f3a"
             ],
             [
              0.8888888888888888,
              "#fdca26"
             ],
             [
              1,
              "#f0f921"
             ]
            ],
            "type": "surface"
           }
          ],
          "table": [
           {
            "cells": {
             "fill": {
              "color": "#EBF0F8"
             },
             "line": {
              "color": "white"
             }
            },
            "header": {
             "fill": {
              "color": "#C8D4E3"
             },
             "line": {
              "color": "white"
             }
            },
            "type": "table"
           }
          ]
         },
         "layout": {
          "annotationdefaults": {
           "arrowcolor": "#2a3f5f",
           "arrowhead": 0,
           "arrowwidth": 1
          },
          "autotypenumbers": "strict",
          "coloraxis": {
           "colorbar": {
            "outlinewidth": 0,
            "ticks": ""
           }
          },
          "colorscale": {
           "diverging": [
            [
             0,
             "#8e0152"
            ],
            [
             0.1,
             "#c51b7d"
            ],
            [
             0.2,
             "#de77ae"
            ],
            [
             0.3,
             "#f1b6da"
            ],
            [
             0.4,
             "#fde0ef"
            ],
            [
             0.5,
             "#f7f7f7"
            ],
            [
             0.6,
             "#e6f5d0"
            ],
            [
             0.7,
             "#b8e186"
            ],
            [
             0.8,
             "#7fbc41"
            ],
            [
             0.9,
             "#4d9221"
            ],
            [
             1,
             "#276419"
            ]
           ],
           "sequential": [
            [
             0,
             "#0d0887"
            ],
            [
             0.1111111111111111,
             "#46039f"
            ],
            [
             0.2222222222222222,
             "#7201a8"
            ],
            [
             0.3333333333333333,
             "#9c179e"
            ],
            [
             0.4444444444444444,
             "#bd3786"
            ],
            [
             0.5555555555555556,
             "#d8576b"
            ],
            [
             0.6666666666666666,
             "#ed7953"
            ],
            [
             0.7777777777777778,
             "#fb9f3a"
            ],
            [
             0.8888888888888888,
             "#fdca26"
            ],
            [
             1,
             "#f0f921"
            ]
           ],
           "sequentialminus": [
            [
             0,
             "#0d0887"
            ],
            [
             0.1111111111111111,
             "#46039f"
            ],
            [
             0.2222222222222222,
             "#7201a8"
            ],
            [
             0.3333333333333333,
             "#9c179e"
            ],
            [
             0.4444444444444444,
             "#bd3786"
            ],
            [
             0.5555555555555556,
             "#d8576b"
            ],
            [
             0.6666666666666666,
             "#ed7953"
            ],
            [
             0.7777777777777778,
             "#fb9f3a"
            ],
            [
             0.8888888888888888,
             "#fdca26"
            ],
            [
             1,
             "#f0f921"
            ]
           ]
          },
          "colorway": [
           "#636efa",
           "#EF553B",
           "#00cc96",
           "#ab63fa",
           "#FFA15A",
           "#19d3f3",
           "#FF6692",
           "#B6E880",
           "#FF97FF",
           "#FECB52"
          ],
          "font": {
           "color": "#2a3f5f"
          },
          "geo": {
           "bgcolor": "white",
           "lakecolor": "white",
           "landcolor": "#E5ECF6",
           "showlakes": true,
           "showland": true,
           "subunitcolor": "white"
          },
          "hoverlabel": {
           "align": "left"
          },
          "hovermode": "closest",
          "mapbox": {
           "style": "light"
          },
          "paper_bgcolor": "white",
          "plot_bgcolor": "#E5ECF6",
          "polar": {
           "angularaxis": {
            "gridcolor": "white",
            "linecolor": "white",
            "ticks": ""
           },
           "bgcolor": "#E5ECF6",
           "radialaxis": {
            "gridcolor": "white",
            "linecolor": "white",
            "ticks": ""
           }
          },
          "scene": {
           "xaxis": {
            "backgroundcolor": "#E5ECF6",
            "gridcolor": "white",
            "gridwidth": 2,
            "linecolor": "white",
            "showbackground": true,
            "ticks": "",
            "zerolinecolor": "white"
           },
           "yaxis": {
            "backgroundcolor": "#E5ECF6",
            "gridcolor": "white",
            "gridwidth": 2,
            "linecolor": "white",
            "showbackground": true,
            "ticks": "",
            "zerolinecolor": "white"
           },
           "zaxis": {
            "backgroundcolor": "#E5ECF6",
            "gridcolor": "white",
            "gridwidth": 2,
            "linecolor": "white",
            "showbackground": true,
            "ticks": "",
            "zerolinecolor": "white"
           }
          },
          "shapedefaults": {
           "line": {
            "color": "#2a3f5f"
           }
          },
          "ternary": {
           "aaxis": {
            "gridcolor": "white",
            "linecolor": "white",
            "ticks": ""
           },
           "baxis": {
            "gridcolor": "white",
            "linecolor": "white",
            "ticks": ""
           },
           "bgcolor": "#E5ECF6",
           "caxis": {
            "gridcolor": "white",
            "linecolor": "white",
            "ticks": ""
           }
          },
          "title": {
           "x": 0.05
          },
          "xaxis": {
           "automargin": true,
           "gridcolor": "white",
           "linecolor": "white",
           "ticks": "",
           "title": {
            "standoff": 15
           },
           "zerolinecolor": "white",
           "zerolinewidth": 2
          },
          "yaxis": {
           "automargin": true,
           "gridcolor": "white",
           "linecolor": "white",
           "ticks": "",
           "title": {
            "standoff": 15
           },
           "zerolinecolor": "white",
           "zerolinewidth": 2
          }
         }
        },
        "title": {
         "text": "Nova Group bo'yicha o'rtacha country_count"
        },
        "xaxis": {
         "anchor": "y",
         "domain": [
          0,
          1
         ],
         "title": {
          "text": "nova_group"
         }
        },
        "yaxis": {
         "anchor": "x",
         "domain": [
          0,
          1
         ],
         "title": {
          "text": "country_count"
         }
        }
       }
      }
     },
     "metadata": {},
     "output_type": "display_data"
    }
   ],
   "source": [
    "# 4a: Boxplot country_count by nova_group\n",
    "fig = px.box(df, x=\"nova_group\", y=\"country_count\",\n",
    "             title=\"Nova Group bo'yicha country_count (Boxplot)\",\n",
    "             labels={\"country_count\":\"Country Count\", \"nova_group\":\"Nova Group\"})\n",
    "fig.show()\n",
    "\n",
    "# 4b: Violin plot (taqsimot yaxshiroq ko'rinadi)\n",
    "fig = px.violin(df, x=\"nova_group\", y=\"country_count\", box=True, points=\"all\",\n",
    "                title=\"Nova Group bo'yicha country_count (Violin + box + points)\")\n",
    "fig.show()\n",
    "\n",
    "# 4c: O'rtacha country_count per nova_group (bar)\n",
    "avg_country = df.groupby(\"nova_group\")[\"country_count\"].mean().reset_index()\n",
    "fig = px.bar(avg_country, x=\"nova_group\", y=\"country_count\",\n",
    "             title=\"Nova Group bo'yicha o'rtacha country_count\")\n",
    "fig.show()\n"
   ]
  },
  {
   "cell_type": "markdown",
   "id": "38ec6525",
   "metadata": {},
   "source": []
  }
 ],
 "metadata": {
  "kernelspec": {
   "display_name": "venv",
   "language": "python",
   "name": "python3"
  },
  "language_info": {
   "codemirror_mode": {
    "name": "ipython",
    "version": 3
   },
   "file_extension": ".py",
   "mimetype": "text/x-python",
   "name": "python",
   "nbconvert_exporter": "python",
   "pygments_lexer": "ipython3",
   "version": "3.13.7"
  }
 },
 "nbformat": 4,
 "nbformat_minor": 5
}
