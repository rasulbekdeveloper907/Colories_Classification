{
 "cells": [
  {
   "cell_type": "markdown",
   "id": "a8b3287a",
   "metadata": {},
   "source": [
    "# Food Health Classifier"
   ]
  },
  {
   "cell_type": "markdown",
   "id": "40f4584c",
   "metadata": {},
   "source": [
    "# “Mahsulot haqida ma’lumotlardan foydalanib, u qanchalik qayta ishlangan ekanini oldindan aytadigan model” qurish."
   ]
  },
  {
   "cell_type": "markdown",
   "id": "990ffe5f",
   "metadata": {},
   "source": [
    "# Target Ustuni  = nova_group , nova_group 1–4 oralig‘ida 1: minimal qayta ishlangan (sog‘lom) , 4: yuqori qayta ishlangan (kamroq sog‘lom)"
   ]
  },
  {
   "cell_type": "code",
   "execution_count": null,
   "id": "478c1210",
   "metadata": {},
   "outputs": [],
   "source": [
    "import pandas as pd\n",
    "import logging\n",
    "\n",
    "# Log fayl manzili\n",
    "log_path = r\"C:\\Users\\Rasulbek907\\Desktop\\Final_Project\\Log\\data_loader.log\"\n",
    "\n",
    "# Log sozlamalari\n",
    "logging.basicConfig(\n",
    "    filename=log_path,\n",
    "    filemode='a',  # Append mode\n",
    "    format='%(asctime)s - %(levelname)s - %(message)s',\n",
    "    level=logging.INFO\n",
    ")\n",
    "\n",
    "try:\n",
    "    logging.info(\"CSV fayl o'qilmoqda:...\")\n",
    "    df = pd.read_csv(r\"C:\\Users\\Rasulbek907\\Desktop\\Final_Project\\Data\\Preprosessed_data\\Clustering.csv\")\n",
    "    logging.info(f\"Fayl muvaffaqiyatli o'qildi. Satırlar soni: {len(df)} ustunlar soni: {len(df.columns)}\")\n",
    "except Exception as e:\n",
    "    logging.error(f\"CSV faylni o'qishda xatolik: {e}\")"
   ]
  },
  {
   "cell_type": "code",
   "execution_count": null,
   "id": "bb7b7859",
   "metadata": {},
   "outputs": [],
   "source": [
    "df.head()"
   ]
  },
  {
   "cell_type": "code",
   "execution_count": null,
   "id": "1381815d",
   "metadata": {},
   "outputs": [],
   "source": [
    "df.info()"
   ]
  },
  {
   "cell_type": "markdown",
   "id": "49b9e98b",
   "metadata": {},
   "source": [
    "| #     | Ustun nomi     | Turi      | Ma’nosi                                                                                                                                                        |\n",
    "| ----- | -------------- | --------- | -------------------------------------------------------------------------------------------------------------------------------------------------------------- |\n",
    "| **0** | `code`         | `int64`   | **Mahsulotning noyob identifikatori (barcode / EAN kod)**. Har bir mahsulotning dunyo bo‘yicha yagona raqami. Masalan: `3017620422003` bu Nutella’ga tegishli. |\n",
    "| **1** | `product_name` | `object`  | **Mahsulot nomi** — foydalanuvchiga ko‘rinadigan to‘liq nom. Masalan: `\"Coca-Cola Original Taste\"` yoki `\"Whole Wheat Bread\"`.                                 |\n",
    "| **2** | `brands`       | `object`  | **Brend nomi** — mahsulot ishlab chiqaruvchi kompaniya yoki savdo belgisi. Masalan: `\"Nestlé\"`, `\"PepsiCo\"`, `\"Heinz\"`.                                        |\n",
    "| **3** | `categories`   | `object`  | **Kategoriya** — mahsulot turini bildiradi. Masalan: `\"Soft drinks\"`, `\"Dairy products\"`, `\"Snacks\"`. Bir nechta kategoriya bo‘lishi ham mumkin.               |\n",
    "| **4** | `countries`    | `object`  | **Mahsulot sotiladigan yoki ishlab chiqarilgan mamlakatlar**. Masalan: `\"France, Germany, United States\"`.                                                     |\n",
    "| **5** | `quantity`     | `object`  | **Qadoqdagi miqdor yoki og‘irlik**. Masalan: `\"330 ml\"`, `\"500 g\"`, `\"1 L\"`.                                                                                   |\n",
    "| **6** | `packaging`    | `object`  | **Qadoqlash turi** — masalan, `\"Bottle\"`, `\"Plastic\"`, `\"Can\"`, `\"Paper box\"`.                                                                                 |\n",
    "| **7** | `nova_group`   | `float64` | **NOVA indeksi** — oziq-ovqat qayta ishlanish darajasi:                                                                                                        |\n"
   ]
  },
  {
   "cell_type": "code",
   "execution_count": null,
   "id": "61503ea7",
   "metadata": {},
   "outputs": [],
   "source": []
  },
  {
   "cell_type": "code",
   "execution_count": null,
   "id": "4314aece",
   "metadata": {},
   "outputs": [],
   "source": []
  },
  {
   "cell_type": "code",
   "execution_count": null,
   "id": "9794be68",
   "metadata": {},
   "outputs": [],
   "source": []
  },
  {
   "cell_type": "code",
   "execution_count": null,
   "id": "ac3179bf",
   "metadata": {},
   "outputs": [],
   "source": []
  },
  {
   "cell_type": "code",
   "execution_count": null,
   "id": "631c80dc",
   "metadata": {},
   "outputs": [],
   "source": []
  },
  {
   "cell_type": "code",
   "execution_count": null,
   "id": "d67cae7d",
   "metadata": {},
   "outputs": [],
   "source": []
  },
  {
   "cell_type": "code",
   "execution_count": null,
   "id": "c25a539d",
   "metadata": {},
   "outputs": [],
   "source": []
  },
  {
   "cell_type": "code",
   "execution_count": null,
   "id": "27d43475",
   "metadata": {},
   "outputs": [],
   "source": []
  }
 ],
 "metadata": {
  "language_info": {
   "name": "python"
  }
 },
 "nbformat": 4,
 "nbformat_minor": 5
}
