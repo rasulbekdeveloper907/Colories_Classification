{
 "cells": [
  {
   "cell_type": "code",
   "execution_count": 1,
   "id": "3bf73fa4",
   "metadata": {},
   "outputs": [
    {
     "name": "stdout",
     "output_type": "stream",
     "text": [
      "Collecting imbalanced-learn\n",
      "  Using cached imbalanced_learn-0.14.0-py3-none-any.whl.metadata (8.8 kB)\n",
      "Requirement already satisfied: numpy<3,>=1.25.2 in c:\\users\\rasulbek907\\desktop\\project_mp\\venv\\lib\\site-packages (from imbalanced-learn) (2.3.4)\n",
      "Requirement already satisfied: scipy<2,>=1.11.4 in c:\\users\\rasulbek907\\desktop\\project_mp\\venv\\lib\\site-packages (from imbalanced-learn) (1.16.2)\n",
      "Requirement already satisfied: scikit-learn<2,>=1.4.2 in c:\\users\\rasulbek907\\desktop\\project_mp\\venv\\lib\\site-packages (from imbalanced-learn) (1.7.2)\n",
      "Requirement already satisfied: joblib<2,>=1.2.0 in c:\\users\\rasulbek907\\desktop\\project_mp\\venv\\lib\\site-packages (from imbalanced-learn) (1.5.2)\n",
      "Requirement already satisfied: threadpoolctl<4,>=2.0.0 in c:\\users\\rasulbek907\\desktop\\project_mp\\venv\\lib\\site-packages (from imbalanced-learn) (3.6.0)\n",
      "Using cached imbalanced_learn-0.14.0-py3-none-any.whl (239 kB)\n",
      "Installing collected packages: imbalanced-learn\n",
      "Successfully installed imbalanced-learn-0.14.0\n"
     ]
    },
    {
     "name": "stderr",
     "output_type": "stream",
     "text": [
      "\n",
      "[notice] A new release of pip is available: 25.2 -> 25.3\n",
      "[notice] To update, run: python.exe -m pip install --upgrade pip\n"
     ]
    }
   ],
   "source": [
    "!pip install imbalanced-learn"
   ]
  },
  {
   "cell_type": "code",
   "execution_count": 2,
   "id": "2d9a4c94",
   "metadata": {},
   "outputs": [],
   "source": [
    "import numpy as np\n",
    "import pandas as pd\n",
    "from collections import Counter\n",
    "from imblearn.over_sampling import RandomOverSampler, SMOTE, ADASYN"
   ]
  },
  {
   "cell_type": "code",
   "execution_count": 3,
   "id": "513d8e95",
   "metadata": {},
   "outputs": [],
   "source": [
    "import pandas as pd\n",
    "import logging\n",
    "\n",
    "# Log fayl manzili\n",
    "log_path = r\"C:\\Users\\Rasulbek907\\Desktop\\Project_MP\\Log\\data_loader.log\"\n",
    "\n",
    "# Log sozlamalari\n",
    "logging.basicConfig(\n",
    "    filename=log_path,\n",
    "    filemode='a',  # Append mode\n",
    "    format='%(asctime)s - %(levelname)s - %(message)s',\n",
    "    level=logging.INFO\n",
    ")\n",
    "\n",
    "try:\n",
    "    logging.info(\"CSV fayl o'qilmoqda:...\")\n",
    "    df = pd.read_csv(r\"C:\\Users\\Rasulbek907\\Desktop\\Project_MP\\Data\\Feature_Selection\\Filtered_Features.csv\")\n",
    "    logging.info(f\"Fayl muvaffaqiyatli o'qildi. Satırlar soni: {len(df)} ustunlar soni: {len(df.columns)}\")\n",
    "except Exception as e:\n",
    "    logging.error(f\"CSV faylni o'qishda xatolik: {e}\")"
   ]
  },
  {
   "cell_type": "code",
   "execution_count": 4,
   "id": "de7530d5",
   "metadata": {},
   "outputs": [
    {
     "name": "stdout",
     "output_type": "stream",
     "text": [
      "<class 'pandas.core.frame.DataFrame'>\n",
      "RangeIndex: 4993 entries, 0 to 4992\n",
      "Data columns (total 12 columns):\n",
      " #   Column                 Non-Null Count  Dtype  \n",
      "---  ------                 --------------  -----  \n",
      " 0   Unnamed: 0.1           4993 non-null   int64  \n",
      " 1   Unnamed: 0             4993 non-null   int64  \n",
      " 2   name_length            4993 non-null   float64\n",
      " 3   is_organic             4993 non-null   float64\n",
      " 4   quantity_value         4993 non-null   float64\n",
      " 5   quantity_unit_encoded  4993 non-null   float64\n",
      " 6   category_depth         4993 non-null   float64\n",
      " 7   country_count          4993 non-null   float64\n",
      " 8   product_age_days       4993 non-null   float64\n",
      " 9   created_month          4993 non-null   float64\n",
      " 10  main_category_encoded  4993 non-null   float64\n",
      " 11  nova_group             4993 non-null   float64\n",
      "dtypes: float64(10), int64(2)\n",
      "memory usage: 468.2 KB\n"
     ]
    }
   ],
   "source": [
    "df.info()"
   ]
  },
  {
   "cell_type": "code",
   "execution_count": 5,
   "id": "154f1216",
   "metadata": {},
   "outputs": [
    {
     "data": {
      "text/html": [
       "<div>\n",
       "<style scoped>\n",
       "    .dataframe tbody tr th:only-of-type {\n",
       "        vertical-align: middle;\n",
       "    }\n",
       "\n",
       "    .dataframe tbody tr th {\n",
       "        vertical-align: top;\n",
       "    }\n",
       "\n",
       "    .dataframe thead th {\n",
       "        text-align: right;\n",
       "    }\n",
       "</style>\n",
       "<table border=\"1\" class=\"dataframe\">\n",
       "  <thead>\n",
       "    <tr style=\"text-align: right;\">\n",
       "      <th></th>\n",
       "      <th>Unnamed: 0.1</th>\n",
       "      <th>Unnamed: 0</th>\n",
       "      <th>name_length</th>\n",
       "      <th>is_organic</th>\n",
       "      <th>quantity_value</th>\n",
       "      <th>quantity_unit_encoded</th>\n",
       "      <th>category_depth</th>\n",
       "      <th>country_count</th>\n",
       "      <th>product_age_days</th>\n",
       "      <th>created_month</th>\n",
       "      <th>main_category_encoded</th>\n",
       "      <th>nova_group</th>\n",
       "    </tr>\n",
       "  </thead>\n",
       "  <tbody>\n",
       "    <tr>\n",
       "      <th>0</th>\n",
       "      <td>0</td>\n",
       "      <td>0</td>\n",
       "      <td>-0.691811</td>\n",
       "      <td>-0.121809</td>\n",
       "      <td>-1.138126</td>\n",
       "      <td>-1.013055</td>\n",
       "      <td>-0.069824</td>\n",
       "      <td>-0.588663</td>\n",
       "      <td>0.954730</td>\n",
       "      <td>0.590746</td>\n",
       "      <td>-1.202998</td>\n",
       "      <td>5.0</td>\n",
       "    </tr>\n",
       "    <tr>\n",
       "      <th>1</th>\n",
       "      <td>1</td>\n",
       "      <td>1</td>\n",
       "      <td>-1.162028</td>\n",
       "      <td>-0.121809</td>\n",
       "      <td>-0.846880</td>\n",
       "      <td>-0.425509</td>\n",
       "      <td>-1.835039</td>\n",
       "      <td>-0.180838</td>\n",
       "      <td>0.674675</td>\n",
       "      <td>0.890838</td>\n",
       "      <td>1.126987</td>\n",
       "      <td>3.0</td>\n",
       "    </tr>\n",
       "    <tr>\n",
       "      <th>2</th>\n",
       "      <td>2</td>\n",
       "      <td>2</td>\n",
       "      <td>-0.691811</td>\n",
       "      <td>-0.121809</td>\n",
       "      <td>-1.272881</td>\n",
       "      <td>0.833518</td>\n",
       "      <td>-0.364026</td>\n",
       "      <td>-0.588663</td>\n",
       "      <td>0.077223</td>\n",
       "      <td>0.890838</td>\n",
       "      <td>-1.202998</td>\n",
       "      <td>1.0</td>\n",
       "    </tr>\n",
       "    <tr>\n",
       "      <th>3</th>\n",
       "      <td>3</td>\n",
       "      <td>3</td>\n",
       "      <td>-0.221594</td>\n",
       "      <td>-0.121809</td>\n",
       "      <td>-1.277228</td>\n",
       "      <td>0.833518</td>\n",
       "      <td>-0.069824</td>\n",
       "      <td>-0.588663</td>\n",
       "      <td>1.276997</td>\n",
       "      <td>0.890838</td>\n",
       "      <td>-1.202998</td>\n",
       "      <td>1.0</td>\n",
       "    </tr>\n",
       "    <tr>\n",
       "      <th>4</th>\n",
       "      <td>4</td>\n",
       "      <td>4</td>\n",
       "      <td>-1.162028</td>\n",
       "      <td>-0.121809</td>\n",
       "      <td>-1.138126</td>\n",
       "      <td>-1.013055</td>\n",
       "      <td>-0.364026</td>\n",
       "      <td>-0.588663</td>\n",
       "      <td>-0.105422</td>\n",
       "      <td>-0.909710</td>\n",
       "      <td>-1.116914</td>\n",
       "      <td>5.0</td>\n",
       "    </tr>\n",
       "  </tbody>\n",
       "</table>\n",
       "</div>"
      ],
      "text/plain": [
       "   Unnamed: 0.1  Unnamed: 0  name_length  is_organic  quantity_value  \\\n",
       "0             0           0    -0.691811   -0.121809       -1.138126   \n",
       "1             1           1    -1.162028   -0.121809       -0.846880   \n",
       "2             2           2    -0.691811   -0.121809       -1.272881   \n",
       "3             3           3    -0.221594   -0.121809       -1.277228   \n",
       "4             4           4    -1.162028   -0.121809       -1.138126   \n",
       "\n",
       "   quantity_unit_encoded  category_depth  country_count  product_age_days  \\\n",
       "0              -1.013055       -0.069824      -0.588663          0.954730   \n",
       "1              -0.425509       -1.835039      -0.180838          0.674675   \n",
       "2               0.833518       -0.364026      -0.588663          0.077223   \n",
       "3               0.833518       -0.069824      -0.588663          1.276997   \n",
       "4              -1.013055       -0.364026      -0.588663         -0.105422   \n",
       "\n",
       "   created_month  main_category_encoded  nova_group  \n",
       "0       0.590746              -1.202998         5.0  \n",
       "1       0.890838               1.126987         3.0  \n",
       "2       0.890838              -1.202998         1.0  \n",
       "3       0.890838              -1.202998         1.0  \n",
       "4      -0.909710              -1.116914         5.0  "
      ]
     },
     "execution_count": 5,
     "metadata": {},
     "output_type": "execute_result"
    }
   ],
   "source": [
    "df.head()"
   ]
  },
  {
   "cell_type": "code",
   "execution_count": 8,
   "id": "521cff7c",
   "metadata": {},
   "outputs": [
    {
     "data": {
      "text/plain": [
       "array([5., 3., 1., 4., 2.])"
      ]
     },
     "execution_count": 8,
     "metadata": {},
     "output_type": "execute_result"
    }
   ],
   "source": [
    "df[\"nova_group\"].unique()"
   ]
  },
  {
   "cell_type": "code",
   "execution_count": 9,
   "id": "dbf263f3",
   "metadata": {},
   "outputs": [],
   "source": [
    "df[\"nova_group\"] = df[\"nova_group\"].astype(int)"
   ]
  },
  {
   "cell_type": "code",
   "execution_count": 11,
   "id": "b56fd430",
   "metadata": {},
   "outputs": [],
   "source": [
    "X = df.drop('nova_group', axis=1)\n",
    "y = df['nova_group']"
   ]
  },
  {
   "cell_type": "code",
   "execution_count": 12,
   "id": "4cfffe0d",
   "metadata": {},
   "outputs": [
    {
     "name": "stdout",
     "output_type": "stream",
     "text": [
      "Original class distribution: Counter({4: 2624, 3: 1099, 1: 567, 5: 491, 2: 212})\n"
     ]
    }
   ],
   "source": [
    "print(\"Original class distribution:\", Counter(y))"
   ]
  },
  {
   "cell_type": "markdown",
   "id": "ff438453",
   "metadata": {},
   "source": [
    "# 🧮 Tahlil\n",
    "\n",
    "# Bu taqsimotdan ko‘rinadiki, ma’lumotlar balanssiz (imbalanced).\n",
    "# Eng katta sinf — 4 (2624 ta, ya’ni ~52%)\n",
    "# Eng kichik sinf — 2 (212 ta, ya’ni ~4%)\n",
    "# 1, 3, 5 sinflar ham nisbatan kam."
   ]
  },
  {
   "cell_type": "markdown",
   "id": "bce09bc4",
   "metadata": {},
   "source": [
    "# SMOTE"
   ]
  },
  {
   "cell_type": "code",
   "execution_count": 14,
   "id": "63eaea9a",
   "metadata": {},
   "outputs": [],
   "source": [
    "smote = SMOTE(random_state=42,k_neighbors=1)\n",
    "X_smote, y_smote = smote.fit_resample(X, y)"
   ]
  },
  {
   "cell_type": "code",
   "execution_count": 16,
   "id": "a59887fb",
   "metadata": {},
   "outputs": [
    {
     "name": "stdout",
     "output_type": "stream",
     "text": [
      "SMOTE class distribution: Counter({5: 2624, 3: 2624, 1: 2624, 4: 2624, 2: 2624})\n",
      "SMOTE X shape: (13120, 11)\n"
     ]
    }
   ],
   "source": [
    "print(\"SMOTE class distribution:\", Counter(y_smote))\n",
    "print(\"SMOTE X shape:\", X_smote.shape)"
   ]
  },
  {
   "cell_type": "code",
   "execution_count": 17,
   "id": "289f8ad8",
   "metadata": {},
   "outputs": [
    {
     "data": {
      "text/plain": [
       "(       Unnamed: 0.1  Unnamed: 0  name_length  is_organic  quantity_value  \\\n",
       " 0                 0           0    -0.691811   -0.121809       -1.138126   \n",
       " 1                 1           1    -1.162028   -0.121809       -0.846880   \n",
       " 2                 2           2    -0.691811   -0.121809       -1.272881   \n",
       " 3                 3           3    -0.221594   -0.121809       -1.277228   \n",
       " 4                 4           4    -1.162028   -0.121809       -1.138126   \n",
       " ...             ...         ...          ...         ...             ...   \n",
       " 13115          4838        4838    -0.232006   -0.121809        0.230232   \n",
       " 13116           141         141    -0.717620   -0.121809       -0.584608   \n",
       " 13117          1108        1108    -1.162028   -0.121809       -0.836134   \n",
       " 13118          1728        1728    -1.162028   -0.121809        0.891899   \n",
       " 13119          4241        4241    -0.723256   -0.121809        0.891899   \n",
       " \n",
       "        quantity_unit_encoded  category_depth  country_count  product_age_days  \\\n",
       " 0                  -1.013055       -0.069824      -0.588663          0.954730   \n",
       " 1                  -0.425509       -1.835039      -0.180838          0.674675   \n",
       " 2                   0.833518       -0.364026      -0.588663          0.077223   \n",
       " 3                   0.833518       -0.069824      -0.588663          1.276997   \n",
       " 4                  -1.013055       -0.364026      -0.588663         -0.105422   \n",
       " ...                      ...             ...            ...               ...   \n",
       " 13115              -0.425509        0.806270      -0.570603         -1.565547   \n",
       " 13116              -0.287303        0.550876      -0.180838          0.056791   \n",
       " 13117               1.924675       -0.337583      -0.180838         -1.288957   \n",
       " 13118              -0.425509       -0.351387      -0.588663         -1.592359   \n",
       " 13119              -0.425509        1.047964       0.172442          0.908243   \n",
       " \n",
       "        created_month  main_category_encoded  \n",
       " 0           0.590746              -1.202998  \n",
       " 1           0.890838               1.126987  \n",
       " 2           0.890838              -1.202998  \n",
       " 3           0.890838              -1.202998  \n",
       " 4          -0.909710              -1.116914  \n",
       " ...              ...                    ...  \n",
       " 13115      -1.143356               0.748494  \n",
       " 13116       0.940250              -0.513096  \n",
       " 13117       0.762704              -1.014646  \n",
       " 13118       0.598482               0.498289  \n",
       " 13119      -0.749166              -1.036989  \n",
       " \n",
       " [13120 rows x 11 columns],\n",
       " 0        5\n",
       " 1        3\n",
       " 2        1\n",
       " 3        1\n",
       " 4        5\n",
       "         ..\n",
       " 13115    5\n",
       " 13116    5\n",
       " 13117    5\n",
       " 13118    5\n",
       " 13119    5\n",
       " Name: nova_group, Length: 13120, dtype: int64)"
      ]
     },
     "execution_count": 17,
     "metadata": {},
     "output_type": "execute_result"
    }
   ],
   "source": [
    "X_smote, y_smote"
   ]
  },
  {
   "cell_type": "code",
   "execution_count": 18,
   "id": "e95f3a5b",
   "metadata": {},
   "outputs": [
    {
     "name": "stdout",
     "output_type": "stream",
     "text": [
      "✅ SMOTE balanslangan ma’lumot saqlandi:\n",
      "📂 C:\\Users\\Rasulbek907\\Desktop\\Project_MP\\Data\\Sampling_Data\\Sampling_SMOTE.csv\n",
      "📊 Yangi DataFrame shakli: (13120, 12)\n"
     ]
    }
   ],
   "source": [
    "import pandas as pd\n",
    "import os\n",
    "\n",
    "# 🧩 X va y ni bitta DataFrame'ga birlashtirish\n",
    "smote_df = pd.concat([pd.DataFrame(X_smote, columns=X.columns),\n",
    "                      pd.DataFrame(y_smote, columns=[\"nova_group\"])],\n",
    "                     axis=1)\n",
    "\n",
    "# 📁 Saqlash manzili\n",
    "save_path = r\"C:\\Users\\Rasulbek907\\Desktop\\Project_MP\\Data\\Sampling_Data\"\n",
    "os.makedirs(save_path, exist_ok=True)\n",
    "\n",
    "# 📄 CSV faylga saqlash\n",
    "file_path = os.path.join(save_path, \"Sampling_SMOTE.csv\")\n",
    "smote_df.to_csv(file_path, index=False)\n",
    "\n",
    "print(f\"✅ SMOTE balanslangan ma’lumot saqlandi:\\n📂 {file_path}\")\n",
    "print(\"📊 Yangi DataFrame shakli:\", smote_df.shape)"
   ]
  },
  {
   "cell_type": "code",
   "execution_count": null,
   "id": "da9ba139",
   "metadata": {},
   "outputs": [],
   "source": []
  }
 ],
 "metadata": {
  "kernelspec": {
   "display_name": "venv",
   "language": "python",
   "name": "python3"
  },
  "language_info": {
   "codemirror_mode": {
    "name": "ipython",
    "version": 3
   },
   "file_extension": ".py",
   "mimetype": "text/x-python",
   "name": "python",
   "nbconvert_exporter": "python",
   "pygments_lexer": "ipython3",
   "version": "3.13.7"
  }
 },
 "nbformat": 4,
 "nbformat_minor": 5
}
