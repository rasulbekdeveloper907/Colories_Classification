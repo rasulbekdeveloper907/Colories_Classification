{
 "cells": [
  {
   "cell_type": "code",
   "execution_count": 1,
   "id": "56f992d8",
   "metadata": {},
   "outputs": [],
   "source": [
    "import pandas as pd\n",
    "import logging\n",
    "\n",
    "# Log fayl manzili\n",
    "log_path = r\"C:\\Users\\Rasulbek907\\Desktop\\Project_MP\\Log\\data_loader.log\"\n",
    "\n",
    "# Log sozlamalari\n",
    "logging.basicConfig(\n",
    "    filename=log_path,\n",
    "    filemode='a',  # Append mode\n",
    "    format='%(asctime)s - %(levelname)s - %(message)s',\n",
    "    level=logging.INFO\n",
    ")\n",
    "\n",
    "try:\n",
    "    logging.info(\"CSV fayl o'qilmoqda:...\")\n",
    "    df = pd.read_csv(r\"C:\\Users\\Rasulbek907\\Desktop\\Project_MP\\Data\\Sampling_Data\\Sampling_SMOTE.csv\")\n",
    "    logging.info(f\"Fayl muvaffaqiyatli o'qildi. Satırlar soni: {len(df)} ustunlar soni: {len(df.columns)}\")\n",
    "except Exception as e:\n",
    "    logging.error(f\"CSV faylni o'qishda xatolik: {e}\")"
   ]
  },
  {
   "cell_type": "code",
   "execution_count": 2,
   "id": "cefa4f20",
   "metadata": {},
   "outputs": [
    {
     "name": "stdout",
     "output_type": "stream",
     "text": [
      "<class 'pandas.core.frame.DataFrame'>\n",
      "RangeIndex: 13120 entries, 0 to 13119\n",
      "Data columns (total 12 columns):\n",
      " #   Column                 Non-Null Count  Dtype  \n",
      "---  ------                 --------------  -----  \n",
      " 0   Unnamed: 0.1           13120 non-null  int64  \n",
      " 1   Unnamed: 0             13120 non-null  int64  \n",
      " 2   name_length            13120 non-null  float64\n",
      " 3   is_organic             13120 non-null  float64\n",
      " 4   quantity_value         13120 non-null  float64\n",
      " 5   quantity_unit_encoded  13120 non-null  float64\n",
      " 6   category_depth         13120 non-null  float64\n",
      " 7   country_count          13120 non-null  float64\n",
      " 8   product_age_days       13120 non-null  float64\n",
      " 9   created_month          13120 non-null  float64\n",
      " 10  main_category_encoded  13120 non-null  float64\n",
      " 11  nova_group             13120 non-null  int64  \n",
      "dtypes: float64(9), int64(3)\n",
      "memory usage: 1.2 MB\n"
     ]
    }
   ],
   "source": [
    "df.info()"
   ]
  },
  {
   "cell_type": "markdown",
   "id": "7a3a20ab",
   "metadata": {},
   "source": [
    "# 💡 Xulosa \n",
    "\n",
    "### 🧾 SMOTE natijasini tahlil\n",
    "\n",
    "- Asl dataset hajmi: 4,993 ta namunalar\n",
    "- Eng katta sinf (class 4): 2,624 ta\n",
    "- Eng kichik sinf (class 2): 212 ta\n",
    "- SMOTE har bir sinfni 2,624 taga tenglashtirgan\n",
    "- Natijada yangi dataset hajmi: 13,120 ta\n",
    "\n",
    "➡️ Ya’ni, SMOTE **minor sinflarni ko‘paytirib** ma’lumotni balansladi.\n"
   ]
  },
  {
   "cell_type": "code",
   "execution_count": 3,
   "id": "fe5f879c",
   "metadata": {},
   "outputs": [],
   "source": [
    "x=df.drop('nova_group',axis=1)\n",
    "y=df['nova_group']"
   ]
  },
  {
   "cell_type": "code",
   "execution_count": 4,
   "id": "ab460a11",
   "metadata": {},
   "outputs": [],
   "source": [
    "from sklearn.model_selection import train_test_split\n",
    "X_train, X_test, y_train, y_test = train_test_split(x, y, test_size=0.3, random_state=42)"
   ]
  },
  {
   "cell_type": "code",
   "execution_count": 6,
   "id": "af4edfce",
   "metadata": {},
   "outputs": [
    {
     "name": "stdout",
     "output_type": "stream",
     "text": [
      "✅ Accuracy: 1.0000\n",
      "\n",
      "📊 Classification Report:\n",
      "              precision    recall  f1-score   support\n",
      "\n",
      "           1       1.00      1.00      1.00       531\n",
      "           2       1.00      1.00      1.00       515\n",
      "           3       1.00      1.00      1.00       522\n",
      "           4       1.00      1.00      1.00       528\n",
      "           5       1.00      1.00      1.00       528\n",
      "\n",
      "    accuracy                           1.00      2624\n",
      "   macro avg       1.00      1.00      1.00      2624\n",
      "weighted avg       1.00      1.00      1.00      2624\n",
      "\n"
     ]
    },
    {
     "name": "stderr",
     "output_type": "stream",
     "text": [
      "c:\\Users\\Rasulbek907\\Desktop\\Project_MP\\venv\\Lib\\site-packages\\IPython\\core\\pylabtools.py:170: UserWarning: Glyph 128201 (\\N{CHART WITH DOWNWARDS TREND}) missing from font(s) DejaVu Sans.\n",
      "  fig.canvas.print_figure(bytes_io, **kw)\n"
     ]
    },
    {
     "data": {
      "image/png": "[encoded data removed]",
      "text/plain": [
       "<Figure size 1000x600 with 2 Axes>"
      ]
     },
     "metadata": {},
     "output_type": "display_data"
    }
   ],
   "source": [
    "import pandas as pd\n",
    "from sklearn.preprocessing import LabelEncoder\n",
    "from sklearn.ensemble import RandomForestClassifier\n",
    "from sklearn.multiclass import OneVsRestClassifier\n",
    "from sklearn.model_selection import train_test_split\n",
    "from sklearn.metrics import accuracy_score, classification_report, confusion_matrix\n",
    "import matplotlib.pyplot as plt\n",
    "import seaborn as sns\n",
    "\n",
    "# 🔹 1. Ma'lumotlarni ajratish\n",
    "X = df.select_dtypes(include=['int64', 'float64'])\n",
    "y_raw = df[\"nova_group\"]\n",
    "\n",
    "# 🔹 2. Label encoding (agar target matnli bo‘lsa)\n",
    "le = LabelEncoder()\n",
    "y = le.fit_transform(y_raw)\n",
    "\n",
    "# 🔹 3. Train-test bo‘lish\n",
    "X_train, X_test, y_train, y_test = train_test_split(X, y, test_size=0.2, random_state=42)\n",
    "\n",
    "# 🔹 4. One-vs-Rest model\n",
    "ovr_model = OneVsRestClassifier(RandomForestClassifier(n_estimators=100, random_state=42))\n",
    "ovr_model.fit(X_train, y_train)\n",
    "\n",
    "# 🔹 5. Bashorat\n",
    "y_pred = ovr_model.predict(X_test)\n",
    "\n",
    "# 🔹 6. Baholash\n",
    "acc = accuracy_score(y_test, y_pred)\n",
    "print(f\"✅ Accuracy: {acc:.4f}\")\n",
    "\n",
    "# 🔹 7. Klassifikatsiya hisobot\n",
    "# Agar `le.classes_` raqam bo‘lsa — ularni string ga aylantiramiz:\n",
    "target_names = [str(c) for c in le.classes_]\n",
    "\n",
    "print(\"\\n📊 Classification Report:\")\n",
    "print(classification_report(y_test, y_pred, target_names=target_names))\n",
    "\n",
    "# 🔹 8. Confusion matrix (vizual)\n",
    "plt.figure(figsize=(10, 6))\n",
    "sns.heatmap(confusion_matrix(y_test, y_pred), annot=True, fmt='d', cmap='Blues')\n",
    "plt.title(\"📉 Confusion Matrix\")\n",
    "plt.xlabel(\"Predicted Labels\")\n",
    "plt.ylabel(\"True Labels\")\n",
    "plt.show()\n"
   ]
  },
  {
   "cell_type": "markdown",
   "id": "0a3a0e8c",
   "metadata": {},
   "source": [
    "# OvR + RandomForestClassifier"
   ]
  },
  {
   "cell_type": "code",
   "execution_count": 7,
   "id": "c6fdfa1b",
   "metadata": {},
   "outputs": [
    {
     "name": "stdout",
     "output_type": "stream",
     "text": [
      "=== One-vs-Rest (OvR) ===\n",
      "Accuracy: 1.0\n"
     ]
    }
   ],
   "source": [
    "from sklearn.ensemble import RandomForestClassifier\n",
    "from sklearn.multiclass import OneVsRestClassifier\n",
    "from sklearn.metrics import accuracy_score\n",
    "\n",
    "# ✅ To‘g‘ri variant\n",
    "ovr_model = OneVsRestClassifier(RandomForestClassifier(\n",
    "    n_estimators=100,      # Daraxtlar soni\n",
    "    random_state=42\n",
    "))\n",
    "\n",
    "# Modelni o‘qitish\n",
    "ovr_model.fit(X_train, y_train)\n",
    "\n",
    "# Bashorat\n",
    "y_pred_ovr = ovr_model.predict(X_test)\n",
    "\n",
    "# Baholash\n",
    "print(\"=== One-vs-Rest (OvR) ===\")\n",
    "print(\"Accuracy:\", accuracy_score(y_test, y_pred_ovr))"
   ]
  },
  {
   "cell_type": "code",
   "execution_count": 14,
   "id": "5ca9efc0",
   "metadata": {},
   "outputs": [
    {
     "name": "stdout",
     "output_type": "stream",
     "text": [
      "✅ To‘liq dataset (train+test) natijalari saqlandi:\n",
      "C:\\Users\\Rasulbek907\\Desktop\\Project_MP\\Data\\Ovo\\RanFor_OVR_FULLDATA.csv\n"
     ]
    }
   ],
   "source": [
    "# Butun X uchun bashorat\n",
    "y_pred_full = ovr_model.predict(X)\n",
    "\n",
    "# DataFrame yaratish\n",
    "full_df = X.copy()\n",
    "full_df['y_true'] = y\n",
    "full_df['y_pred_ovr'] = y_pred_full\n",
    "\n",
    "# Saqlash\n",
    "file_path_full = r\"C:\\Users\\Rasulbek907\\Desktop\\Project_MP\\Data\\Ovo\\RanFor_OVR_FULLDATA.csv\"\n",
    "full_df.to_csv(file_path_full, index=False)\n",
    "\n",
    "print(f\"✅ To‘liq dataset (train+test) natijalari saqlandi:\\n{file_path_full}\")\n"
   ]
  },
  {
   "cell_type": "markdown",
   "id": "a88ee52f",
   "metadata": {},
   "source": [
    "# OvR + DecisionTreeClassifier"
   ]
  },
  {
   "cell_type": "code",
   "execution_count": 7,
   "id": "5184702c",
   "metadata": {},
   "outputs": [
    {
     "name": "stdout",
     "output_type": "stream",
     "text": [
      "=== One-vs-Rest (Decision Tree) ===\n",
      "Accuracy: 1.0\n"
     ]
    }
   ],
   "source": [
    "from sklearn.tree import DecisionTreeClassifier\n",
    "from sklearn.multiclass import OneVsRestClassifier\n",
    "from sklearn.metrics import accuracy_score\n",
    "\n",
    "# OvR modeli\n",
    "ovr_model_dt = OneVsRestClassifier(DecisionTreeClassifier(\n",
    "    criterion='gini',      # 'entropy' ham bo‘lishi mumkin\n",
    "    max_depth=None,        # Daraxt chuqurligi (None = cheklanmagan)\n",
    "    random_state=42\n",
    "))\n",
    "\n",
    "# Modelni o‘qitish\n",
    "ovr_model_dt.fit(X_train, y_train)\n",
    "\n",
    "# Bashorat\n",
    "y_pred_dt = ovr_model_dt.predict(X_test)\n",
    "\n",
    "# Baholash\n",
    "print(\"=== One-vs-Rest (Decision Tree) ===\")\n",
    "print(\"Accuracy:\", accuracy_score(y_test, y_pred_dt))\n"
   ]
  },
  {
   "cell_type": "code",
   "execution_count": 21,
   "id": "5070ace9",
   "metadata": {},
   "outputs": [
    {
     "name": "stdout",
     "output_type": "stream",
     "text": [
      "OvR natijalari CSV faylga saqlandi:\n",
      "C:\\Users\\Rasulbek907\\Desktop\\Project_MP\\Data\\Ovo\\ovr_DeTreeClas.csv\n"
     ]
    }
   ],
   "source": [
    "import pandas as pd\n",
    "\n",
    "# Natijalarni DataFrame ko‘rinishida birlashtiramiz\n",
    "ovr_results = pd.DataFrame({\n",
    "    'y_test': y_test,\n",
    "    'y_pred_ovr': y_pred_dt\n",
    "})\n",
    "\n",
    "# CSV fayl sifatida saqlash yo‘li\n",
    "save_path = r\"C:\\Users\\Rasulbek907\\Desktop\\Project_MP\\Data\\Ovo\\ovr_DeTreeClas.csv\"\n",
    "\n",
    "# Saqlash\n",
    "ovr_results.to_csv(save_path, index=False)\n",
    "\n",
    "print(f\"OvR natijalari CSV faylga saqlandi:\\n{save_path}\")"
   ]
  },
  {
   "cell_type": "markdown",
   "id": "fd83885d",
   "metadata": {},
   "source": [
    "# OvR + LogisticRegression"
   ]
  },
  {
   "cell_type": "code",
   "execution_count": 8,
   "id": "9364fca9",
   "metadata": {},
   "outputs": [
    {
     "name": "stdout",
     "output_type": "stream",
     "text": [
      "=== One-vs-Rest (Logistic Regression) ===\n",
      "Accuracy: 0.881859756097561\n"
     ]
    }
   ],
   "source": [
    "from sklearn.linear_model import LogisticRegression\n",
    "from sklearn.multiclass import OneVsRestClassifier\n",
    "from sklearn.metrics import accuracy_score\n",
    "\n",
    "# OvR modeli\n",
    "ovr_model_lr = OneVsRestClassifier(LogisticRegression(\n",
    "    max_iter=1000,       # Iteratsiyalar soni (konvergentsiya uchun)\n",
    "    solver='lbfgs',      # Yaxshi umumiy variant\n",
    "    random_state=42\n",
    "))\n",
    "\n",
    "# Modelni o‘qitish\n",
    "ovr_model_lr.fit(X_train, y_train)\n",
    "\n",
    "# Bashorat\n",
    "y_pred_lr = ovr_model_lr.predict(X_test)\n",
    "\n",
    "# Baholash\n",
    "print(\"=== One-vs-Rest (Logistic Regression) ===\")\n",
    "print(\"Accuracy:\", accuracy_score(y_test, y_pred_lr))\n"
   ]
  },
  {
   "cell_type": "code",
   "execution_count": 22,
   "id": "b8a93aaa",
   "metadata": {},
   "outputs": [
    {
     "name": "stdout",
     "output_type": "stream",
     "text": [
      "OvR natijalari CSV faylga saqlandi:\n",
      "C:\\Users\\Rasulbek907\\Desktop\\Project_MP\\Data\\Ovo\\ovr_LoReg.csv\n"
     ]
    }
   ],
   "source": [
    "import pandas as pd\n",
    "\n",
    "# Natijalarni DataFrame ko‘rinishida birlashtiramiz\n",
    "ovr_results = pd.DataFrame({\n",
    "    'y_test': y_test,\n",
    "    'y_pred_ovr': y_pred_lr\n",
    "})\n",
    "\n",
    "# CSV fayl sifatida saqlash yo‘li\n",
    "save_path = r\"C:\\Users\\Rasulbek907\\Desktop\\Project_MP\\Data\\Ovo\\ovr_LoReg.csv\"\n",
    "\n",
    "# Saqlash\n",
    "ovr_results.to_csv(save_path, index=False)\n",
    "\n",
    "print(f\"OvR natijalari CSV faylga saqlandi:\\n{save_path}\")"
   ]
  },
  {
   "cell_type": "markdown",
   "id": "88e99dd7",
   "metadata": {},
   "source": [
    "# OvR + XGBClassifier"
   ]
  },
  {
   "cell_type": "code",
   "execution_count": 11,
   "id": "c507fa59",
   "metadata": {},
   "outputs": [
    {
     "name": "stderr",
     "output_type": "stream",
     "text": [
      "c:\\Users\\Rasulbek907\\Desktop\\Project_MP\\venv\\Lib\\site-packages\\xgboost\\training.py:199: UserWarning: [15:03:44] WARNING: C:\\actions-runner\\_work\\xgboost\\xgboost\\src\\learner.cc:790: \n",
      "Parameters: { \"use_label_encoder\" } are not used.\n",
      "\n",
      "  bst.update(dtrain, iteration=i, fobj=obj)\n",
      "c:\\Users\\Rasulbek907\\Desktop\\Project_MP\\venv\\Lib\\site-packages\\xgboost\\training.py:199: UserWarning: [15:03:44] WARNING: C:\\actions-runner\\_work\\xgboost\\xgboost\\src\\learner.cc:790: \n",
      "Parameters: { \"use_label_encoder\" } are not used.\n",
      "\n",
      "  bst.update(dtrain, iteration=i, fobj=obj)\n",
      "c:\\Users\\Rasulbek907\\Desktop\\Project_MP\\venv\\Lib\\site-packages\\xgboost\\training.py:199: UserWarning: [15:03:44] WARNING: C:\\actions-runner\\_work\\xgboost\\xgboost\\src\\learner.cc:790: \n",
      "Parameters: { \"use_label_encoder\" } are not used.\n",
      "\n",
      "  bst.update(dtrain, iteration=i, fobj=obj)\n"
     ]
    },
    {
     "name": "stdout",
     "output_type": "stream",
     "text": [
      "=== One-vs-Rest (XGBoost) ===\n",
      "Accuracy: 1.0\n"
     ]
    },
    {
     "name": "stderr",
     "output_type": "stream",
     "text": [
      "c:\\Users\\Rasulbek907\\Desktop\\Project_MP\\venv\\Lib\\site-packages\\xgboost\\training.py:199: UserWarning: [15:03:44] WARNING: C:\\actions-runner\\_work\\xgboost\\xgboost\\src\\learner.cc:790: \n",
      "Parameters: { \"use_label_encoder\" } are not used.\n",
      "\n",
      "  bst.update(dtrain, iteration=i, fobj=obj)\n",
      "c:\\Users\\Rasulbek907\\Desktop\\Project_MP\\venv\\Lib\\site-packages\\xgboost\\training.py:199: UserWarning: [15:03:44] WARNING: C:\\actions-runner\\_work\\xgboost\\xgboost\\src\\learner.cc:790: \n",
      "Parameters: { \"use_label_encoder\" } are not used.\n",
      "\n",
      "  bst.update(dtrain, iteration=i, fobj=obj)\n"
     ]
    }
   ],
   "source": [
    "from xgboost import XGBClassifier\n",
    "from sklearn.multiclass import OneVsRestClassifier\n",
    "from sklearn.metrics import accuracy_score\n",
    "\n",
    "# OvR modeli\n",
    "ovr_model_xgb = OneVsRestClassifier(XGBClassifier(\n",
    "    n_estimators=100,       # Daraxtlar soni\n",
    "    learning_rate=0.1,      # O‘rganish tezligi\n",
    "    max_depth=6,            # Daraxt chuqurligi\n",
    "    random_state=42,\n",
    "    use_label_encoder=False,\n",
    "    eval_metric='mlogloss'  # Ko‘p sinfli log-loss\n",
    "))\n",
    "\n",
    "# Modelni o‘qitish\n",
    "ovr_model_xgb.fit(X_train, y_train)\n",
    "\n",
    "# Bashorat\n",
    "y_pred_xgb = ovr_model_xgb.predict(X_test)\n",
    "\n",
    "# Baholash\n",
    "print(\"=== One-vs-Rest (XGBoost) ===\")\n",
    "print(\"Accuracy:\", accuracy_score(y_test, y_pred_xgb))\n"
   ]
  },
  {
   "cell_type": "code",
   "execution_count": 23,
   "id": "dcc391fb",
   "metadata": {},
   "outputs": [
    {
     "name": "stdout",
     "output_type": "stream",
     "text": [
      "OvR natijalari CSV faylga saqlandi:\n",
      "C:\\Users\\Rasulbek907\\Desktop\\Project_MP\\Data\\Ovo\\ovr_XGBCLas.csv\n"
     ]
    }
   ],
   "source": [
    "import pandas as pd\n",
    "\n",
    "# Natijalarni DataFrame ko‘rinishida birlashtiramiz\n",
    "ovr_results = pd.DataFrame({\n",
    "    'y_test': y_test,\n",
    "    'y_pred_ovr': y_pred_xgb\n",
    "})\n",
    "\n",
    "# CSV fayl sifatida saqlash yo‘li\n",
    "save_path = r\"C:\\Users\\Rasulbek907\\Desktop\\Project_MP\\Data\\Ovo\\ovr_XGBCLas.csv\"\n",
    "\n",
    "# Saqlash\n",
    "ovr_results.to_csv(save_path, index=False)\n",
    "\n",
    "print(f\"OvR natijalari CSV faylga saqlandi:\\n{save_path}\")"
   ]
  },
  {
   "cell_type": "markdown",
   "id": "0601b299",
   "metadata": {},
   "source": [
    "# OvO + RandomForestClassifier"
   ]
  },
  {
   "cell_type": "code",
   "execution_count": 10,
   "id": "43662a98",
   "metadata": {},
   "outputs": [
    {
     "name": "stdout",
     "output_type": "stream",
     "text": [
      "=== One-vs-One (OvO) ===\n",
      "Accuracy: 1.0\n"
     ]
    }
   ],
   "source": [
    "from sklearn.ensemble import RandomForestClassifier\n",
    "from sklearn.multiclass import OneVsOneClassifier\n",
    "from sklearn.metrics import accuracy_score\n",
    "\n",
    "\n",
    "ovo_model = OneVsOneClassifier(RandomForestClassifier(\n",
    "    n_estimators=100,      # Daraxtlar soni\n",
    "    random_state=42\n",
    "))\n",
    "\n",
    "ovo_model.fit(X_train, y_train)\n",
    "y_pred_ovo = ovo_model.predict(X_test)\n",
    "print(\"=== One-vs-One (OvO) ===\")\n",
    "print(\"Accuracy:\", accuracy_score(y_test, y_pred_ovo))\n"
   ]
  },
  {
   "cell_type": "code",
   "execution_count": 11,
   "id": "334d4462",
   "metadata": {},
   "outputs": [
    {
     "name": "stdout",
     "output_type": "stream",
     "text": [
      "✅ Butun test to‘plami va natijalar saqlandi:\n",
      "C:\\Users\\Rasulbek907\\Desktop\\Project_MP\\Data\\Ovo\\RanFor_OVO.csv\n"
     ]
    }
   ],
   "source": [
    "import pandas as pd\n",
    "\n",
    "# 1️⃣ X_test’ni DataFrame holatiga keltiramiz\n",
    "X_test_df = pd.DataFrame(X_test, columns=X.columns)\n",
    "\n",
    "# 2️⃣ y_test va y_pred_ovo ni qo‘shamiz (to‘g‘rilangan)\n",
    "X_test_df['y_test'] = y_test\n",
    "X_test_df['y_pred_ovo'] = y_pred_ovo\n",
    "\n",
    "# 3️⃣ CSV fayl sifatida saqlaymiz\n",
    "save_path = r\"C:\\Users\\Rasulbek907\\Desktop\\Project_MP\\Data\\Ovo\\RanFor_OVO.csv\"\n",
    "X_test_df.to_csv(save_path, index=False)\n",
    "\n",
    "print(f\"✅ Butun test to‘plami va natijalar saqlandi:\\n{save_path}\")\n"
   ]
  },
  {
   "cell_type": "code",
   "execution_count": 16,
   "id": "ee65aedd",
   "metadata": {},
   "outputs": [
    {
     "name": "stdout",
     "output_type": "stream",
     "text": [
      "✅ OvO natijalari to‘liq saqlandi:\n",
      "C:\\Users\\Rasulbek907\\Desktop\\Project_MP\\Data\\Ovo\\RanFor_OVO_FULLDATA.csv\n"
     ]
    }
   ],
   "source": [
    "import pandas as pd\n",
    "import os\n",
    "\n",
    "# 1️⃣ X_test’ni DataFrame ko‘rinishiga keltiramiz\n",
    "X_test_df = pd.DataFrame(X_test, columns=X.columns)\n",
    "\n",
    "# 2️⃣ Haqiqiy va bashorat qiymatlarni qo‘shamiz\n",
    "X_test_df['y_true'] = y_test\n",
    "X_test_df['y_pred_ovo'] = y_pred_ovo\n",
    "\n",
    "# 3️⃣ Saqlash manzilini belgilaymiz\n",
    "save_path = r\"C:\\Users\\Rasulbek907\\Desktop\\Project_MP\\Data\\Ovo\"\n",
    "\n",
    "# 4️⃣ Papkani yaratamiz (agar mavjud bo‘lmasa)\n",
    "os.makedirs(save_path, exist_ok=True)\n",
    "\n",
    "# 5️⃣ CSV faylni saqlaymiz\n",
    "file_path = os.path.join(save_path, \"RanFor_OVO_FULLDATA.csv\")\n",
    "X_test_df.to_csv(file_path, index=False)\n",
    "\n",
    "print(f\"✅ OvO natijalari to‘liq saqlandi:\\n{file_path}\")\n"
   ]
  },
  {
   "cell_type": "markdown",
   "id": "4b64b5cf",
   "metadata": {},
   "source": [
    "# OvO + DecisionTreeClassifier"
   ]
  },
  {
   "cell_type": "code",
   "execution_count": 13,
   "id": "50a6a7ac",
   "metadata": {},
   "outputs": [
    {
     "name": "stdout",
     "output_type": "stream",
     "text": [
      "=== One-vs-One (Decision Tree) ===\n",
      "Accuracy: 1.0\n"
     ]
    }
   ],
   "source": [
    "from sklearn.tree import DecisionTreeClassifier\n",
    "from sklearn.multiclass import OneVsOneClassifier\n",
    "from sklearn.metrics import accuracy_score\n",
    "\n",
    "# OvO modeli\n",
    "ovo_model_dt = OneVsOneClassifier(DecisionTreeClassifier(\n",
    "    criterion='gini',     # 'entropy' ham bo'lishi mumkin\n",
    "    max_depth=None,       # Daraxt chuqurligi (None = cheklanmagan)\n",
    "    random_state=42\n",
    "))\n",
    "\n",
    "# Modelni o‘qitish\n",
    "ovo_model_dt.fit(X_train, y_train)\n",
    "\n",
    "# Bashorat\n",
    "y_pred_dt = ovo_model_dt.predict(X_test)\n",
    "\n",
    "# Baholash\n",
    "print(\"=== One-vs-One (Decision Tree) ===\")\n",
    "print(\"Accuracy:\", accuracy_score(y_test, y_pred_dt))\n"
   ]
  },
  {
   "cell_type": "code",
   "execution_count": 25,
   "id": "e6405446",
   "metadata": {},
   "outputs": [
    {
     "name": "stdout",
     "output_type": "stream",
     "text": [
      "OvO natijalari CSV faylga saqlandi:\n",
      "C:\\Users\\Rasulbek907\\Desktop\\Project_MP\\Data\\Ovo\\ovo_DeTreClas.csv\n"
     ]
    }
   ],
   "source": [
    "import pandas as pd\n",
    "\n",
    "# Natijalarni DataFrame ko‘rinishida birlashtiramiz\n",
    "ovr_results = pd.DataFrame({\n",
    "    'y_test': y_test,\n",
    "    'y_pred_ovo': y_pred_dt\n",
    "})\n",
    "\n",
    "# CSV fayl sifatida saqlash yo‘li\n",
    "save_path = r\"C:\\Users\\Rasulbek907\\Desktop\\Project_MP\\Data\\Ovo\\ovo_DeTreClas.csv\"\n",
    "\n",
    "# Saqlash\n",
    "ovr_results.to_csv(save_path, index=False)\n",
    "\n",
    "print(f\"OvO natijalari CSV faylga saqlandi:\\n{save_path}\")"
   ]
  },
  {
   "cell_type": "markdown",
   "id": "f479b091",
   "metadata": {},
   "source": [
    "# OvO + LogisticRegression"
   ]
  },
  {
   "cell_type": "code",
   "execution_count": 14,
   "id": "c1e1c34c",
   "metadata": {},
   "outputs": [
    {
     "name": "stdout",
     "output_type": "stream",
     "text": [
      "=== One-vs-One (Logistic Regression) ===\n",
      "Accuracy: 1.0\n"
     ]
    }
   ],
   "source": [
    "from sklearn.linear_model import LogisticRegression\n",
    "from sklearn.multiclass import OneVsOneClassifier\n",
    "from sklearn.metrics import accuracy_score\n",
    "\n",
    "# OvO modeli\n",
    "ovo_model_lr = OneVsOneClassifier(LogisticRegression(\n",
    "    max_iter=1000,       # Iteratsiya soni (konvergentsiya uchun)\n",
    "    solver='lbfgs',      # Yaxshi umumiy variant\n",
    "    random_state=42\n",
    "))\n",
    "\n",
    "# Modelni o‘qitish\n",
    "ovo_model_lr.fit(X_train, y_train)\n",
    "\n",
    "# Bashorat\n",
    "y_pred_lr = ovo_model_lr.predict(X_test)\n",
    "\n",
    "# Baholash\n",
    "print(\"=== One-vs-One (Logistic Regression) ===\")\n",
    "print(\"Accuracy:\", accuracy_score(y_test, y_pred_lr))\n"
   ]
  },
  {
   "cell_type": "code",
   "execution_count": 26,
   "id": "b1f23f94",
   "metadata": {},
   "outputs": [
    {
     "name": "stdout",
     "output_type": "stream",
     "text": [
      "OvO natijalari CSV faylga saqlandi:\n",
      "C:\\Users\\Rasulbek907\\Desktop\\Project_MP\\Data\\Ovo\\ovo_LogReg.csv\n"
     ]
    }
   ],
   "source": [
    "import pandas as pd\n",
    "\n",
    "# Natijalarni DataFrame ko‘rinishida birlashtiramiz\n",
    "ovr_results = pd.DataFrame({\n",
    "    'y_test': y_test,\n",
    "    'y_pred_ovo': y_pred_lr\n",
    "})\n",
    "\n",
    "# CSV fayl sifatida saqlash yo‘li\n",
    "save_path = r\"C:\\Users\\Rasulbek907\\Desktop\\Project_MP\\Data\\Ovo\\ovo_LogReg.csv\"\n",
    "\n",
    "# Saqlash\n",
    "ovr_results.to_csv(save_path, index=False)\n",
    "\n",
    "print(f\"OvO natijalari CSV faylga saqlandi:\\n{save_path}\")"
   ]
  },
  {
   "cell_type": "markdown",
   "id": "5964076e",
   "metadata": {},
   "source": [
    "# OvO + XGBClassifier"
   ]
  },
  {
   "cell_type": "code",
   "execution_count": 15,
   "id": "2835e438",
   "metadata": {},
   "outputs": [
    {
     "name": "stderr",
     "output_type": "stream",
     "text": [
      "c:\\Users\\Rasulbek907\\Desktop\\Project_MP\\venv\\Lib\\site-packages\\xgboost\\training.py:199: UserWarning: [15:04:18] WARNING: C:\\actions-runner\\_work\\xgboost\\xgboost\\src\\learner.cc:790: \n",
      "Parameters: { \"use_label_encoder\" } are not used.\n",
      "\n",
      "  bst.update(dtrain, iteration=i, fobj=obj)\n",
      "c:\\Users\\Rasulbek907\\Desktop\\Project_MP\\venv\\Lib\\site-packages\\xgboost\\training.py:199: UserWarning: [15:04:18] WARNING: C:\\actions-runner\\_work\\xgboost\\xgboost\\src\\learner.cc:790: \n",
      "Parameters: { \"use_label_encoder\" } are not used.\n",
      "\n",
      "  bst.update(dtrain, iteration=i, fobj=obj)\n",
      "c:\\Users\\Rasulbek907\\Desktop\\Project_MP\\venv\\Lib\\site-packages\\xgboost\\training.py:199: UserWarning: [15:04:18] WARNING: C:\\actions-runner\\_work\\xgboost\\xgboost\\src\\learner.cc:790: \n",
      "Parameters: { \"use_label_encoder\" } are not used.\n",
      "\n",
      "  bst.update(dtrain, iteration=i, fobj=obj)\n",
      "c:\\Users\\Rasulbek907\\Desktop\\Project_MP\\venv\\Lib\\site-packages\\xgboost\\training.py:199: UserWarning: [15:04:18] WARNING: C:\\actions-runner\\_work\\xgboost\\xgboost\\src\\learner.cc:790: \n",
      "Parameters: { \"use_label_encoder\" } are not used.\n",
      "\n",
      "  bst.update(dtrain, iteration=i, fobj=obj)\n",
      "c:\\Users\\Rasulbek907\\Desktop\\Project_MP\\venv\\Lib\\site-packages\\xgboost\\training.py:199: UserWarning: [15:04:18] WARNING: C:\\actions-runner\\_work\\xgboost\\xgboost\\src\\learner.cc:790: \n",
      "Parameters: { \"use_label_encoder\" } are not used.\n",
      "\n",
      "  bst.update(dtrain, iteration=i, fobj=obj)\n",
      "c:\\Users\\Rasulbek907\\Desktop\\Project_MP\\venv\\Lib\\site-packages\\xgboost\\training.py:199: UserWarning: [15:04:18] WARNING: C:\\actions-runner\\_work\\xgboost\\xgboost\\src\\learner.cc:790: \n",
      "Parameters: { \"use_label_encoder\" } are not used.\n",
      "\n",
      "  bst.update(dtrain, iteration=i, fobj=obj)\n",
      "c:\\Users\\Rasulbek907\\Desktop\\Project_MP\\venv\\Lib\\site-packages\\xgboost\\training.py:199: UserWarning: [15:04:18] WARNING: C:\\actions-runner\\_work\\xgboost\\xgboost\\src\\learner.cc:790: \n",
      "Parameters: { \"use_label_encoder\" } are not used.\n",
      "\n",
      "  bst.update(dtrain, iteration=i, fobj=obj)\n",
      "c:\\Users\\Rasulbek907\\Desktop\\Project_MP\\venv\\Lib\\site-packages\\xgboost\\training.py:199: UserWarning: [15:04:18] WARNING: C:\\actions-runner\\_work\\xgboost\\xgboost\\src\\learner.cc:790: \n",
      "Parameters: { \"use_label_encoder\" } are not used.\n",
      "\n",
      "  bst.update(dtrain, iteration=i, fobj=obj)\n",
      "c:\\Users\\Rasulbek907\\Desktop\\Project_MP\\venv\\Lib\\site-packages\\xgboost\\training.py:199: UserWarning: [15:04:18] WARNING: C:\\actions-runner\\_work\\xgboost\\xgboost\\src\\learner.cc:790: \n",
      "Parameters: { \"use_label_encoder\" } are not used.\n",
      "\n",
      "  bst.update(dtrain, iteration=i, fobj=obj)\n",
      "c:\\Users\\Rasulbek907\\Desktop\\Project_MP\\venv\\Lib\\site-packages\\xgboost\\training.py:199: UserWarning: [15:04:18] WARNING: C:\\actions-runner\\_work\\xgboost\\xgboost\\src\\learner.cc:790: \n",
      "Parameters: { \"use_label_encoder\" } are not used.\n",
      "\n",
      "  bst.update(dtrain, iteration=i, fobj=obj)\n"
     ]
    },
    {
     "name": "stdout",
     "output_type": "stream",
     "text": [
      "=== One-vs-One (XGBoost) ===\n",
      "Accuracy: 1.0\n"
     ]
    }
   ],
   "source": [
    "from xgboost import XGBClassifier\n",
    "from sklearn.multiclass import OneVsOneClassifier\n",
    "from sklearn.metrics import accuracy_score\n",
    "\n",
    "# OvO modeli\n",
    "ovo_model_xgb = OneVsOneClassifier(XGBClassifier(\n",
    "    n_estimators=100,       # Daraxtlar soni\n",
    "    learning_rate=0.1,      # O‘rganish tezligi\n",
    "    max_depth=6,            # Daraxt chuqurligi\n",
    "    random_state=42,\n",
    "    use_label_encoder=False,\n",
    "    eval_metric='mlogloss'  # Ko‘p sinfli log-loss\n",
    "))\n",
    "\n",
    "# Modelni o‘qitish\n",
    "ovo_model_xgb.fit(X_train, y_train)\n",
    "\n",
    "# Bashorat\n",
    "y_pred_xgb = ovo_model_xgb.predict(X_test)\n",
    "\n",
    "# Baholash\n",
    "print(\"=== One-vs-One (XGBoost) ===\")\n",
    "print(\"Accuracy:\", accuracy_score(y_test, y_pred_xgb))\n"
   ]
  },
  {
   "cell_type": "code",
   "execution_count": 27,
   "id": "f0e4fb1c",
   "metadata": {},
   "outputs": [
    {
     "name": "stdout",
     "output_type": "stream",
     "text": [
      "OvO natijalari CSV faylga saqlandi:\n",
      "C:\\Users\\Rasulbek907\\Desktop\\Project_MP\\Data\\Ovo\\ovo_XGBClass.csv\n"
     ]
    }
   ],
   "source": [
    "import pandas as pd\n",
    "\n",
    "# Natijalarni DataFrame ko‘rinishida birlashtiramiz\n",
    "ovr_results = pd.DataFrame({\n",
    "    'y_test': y_test,\n",
    "    'y_pred_ovo': y_pred_xgb\n",
    "})\n",
    "\n",
    "# CSV fayl sifatida saqlash yo‘li\n",
    "save_path = r\"C:\\Users\\Rasulbek907\\Desktop\\Project_MP\\Data\\Ovo\\ovo_XGBClass.csv\"\n",
    "\n",
    "# Saqlash\n",
    "ovr_results.to_csv(save_path, index=False)\n",
    "\n",
    "print(f\"OvO natijalari CSV faylga saqlandi:\\n{save_path}\")"
   ]
  },
  {
   "cell_type": "code",
   "execution_count": 18,
   "id": "6e439632",
   "metadata": {},
   "outputs": [
    {
     "name": "stderr",
     "output_type": "stream",
     "text": [
      "C:\\Users\\Rasulbek907\\AppData\\Local\\Temp\\ipykernel_4516\\1595176592.py:24: FutureWarning: \n",
      "\n",
      "Passing `palette` without assigning `hue` is deprecated and will be removed in v0.14.0. Assign the `y` variable to `hue` and set `legend=False` for the same effect.\n",
      "\n",
      "  ax = sns.barplot(\n",
      "C:\\Users\\Rasulbek907\\AppData\\Local\\Temp\\ipykernel_4516\\1595176592.py:40: UserWarning: Glyph 128202 (\\N{BAR CHART}) missing from font(s) Arial.\n",
      "  plt.tight_layout()\n",
      "C:\\Users\\Rasulbek907\\AppData\\Local\\Temp\\ipykernel_4516\\1595176592.py:48: UserWarning: Glyph 128202 (\\N{BAR CHART}) missing from font(s) Arial.\n",
      "  plt.savefig(save_path, dpi=300, bbox_inches='tight')\n",
      "c:\\Users\\Rasulbek907\\Desktop\\Project_MP\\venv\\Lib\\site-packages\\IPython\\core\\pylabtools.py:170: UserWarning: Glyph 128202 (\\N{BAR CHART}) missing from font(s) Arial.\n",
      "  fig.canvas.print_figure(bytes_io, **kw)\n"
     ]
    },
    {
     "data": {
      "image/png": "[encoded data removed]",
      "text/plain": [
       "<Figure size 800x500 with 1 Axes>"
      ]
     },
     "metadata": {},
     "output_type": "display_data"
    },
    {
     "name": "stdout",
     "output_type": "stream",
     "text": [
      "✅ Grafik saqlandi: C:\\Users\\Rasulbek907\\Desktop\\Project_MP\\Results\\OvR_Accuracy_Results.png\n"
     ]
    }
   ],
   "source": [
    "import matplotlib.pyplot as plt\n",
    "import seaborn as sns\n",
    "import pandas as pd\n",
    "import os\n",
    "\n",
    "# 📊 Natijalar jadvali\n",
    "results_df = pd.DataFrame({\n",
    "    \"Model\": [\n",
    "        \"Random Forest (OvR)\",\n",
    "        \"Decision Tree (OvR)\",\n",
    "        \"Logistic Regression (OvR)\",\n",
    "        \"XGBoost (OvR)\"\n",
    "    ],\n",
    "    \"Accuracy\": [1.0, 1.0, 0.889, 1.0]\n",
    "})\n",
    "\n",
    "# 🔹 Tartiblash (eng yuqori accuracy bo‘yicha)\n",
    "results_df = results_df.sort_values(by=\"Accuracy\", ascending=False)\n",
    "\n",
    "# 🎨 Grafik sozlamalari\n",
    "plt.figure(figsize=(8, 5))\n",
    "sns.set_style(\"whitegrid\")\n",
    "\n",
    "ax = sns.barplot(\n",
    "    x=\"Accuracy\",\n",
    "    y=\"Model\",\n",
    "    data=results_df,\n",
    "    palette=\"viridis\"\n",
    ")\n",
    "\n",
    "# 🔹 Har bir ustun ustiga foiz yozish\n",
    "for i, (acc, model) in enumerate(zip(results_df[\"Accuracy\"], results_df[\"Model\"])):\n",
    "    plt.text(acc + 0.01, i, f\"{acc:.2%}\", va=\"center\", fontsize=11, color=\"black\")\n",
    "\n",
    "# 🔹 Dizayn\n",
    "plt.title(\"📊 One-vs-Rest Model Accuracy Comparison\", fontsize=14, weight='bold')\n",
    "plt.xlabel(\"Accuracy\", fontsize=12)\n",
    "plt.ylabel(\"Model\", fontsize=12)\n",
    "plt.xlim(0, 1.1)\n",
    "plt.tight_layout()\n",
    "\n",
    "# 🔹 PNG fayl sifatida saqlash\n",
    "save_path = r\"C:\\Users\\Rasulbek907\\Desktop\\Project_MP\\Results\\OvR_Accuracy_Results.png\"\n",
    "\n",
    "# Agar papka mavjud bo‘lmasa, yaratadi\n",
    "os.makedirs(os.path.dirname(save_path), exist_ok=True)\n",
    "\n",
    "plt.savefig(save_path, dpi=300, bbox_inches='tight')\n",
    "plt.show()\n",
    "\n",
    "print(f\"✅ Grafik saqlandi: {save_path}\")\n"
   ]
  },
  {
   "cell_type": "code",
   "execution_count": 19,
   "id": "dc0817ab",
   "metadata": {},
   "outputs": [
    {
     "name": "stderr",
     "output_type": "stream",
     "text": [
      "C:\\Users\\Rasulbek907\\AppData\\Local\\Temp\\ipykernel_4516\\1873004613.py:24: FutureWarning: \n",
      "\n",
      "Passing `palette` without assigning `hue` is deprecated and will be removed in v0.14.0. Assign the `y` variable to `hue` and set `legend=False` for the same effect.\n",
      "\n",
      "  ax = sns.barplot(\n",
      "C:\\Users\\Rasulbek907\\AppData\\Local\\Temp\\ipykernel_4516\\1873004613.py:40: UserWarning: Glyph 128202 (\\N{BAR CHART}) missing from font(s) Arial.\n",
      "  plt.tight_layout()\n",
      "C:\\Users\\Rasulbek907\\AppData\\Local\\Temp\\ipykernel_4516\\1873004613.py:48: UserWarning: Glyph 128202 (\\N{BAR CHART}) missing from font(s) Arial.\n",
      "  plt.savefig(save_path, dpi=300, bbox_inches='tight')\n",
      "c:\\Users\\Rasulbek907\\Desktop\\Project_MP\\venv\\Lib\\site-packages\\IPython\\core\\pylabtools.py:170: UserWarning: Glyph 128202 (\\N{BAR CHART}) missing from font(s) Arial.\n",
      "  fig.canvas.print_figure(bytes_io, **kw)\n"
     ]
    },
    {
     "data": {
      "image/png": "[encoded data removed]",
      "text/plain": [
       "<Figure size 800x500 with 1 Axes>"
      ]
     },
     "metadata": {},
     "output_type": "display_data"
    },
    {
     "name": "stdout",
     "output_type": "stream",
     "text": [
      "✅ Grafik saqlandi: C:\\Users\\Rasulbek907\\Desktop\\Project_MP\\Results\\OvO_Accuracy_Results.png\n"
     ]
    }
   ],
   "source": [
    "import matplotlib.pyplot as plt\n",
    "import seaborn as sns\n",
    "import pandas as pd\n",
    "import os\n",
    "\n",
    "# 📊 One-vs-One natijalar jadvali\n",
    "results_df = pd.DataFrame({\n",
    "    \"Model\": [\n",
    "        \"Random Forest (OvO)\",\n",
    "        \"Decision Tree (OvO)\",\n",
    "        \"Logistic Regression (OvO)\",\n",
    "        \"XGBoost (OvO)\"\n",
    "    ],\n",
    "    \"Accuracy\": [1.0, 1.0, 1.0, 1.0]\n",
    "})\n",
    "\n",
    "# 🔹 Accuracy bo‘yicha tartiblash\n",
    "results_df = results_df.sort_values(by=\"Accuracy\", ascending=False)\n",
    "\n",
    "# 🎨 Grafik sozlamalari\n",
    "plt.figure(figsize=(8, 5))\n",
    "sns.set_style(\"whitegrid\")\n",
    "\n",
    "ax = sns.barplot(\n",
    "    x=\"Accuracy\",\n",
    "    y=\"Model\",\n",
    "    data=results_df,\n",
    "    palette=\"magma\"\n",
    ")\n",
    "\n",
    "# 🔹 Har bir ustun ustiga foiz yozish\n",
    "for i, (acc, model) in enumerate(zip(results_df[\"Accuracy\"], results_df[\"Model\"])):\n",
    "    plt.text(acc + 0.01, i, f\"{acc:.2%}\", va=\"center\", fontsize=11, color=\"black\")\n",
    "\n",
    "# 🔹 Dizayn\n",
    "plt.title(\"📊 One-vs-One Model Accuracy Comparison\", fontsize=14, weight='bold')\n",
    "plt.xlabel(\"Accuracy\", fontsize=12)\n",
    "plt.ylabel(\"Model\", fontsize=12)\n",
    "plt.xlim(0, 1.1)\n",
    "plt.tight_layout()\n",
    "\n",
    "# 🔹 PNG fayl sifatida saqlash\n",
    "save_path = r\"C:\\Users\\Rasulbek907\\Desktop\\Project_MP\\Results\\OvO_Accuracy_Results.png\"\n",
    "\n",
    "# Agar papka mavjud bo‘lmasa, yaratadi\n",
    "os.makedirs(os.path.dirname(save_path), exist_ok=True)\n",
    "\n",
    "plt.savefig(save_path, dpi=300, bbox_inches='tight')\n",
    "plt.show()\n",
    "\n",
    "print(f\"✅ Grafik saqlandi: {save_path}\")\n"
   ]
  },
  {
   "cell_type": "code",
   "execution_count": null,
   "id": "c80a3c82",
   "metadata": {},
   "outputs": [],
   "source": []
  }
 ],
 "metadata": {
  "kernelspec": {
   "display_name": "venv",
   "language": "python",
   "name": "python3"
  },
  "language_info": {
   "codemirror_mode": {
    "name": "ipython",
    "version": 3
   },
   "file_extension": ".py",
   "mimetype": "text/x-python",
   "name": "python",
   "nbconvert_exporter": "python",
   "pygments_lexer": "ipython3",
   "version": "3.13.7"
  }
 },
 "nbformat": 4,
 "nbformat_minor": 5
}
