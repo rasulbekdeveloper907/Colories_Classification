{
 "cells": [
  {
   "cell_type": "code",
   "execution_count": 2,
   "id": "6ca6b342",
   "metadata": {},
   "outputs": [
    {
     "ename": "ModuleNotFoundError",
     "evalue": "No module named 'pipeline'",
     "output_type": "error",
     "traceback": [
      "\u001b[31m---------------------------------------------------------------------------\u001b[39m",
      "\u001b[31mModuleNotFoundError\u001b[39m                       Traceback (most recent call last)",
      "\u001b[36mCell\u001b[39m\u001b[36m \u001b[39m\u001b[32mIn[2]\u001b[39m\u001b[32m, line 9\u001b[39m\n\u001b[32m      6\u001b[39m sys.path.append(\u001b[33mr\u001b[39m\u001b[33m\"\u001b[39m\u001b[33mC:\u001b[39m\u001b[33m\\\u001b[39m\u001b[33mUsers\u001b[39m\u001b[33m\\\u001b[39m\u001b[33mRasulbek907\u001b[39m\u001b[33m\\\u001b[39m\u001b[33mDesktop\u001b[39m\u001b[33m\\\u001b[39m\u001b[33mFinal_Project\u001b[39m\u001b[33m\\\u001b[39m\u001b[33mSource\u001b[39m\u001b[33m\"\u001b[39m)\n\u001b[32m      8\u001b[39m \u001b[38;5;66;03m# Fayl nomi: Auto_Pipeline.py, shuning uchun import ham shunday bo'lishi kerak\u001b[39;00m\n\u001b[32m----> \u001b[39m\u001b[32m9\u001b[39m \u001b[38;5;28;01mfrom\u001b[39;00m\u001b[38;5;250m \u001b[39m\u001b[34;01mpipeline\u001b[39;00m\u001b[38;5;250m \u001b[39m\u001b[38;5;28;01mimport\u001b[39;00m DataLoader\n\u001b[32m     11\u001b[39m \u001b[38;5;66;03m# Log fayl manzili\u001b[39;00m\n\u001b[32m     12\u001b[39m log_path = \u001b[33mr\u001b[39m\u001b[33m\"\u001b[39m\u001b[33mC:\u001b[39m\u001b[33m\\\u001b[39m\u001b[33mUsers\u001b[39m\u001b[33m\\\u001b[39m\u001b[33mRasulbek907\u001b[39m\u001b[33m\\\u001b[39m\u001b[33mDesktop\u001b[39m\u001b[33m\\\u001b[39m\u001b[33mProject_MP\u001b[39m\u001b[33m\\\u001b[39m\u001b[33mLog\u001b[39m\u001b[33m\\\u001b[39m\u001b[33mauto_pipeline.log\u001b[39m\u001b[33m\"\u001b[39m\n",
      "\u001b[31mModuleNotFoundError\u001b[39m: No module named 'pipeline'"
     ]
    }
   ],
   "source": [
    "import sys\n",
    "import os\n",
    "import logging\n",
    "\n",
    "# To‘g‘ri yo‘lni sys.path ga qo‘shish\n",
    "sys.path.append(r\"C:\\Users\\Rasulbek907\\Desktop\\Final_Project\\Source\")\n",
    "\n",
    "# Fayl nomi: Auto_Pipeline.py, shuning uchun import ham shunday bo'lishi kerak\n",
    "from pipeline import DataLoader\n",
    "\n",
    "# Log fayl manzili\n",
    "log_path = r\"C:\\Users\\Rasulbek907\\Desktop\\Project_MP\\Log\\auto_pipeline.log\"\n",
    "\n",
    "# Log sozlamalari\n",
    "logging.basicConfig(\n",
    "    filename=log_path,\n",
    "    filemode='a',\n",
    "    format='%(asctime)s - %(levelname)s - %(message)s',\n",
    "    level=logging.INFO\n",
    ")\n",
    "\n",
    "# Ma'lumot faylining manzili\n",
    "data_path = r\"C:\\Users\\Rasulbek907\\Desktop\\Project_MP\\Data\\Preprosessed\\Preprosessed.csv\"\n",
    "\n",
    "try:\n",
    "    logging.info(\"Ma'lumot fayli yuklanmoqda...\")\n",
    "    df = DataLoader.load_csv(data_path)\n",
    "    logging.info(f\"Fayl muvaffaqiyatli yuklandi. Satrlar soni: {len(df)}, ustunlar soni: {len(df.columns)}\")\n",
    "except Exception as e:\n",
    "    logging.error(f\"Ma'lumot faylini yuklashda xatolik yuz berdi: {e}\")\n"
   ]
  },
  {
   "cell_type": "code",
   "execution_count": null,
   "id": "bd7a2d95",
   "metadata": {},
   "outputs": [],
   "source": [
    "import sys\n",
    "import os\n",
    "import importlib\n",
    "\n",
    "# 1. path qo‘shish\n",
    "source_path = r'C:\\Users\\Rasulbek907\\Desktop\\amaliyot\\Source'\n",
    "if source_path not in sys.path:\n",
    "    sys.path.append(source_path)\n",
    "\n",
    "# 2. Import va reload\n",
    "import pipeline\n",
    "importlib.reload(pipeline)  # 🔄 MUHIM: o‘zgargan faylni yangilaydi\n",
    "\n",
    "# 3. DataLoader ni olish\n",
    "from pipeline import DataLoader\n",
    "\n",
    "# 4. Foydalanish\n",
    "data_path = r'C:\\Users\\Rasulbek907\\Desktop\\Final_Project\\Data\\Preprosessed_data\\Clustering.csv'\n",
    "loader = DataLoader(data_path)\n",
    "\n",
    "# 5. Endi ishlaydi!\n",
    "df = loader.load_dataset()\n",
    "print(df.head()) "
   ]
  },
  {
   "cell_type": "code",
   "execution_count": null,
   "id": "fb482ca3",
   "metadata": {},
   "outputs": [],
   "source": [
    "df.info()"
   ]
  },
  {
   "cell_type": "code",
   "execution_count": null,
   "id": "a41535b9",
   "metadata": {},
   "outputs": [],
   "source": [
    "df.head()\n"
   ]
  },
  {
   "cell_type": "code",
   "execution_count": null,
   "id": "fac61175",
   "metadata": {},
   "outputs": [],
   "source": [
    "from Auto_Pipeline import PlayerPipeline\n",
    "from sklearn.ensemble import RandomForestRegressor"
   ]
  },
  {
   "cell_type": "markdown",
   "id": "3cc24d08",
   "metadata": {},
   "source": [
    "# Avto Pipeline RandomForestRegressor"
   ]
  },
  {
   "cell_type": "code",
   "execution_count": null,
   "id": "057b3200",
   "metadata": {},
   "outputs": [],
   "source": [
    "from sklearn.ensemble import RandomForestRegressor\n",
    "\n",
    "pipeline_rf = PlayerPipeline(df=df, target=\"life_span\", model=RandomForestRegressor(n_estimators=100))\n",
    "pipeline_rf.fit()\n",
    "y_pred = pipeline_rf.predict()\n",
    "\n",
    "# R2 ballini olish\n",
    "r2_score = pipeline_rf.score()\n",
    "print(\"R2 score:\", r2_score)"
   ]
  },
  {
   "cell_type": "code",
   "execution_count": null,
   "id": "e2d1c098",
   "metadata": {},
   "outputs": [],
   "source": [
    "import joblib\n",
    "import os\n",
    "\n",
    "model_path = r\"C:\\Users\\Rasulbek907\\Desktop\\Final_Project\\Models\\Pipeline_models\\RandomForestRegressor.joblib\"\n",
    "os.makedirs(os.path.dirname(model_path), exist_ok=True)\n",
    "\n",
    "joblib.dump(pipeline_rf, model_path)\n",
    "print(f\"✅ Model muvaffaqiyatli saqlandi: {model_path}\")  "
   ]
  },
  {
   "cell_type": "markdown",
   "id": "a766c0da",
   "metadata": {},
   "source": [
    "# Avto Pipeline DecisionTreeRegressor"
   ]
  },
  {
   "cell_type": "code",
   "execution_count": null,
   "id": "70be41fe",
   "metadata": {},
   "outputs": [],
   "source": [
    "from sklearn.tree import DecisionTreeRegressor\n",
    "\n",
    "pipeline_dt = PlayerPipeline(df=df, target=\"life_span\", model=DecisionTreeRegressor())\n",
    "pipeline_dt.fit()\n",
    "y_pred = pipeline_dt.predict()\n",
    "\n",
    "r2_score = pipeline_dt.score()\n",
    "print(\"Decision Tree R2 score:\", r2_score)"
   ]
  },
  {
   "cell_type": "code",
   "execution_count": null,
   "id": "2793fff4",
   "metadata": {},
   "outputs": [],
   "source": [
    "import joblib\n",
    "import os\n",
    "\n",
    "model_path = r\"C:\\Users\\Rasulbek907\\Desktop\\Final_Project\\Models\\Pipeline_models\\DecisionTreeRegressor.joblib\"\n",
    "os.makedirs(os.path.dirname(model_path), exist_ok=True)\n",
    "\n",
    "joblib.dump(pipeline_dt, model_path)\n",
    "print(f\"✅ Model muvaffaqiyatli saqlandi: {model_path}\")  "
   ]
  },
  {
   "cell_type": "markdown",
   "id": "4392c911",
   "metadata": {},
   "source": [
    "# Natijalarni Taqqoslash "
   ]
  },
  {
   "cell_type": "code",
   "execution_count": null,
   "id": "e5343209",
   "metadata": {},
   "outputs": [],
   "source": [
    "# Ranglar ro'yxatini yaratamiz (qizil - eng yaxshisi, ko'k - boshqalari)\n",
    "colors = results_df[\"R2 Score\"].apply(lambda x: 'red' if x == max_r2 else 'blue')\n",
    "\n",
    "# Palette uchun dictionary yaratamiz: model nomi -> rang\n",
    "palette = dict(zip(results_df[\"Model\"], colors))\n",
    "\n",
    "plt.figure(figsize=(8, 6))\n",
    "sns.barplot(x=\"Model\", y=\"R2 Score\", data=results_df, palette=palette)\n",
    "\n",
    "plt.title(\"Modellarning R2 baholari\")\n",
    "plt.ylim(0, 1)\n",
    "plt.ylabel(\"R2 Score\")\n",
    "plt.xlabel(\"Model\")\n",
    "\n",
    "for i, (r2, color) in enumerate(zip(results_df[\"R2 Score\"], colors)):\n",
    "    plt.text(i, r2 + 0.02, f\"{r2:.3f}\", ha='center', color=color, fontweight='bold')\n",
    "\n",
    "plt.show()\n"
   ]
  }
 ],
 "metadata": {
  "kernelspec": {
   "display_name": "venv",
   "language": "python",
   "name": "python3"
  },
  "language_info": {
   "codemirror_mode": {
    "name": "ipython",
    "version": 3
   },
   "file_extension": ".py",
   "mimetype": "text/x-python",
   "name": "python",
   "nbconvert_exporter": "python",
   "pygments_lexer": "ipython3",
   "version": "3.13.7"
  }
 },
 "nbformat": 4,
 "nbformat_minor": 5
}
