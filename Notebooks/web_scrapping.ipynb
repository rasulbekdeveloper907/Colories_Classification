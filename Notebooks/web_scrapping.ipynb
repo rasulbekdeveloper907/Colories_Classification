{
 "cells": [
  {
   "cell_type": "code",
   "execution_count": 6,
   "id": "e16664ce",
   "metadata": {},
   "outputs": [
    {
     "ename": "ModuleNotFoundError",
     "evalue": "No module named 'requests'",
     "output_type": "error",
     "traceback": [
      "\u001b[31m---------------------------------------------------------------------------\u001b[39m",
      "\u001b[31mModuleNotFoundError\u001b[39m                       Traceback (most recent call last)",
      "\u001b[36mCell\u001b[39m\u001b[36m \u001b[39m\u001b[32mIn[6]\u001b[39m\u001b[32m, line 2\u001b[39m\n\u001b[32m      1\u001b[39m \u001b[38;5;66;03m# openfoodfacts_api.py\u001b[39;00m\n\u001b[32m----> \u001b[39m\u001b[32m2\u001b[39m \u001b[38;5;28;01mimport\u001b[39;00m\u001b[38;5;250m \u001b[39m\u001b[34;01mrequests\u001b[39;00m\n\u001b[32m      3\u001b[39m \u001b[38;5;28;01mimport\u001b[39;00m\u001b[38;5;250m \u001b[39m\u001b[34;01mcsv\u001b[39;00m\n\u001b[32m      4\u001b[39m \u001b[38;5;28;01mimport\u001b[39;00m\u001b[38;5;250m \u001b[39m\u001b[34;01mtime\u001b[39;00m\n",
      "\u001b[31mModuleNotFoundError\u001b[39m: No module named 'requests'"
     ]
    }
   ],
   "source": [
    "# openfoodfacts_api.py\n",
    "import requests\n",
    "import csv\n",
    "import time\n",
    "\n",
    "BASE_URL = \"https://world.openfoodfacts.org/cgi/search.pl\"\n",
    "\n",
    "def fetch_products(page_size=50, page=1, country=None):\n",
    "    params = {\n",
    "        \"action\": \"process\",\n",
    "        \"json\": 1,\n",
    "        \"page_size\": page_size,\n",
    "        \"page\": page,\n",
    "    }\n",
    "    if country:\n",
    "        params[\"countries_tags_en\"] = country.lower()\n",
    "    \n",
    "    r = requests.get(BASE_URL, params=params, timeout=30)\n",
    "    if r.status_code == 200:\n",
    "        return r.json().get(\"products\", [])\n",
    "    return []\n",
    "\n",
    "def save_to_csv(products, filename=\"openfoodfacts_products.csv\"):\n",
    "    if not products:\n",
    "        return\n",
    "    \n",
    "    keys = [\"product_name\", \"brands\", \"categories\", \"countries_tags\", \"nutriments\", \"ingredients_text\"]\n",
    "    with open(filename, \"w\", encoding=\"utf-8\", newline=\"\") as f:\n",
    "        writer = csv.DictWriter(f, fieldnames=keys)\n",
    "        writer.writeheader()\n",
    "        for p in products:\n",
    "            writer.writerow({k: str(p.get(k, \"\")) for k in keys})\n",
    "\n",
    "if __name__ == \"__main__\":\n",
    "    all_products = []\n",
    "    for page in range(1, 6):  # 5 sahifa (~250 ta mahsulot)\n",
    "        print(f\"Fetching page {page}...\")\n",
    "        data = fetch_products(page_size=50, page=page, country=\"world\")\n",
    "        all_products.extend(data)\n",
    "        time.sleep(1)\n",
    "\n",
    "    print(f\"Total products fetched: {len(all_products)}\")\n",
    "    save_to_csv(all_products)\n",
    "    print(\"✅ Saved to openfoodfacts_products.csv\")\n"
   ]
  },
  {
   "cell_type": "code",
   "execution_count": null,
   "id": "1e1a78ec",
   "metadata": {},
   "outputs": [],
   "source": []
  },
  {
   "cell_type": "code",
   "execution_count": null,
   "id": "dbbb0b07",
   "metadata": {},
   "outputs": [],
   "source": []
  }
 ],
 "metadata": {
  "kernelspec": {
   "display_name": "venv",
   "language": "python",
   "name": "python3"
  },
  "language_info": {
   "codemirror_mode": {
    "name": "ipython",
    "version": 3
   },
   "file_extension": ".py",
   "mimetype": "text/x-python",
   "name": "python",
   "nbconvert_exporter": "python",
   "pygments_lexer": "ipython3",
   "version": "3.13.7"
  }
 },
 "nbformat": 4,
 "nbformat_minor": 5
}
