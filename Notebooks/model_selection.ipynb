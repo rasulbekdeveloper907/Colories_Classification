{
 "cells": [
  {
   "cell_type": "code",
   "execution_count": null,
   "id": "a17fd075",
   "metadata": {},
   "outputs": [],
   "source": [
    "import pandas as pd\n",
    "import logging\n",
    "\n",
    "# Log fayl manzili\n",
    "log_path = r\"C:\\Users\\Rasulbek907\\Desktop\\Final_Project\\Log\\training.log\"\n",
    "\n",
    "# Log sozlamalari\n",
    "logging.basicConfig(\n",
    "    filename=log_path,\n",
    "    filemode='a',  # Append mode\n",
    "    format='%(asctime)s - %(levelname)s - %(message)s',\n",
    "    level=logging.INFO\n",
    ")\n",
    "\n",
    "try:\n",
    "    logging.info(\"CSV fayl o'qilmoqda:...\")\n",
    "    df = pd.read_csv(r\"C:\\Users\\Rasulbek907\\Desktop\\Final_Project\\Data\\Feature_selection\\Filtered_Features.csv\")\n",
    "    logging.info(f\"Fayl muvaffaqiyatli o'qildi. Satırlar soni: {len(df)} ustunlar soni: {len(df.columns)}\")\n",
    "except Exception as e:\n",
    "    logging.error(f\"CSV faylni o'qishda xatolik: {e}\")"
   ]
  },
  {
   "cell_type": "code",
   "execution_count": null,
   "id": "b5f8d5f3",
   "metadata": {},
   "outputs": [],
   "source": [
    "df.head()"
   ]
  },
  {
   "cell_type": "markdown",
   "id": "40c5c49b",
   "metadata": {},
   "source": [
    "# SKEWNESNI ANIQLASH "
   ]
  },
  {
   "cell_type": "code",
   "execution_count": null,
   "id": "6a0d30f6",
   "metadata": {},
   "outputs": [],
   "source": [
    "# faqat raqamli ustunlar uchun\n",
    "skewness = df.select_dtypes(include=['number']).skew()\n",
    "\n",
    "# Natijani ko‘rish\n",
    "print(\"📊 Skewness (egiklik) qiymatlari:\\n\")\n",
    "print(skewness)\n"
   ]
  },
  {
   "cell_type": "markdown",
   "id": "0cdf784c",
   "metadata": {},
   "source": [
    "# Log transform faqat musbat qiymatlar uchun "
   ]
  },
  {
   "cell_type": "code",
   "execution_count": null,
   "id": "c8a3f2a3",
   "metadata": {},
   "outputs": [],
   "source": [
    "import numpy as np\n",
    "df['life_span_log'] = np.log1p(df['life_span']) "
   ]
  },
  {
   "cell_type": "markdown",
   "id": "ca0b02c5",
   "metadata": {},
   "source": [
    "# Box -Cox transform"
   ]
  },
  {
   "cell_type": "code",
   "execution_count": null,
   "id": "0377f6b3",
   "metadata": {},
   "outputs": [],
   "source": [
    "from scipy.stats import boxcox\n",
    "df['life_span_boxcox'], fitted_lambda = boxcox(df['life_span'] + 1)  \n",
    "print(f\"Optimal lambda for Box-Cox: {fitted_lambda}\")\n"
   ]
  },
  {
   "cell_type": "code",
   "execution_count": null,
   "id": "32e53d2d",
   "metadata": {},
   "outputs": [],
   "source": [
    "from scipy.stats import boxcox\n",
    "import numpy as np\n",
    "\n",
    "skewed_cols = ['life_span', 'birth_year', 'death_year', 'alma_mater', 'children']  # misol uchun\n",
    "\n",
    "for col in skewed_cols:\n",
    "    min_val = df[col].min()\n",
    "    if min_val <= 0:\n",
    "        # Minimal qiymatni musbatga ko'chirish uchun\n",
    "        shifted = df[col] + abs(min_val) + 1\n",
    "        df[col+'_boxcox'], _ = boxcox(shifted)\n",
    "    else:\n",
    "        df[col+'_boxcox'], _ = boxcox(df[col])\n"
   ]
  },
  {
   "cell_type": "markdown",
   "id": "bac8a936",
   "metadata": {},
   "source": [
    "# Models Training Process "
   ]
  },
  {
   "cell_type": "markdown",
   "id": "cde6ad29",
   "metadata": {},
   "source": [
    "# RandomForestRegressor TRAINING "
   ]
  },
  {
   "cell_type": "code",
   "execution_count": null,
   "id": "8a7d93c9",
   "metadata": {},
   "outputs": [],
   "source": [
    "from sklearn.model_selection import train_test_split\n",
    "from sklearn.ensemble import RandomForestRegressor\n",
    "from sklearn.metrics import mean_squared_error, r2_score\n",
    "\n",
    "# X va y ajratamiz\n",
    "X = df.drop('life_span', axis=1)\n",
    "y = df['life_span']\n",
    "\n",
    "# Train / Validation / Test (60/20/20)\n",
    "X_temp, X_test, y_temp, y_test = train_test_split(X, y, test_size=0.2, random_state=42)\n",
    "X_train, X_val, y_train, y_val = train_test_split(X_temp, y_temp, test_size=0.25, random_state=42)  \n",
    "\n",
    "# Model\n",
    "rf = RandomForestRegressor(n_estimators=100, random_state=42)\n",
    "rf.fit(X_train, y_train)\n",
    "\n",
    "# Baholash\n",
    "y_pred = rf.predict(X_val)\n",
    "print(\"📊 Random Forest Validation R2:\", r2_score(y_val, y_pred))\n",
    "print(\"📉 Validation MSE:\", mean_squared_error(y_val, y_pred))\n"
   ]
  },
  {
   "cell_type": "markdown",
   "id": "22af849f",
   "metadata": {},
   "source": [
    "# Save RandomForestRegressor Model "
   ]
  },
  {
   "cell_type": "code",
   "execution_count": null,
   "id": "4f89e027",
   "metadata": {},
   "outputs": [],
   "source": [
    "import joblib\n",
    "joblib.dump(rf, r\"C:\\Users\\Rasulbek907\\Desktop\\Final_Project\\Models\\Simple_Models\\RandomForestRegressor.joblib\")\n",
    "print(\"✅ Model muvaffaqiyatli saqlandi.\")"
   ]
  },
  {
   "cell_type": "markdown",
   "id": "d583de81",
   "metadata": {},
   "source": [
    "# DecisionTreeRegressor TRAINING "
   ]
  },
  {
   "cell_type": "code",
   "execution_count": null,
   "id": "6a97701a",
   "metadata": {},
   "outputs": [],
   "source": [
    "from sklearn.tree import DecisionTreeRegressor\n",
    "\n",
    "# Model\n",
    "dt = DecisionTreeRegressor(random_state=42)\n",
    "dt.fit(X_train, y_train)\n",
    "\n",
    "# Baholash\n",
    "y_pred_dt = dt.predict(X_val)\n",
    "print(\"📊 Decision Tree Validation R2:\", r2_score(y_val, y_pred_dt))\n",
    "print(\"📉 Validation MSE:\", mean_squared_error(y_val, y_pred_dt))"
   ]
  },
  {
   "cell_type": "markdown",
   "id": "c8278770",
   "metadata": {},
   "source": [
    "# Save DecisionTreeRegressor Model "
   ]
  },
  {
   "cell_type": "code",
   "execution_count": null,
   "id": "091c4cfc",
   "metadata": {},
   "outputs": [],
   "source": [
    "import joblib\n",
    "joblib.dump(dt, r\"C:\\Users\\Rasulbek907\\Desktop\\Final_Project\\Models\\Simple_Models\\DecisionTreeRegressor.joblib\")\n",
    "print(\"✅ Model muvaffaqiyatli saqlandi.\")"
   ]
  },
  {
   "cell_type": "markdown",
   "id": "00017d25",
   "metadata": {},
   "source": [
    "# Jami: Natijalarni Taqqoslash "
   ]
  },
  {
   "cell_type": "code",
   "execution_count": null,
   "id": "02ee29a2",
   "metadata": {},
   "outputs": [],
   "source": [
    "import pandas as pd\n",
    "from sklearn.model_selection import train_test_split\n",
    "from sklearn.linear_model import LinearRegression\n",
    "from sklearn.ensemble import RandomForestRegressor\n",
    "from sklearn.tree import DecisionTreeRegressor\n",
    "from xgboost import XGBRegressor\n",
    "from sklearn.metrics import mean_squared_error, r2_score\n",
    "import plotly.graph_objects as go\n",
    "\n",
    "# 1. X va y\n",
    "X = df.drop('life_span', axis=1)\n",
    "y = df['life_span']\n",
    "\n",
    "# 2. Train, validation, test bo'lish\n",
    "X_temp, X_test, y_temp, y_test = train_test_split(X, y, test_size=0.2, random_state=42)\n",
    "X_train, X_val, y_train, y_val = train_test_split(X_temp, y_temp, test_size=0.25, random_state=42)\n",
    "\n",
    "# 3. Modellar\n",
    "models = {\n",
    "    'Linear Regression': LinearRegression(),\n",
    "    'Random Forest': RandomForestRegressor(n_estimators=100, random_state=42),\n",
    "    'Decision Tree': DecisionTreeRegressor(random_state=42),\n",
    "    'XGBoost': XGBRegressor(n_estimators=100, learning_rate=0.1, random_state=42)\n",
    "}\n",
    "\n",
    "results = []\n",
    "\n",
    "for name, model in models.items():\n",
    "    model.fit(X_train, y_train)\n",
    "    preds = model.predict(X_val)\n",
    "    r2 = r2_score(y_val, preds)\n",
    "    mse = mean_squared_error(y_val, preds)\n",
    "    results.append({'Model': name, 'R2 Score': r2, 'MSE': mse})\n",
    "\n",
    "# 4. Natijalarni DataFrame ga yig'ish\n",
    "results_df = pd.DataFrame(results)\n",
    "\n",
    "# 5. Eng yaxshi R2 topish\n",
    "best_model_index = results_df['R2 Score'].idxmax()\n",
    "\n",
    "# 6. Jadvalni chizish (qizil bilan eng yaxshisi)\n",
    "colors = ['lightgray'] * len(results_df)\n",
    "colors[best_model_index] = 'crimson'  # eng yaxshi R2 uchun qizil rang\n",
    "\n",
    "fig = go.Figure(data=[go.Table(\n",
    "    header=dict(values=list(results_df.columns),\n",
    "                fill_color='paleturquoise',\n",
    "                align='left'),\n",
    "    cells=dict(values=[results_df[col] for col in results_df.columns],\n",
    "               fill_color=[colors, colors, colors],\n",
    "               align='left'))\n",
    "])\n",
    "\n",
    "fig.update_layout(title='Model Natijalari: R2 Score va MSE')\n",
    "fig.show()"
   ]
  },
  {
   "cell_type": "markdown",
   "id": "7a409198",
   "metadata": {},
   "source": [
    "# Cros Validation Tekshirish Natijalari "
   ]
  },
  {
   "cell_type": "code",
   "execution_count": null,
   "id": "91869ee3",
   "metadata": {},
   "outputs": [],
   "source": [
    "from sklearn.model_selection import cross_val_score, cross_val_predict\n",
    "from sklearn.metrics import mean_squared_error, r2_score\n",
    "from sklearn.tree import DecisionTreeRegressor\n",
    "import numpy as np\n",
    "\n",
    "# Model\n",
    "dt = DecisionTreeRegressor(random_state=42)\n",
    "\n",
    "# R2 Score bo‘yicha 5-fold cross-validation\n",
    "r2_scores = cross_val_score(dt, X, y, cv=5, scoring='r2')\n",
    "print(\"📊 R2 (5-fold):\", r2_scores)\n",
    "print(\"📈 R2 O'rtacha:\", np.mean(r2_scores))\n",
    "\n",
    "# Cross-val prediction orqali MSE hisoblash\n",
    "y_pred_cv = cross_val_predict(dt, X, y, cv=5)\n",
    "mse = mean_squared_error(y, y_pred_cv)\n",
    "print(\"📉 Cross-Validated MSE:\", mse)"
   ]
  },
  {
   "cell_type": "markdown",
   "id": "9a0ee569",
   "metadata": {},
   "source": [
    "# Shap Value Bo`yicha Taxliliy Xulosalar "
   ]
  },
  {
   "cell_type": "code",
   "execution_count": null,
   "id": "5d1de0fb",
   "metadata": {},
   "outputs": [],
   "source": [
    "import shap\n",
    "import matplotlib.pyplot as plt\n",
    "from sklearn.tree import DecisionTreeRegressor\n",
    "\n",
    "# Modelni o'qitamiz (cross_val uchun emas, alohida fit qilamiz)\n",
    "dt_model = DecisionTreeRegressor(random_state=42)\n",
    "dt_model.fit(X, y)\n",
    "\n",
    "# SHAP explainer yaratamiz\n",
    "explainer = shap.Explainer(dt_model, X)\n",
    "shap_values = explainer(X)\n",
    "\n",
    "# Summary plot (eng muhim xususiyatlarni ko‘rsatadi)\n",
    "shap.summary_plot(shap_values, X)"
   ]
  },
  {
   "cell_type": "markdown",
   "id": "61dd26da",
   "metadata": {},
   "source": [
    "### ✅ XULOSA\n",
    "\n",
    "🔍 Yuqoridagi tahliliy natijalardan kelib chiqib, quyidagi xulosani chiqarishimiz mumkin:\n",
    "\n",
    "📈 **Modelimiz samaradorligini oshirishda aynan o‘zimiz tomonidan yaratilgan quyidagi ustunlar muhim rol o‘ynamoqda**:\n",
    "\n",
    "- `life_span_boxcox` ⚙️  \n",
    "- `life_span_log` 📊  \n",
    "- `life_span_cluster` 🔗  \n",
    "- `occupation_cluster` 🧠  \n",
    "- `birth_year_boxcox` 🕰️  \n",
    "- `death_year_boxcox` ⚰️  \n",
    "\n",
    "🚀 Ushbu ustunlar **modelimizning eng muhim TOP-10 xususiyatlari** qatoriga kirgan va ularning mavjudligi **aniqlikni sezilarli darajada oshirgan**.\n",
    "\n",
    "🏅 Shuningdek, `awards` ustuni ham **ahamiyatli omillardan biri** sifatida ajralib turibdi.\n",
    "\n",
    "---\n",
    "\n",
    "🎯 **Xulosa qilib aytganda**, **to‘g‘ri xususiyatlar muhandisligi (feature engineering)** model samaradorligining asosiy omillaridan biri bo‘lib xizmat qilmoqda. Bu — muvaffaqiyat sari muhim qadam! 💡📊\n"
   ]
  },
  {
   "cell_type": "code",
   "execution_count": null,
   "id": "aee84eb2",
   "metadata": {},
   "outputs": [],
   "source": []
  }
 ],
 "metadata": {
  "language_info": {
   "name": "python"
  }
 },
 "nbformat": 4,
 "nbformat_minor": 5
}
