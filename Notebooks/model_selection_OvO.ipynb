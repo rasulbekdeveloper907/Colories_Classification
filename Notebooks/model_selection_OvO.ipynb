{
 "cells": [
  {
   "cell_type": "code",
   "execution_count": 16,
   "id": "a17fd075",
   "metadata": {},
   "outputs": [],
   "source": [
    "import pandas as pd\n",
    "import logging\n",
    "\n",
    "# Log fayl manzili\n",
    "log_path = r\"C:\\Users\\Rasulbek907\\Desktop\\Project_MP\\Log\\training.log\"\n",
    "\n",
    "# Log sozlamalari\n",
    "logging.basicConfig(\n",
    "    filename=log_path,\n",
    "    filemode='a',  # Append mode\n",
    "    format='%(asctime)s - %(levelname)s - %(message)s',\n",
    "    level=logging.INFO\n",
    ")\n",
    "\n",
    "try:\n",
    "    logging.info(\"CSV fayl o'qilmoqda:...\")\n",
    "    df = pd.read_csv(r\"C:\\Users\\Rasulbek907\\Desktop\\Project_MP\\Data\\Ovo\\RanFor_OVO_FULLDATA.csv\")\n",
    "    logging.info(f\"Fayl muvaffaqiyatli o'qildi. Satırlar soni: {len(df)} ustunlar soni: {len(df.columns)}\")\n",
    "except Exception as e:\n",
    "    logging.error(f\"CSV faylni o'qishda xatolik: {e}\")"
   ]
  },
  {
   "cell_type": "code",
   "execution_count": 17,
   "id": "b5f8d5f3",
   "metadata": {},
   "outputs": [
    {
     "data": {
      "text/html": [
       "<div>\n",
       "<style scoped>\n",
       "    .dataframe tbody tr th:only-of-type {\n",
       "        vertical-align: middle;\n",
       "    }\n",
       "\n",
       "    .dataframe tbody tr th {\n",
       "        vertical-align: top;\n",
       "    }\n",
       "\n",
       "    .dataframe thead th {\n",
       "        text-align: right;\n",
       "    }\n",
       "</style>\n",
       "<table border=\"1\" class=\"dataframe\">\n",
       "  <thead>\n",
       "    <tr style=\"text-align: right;\">\n",
       "      <th></th>\n",
       "      <th>Unnamed: 0.1</th>\n",
       "      <th>Unnamed: 0</th>\n",
       "      <th>name_length</th>\n",
       "      <th>is_organic</th>\n",
       "      <th>quantity_value</th>\n",
       "      <th>quantity_unit_encoded</th>\n",
       "      <th>category_depth</th>\n",
       "      <th>country_count</th>\n",
       "      <th>product_age_days</th>\n",
       "      <th>created_month</th>\n",
       "      <th>main_category_encoded</th>\n",
       "      <th>nova_group</th>\n",
       "      <th>y_true</th>\n",
       "      <th>y_pred_ovo</th>\n",
       "    </tr>\n",
       "  </thead>\n",
       "  <tbody>\n",
       "    <tr>\n",
       "      <th>0</th>\n",
       "      <td>0</td>\n",
       "      <td>0</td>\n",
       "      <td>-0.691811</td>\n",
       "      <td>-0.121809</td>\n",
       "      <td>-1.138126</td>\n",
       "      <td>-1.013055</td>\n",
       "      <td>-0.069824</td>\n",
       "      <td>-0.588663</td>\n",
       "      <td>0.954730</td>\n",
       "      <td>0.590746</td>\n",
       "      <td>-1.202998</td>\n",
       "      <td>5</td>\n",
       "      <td>4</td>\n",
       "      <td>4</td>\n",
       "    </tr>\n",
       "    <tr>\n",
       "      <th>1</th>\n",
       "      <td>1</td>\n",
       "      <td>1</td>\n",
       "      <td>-1.162028</td>\n",
       "      <td>-0.121809</td>\n",
       "      <td>-0.846880</td>\n",
       "      <td>-0.425509</td>\n",
       "      <td>-1.835039</td>\n",
       "      <td>-0.180838</td>\n",
       "      <td>0.674675</td>\n",
       "      <td>0.890838</td>\n",
       "      <td>1.126987</td>\n",
       "      <td>3</td>\n",
       "      <td>2</td>\n",
       "      <td>2</td>\n",
       "    </tr>\n",
       "    <tr>\n",
       "      <th>2</th>\n",
       "      <td>2</td>\n",
       "      <td>2</td>\n",
       "      <td>-0.691811</td>\n",
       "      <td>-0.121809</td>\n",
       "      <td>-1.272881</td>\n",
       "      <td>0.833518</td>\n",
       "      <td>-0.364026</td>\n",
       "      <td>-0.588663</td>\n",
       "      <td>0.077223</td>\n",
       "      <td>0.890838</td>\n",
       "      <td>-1.202998</td>\n",
       "      <td>1</td>\n",
       "      <td>0</td>\n",
       "      <td>0</td>\n",
       "    </tr>\n",
       "    <tr>\n",
       "      <th>3</th>\n",
       "      <td>3</td>\n",
       "      <td>3</td>\n",
       "      <td>-0.221594</td>\n",
       "      <td>-0.121809</td>\n",
       "      <td>-1.277228</td>\n",
       "      <td>0.833518</td>\n",
       "      <td>-0.069824</td>\n",
       "      <td>-0.588663</td>\n",
       "      <td>1.276997</td>\n",
       "      <td>0.890838</td>\n",
       "      <td>-1.202998</td>\n",
       "      <td>1</td>\n",
       "      <td>0</td>\n",
       "      <td>0</td>\n",
       "    </tr>\n",
       "    <tr>\n",
       "      <th>4</th>\n",
       "      <td>4</td>\n",
       "      <td>4</td>\n",
       "      <td>-1.162028</td>\n",
       "      <td>-0.121809</td>\n",
       "      <td>-1.138126</td>\n",
       "      <td>-1.013055</td>\n",
       "      <td>-0.364026</td>\n",
       "      <td>-0.588663</td>\n",
       "      <td>-0.105422</td>\n",
       "      <td>-0.909710</td>\n",
       "      <td>-1.116914</td>\n",
       "      <td>5</td>\n",
       "      <td>4</td>\n",
       "      <td>4</td>\n",
       "    </tr>\n",
       "  </tbody>\n",
       "</table>\n",
       "</div>"
      ],
      "text/plain": [
       "   Unnamed: 0.1  Unnamed: 0  name_length  is_organic  quantity_value  \\\n",
       "0             0           0    -0.691811   -0.121809       -1.138126   \n",
       "1             1           1    -1.162028   -0.121809       -0.846880   \n",
       "2             2           2    -0.691811   -0.121809       -1.272881   \n",
       "3             3           3    -0.221594   -0.121809       -1.277228   \n",
       "4             4           4    -1.162028   -0.121809       -1.138126   \n",
       "\n",
       "   quantity_unit_encoded  category_depth  country_count  product_age_days  \\\n",
       "0              -1.013055       -0.069824      -0.588663          0.954730   \n",
       "1              -0.425509       -1.835039      -0.180838          0.674675   \n",
       "2               0.833518       -0.364026      -0.588663          0.077223   \n",
       "3               0.833518       -0.069824      -0.588663          1.276997   \n",
       "4              -1.013055       -0.364026      -0.588663         -0.105422   \n",
       "\n",
       "   created_month  main_category_encoded  nova_group  y_true  y_pred_ovo  \n",
       "0       0.590746              -1.202998           5       4           4  \n",
       "1       0.890838               1.126987           3       2           2  \n",
       "2       0.890838              -1.202998           1       0           0  \n",
       "3       0.890838              -1.202998           1       0           0  \n",
       "4      -0.909710              -1.116914           5       4           4  "
      ]
     },
     "execution_count": 17,
     "metadata": {},
     "output_type": "execute_result"
    }
   ],
   "source": [
    "df.head()"
   ]
  },
  {
   "cell_type": "code",
   "execution_count": 19,
   "id": "6b383c64",
   "metadata": {},
   "outputs": [
    {
     "name": "stdout",
     "output_type": "stream",
     "text": [
      "<class 'pandas.core.frame.DataFrame'>\n",
      "RangeIndex: 13120 entries, 0 to 13119\n",
      "Data columns (total 14 columns):\n",
      " #   Column                 Non-Null Count  Dtype  \n",
      "---  ------                 --------------  -----  \n",
      " 0   Unnamed: 0.1           13120 non-null  int64  \n",
      " 1   Unnamed: 0             13120 non-null  int64  \n",
      " 2   name_length            13120 non-null  float64\n",
      " 3   is_organic             13120 non-null  float64\n",
      " 4   quantity_value         13120 non-null  float64\n",
      " 5   quantity_unit_encoded  13120 non-null  float64\n",
      " 6   category_depth         13120 non-null  float64\n",
      " 7   country_count          13120 non-null  float64\n",
      " 8   product_age_days       13120 non-null  float64\n",
      " 9   created_month          13120 non-null  float64\n",
      " 10  main_category_encoded  13120 non-null  float64\n",
      " 11  nova_group             13120 non-null  int64  \n",
      " 12  y_true                 13120 non-null  int64  \n",
      " 13  y_pred_ovo             13120 non-null  int64  \n",
      "dtypes: float64(9), int64(5)\n",
      "memory usage: 1.4 MB\n"
     ]
    }
   ],
   "source": [
    "df.info()"
   ]
  },
  {
   "cell_type": "markdown",
   "id": "cde6ad29",
   "metadata": {},
   "source": [
    "# RandomForestClassifier +  TRAINING + OVO "
   ]
  },
  {
   "cell_type": "code",
   "execution_count": 21,
   "id": "8a7d93c9",
   "metadata": {},
   "outputs": [
    {
     "name": "stdout",
     "output_type": "stream",
     "text": [
      "📊 Random Forest Accuracy : 1.0\n",
      "📉 Validation confusion_matrix:  [[530   0   0   0   0]\n",
      " [  0 552   0   0   0]\n",
      " [  0   0 521   0   0]\n",
      " [  0   0   0 524   0]\n",
      " [  0   0   0   0 497]]\n"
     ]
    }
   ],
   "source": [
    "from sklearn.model_selection import train_test_split\n",
    "from sklearn.ensemble import RandomForestClassifier\n",
    "from sklearn.metrics import accuracy_score, confusion_matrix\n",
    "\n",
    "# X va y ajratamiz\n",
    "X = df.drop('nova_group', axis=1)\n",
    "y = df['nova_group']\n",
    "\n",
    "# Train / Validation / Test (60/20/20)\n",
    "X_temp, X_test, y_temp, y_test = train_test_split(X, y, test_size=0.2, random_state=42)\n",
    "X_train, X_val, y_train, y_val = train_test_split(X_temp, y_temp, test_size=0.25, random_state=42)  \n",
    "\n",
    "# Model\n",
    "rf = RandomForestClassifier(n_estimators=100, random_state=42)\n",
    "rf.fit(X_train, y_train)\n",
    "\n",
    "# Baholash\n",
    "y_pred = rf.predict(X_val)\n",
    "print(\"📊 Random Forest Accuracy :\", accuracy_score(y_val, y_pred))\n",
    "print(\"📉 Validation confusion_matrix: \", confusion_matrix(y_val, y_pred))"
   ]
  },
  {
   "cell_type": "markdown",
   "id": "22af849f",
   "metadata": {},
   "source": [
    "# Save RandomForestRegressor Model "
   ]
  },
  {
   "cell_type": "code",
   "execution_count": 38,
   "id": "4f89e027",
   "metadata": {},
   "outputs": [
    {
     "name": "stdout",
     "output_type": "stream",
     "text": [
      "✅ Model muvaffaqiyatli saqlandi.\n"
     ]
    }
   ],
   "source": [
    "import joblib\n",
    "joblib.dump(rf, r\"C:\\Users\\Rasulbek907\\Desktop\\Project_MP\\Models\\Simple_Models\\RandomForestClassifier.joblib\")\n",
    "print(\"✅ Model muvaffaqiyatli saqlandi.\")"
   ]
  },
  {
   "cell_type": "markdown",
   "id": "d583de81",
   "metadata": {},
   "source": [
    "# DecisionTreeClassifier +  TRAINING + OVO "
   ]
  },
  {
   "cell_type": "code",
   "execution_count": 22,
   "id": "6a97701a",
   "metadata": {},
   "outputs": [
    {
     "name": "stdout",
     "output_type": "stream",
     "text": [
      "📊 Decision Tree Accuracy : 1.0\n",
      "📉 Validation Confusion Matrix:\n",
      " [[530   0   0   0   0]\n",
      " [  0 552   0   0   0]\n",
      " [  0   0 521   0   0]\n",
      " [  0   0   0 524   0]\n",
      " [  0   0   0   0 497]]\n"
     ]
    }
   ],
   "source": [
    "from sklearn.model_selection import train_test_split\n",
    "from sklearn.tree import DecisionTreeClassifier\n",
    "from sklearn.metrics import accuracy_score, confusion_matrix\n",
    "\n",
    "# X va y ajratamiz\n",
    "X = df.drop('nova_group', axis=1)\n",
    "y = df['nova_group']\n",
    "\n",
    "# Train / Validation / Test (60/20/20)\n",
    "X_temp, X_test, y_temp, y_test = train_test_split(X, y, test_size=0.2, random_state=42)\n",
    "X_train, X_val, y_train, y_val = train_test_split(X_temp, y_temp, test_size=0.25, random_state=42)  # 0.25 × 0.8 = 0.2\n",
    "\n",
    "# 🌲 Decision Tree modeli\n",
    "dt = DecisionTreeClassifier(random_state=42)\n",
    "dt.fit(X_train, y_train)\n",
    "\n",
    "# 🔍 Baholash\n",
    "y_pred = dt.predict(X_val)\n",
    "\n",
    "# 📊 Natijalar\n",
    "print(\"📊 Decision Tree Accuracy :\", accuracy_score(y_val, y_pred))\n",
    "print(\"📉 Validation Confusion Matrix:\\n\", confusion_matrix(y_val, y_pred))\n"
   ]
  },
  {
   "cell_type": "markdown",
   "id": "6045b3b1",
   "metadata": {},
   "source": [
    "# LogisticRegression +  TRAINING + OVO "
   ]
  },
  {
   "cell_type": "code",
   "execution_count": null,
   "id": "1e31ba4f",
   "metadata": {},
   "outputs": [
    {
     "name": "stderr",
     "output_type": "stream",
     "text": [
      "c:\\Users\\Rasulbek907\\Desktop\\Project_MP\\venv\\Lib\\site-packages\\sklearn\\linear_model\\_logistic.py:1272: FutureWarning: 'multi_class' was deprecated in version 1.5 and will be removed in 1.8. From then on, it will always use 'multinomial'. Leave it to its default value to avoid this warning.\n",
      "  warnings.warn(\n"
     ]
    },
    {
     "name": "stdout",
     "output_type": "stream",
     "text": [
      "📊 Logistic Regression Accuracy : 0.9523628048780488\n",
      "📉 Validation Confusion Matrix:\n",
      " [[508  22   0   0   0]\n",
      " [  0 538  14   0   0]\n",
      " [  0  10 455  56   0]\n",
      " [  0   0  11 503  10]\n",
      " [  0   0   0   2 495]]\n"
     ]
    },
    {
     "name": "stderr",
     "output_type": "stream",
     "text": [
      "c:\\Users\\Rasulbek907\\Desktop\\Project_MP\\venv\\Lib\\site-packages\\sklearn\\linear_model\\_logistic.py:473: ConvergenceWarning: lbfgs failed to converge after 1000 iteration(s) (status=1):\n",
      "STOP: TOTAL NO. OF ITERATIONS REACHED LIMIT\n",
      "\n",
      "Increase the number of iterations to improve the convergence (max_iter=1000).\n",
      "You might also want to scale the data as shown in:\n",
      "    https://scikit-learn.org/stable/modules/preprocessing.html\n",
      "Please also refer to the documentation for alternative solver options:\n",
      "    https://scikit-learn.org/stable/modules/linear_model.html#logistic-regression\n",
      "  n_iter_i = _check_optimize_result(\n"
     ]
    }
   ],
   "source": [
    "from sklearn.model_selection import train_test_split\n",
    "from sklearn.linear_model import LogisticRegression\n",
    "from sklearn.metrics import accuracy_score, confusion_matrix\n",
    "\n",
    "# X va y ajratamiz\n",
    "X = df.drop('nova_group', axis=1)\n",
    "y = df['nova_group']\n",
    "\n",
    "# Train / Validation / Test (60/20/20)\n",
    "X_temp, X_test, y_temp, y_test = train_test_split(X, y, test_size=0.2, random_state=42)\n",
    "X_train, X_val, y_train, y_val = train_test_split(X_temp, y_temp, test_size=0.25, random_state=42)\n",
    "\n",
    "# 🔹 Logistic Regression model\n",
    "log_reg = LogisticRegression(max_iter=1000, multi_class='multinomial', solver='lbfgs', random_state=42)\n",
    "log_reg.fit(X_train, y_train)\n",
    "\n",
    "# 🔍 Baholash\n",
    "y_pred = log_reg.predict(X_val)\n",
    "\n",
    "# 📊 Natijalar\n",
    "print(\"📊 Logistic Regression Accuracy :\", accuracy_score(y_val, y_pred))\n",
    "print(\"📉 Validation Confusion Matrix:\\n\", confusion_matrix(y_val, y_pred))\n"
   ]
  },
  {
   "cell_type": "markdown",
   "id": "bc985d16",
   "metadata": {},
   "source": [
    "# XGBClassifier  +  TRAINING + OVO "
   ]
  },
  {
   "cell_type": "code",
   "execution_count": 25,
   "id": "1eca9592",
   "metadata": {},
   "outputs": [
    {
     "name": "stdout",
     "output_type": "stream",
     "text": [
      "📊 XGBoost Accuracy: 1.0\n",
      "📉 Validation Confusion Matrix:\n",
      " [[530   0   0   0   0]\n",
      " [  0 552   0   0   0]\n",
      " [  0   0 521   0   0]\n",
      " [  0   0   0 524   0]\n",
      " [  0   0   0   0 497]]\n"
     ]
    }
   ],
   "source": [
    "from sklearn.model_selection import train_test_split\n",
    "from sklearn.metrics import accuracy_score, confusion_matrix\n",
    "from xgboost import XGBClassifier\n",
    "import pandas as pd\n",
    "\n",
    "# X va y ajratamiz\n",
    "X = df.drop('nova_group', axis=1)\n",
    "y = df['nova_group']\n",
    "\n",
    "# 🧩 Sinflarni 0 dan boshlaydigan qilib o‘zgartiramiz\n",
    "y = y.astype(int) - 1   # [1,2,3,4,5] -> [0,1,2,3,4]\n",
    "\n",
    "# Train / Validation / Test (60/20/20)\n",
    "X_temp, X_test, y_temp, y_test = train_test_split(X, y, test_size=0.2, random_state=42)\n",
    "X_train, X_val, y_train, y_val = train_test_split(X_temp, y_temp, test_size=0.25, random_state=42)\n",
    "\n",
    "# 🔹 XGBoost Classifier\n",
    "xgb_model = XGBClassifier(\n",
    "    n_estimators=300,\n",
    "    learning_rate=0.05,\n",
    "    max_depth=6,\n",
    "    subsample=0.8,\n",
    "    colsample_bytree=0.8,\n",
    "    random_state=42,\n",
    "    objective='multi:softmax',\n",
    "    num_class=len(y.unique())\n",
    ")\n",
    "\n",
    "# Modelni o‘qitamiz\n",
    "xgb_model.fit(X_train, y_train)\n",
    "\n",
    "# Bashorat\n",
    "y_pred = xgb_model.predict(X_val)\n",
    "\n",
    "# 📊 Natijalar\n",
    "print(\"📊 XGBoost Accuracy:\", accuracy_score(y_val, y_pred))\n",
    "print(\"📉 Validation Confusion Matrix:\\n\", confusion_matrix(y_val, y_pred))\n"
   ]
  },
  {
   "cell_type": "markdown",
   "id": "00017d25",
   "metadata": {},
   "source": [
    "# Jami: Natijalarni Taqqoslash "
   ]
  },
  {
   "cell_type": "code",
   "execution_count": 27,
   "id": "02ee29a2",
   "metadata": {},
   "outputs": [
    {
     "name": "stderr",
     "output_type": "stream",
     "text": [
      "c:\\Users\\Rasulbek907\\Desktop\\Project_MP\\venv\\Lib\\site-packages\\sklearn\\linear_model\\_logistic.py:473: ConvergenceWarning:\n",
      "\n",
      "lbfgs failed to converge after 1000 iteration(s) (status=1):\n",
      "STOP: TOTAL NO. OF ITERATIONS REACHED LIMIT\n",
      "\n",
      "Increase the number of iterations to improve the convergence (max_iter=1000).\n",
      "You might also want to scale the data as shown in:\n",
      "    https://scikit-learn.org/stable/modules/preprocessing.html\n",
      "Please also refer to the documentation for alternative solver options:\n",
      "    https://scikit-learn.org/stable/modules/linear_model.html#logistic-regression\n",
      "\n"
     ]
    },
    {
     "data": {
      "application/vnd.plotly.v1+json": {
       "config": {
        "plotlyServerURL": "https://plot.ly"
       },
       "data": [
        {
         "cells": {
          "align": "left",
          "fill": {
           "color": [
            [
             "crimson",
             "lightgreen",
             "lightgray",
             "lightgray"
            ],
            [
             "crimson",
             "lightgreen",
             "lightgray",
             "lightgray"
            ],
            [
             "crimson",
             "lightgreen",
             "lightgray",
             "lightgray"
            ]
           ]
          },
          "values": [
           [
            "Logistic Regression",
            "Random Forest",
            "Decision Tree",
            "XGBoost"
           ],
           [
            0.9523628048780488,
            1,
            1,
            1
           ],
           [
            0.9522359434978614,
            1,
            1,
            1
           ]
          ]
         },
         "header": {
          "align": "left",
          "fill": {
           "color": "paleturquoise"
          },
          "values": [
           "Model",
           "Accuracy",
           "F1 Score"
          ]
         },
         "type": "table"
        }
       ],
       "layout": {
        "template": {
         "data": {
          "bar": [
           {
            "error_x": {
             "color": "#2a3f5f"
            },
            "error_y": {
             "color": "#2a3f5f"
            },
            "marker": {
             "line": {
              "color": "#E5ECF6",
              "width": 0.5
             },
             "pattern": {
              "fillmode": "overlay",
              "size": 10,
              "solidity": 0.2
             }
            },
            "type": "bar"
           }
          ],
          "barpolar": [
           {
            "marker": {
             "line": {
              "color": "#E5ECF6",
              "width": 0.5
             },
             "pattern": {
              "fillmode": "overlay",
              "size": 10,
              "solidity": 0.2
             }
            },
            "type": "barpolar"
           }
          ],
          "carpet": [
           {
            "aaxis": {
             "endlinecolor": "#2a3f5f",
             "gridcolor": "white",
             "linecolor": "white",
             "minorgridcolor": "white",
             "startlinecolor": "#2a3f5f"
            },
            "baxis": {
             "endlinecolor": "#2a3f5f",
             "gridcolor": "white",
             "linecolor": "white",
             "minorgridcolor": "white",
             "startlinecolor": "#2a3f5f"
            },
            "type": "carpet"
           }
          ],
          "choropleth": [
           {
            "colorbar": {
             "outlinewidth": 0,
             "ticks": ""
            },
            "type": "choropleth"
           }
          ],
          "contour": [
           {
            "colorbar": {
             "outlinewidth": 0,
             "ticks": ""
            },
            "colorscale": [
             [
              0,
              "#0d0887"
             ],
             [
              0.1111111111111111,
              "#46039f"
             ],
             [
              0.2222222222222222,
              "#7201a8"
             ],
             [
              0.3333333333333333,
              "#9c179e"
             ],
             [
              0.4444444444444444,
              "#bd3786"
             ],
             [
              0.5555555555555556,
              "#d8576b"
             ],
             [
              0.6666666666666666,
              "#ed7953"
             ],
             [
              0.7777777777777778,
              "#fb9f3a"
             ],
             [
              0.8888888888888888,
              "#fdca26"
             ],
             [
              1,
              "#f0f921"
             ]
            ],
            "type": "contour"
           }
          ],
          "contourcarpet": [
           {
            "colorbar": {
             "outlinewidth": 0,
             "ticks": ""
            },
            "type": "contourcarpet"
           }
          ],
          "heatmap": [
           {
            "colorbar": {
             "outlinewidth": 0,
             "ticks": ""
            },
            "colorscale": [
             [
              0,
              "#0d0887"
             ],
             [
              0.1111111111111111,
              "#46039f"
             ],
             [
              0.2222222222222222,
              "#7201a8"
             ],
             [
              0.3333333333333333,
              "#9c179e"
             ],
             [
              0.4444444444444444,
              "#bd3786"
             ],
             [
              0.5555555555555556,
              "#d8576b"
             ],
             [
              0.6666666666666666,
              "#ed7953"
             ],
             [
              0.7777777777777778,
              "#fb9f3a"
             ],
             [
              0.8888888888888888,
              "#fdca26"
             ],
             [
              1,
              "#f0f921"
             ]
            ],
            "type": "heatmap"
           }
          ],
          "histogram": [
           {
            "marker": {
             "pattern": {
              "fillmode": "overlay",
              "size": 10,
              "solidity": 0.2
             }
            },
            "type": "histogram"
           }
          ],
          "histogram2d": [
           {
            "colorbar": {
             "outlinewidth": 0,
             "ticks": ""
            },
            "colorscale": [
             [
              0,
              "#0d0887"
             ],
             [
              0.1111111111111111,
              "#46039f"
             ],
             [
              0.2222222222222222,
              "#7201a8"
             ],
             [
              0.3333333333333333,
              "#9c179e"
             ],
             [
              0.4444444444444444,
              "#bd3786"
             ],
             [
              0.5555555555555556,
              "#d8576b"
             ],
             [
              0.6666666666666666,
              "#ed7953"
             ],
             [
              0.7777777777777778,
              "#fb9f3a"
             ],
             [
              0.8888888888888888,
              "#fdca26"
             ],
             [
              1,
              "#f0f921"
             ]
            ],
            "type": "histogram2d"
           }
          ],
          "histogram2dcontour": [
           {
            "colorbar": {
             "outlinewidth": 0,
             "ticks": ""
            },
            "colorscale": [
             [
              0,
              "#0d0887"
             ],
             [
              0.1111111111111111,
              "#46039f"
             ],
             [
              0.2222222222222222,
              "#7201a8"
             ],
             [
              0.3333333333333333,
              "#9c179e"
             ],
             [
              0.4444444444444444,
              "#bd3786"
             ],
             [
              0.5555555555555556,
              "#d8576b"
             ],
             [
              0.6666666666666666,
              "#ed7953"
             ],
             [
              0.7777777777777778,
              "#fb9f3a"
             ],
             [
              0.8888888888888888,
              "#fdca26"
             ],
             [
              1,
              "#f0f921"
             ]
            ],
            "type": "histogram2dcontour"
           }
          ],
          "mesh3d": [
           {
            "colorbar": {
             "outlinewidth": 0,
             "ticks": ""
            },
            "type": "mesh3d"
           }
          ],
          "parcoords": [
           {
            "line": {
             "colorbar": {
              "outlinewidth": 0,
              "ticks": ""
             }
            },
            "type": "parcoords"
           }
          ],
          "pie": [
           {
            "automargin": true,
            "type": "pie"
           }
          ],
          "scatter": [
           {
            "fillpattern": {
             "fillmode": "overlay",
             "size": 10,
             "solidity": 0.2
            },
            "type": "scatter"
           }
          ],
          "scatter3d": [
           {
            "line": {
             "colorbar": {
              "outlinewidth": 0,
              "ticks": ""
             }
            },
            "marker": {
             "colorbar": {
              "outlinewidth": 0,
              "ticks": ""
             }
            },
            "type": "scatter3d"
           }
          ],
          "scattercarpet": [
           {
            "marker": {
             "colorbar": {
              "outlinewidth": 0,
              "ticks": ""
             }
            },
            "type": "scattercarpet"
           }
          ],
          "scattergeo": [
           {
            "marker": {
             "colorbar": {
              "outlinewidth": 0,
              "ticks": ""
             }
            },
            "type": "scattergeo"
           }
          ],
          "scattergl": [
           {
            "marker": {
             "colorbar": {
              "outlinewidth": 0,
              "ticks": ""
             }
            },
            "type": "scattergl"
           }
          ],
          "scattermap": [
           {
            "marker": {
             "colorbar": {
              "outlinewidth": 0,
              "ticks": ""
             }
            },
            "type": "scattermap"
           }
          ],
          "scattermapbox": [
           {
            "marker": {
             "colorbar": {
              "outlinewidth": 0,
              "ticks": ""
             }
            },
            "type": "scattermapbox"
           }
          ],
          "scatterpolar": [
           {
            "marker": {
             "colorbar": {
              "outlinewidth": 0,
              "ticks": ""
             }
            },
            "type": "scatterpolar"
           }
          ],
          "scatterpolargl": [
           {
            "marker": {
             "colorbar": {
              "outlinewidth": 0,
              "ticks": ""
             }
            },
            "type": "scatterpolargl"
           }
          ],
          "scatterternary": [
           {
            "marker": {
             "colorbar": {
              "outlinewidth": 0,
              "ticks": ""
             }
            },
            "type": "scatterternary"
           }
          ],
          "surface": [
           {
            "colorbar": {
             "outlinewidth": 0,
             "ticks": ""
            },
            "colorscale": [
             [
              0,
              "#0d0887"
             ],
             [
              0.1111111111111111,
              "#46039f"
             ],
             [
              0.2222222222222222,
              "#7201a8"
             ],
             [
              0.3333333333333333,
              "#9c179e"
             ],
             [
              0.4444444444444444,
              "#bd3786"
             ],
             [
              0.5555555555555556,
              "#d8576b"
             ],
             [
              0.6666666666666666,
              "#ed7953"
             ],
             [
              0.7777777777777778,
              "#fb9f3a"
             ],
             [
              0.8888888888888888,
              "#fdca26"
             ],
             [
              1,
              "#f0f921"
             ]
            ],
            "type": "surface"
           }
          ],
          "table": [
           {
            "cells": {
             "fill": {
              "color": "#EBF0F8"
             },
             "line": {
              "color": "white"
             }
            },
            "header": {
             "fill": {
              "color": "#C8D4E3"
             },
             "line": {
              "color": "white"
             }
            },
            "type": "table"
           }
          ]
         },
         "layout": {
          "annotationdefaults": {
           "arrowcolor": "#2a3f5f",
           "arrowhead": 0,
           "arrowwidth": 1
          },
          "autotypenumbers": "strict",
          "coloraxis": {
           "colorbar": {
            "outlinewidth": 0,
            "ticks": ""
           }
          },
          "colorscale": {
           "diverging": [
            [
             0,
             "#8e0152"
            ],
            [
             0.1,
             "#c51b7d"
            ],
            [
             0.2,
             "#de77ae"
            ],
            [
             0.3,
             "#f1b6da"
            ],
            [
             0.4,
             "#fde0ef"
            ],
            [
             0.5,
             "#f7f7f7"
            ],
            [
             0.6,
             "#e6f5d0"
            ],
            [
             0.7,
             "#b8e186"
            ],
            [
             0.8,
             "#7fbc41"
            ],
            [
             0.9,
             "#4d9221"
            ],
            [
             1,
             "#276419"
            ]
           ],
           "sequential": [
            [
             0,
             "#0d0887"
            ],
            [
             0.1111111111111111,
             "#46039f"
            ],
            [
             0.2222222222222222,
             "#7201a8"
            ],
            [
             0.3333333333333333,
             "#9c179e"
            ],
            [
             0.4444444444444444,
             "#bd3786"
            ],
            [
             0.5555555555555556,
             "#d8576b"
            ],
            [
             0.6666666666666666,
             "#ed7953"
            ],
            [
             0.7777777777777778,
             "#fb9f3a"
            ],
            [
             0.8888888888888888,
             "#fdca26"
            ],
            [
             1,
             "#f0f921"
            ]
           ],
           "sequentialminus": [
            [
             0,
             "#0d0887"
            ],
            [
             0.1111111111111111,
             "#46039f"
            ],
            [
             0.2222222222222222,
             "#7201a8"
            ],
            [
             0.3333333333333333,
             "#9c179e"
            ],
            [
             0.4444444444444444,
             "#bd3786"
            ],
            [
             0.5555555555555556,
             "#d8576b"
            ],
            [
             0.6666666666666666,
             "#ed7953"
            ],
            [
             0.7777777777777778,
             "#fb9f3a"
            ],
            [
             0.8888888888888888,
             "#fdca26"
            ],
            [
             1,
             "#f0f921"
            ]
           ]
          },
          "colorway": [
           "#636efa",
           "#EF553B",
           "#00cc96",
           "#ab63fa",
           "#FFA15A",
           "#19d3f3",
           "#FF6692",
           "#B6E880",
           "#FF97FF",
           "#FECB52"
          ],
          "font": {
           "color": "#2a3f5f"
          },
          "geo": {
           "bgcolor": "white",
           "lakecolor": "white",
           "landcolor": "#E5ECF6",
           "showlakes": true,
           "showland": true,
           "subunitcolor": "white"
          },
          "hoverlabel": {
           "align": "left"
          },
          "hovermode": "closest",
          "mapbox": {
           "style": "light"
          },
          "paper_bgcolor": "white",
          "plot_bgcolor": "#E5ECF6",
          "polar": {
           "angularaxis": {
            "gridcolor": "white",
            "linecolor": "white",
            "ticks": ""
           },
           "bgcolor": "#E5ECF6",
           "radialaxis": {
            "gridcolor": "white",
            "linecolor": "white",
            "ticks": ""
           }
          },
          "scene": {
           "xaxis": {
            "backgroundcolor": "#E5ECF6",
            "gridcolor": "white",
            "gridwidth": 2,
            "linecolor": "white",
            "showbackground": true,
            "ticks": "",
            "zerolinecolor": "white"
           },
           "yaxis": {
            "backgroundcolor": "#E5ECF6",
            "gridcolor": "white",
            "gridwidth": 2,
            "linecolor": "white",
            "showbackground": true,
            "ticks": "",
            "zerolinecolor": "white"
           },
           "zaxis": {
            "backgroundcolor": "#E5ECF6",
            "gridcolor": "white",
            "gridwidth": 2,
            "linecolor": "white",
            "showbackground": true,
            "ticks": "",
            "zerolinecolor": "white"
           }
          },
          "shapedefaults": {
           "line": {
            "color": "#2a3f5f"
           }
          },
          "ternary": {
           "aaxis": {
            "gridcolor": "white",
            "linecolor": "white",
            "ticks": ""
           },
           "baxis": {
            "gridcolor": "white",
            "linecolor": "white",
            "ticks": ""
           },
           "bgcolor": "#E5ECF6",
           "caxis": {
            "gridcolor": "white",
            "linecolor": "white",
            "ticks": ""
           }
          },
          "title": {
           "x": 0.05
          },
          "xaxis": {
           "automargin": true,
           "gridcolor": "white",
           "linecolor": "white",
           "ticks": "",
           "title": {
            "standoff": 15
           },
           "zerolinecolor": "white",
           "zerolinewidth": 2
          },
          "yaxis": {
           "automargin": true,
           "gridcolor": "white",
           "linecolor": "white",
           "ticks": "",
           "title": {
            "standoff": 15
           },
           "zerolinecolor": "white",
           "zerolinewidth": 2
          }
         }
        },
        "title": {
         "text": "Classification modellari natijalari: Accuracy va F1 Score"
        }
       }
      }
     },
     "metadata": {},
     "output_type": "display_data"
    }
   ],
   "source": [
    "import pandas as pd\n",
    "from sklearn.model_selection import train_test_split\n",
    "from sklearn.linear_model import LogisticRegression\n",
    "from sklearn.ensemble import RandomForestClassifier\n",
    "from sklearn.tree import DecisionTreeClassifier\n",
    "from xgboost import XGBClassifier\n",
    "from sklearn.metrics import accuracy_score, f1_score\n",
    "import plotly.graph_objects as go\n",
    "\n",
    "# 1. X va y\n",
    "X = df.drop('nova_group', axis=1)\n",
    "y = df['nova_group']\n",
    "\n",
    "# 🧩 XGBoost uchun sinflarni 0 dan boshlash\n",
    "y = y.astype(int) - 1\n",
    "\n",
    "# 2. Train, validation, test bo'lish\n",
    "X_temp, X_test, y_temp, y_test = train_test_split(X, y, test_size=0.2, random_state=42)\n",
    "X_train, X_val, y_train, y_val = train_test_split(X_temp, y_temp, test_size=0.25, random_state=42)\n",
    "\n",
    "# 3. Modellar\n",
    "models = {\n",
    "    'Logistic Regression': LogisticRegression(max_iter=1000, random_state=42),\n",
    "    'Random Forest': RandomForestClassifier(n_estimators=100, random_state=42),\n",
    "    'Decision Tree': DecisionTreeClassifier(random_state=42),\n",
    "    'XGBoost': XGBClassifier(\n",
    "        n_estimators=300,\n",
    "        learning_rate=0.05,\n",
    "        max_depth=6,\n",
    "        subsample=0.8,\n",
    "        colsample_bytree=0.8,\n",
    "        random_state=42,\n",
    "        objective='multi:softmax',\n",
    "        num_class=len(y.unique())\n",
    "    )\n",
    "}\n",
    "\n",
    "# 4. Natijalarni yig‘ish\n",
    "results = []\n",
    "\n",
    "for name, model in models.items():\n",
    "    model.fit(X_train, y_train)\n",
    "    preds = model.predict(X_val)\n",
    "    acc = accuracy_score(y_val, preds)\n",
    "    f1 = f1_score(y_val, preds, average='weighted')\n",
    "    results.append({'Model': name, 'Accuracy': acc, 'F1 Score': f1})\n",
    "\n",
    "# 5. Jadval shakllantirish\n",
    "results_df = pd.DataFrame(results)\n",
    "\n",
    "# 6. Eng yaxshi va eng yomon aniqlik topish\n",
    "best_model_index = results_df['Accuracy'].idxmax()\n",
    "worst_model_index = results_df['Accuracy'].idxmin()\n",
    "\n",
    "# 7. Ranglar tayyorlash\n",
    "colors = ['lightgray'] * len(results_df)\n",
    "colors[best_model_index] = 'lightgreen'  # ✅ eng yaxshi model\n",
    "colors[worst_model_index] = 'crimson'    # ❌ eng yomon model\n",
    "\n",
    "# 8. Plotly jadvali\n",
    "fig = go.Figure(data=[go.Table(\n",
    "    header=dict(values=list(results_df.columns),\n",
    "                fill_color='paleturquoise',\n",
    "                align='left'),\n",
    "    cells=dict(values=[results_df[col] for col in results_df.columns],\n",
    "               fill_color=[colors, colors, colors],\n",
    "               align='left'))\n",
    "])\n",
    "\n",
    "fig.update_layout(title='Classification modellari natijalari: Accuracy va F1 Score')\n",
    "fig.show()\n"
   ]
  },
  {
   "cell_type": "markdown",
   "id": "7a409198",
   "metadata": {},
   "source": [
    "# Cros Validation Tekshirish Natijalari "
   ]
  },
  {
   "cell_type": "code",
   "execution_count": 30,
   "id": "91869ee3",
   "metadata": {},
   "outputs": [
    {
     "name": "stdout",
     "output_type": "stream",
     "text": [
      "✅ Accuracy (5-fold): [1.         1.         1.         1.         0.87842988]\n",
      "📈 O‘rtacha Accuracy: 0.9756859756097562\n",
      "\n",
      "📊 Classification Report:\n",
      "              precision    recall  f1-score   support\n",
      "\n",
      "           0       1.00      1.00      1.00      2624\n",
      "           1       1.00      1.00      1.00      2624\n",
      "           2       0.89      1.00      0.94      2624\n",
      "           3       1.00      0.88      0.94      2624\n",
      "           4       1.00      1.00      1.00      2624\n",
      "\n",
      "    accuracy                           0.98     13120\n",
      "   macro avg       0.98      0.98      0.98     13120\n",
      "weighted avg       0.98      0.98      0.98     13120\n",
      "\n",
      "\n",
      "🔢 Confusion Matrix:\n",
      "      0     1     2     3     4\n",
      "0  2624     0     0     0     0\n",
      "1     0  2624     0     0     0\n",
      "2     0     0  2624     0     0\n",
      "3     0     0   319  2305     0\n",
      "4     0     0     0     0  2624\n"
     ]
    }
   ],
   "source": [
    "from sklearn.model_selection import cross_val_score, cross_val_predict\n",
    "from sklearn.metrics import accuracy_score, precision_score, recall_score, f1_score, confusion_matrix, classification_report\n",
    "from sklearn.ensemble import RandomForestClassifier\n",
    "import numpy as np\n",
    "import pandas as pd\n",
    "\n",
    "# 🌲 Model\n",
    "rf_clf = RandomForestClassifier(n_estimators=100, random_state=42)\n",
    "\n",
    "# 📊 Accuracy bo‘yicha 5-fold cross-validation\n",
    "cv_scores = cross_val_score(rf_clf, X, y, cv=5, scoring='accuracy')\n",
    "print(\"✅ Accuracy (5-fold):\", cv_scores)\n",
    "print(\"📈 O‘rtacha Accuracy:\", np.mean(cv_scores))\n",
    "\n",
    "# 🔍 Cross-validation prediksiyalar\n",
    "y_pred_cv = cross_val_predict(rf_clf, X, y, cv=5)\n",
    "\n",
    "# 📊 Classification report\n",
    "print(\"\\n📊 Classification Report:\")\n",
    "print(classification_report(y, y_pred_cv))\n",
    "\n",
    "# 🧩 Confusion matrix (to‘g‘ri versiya)\n",
    "unique_classes = np.unique(y)\n",
    "conf_mat = confusion_matrix(y, y_pred_cv, labels=unique_classes)\n",
    "conf_df = pd.DataFrame(conf_mat, index=unique_classes, columns=unique_classes)\n",
    "\n",
    "print(\"\\n🔢 Confusion Matrix:\")\n",
    "print(conf_df)\n"
   ]
  },
  {
   "cell_type": "markdown",
   "id": "9a0ee569",
   "metadata": {},
   "source": [
    "# Shap Value Bo`yicha Taxliliy Xulosalar "
   ]
  },
  {
   "cell_type": "code",
   "execution_count": null,
   "id": "5d1de0fb",
   "metadata": {},
   "outputs": [
    {
     "ename": "ValueError",
     "evalue": "Per-column arrays must each be 1-dimensional",
     "output_type": "error",
     "traceback": [
      "\u001b[31m---------------------------------------------------------------------------\u001b[39m",
      "\u001b[31mValueError\u001b[39m                                Traceback (most recent call last)",
      "\u001b[36mCell\u001b[39m\u001b[36m \u001b[39m\u001b[32mIn[48]\u001b[39m\u001b[32m, line 23\u001b[39m\n\u001b[32m     20\u001b[39m     shap_values_mean = np.abs(shap_values)\n\u001b[32m     22\u001b[39m \u001b[38;5;66;03m# === Eng muhim 15 ta belgi ===\u001b[39;00m\n\u001b[32m---> \u001b[39m\u001b[32m23\u001b[39m mean_importance = \u001b[43mpd\u001b[49m\u001b[43m.\u001b[49m\u001b[43mDataFrame\u001b[49m\u001b[43m(\u001b[49m\u001b[43m{\u001b[49m\n\u001b[32m     24\u001b[39m \u001b[43m    \u001b[49m\u001b[33;43m'\u001b[39;49m\u001b[33;43mFeature\u001b[39;49m\u001b[33;43m'\u001b[39;49m\u001b[43m:\u001b[49m\u001b[43m \u001b[49m\u001b[43mX\u001b[49m\u001b[43m.\u001b[49m\u001b[43mcolumns\u001b[49m\u001b[43m,\u001b[49m\n\u001b[32m     25\u001b[39m \u001b[43m    \u001b[49m\u001b[33;43m'\u001b[39;49m\u001b[33;43mMean_SHAP_Value\u001b[39;49m\u001b[33;43m'\u001b[39;49m\u001b[43m:\u001b[49m\u001b[43m \u001b[49m\u001b[43mnp\u001b[49m\u001b[43m.\u001b[49m\u001b[43mmean\u001b[49m\u001b[43m(\u001b[49m\u001b[43mshap_values_mean\u001b[49m\u001b[43m,\u001b[49m\u001b[43m \u001b[49m\u001b[43maxis\u001b[49m\u001b[43m=\u001b[49m\u001b[32;43m0\u001b[39;49m\u001b[43m)\u001b[49m\n\u001b[32m     26\u001b[39m \u001b[43m}\u001b[49m\u001b[43m)\u001b[49m.sort_values(by=\u001b[33m'\u001b[39m\u001b[33mMean_SHAP_Value\u001b[39m\u001b[33m'\u001b[39m, ascending=\u001b[38;5;28;01mTrue\u001b[39;00m)\n\u001b[32m     28\u001b[39m \u001b[38;5;66;03m# === Grafikli ko‘rinish (chiroyli bar chart) ===\u001b[39;00m\n\u001b[32m     29\u001b[39m plt.figure(figsize=(\u001b[32m8\u001b[39m, \u001b[32m6\u001b[39m))\n",
      "\u001b[36mFile \u001b[39m\u001b[32mc:\\Users\\Rasulbek907\\Desktop\\Project_MP\\venv\\Lib\\site-packages\\pandas\\core\\frame.py:782\u001b[39m, in \u001b[36mDataFrame.__init__\u001b[39m\u001b[34m(self, data, index, columns, dtype, copy)\u001b[39m\n\u001b[32m    776\u001b[39m     mgr = \u001b[38;5;28mself\u001b[39m._init_mgr(\n\u001b[32m    777\u001b[39m         data, axes={\u001b[33m\"\u001b[39m\u001b[33mindex\u001b[39m\u001b[33m\"\u001b[39m: index, \u001b[33m\"\u001b[39m\u001b[33mcolumns\u001b[39m\u001b[33m\"\u001b[39m: columns}, dtype=dtype, copy=copy\n\u001b[32m    778\u001b[39m     )\n\u001b[32m    780\u001b[39m \u001b[38;5;28;01melif\u001b[39;00m \u001b[38;5;28misinstance\u001b[39m(data, \u001b[38;5;28mdict\u001b[39m):\n\u001b[32m    781\u001b[39m     \u001b[38;5;66;03m# GH#38939 de facto copy defaults to False only in non-dict cases\u001b[39;00m\n\u001b[32m--> \u001b[39m\u001b[32m782\u001b[39m     mgr = \u001b[43mdict_to_mgr\u001b[49m\u001b[43m(\u001b[49m\u001b[43mdata\u001b[49m\u001b[43m,\u001b[49m\u001b[43m \u001b[49m\u001b[43mindex\u001b[49m\u001b[43m,\u001b[49m\u001b[43m \u001b[49m\u001b[43mcolumns\u001b[49m\u001b[43m,\u001b[49m\u001b[43m \u001b[49m\u001b[43mdtype\u001b[49m\u001b[43m=\u001b[49m\u001b[43mdtype\u001b[49m\u001b[43m,\u001b[49m\u001b[43m \u001b[49m\u001b[43mcopy\u001b[49m\u001b[43m=\u001b[49m\u001b[43mcopy\u001b[49m\u001b[43m,\u001b[49m\u001b[43m \u001b[49m\u001b[43mtyp\u001b[49m\u001b[43m=\u001b[49m\u001b[43mmanager\u001b[49m\u001b[43m)\u001b[49m\n\u001b[32m    783\u001b[39m \u001b[38;5;28;01melif\u001b[39;00m \u001b[38;5;28misinstance\u001b[39m(data, ma.MaskedArray):\n\u001b[32m    784\u001b[39m     \u001b[38;5;28;01mfrom\u001b[39;00m\u001b[38;5;250m \u001b[39m\u001b[34;01mnumpy\u001b[39;00m\u001b[34;01m.\u001b[39;00m\u001b[34;01mma\u001b[39;00m\u001b[38;5;250m \u001b[39m\u001b[38;5;28;01mimport\u001b[39;00m mrecords\n",
      "\u001b[36mFile \u001b[39m\u001b[32mc:\\Users\\Rasulbek907\\Desktop\\Project_MP\\venv\\Lib\\site-packages\\pandas\\core\\internals\\construction.py:503\u001b[39m, in \u001b[36mdict_to_mgr\u001b[39m\u001b[34m(data, index, columns, dtype, typ, copy)\u001b[39m\n\u001b[32m    499\u001b[39m     \u001b[38;5;28;01melse\u001b[39;00m:\n\u001b[32m    500\u001b[39m         \u001b[38;5;66;03m# dtype check to exclude e.g. range objects, scalars\u001b[39;00m\n\u001b[32m    501\u001b[39m         arrays = [x.copy() \u001b[38;5;28;01mif\u001b[39;00m \u001b[38;5;28mhasattr\u001b[39m(x, \u001b[33m\"\u001b[39m\u001b[33mdtype\u001b[39m\u001b[33m\"\u001b[39m) \u001b[38;5;28;01melse\u001b[39;00m x \u001b[38;5;28;01mfor\u001b[39;00m x \u001b[38;5;129;01min\u001b[39;00m arrays]\n\u001b[32m--> \u001b[39m\u001b[32m503\u001b[39m \u001b[38;5;28;01mreturn\u001b[39;00m \u001b[43marrays_to_mgr\u001b[49m\u001b[43m(\u001b[49m\u001b[43marrays\u001b[49m\u001b[43m,\u001b[49m\u001b[43m \u001b[49m\u001b[43mcolumns\u001b[49m\u001b[43m,\u001b[49m\u001b[43m \u001b[49m\u001b[43mindex\u001b[49m\u001b[43m,\u001b[49m\u001b[43m \u001b[49m\u001b[43mdtype\u001b[49m\u001b[43m=\u001b[49m\u001b[43mdtype\u001b[49m\u001b[43m,\u001b[49m\u001b[43m \u001b[49m\u001b[43mtyp\u001b[49m\u001b[43m=\u001b[49m\u001b[43mtyp\u001b[49m\u001b[43m,\u001b[49m\u001b[43m \u001b[49m\u001b[43mconsolidate\u001b[49m\u001b[43m=\u001b[49m\u001b[43mcopy\u001b[49m\u001b[43m)\u001b[49m\n",
      "\u001b[36mFile \u001b[39m\u001b[32mc:\\Users\\Rasulbek907\\Desktop\\Project_MP\\venv\\Lib\\site-packages\\pandas\\core\\internals\\construction.py:114\u001b[39m, in \u001b[36marrays_to_mgr\u001b[39m\u001b[34m(arrays, columns, index, dtype, verify_integrity, typ, consolidate)\u001b[39m\n\u001b[32m    111\u001b[39m \u001b[38;5;28;01mif\u001b[39;00m verify_integrity:\n\u001b[32m    112\u001b[39m     \u001b[38;5;66;03m# figure out the index, if necessary\u001b[39;00m\n\u001b[32m    113\u001b[39m     \u001b[38;5;28;01mif\u001b[39;00m index \u001b[38;5;129;01mis\u001b[39;00m \u001b[38;5;28;01mNone\u001b[39;00m:\n\u001b[32m--> \u001b[39m\u001b[32m114\u001b[39m         index = \u001b[43m_extract_index\u001b[49m\u001b[43m(\u001b[49m\u001b[43marrays\u001b[49m\u001b[43m)\u001b[49m\n\u001b[32m    115\u001b[39m     \u001b[38;5;28;01melse\u001b[39;00m:\n\u001b[32m    116\u001b[39m         index = ensure_index(index)\n",
      "\u001b[36mFile \u001b[39m\u001b[32mc:\\Users\\Rasulbek907\\Desktop\\Project_MP\\venv\\Lib\\site-packages\\pandas\\core\\internals\\construction.py:664\u001b[39m, in \u001b[36m_extract_index\u001b[39m\u001b[34m(data)\u001b[39m\n\u001b[32m    662\u001b[39m         raw_lengths.append(\u001b[38;5;28mlen\u001b[39m(val))\n\u001b[32m    663\u001b[39m     \u001b[38;5;28;01melif\u001b[39;00m \u001b[38;5;28misinstance\u001b[39m(val, np.ndarray) \u001b[38;5;129;01mand\u001b[39;00m val.ndim > \u001b[32m1\u001b[39m:\n\u001b[32m--> \u001b[39m\u001b[32m664\u001b[39m         \u001b[38;5;28;01mraise\u001b[39;00m \u001b[38;5;167;01mValueError\u001b[39;00m(\u001b[33m\"\u001b[39m\u001b[33mPer-column arrays must each be 1-dimensional\u001b[39m\u001b[33m\"\u001b[39m)\n\u001b[32m    666\u001b[39m \u001b[38;5;28;01mif\u001b[39;00m \u001b[38;5;129;01mnot\u001b[39;00m indexes \u001b[38;5;129;01mand\u001b[39;00m \u001b[38;5;129;01mnot\u001b[39;00m raw_lengths:\n\u001b[32m    667\u001b[39m     \u001b[38;5;28;01mraise\u001b[39;00m \u001b[38;5;167;01mValueError\u001b[39;00m(\u001b[33m\"\u001b[39m\u001b[33mIf using all scalar values, you must pass an index\u001b[39m\u001b[33m\"\u001b[39m)\n",
      "\u001b[31mValueError\u001b[39m: Per-column arrays must each be 1-dimensional"
     ]
    }
   ],
   "source": [
    "import shap\n",
    "import matplotlib.pyplot as plt\n",
    "import numpy as np\n",
    "import pandas as pd\n",
    "from sklearn.ensemble import RandomForestClassifier\n",
    "\n",
    "# 🌲 Modelni o‘qitamiz\n",
    "rf_model = RandomForestClassifier(n_estimators=100, random_state=42)\n",
    "rf_model.fit(X, y)\n",
    "\n",
    "# 🔍 SHAP qiymatlarini hisoblash\n",
    "explainer = shap.TreeExplainer(rf_model)\n",
    "shap_values = explainer.shap_values(X)\n",
    "\n",
    "# Agar model ko‘p sinfli bo‘lsa, u holda shap_values — list bo‘ladi\n",
    "if isinstance(shap_values, list):\n",
    "    # Har bir sinf uchun SHAP qiymatlarini o‘rtacha absolyut qiymatga aylantirib, birlashtiramiz\n",
    "    shap_values_mean = np.mean([np.abs(sv) for sv in shap_values], axis=0)\n",
    "else:\n",
    "    shap_values_mean = np.abs(shap_values)\n",
    "\n",
    "# === Eng muhim 15 ta belgi ===\n",
    "mean_importance = pd.DataFrame({\n",
    "    'Feature': X.columns,\n",
    "    'Mean_SHAP_Value': np.mean(shap_values_mean, axis=0)\n",
    "}).sort_values(by='Mean_SHAP_Value', ascending=True)\n",
    "\n",
    "# === Grafikli ko‘rinish (chiroyli bar chart) ===\n",
    "plt.figure(figsize=(8, 6))\n",
    "plt.barh(mean_importance['Feature'], mean_importance['Mean_SHAP_Value'], color='skyblue')\n",
    "plt.xlabel(\"O‘rtacha SHAP qiymati\")\n",
    "plt.ylabel(\"Belgilar\")\n",
    "plt.title(\"🎯 Random Forest — Eng muhim xususiyatlar (SHAP asosida)\")\n",
    "plt.tight_layout()\n",
    "plt.show()\n",
    "\n",
    "x = df.drop(\"nova_group\")"
   ]
  },
  {
   "cell_type": "markdown",
   "id": "61dd26da",
   "metadata": {},
   "source": [
    "### ✅ XULOSA\n",
    "\n",
    "🔍 Yuqoridagi tahliliy natijalardan kelib chiqib, quyidagi xulosani chiqarishimiz mumkin:\n",
    "\n",
    "📈 **Modelimiz samaradorligini oshirishda aynan o‘zimiz tomonidan yaratilgan quyidagi ustunlar muhim rol o‘ynamoqda**:\n",
    "\n",
    "- `life_span_boxcox` ⚙️  \n",
    "- `life_span_log` 📊  \n",
    "- `life_span_cluster` 🔗  \n",
    "- `occupation_cluster` 🧠  \n",
    "- `birth_year_boxcox` 🕰️  \n",
    "- `death_year_boxcox` ⚰️  \n",
    "\n",
    "🚀 Ushbu ustunlar **modelimizning eng muhim TOP-10 xususiyatlari** qatoriga kirgan va ularning mavjudligi **aniqlikni sezilarli darajada oshirgan**.\n",
    "\n",
    "🏅 Shuningdek, `awards` ustuni ham **ahamiyatli omillardan biri** sifatida ajralib turibdi.\n",
    "\n",
    "---\n",
    "\n",
    "🎯 **Xulosa qilib aytganda**, **to‘g‘ri xususiyatlar muhandisligi (feature engineering)** model samaradorligining asosiy omillaridan biri bo‘lib xizmat qilmoqda. Bu — muvaffaqiyat sari muhim qadam! 💡📊\n"
   ]
  },
  {
   "cell_type": "code",
   "execution_count": null,
   "id": "aee84eb2",
   "metadata": {},
   "outputs": [],
   "source": []
  }
 ],
 "metadata": {
  "kernelspec": {
   "display_name": "venv",
   "language": "python",
   "name": "python3"
  },
  "language_info": {
   "codemirror_mode": {
    "name": "ipython",
    "version": 3
   },
   "file_extension": ".py",
   "mimetype": "text/x-python",
   "name": "python",
   "nbconvert_exporter": "python",
   "pygments_lexer": "ipython3",
   "version": "3.13.7"
  }
 },
 "nbformat": 4,
 "nbformat_minor": 5
}
