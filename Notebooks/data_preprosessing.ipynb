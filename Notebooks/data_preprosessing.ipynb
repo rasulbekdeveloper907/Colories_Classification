{
 "cells": [
  {
   "cell_type": "code",
   "execution_count": null,
   "id": "bacfdd32",
   "metadata": {},
   "outputs": [],
   "source": [
    "import pandas as pd\n",
    "import logging\n",
    "\n",
    "# Log fayl manzili\n",
    "log_path = r\"C:\\Users\\Rasulbek907\\Desktop\\Final_Project\\Log\\preprosessing.log\"\n",
    "\n",
    "# Log sozlamalari\n",
    "logging.basicConfig(\n",
    "    filename=log_path,\n",
    "    filemode='a',  # Append mode\n",
    "    format='%(asctime)s - %(levelname)s - %(message)s',\n",
    "    level=logging.INFO\n",
    ")\n",
    "\n",
    "try:\n",
    "    logging.info(\"CSV fayl o'qilmoqda:...\")\n",
    "    df = pd.read_csv(r\"C:\\Users\\Rasulbek907\\Desktop\\Final_Project\\Data\\Preprosessed_data\\Clustering.csv\")\n",
    "    logging.info(f\"Fayl muvaffaqiyatli o'qildi. Satırlar soni: {len(df)} ustunlar soni: {len(df.columns)}\")\n",
    "except Exception as e:\n",
    "    logging.error(f\"CSV faylni o'qishda xatolik: {e}\")"
   ]
  },
  {
   "cell_type": "code",
   "execution_count": null,
   "id": "e943ba6a",
   "metadata": {},
   "outputs": [],
   "source": [
    "import sys\n",
    "import os\n",
    "\n",
    "# Source papkasini yo'lga qo'shamiz\n",
    "source_path = os.path.abspath(\"../Source\")\n",
    "if source_path not in sys.path:\n",
    "    sys.path.append(source_path)\n",
    "\n",
    "print(\"Python executable:\", sys.executable)\n",
    "print(\"Source path added:\", source_path)\n",
    "\n",
    "# Endi modulni import qilamiz\n",
    "from preprosessing import Cleaner, Encoder, Scaler"
   ]
  },
  {
   "cell_type": "code",
   "execution_count": null,
   "id": "3a56510c",
   "metadata": {},
   "outputs": [],
   "source": [
    "cleaner = Cleaner(df)\n",
    "df = cleaner.tozala().get_df()"
   ]
  },
  {
   "cell_type": "code",
   "execution_count": null,
   "id": "e2d4662e",
   "metadata": {},
   "outputs": [],
   "source": [
    "df.info()"
   ]
  },
  {
   "cell_type": "code",
   "execution_count": null,
   "id": "f7efa059",
   "metadata": {},
   "outputs": [],
   "source": [
    "\n",
    "encoder = Encoder(df)\n",
    "df = encoder.encodla().get_df()"
   ]
  },
  {
   "cell_type": "code",
   "execution_count": null,
   "id": "d6f028ad",
   "metadata": {},
   "outputs": [],
   "source": [
    "\n",
    "df.info()"
   ]
  },
  {
   "cell_type": "code",
   "execution_count": null,
   "id": "f581ad2d",
   "metadata": {},
   "outputs": [],
   "source": [
    "scaler = Scaler(df)\n",
    "df = scaler.scaling_qil().get_df()"
   ]
  },
  {
   "cell_type": "code",
   "execution_count": null,
   "id": "c014aa58",
   "metadata": {},
   "outputs": [],
   "source": [
    "\n",
    "df.head()"
   ]
  },
  {
   "cell_type": "code",
   "execution_count": null,
   "id": "71f41fd4",
   "metadata": {},
   "outputs": [],
   "source": [
    "\n",
    "df.to_csv(r\"C:\\Users\\Rasulbek907\\Desktop\\Final_Project\\Data\\Preprosessed_data\\Preprosessed.csv\")"
   ]
  }
 ],
 "metadata": {
  "language_info": {
   "name": "python"
  }
 },
 "nbformat": 4,
 "nbformat_minor": 5
}
