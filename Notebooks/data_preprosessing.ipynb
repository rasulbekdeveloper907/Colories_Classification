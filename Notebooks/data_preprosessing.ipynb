{
 "cells": [
  {
   "cell_type": "code",
   "execution_count": 1,
   "id": "bacfdd32",
   "metadata": {},
   "outputs": [],
   "source": [
    "import pandas as pd\n",
    "import logging\n",
    "\n",
    "# Log fayl manzili\n",
    "log_path = r\"C:\\Users\\Rasulbek907\\Desktop\\Project_MP\\Log\\data_loader.log\"\n",
    "\n",
    "# Log sozlamalari\n",
    "logging.basicConfig(\n",
    "    filename=log_path,\n",
    "    filemode='a',  # Append mode\n",
    "    format='%(asctime)s - %(levelname)s - %(message)s',\n",
    "    level=logging.INFO\n",
    ")\n",
    "\n",
    "try:\n",
    "    logging.info(\"CSV fayl o'qilmoqda:...\")\n",
    "    df = pd.read_csv(r\"C:\\Users\\Rasulbek907\\Desktop\\Project_MP\\Data\\Web_Scrapping\\openfoodfacts_fooddata.csv\")\n",
    "    logging.info(f\"Fayl muvaffaqiyatli o'qildi. Satırlar soni: {len(df)} ustunlar soni: {len(df.columns)}\")\n",
    "except Exception as e:\n",
    "    logging.error(f\"CSV faylni o'qishda xatolik: {e}\")"
   ]
  },
  {
   "cell_type": "code",
   "execution_count": 2,
   "id": "e943ba6a",
   "metadata": {},
   "outputs": [
    {
     "name": "stdout",
     "output_type": "stream",
     "text": [
      "Python executable: c:\\Users\\Rasulbek907\\Desktop\\Project_MP\\venv\\Scripts\\python.exe\n",
      "Source path added: c:\\Users\\Rasulbek907\\Desktop\\Project_MP\\Source\n"
     ]
    }
   ],
   "source": [
    "import sys\n",
    "import os\n",
    "\n",
    "# Source papkasini yo'lga qo'shamiz\n",
    "source_path = os.path.abspath(\"../Source\")\n",
    "if source_path not in sys.path:\n",
    "    sys.path.append(source_path)\n",
    "\n",
    "print(\"Python executable:\", sys.executable)\n",
    "print(\"Source path added:\", source_path)\n",
    "\n",
    "# Endi modulni import qilamiz\n",
    "from preprosessing import Cleaner, Encoder, Scaler"
   ]
  },
  {
   "cell_type": "code",
   "execution_count": 3,
   "id": "3a56510c",
   "metadata": {},
   "outputs": [],
   "source": [
    "cleaner = Cleaner(df)\n",
    "df = cleaner.tozala().get_df()"
   ]
  },
  {
   "cell_type": "code",
   "execution_count": 4,
   "id": "e2d4662e",
   "metadata": {},
   "outputs": [
    {
     "name": "stdout",
     "output_type": "stream",
     "text": [
      "<class 'pandas.core.frame.DataFrame'>\n",
      "RangeIndex: 5000 entries, 0 to 4999\n",
      "Data columns (total 40 columns):\n",
      " #   Column              Non-Null Count  Dtype  \n",
      "---  ------              --------------  -----  \n",
      " 0   code                5000 non-null   int64  \n",
      " 1   product_name        5000 non-null   object \n",
      " 2   brands              5000 non-null   object \n",
      " 3   categories          5000 non-null   object \n",
      " 4   countries           5000 non-null   object \n",
      " 5   quantity            5000 non-null   object \n",
      " 6   packaging           5000 non-null   object \n",
      " 7   energy_kcal         0 non-null      float64\n",
      " 8   fat                 0 non-null      float64\n",
      " 9   saturated_fat       0 non-null      float64\n",
      " 10  trans_fat           0 non-null      float64\n",
      " 11  cholesterol         0 non-null      float64\n",
      " 12  carbohydrates       0 non-null      float64\n",
      " 13  fiber               0 non-null      float64\n",
      " 14  proteins            0 non-null      float64\n",
      " 15  sugars              0 non-null      float64\n",
      " 16  salt                0 non-null      float64\n",
      " 17  sodium              0 non-null      float64\n",
      " 18  vitamin_a           0 non-null      float64\n",
      " 19  vitamin_c           0 non-null      float64\n",
      " 20  vitamin_d           0 non-null      float64\n",
      " 21  vitamin_e           0 non-null      float64\n",
      " 22  vitamin_b12         0 non-null      float64\n",
      " 23  iron                0 non-null      float64\n",
      " 24  calcium             0 non-null      float64\n",
      " 25  potassium           0 non-null      float64\n",
      " 26  zinc                0 non-null      float64\n",
      " 27  ingredients         0 non-null      float64\n",
      " 28  allergens           0 non-null      float64\n",
      " 29  traces              0 non-null      float64\n",
      " 30  additives           0 non-null      float64\n",
      " 31  nova_group          5000 non-null   float64\n",
      " 32  labels              0 non-null      float64\n",
      " 33  nutriscore          0 non-null      float64\n",
      " 34  ecoscore            0 non-null      float64\n",
      " 35  carbon_footprint    0 non-null      float64\n",
      " 36  environment_impact  0 non-null      float64\n",
      " 37  created_t           5000 non-null   int64  \n",
      " 38  last_modified_t     5000 non-null   int64  \n",
      " 39  languages           0 non-null      float64\n",
      "dtypes: float64(31), int64(3), object(6)\n",
      "memory usage: 1.5+ MB\n"
     ]
    }
   ],
   "source": [
    "df.info()"
   ]
  },
  {
   "cell_type": "code",
   "execution_count": 5,
   "id": "13c27ce9",
   "metadata": {},
   "outputs": [
    {
     "name": "stdout",
     "output_type": "stream",
     "text": [
      "Yangi DataFrame o‘lchami: (5000, 10)\n",
      "Qolgan ustunlar:\n",
      "Index(['code', 'product_name', 'brands', 'categories', 'countries', 'quantity',\n",
      "       'packaging', 'nova_group', 'created_t', 'last_modified_t'],\n",
      "      dtype='object')\n"
     ]
    }
   ],
   "source": [
    "df_cleaned = df.dropna(thresh=2000, axis=1)\n",
    "\n",
    "# Natijani ko‘rish\n",
    "print(\"Yangi DataFrame o‘lchami:\", df_cleaned.shape)\n",
    "print(\"Qolgan ustunlar:\")\n",
    "print(df_cleaned.columns)\n"
   ]
  },
  {
   "cell_type": "code",
   "execution_count": 7,
   "id": "80a81e17",
   "metadata": {},
   "outputs": [
    {
     "name": "stdout",
     "output_type": "stream",
     "text": [
      "<class 'pandas.core.frame.DataFrame'>\n",
      "RangeIndex: 5000 entries, 0 to 4999\n",
      "Data columns (total 10 columns):\n",
      " #   Column           Non-Null Count  Dtype  \n",
      "---  ------           --------------  -----  \n",
      " 0   code             5000 non-null   int64  \n",
      " 1   product_name     5000 non-null   object \n",
      " 2   brands           5000 non-null   object \n",
      " 3   categories       5000 non-null   object \n",
      " 4   countries        5000 non-null   object \n",
      " 5   quantity         5000 non-null   object \n",
      " 6   packaging        5000 non-null   object \n",
      " 7   nova_group       5000 non-null   float64\n",
      " 8   created_t        5000 non-null   int64  \n",
      " 9   last_modified_t  5000 non-null   int64  \n",
      "dtypes: float64(1), int64(3), object(6)\n",
      "memory usage: 390.8+ KB\n"
     ]
    }
   ],
   "source": [
    "df_cleaned.info()"
   ]
  },
  {
   "cell_type": "code",
   "execution_count": 9,
   "id": "68b68fa6",
   "metadata": {},
   "outputs": [],
   "source": [
    "df_cleaned.to_csv(r\"C:\\Users\\Rasulbek907\\Desktop\\Project_MP\\Data\\Preprosessed\\missing_value.csv\")"
   ]
  },
  {
   "cell_type": "code",
   "execution_count": null,
   "id": "f7efa059",
   "metadata": {},
   "outputs": [],
   "source": [
    "\n",
    "encoder = Encoder(df)\n",
    "df = encoder.encodla().get_df()"
   ]
  },
  {
   "cell_type": "code",
   "execution_count": null,
   "id": "d6f028ad",
   "metadata": {},
   "outputs": [],
   "source": [
    "\n",
    "df.info()"
   ]
  },
  {
   "cell_type": "code",
   "execution_count": null,
   "id": "f581ad2d",
   "metadata": {},
   "outputs": [],
   "source": [
    "scaler = Scaler(df)\n",
    "df = scaler.scaling_qil().get_df()"
   ]
  },
  {
   "cell_type": "code",
   "execution_count": null,
   "id": "c014aa58",
   "metadata": {},
   "outputs": [],
   "source": [
    "\n",
    "df.head()"
   ]
  },
  {
   "cell_type": "code",
   "execution_count": null,
   "id": "71f41fd4",
   "metadata": {},
   "outputs": [],
   "source": [
    "\n",
    "df.to_csv(r\"C:\\Users\\Rasulbek907\\Desktop\\Final_Project\\Data\\Preprosessed_data\\Preprosessed.csv\")"
   ]
  }
 ],
 "metadata": {
  "kernelspec": {
   "display_name": "venv",
   "language": "python",
   "name": "python3"
  },
  "language_info": {
   "codemirror_mode": {
    "name": "ipython",
    "version": 3
   },
   "file_extension": ".py",
   "mimetype": "text/x-python",
   "name": "python",
   "nbconvert_exporter": "python",
   "pygments_lexer": "ipython3",
   "version": "3.13.7"
  }
 },
 "nbformat": 4,
 "nbformat_minor": 5
}
