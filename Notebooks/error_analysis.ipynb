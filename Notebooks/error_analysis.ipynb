{
 "cells": [
  {
   "cell_type": "code",
   "execution_count": null,
   "id": "50baa22e",
   "metadata": {},
   "outputs": [],
   "source": [
    "import logging\n",
    "import pandas as  pd\n",
    "log_file=r\"C:\\Users\\Rasulbek907\\Desktop\\Final_Project\\Log\\error_analysis.log\""
   ]
  },
  {
   "cell_type": "code",
   "execution_count": null,
   "id": "19a26eb1",
   "metadata": {},
   "outputs": [],
   "source": [
    "logging.basicConfig(\n",
    "    filename=log_file,\n",
    "    filemode='a',\n",
    "    level=logging.INFO,\n",
    "    format=\"%(asctime)s-%(levelname)s-%(message)s\"\n",
    ")\n",
    "logging.info('Analysis started!')"
   ]
  },
  {
   "cell_type": "code",
   "execution_count": null,
   "id": "54f45d2c",
   "metadata": {},
   "outputs": [],
   "source": [
    "import os\n",
    "import sys\n",
    "sys.path.append(r\"C:\\Users\\Rasulbek907\\Desktop\\Final_Project\\Source\")"
   ]
  },
  {
   "cell_type": "code",
   "execution_count": null,
   "id": "63035aa1",
   "metadata": {},
   "outputs": [],
   "source": [
    "from data_loader import DataLoader"
   ]
  },
  {
   "cell_type": "code",
   "execution_count": null,
   "id": "4596b473",
   "metadata": {},
   "outputs": [],
   "source": [
    "path = r\"C:\\Users\\Rasulbek907\\Desktop\\Final_Project\\Data\\Feature_selection\"\n",
    "loader = DataLoader(path)"
   ]
  },
  {
   "cell_type": "code",
   "execution_count": null,
   "id": "8e91bc8a",
   "metadata": {},
   "outputs": [],
   "source": [
    "\n",
    "df = loader.load_datasets()"
   ]
  },
  {
   "cell_type": "code",
   "execution_count": null,
   "id": "0d4b9ab2",
   "metadata": {},
   "outputs": [],
   "source": [
    "\n",
    "print(df.info())"
   ]
  },
  {
   "cell_type": "code",
   "execution_count": null,
   "id": "6ebdc5d5",
   "metadata": {},
   "outputs": [],
   "source": [
    "import numpy as np\n",
    "from sklearn.compose import ColumnTransformer\n",
    "from sklearn.pipeline import Pipeline\n",
    "from sklearn.impute import SimpleImputer\n",
    "from sklearn.preprocessing import OrdinalEncoder, MinMaxScaler\n",
    "from sklearn.ensemble import RandomForestRegressor\n",
    "from sklearn.model_selection import train_test_split\n",
    "from sklearn.metrics import r2_score, mean_absolute_error"
   ]
  },
  {
   "cell_type": "code",
   "execution_count": null,
   "id": "c47a9807",
   "metadata": {},
   "outputs": [],
   "source": [
    "num_col = df.select_dtypes(include=[np.number]).columns.drop('life_span').tolist()\n",
    "cat_col = df.select_dtypes(exclude=[np.number]).columns.tolist()"
   ]
  },
  {
   "cell_type": "code",
   "execution_count": null,
   "id": "f55284a2",
   "metadata": {},
   "outputs": [],
   "source": [
    "for col in cat_col:\n",
    "    df[col]=df[col].astype(str)"
   ]
  },
  {
   "cell_type": "code",
   "execution_count": null,
   "id": "c5c0f9c9",
   "metadata": {},
   "outputs": [],
   "source": [
    "if 'life_span' not in df.columns:\n",
    "    print(\"⚠️ Column 'life_span' not found. Available columns are:\")\n",
    "    print(df.columns.tolist())\n",
    "else:\n",
    "    \n",
    "    X = df.drop('life_span', axis=1)\n",
    "    y = df['life_span']"
   ]
  },
  {
   "cell_type": "code",
   "execution_count": null,
   "id": "2759c883",
   "metadata": {},
   "outputs": [],
   "source": [
    "num_pipeline=Pipeline([\n",
    "    ('imputer',SimpleImputer(strategy='mean')),\n",
    "    ('scaler',MinMaxScaler())\n",
    "\n",
    "])"
   ]
  },
  {
   "cell_type": "code",
   "execution_count": null,
   "id": "0670dcc7",
   "metadata": {},
   "outputs": [],
   "source": [
    "\n",
    "num_pipeline"
   ]
  },
  {
   "cell_type": "code",
   "execution_count": null,
   "id": "2d25030e",
   "metadata": {},
   "outputs": [],
   "source": [
    "cat_pipeline=Pipeline([\n",
    "    ('imputer',SimpleImputer(strategy='most_frequent')),\n",
    "    ('encoder',OrdinalEncoder(handle_unknown='use_encoded_value',unknown_value=-1))\n",
    "])"
   ]
  },
  {
   "cell_type": "code",
   "execution_count": null,
   "id": "98205b95",
   "metadata": {},
   "outputs": [],
   "source": [
    "cat_pipeline"
   ]
  },
  {
   "cell_type": "code",
   "execution_count": null,
   "id": "41d8b068",
   "metadata": {},
   "outputs": [],
   "source": [
    "preprocessor=ColumnTransformer([\n",
    "    \n",
    "        ('num',num_pipeline,num_col),\n",
    "        ('cat',cat_pipeline,cat_col)\n",
    "    \n",
    "])"
   ]
  },
  {
   "cell_type": "code",
   "execution_count": null,
   "id": "df44c37e",
   "metadata": {},
   "outputs": [],
   "source": [
    "\n",
    "preprocessor"
   ]
  },
  {
   "cell_type": "code",
   "execution_count": null,
   "id": "080061b5",
   "metadata": {},
   "outputs": [],
   "source": [
    "pipeline=Pipeline([\n",
    "    ('preprocessor',preprocessor),\n",
    "    ('model',RandomForestRegressor(random_state=42))\n",
    "])"
   ]
  },
  {
   "cell_type": "code",
   "execution_count": null,
   "id": "51f839d0",
   "metadata": {},
   "outputs": [],
   "source": [
    "\n",
    "pipeline"
   ]
  },
  {
   "cell_type": "code",
   "execution_count": null,
   "id": "9da01397",
   "metadata": {},
   "outputs": [],
   "source": [
    "print(\"NaN soni y_train ichida:\", y_train.isna().sum())"
   ]
  },
  {
   "cell_type": "code",
   "execution_count": null,
   "id": "c1fffbed",
   "metadata": {},
   "outputs": [],
   "source": [
    "# NaN bo‘lgan qatorlarni olib tashlash\n",
    "train_data = pd.concat([x_train, y_train], axis=1)\n",
    "train_data.dropna(subset=[y_train.name], inplace=True)"
   ]
  },
  {
   "cell_type": "code",
   "execution_count": null,
   "id": "9a44add1",
   "metadata": {},
   "outputs": [],
   "source": [
    "# Yangi tozalangan versiyalar\n",
    "x_train = train_data.drop(columns=[y_train.name])\n",
    "y_train = train_data[y_train.name]"
   ]
  },
  {
   "cell_type": "code",
   "execution_count": null,
   "id": "9dd6ef1a",
   "metadata": {},
   "outputs": [],
   "source": [
    "train_data = pd.concat([x_train, y_train], axis=1)\n",
    "train_data.dropna(subset=[y_train.name if y_train.name else 'target'], inplace=True)\n",
    "\n",
    "x_train = train_data.iloc[:, :-1]\n",
    "y_train = train_data.iloc[:, -1]"
   ]
  },
  {
   "cell_type": "code",
   "execution_count": null,
   "id": "b069ec33",
   "metadata": {},
   "outputs": [],
   "source": [
    "\n",
    "x_train,x_test,y_train,y_test=train_test_split(X,y,test_size=0.2, random_state=42)"
   ]
  },
  {
   "cell_type": "code",
   "execution_count": null,
   "id": "e633ef3e",
   "metadata": {},
   "outputs": [],
   "source": [
    "pipeline.fit(x_train, y_train)"
   ]
  },
  {
   "cell_type": "code",
   "execution_count": null,
   "id": "4b590883",
   "metadata": {},
   "outputs": [],
   "source": [
    "print(\"NaN soni y_test ichida:\", y_test.isna().sum())"
   ]
  },
  {
   "cell_type": "code",
   "execution_count": null,
   "id": "9b9f9f04",
   "metadata": {},
   "outputs": [],
   "source": [
    "print(f\"Tozalangandan keyin test_data hajmi: {test_data.shape}\")"
   ]
  },
  {
   "cell_type": "code",
   "execution_count": null,
   "id": "27f3682a",
   "metadata": {},
   "outputs": [],
   "source": [
    "# Faqat y_test dagi NaN bo‘lganlarni chiqarib tashlaymiz\n",
    "mask = y_test.notna()\n",
    "\n",
    "x_test_clean = x_test[mask]\n",
    "y_test_clean = y_test[mask]\n",
    "\n",
    "print(\"Tozalangandan keyin test_data hajmi:\", x_test_clean.shape)"
   ]
  },
  {
   "cell_type": "code",
   "execution_count": null,
   "id": "a15352d6",
   "metadata": {},
   "outputs": [],
   "source": [
    "# Modeldan bashorat qilish\n",
    "y_pred = pipeline.predict(x_test_clean)\n",
    "\n",
    "# Baholash\n",
    "from sklearn.metrics import r2_score, mean_absolute_error\n",
    "\n",
    "r2 = r2_score(y_test_clean, y_pred)\n",
    "mae = mean_absolute_error(y_test_clean, y_pred)\n",
    "\n",
    "print(\"✅ R2 score:\", r2)\n",
    "print(\"✅ MAE:\", mae)"
   ]
  },
  {
   "cell_type": "code",
   "execution_count": null,
   "id": "6a7570ce",
   "metadata": {},
   "outputs": [],
   "source": [
    "print(f\"r2 is {r2:.2f}\")\n",
    "print(f\"mae is  {mae:.2f}\")"
   ]
  },
  {
   "cell_type": "markdown",
   "id": "f60f231b",
   "metadata": {},
   "source": [
    "# Error Analysis"
   ]
  },
  {
   "cell_type": "code",
   "execution_count": null,
   "id": "af3d413f",
   "metadata": {},
   "outputs": [],
   "source": [
    "import numpy as np\n",
    "\n",
    "# errors va abs_errors ni hisoblaymiz\n",
    "errors = y_test_clean - y_pred\n",
    "abs_errors = np.abs(errors)\n",
    "\n",
    "# Natijalarni jadval ko‘rinishida ko‘rsatish uchun pandas DataFrame yasaymiz\n",
    "import pandas as pd\n",
    "\n",
    "errors_df = pd.DataFrame({\n",
    "    'Actual': y_test_clean,\n",
    "    'Predicted': y_pred,\n",
    "    'Error': errors,\n",
    "    'Absolute Error': abs_errors\n",
    "})\n",
    "\n",
    "print(errors_df.head())"
   ]
  },
  {
   "cell_type": "code",
   "execution_count": null,
   "id": "7bf7ae3c",
   "metadata": {},
   "outputs": [],
   "source": [
    "errors_df = errors_df.reset_index(drop=True)\n",
    "x_test_reset = x_test_clean.reset_index(drop=True)"
   ]
  },
  {
   "cell_type": "code",
   "execution_count": null,
   "id": "96668794",
   "metadata": {},
   "outputs": [],
   "source": [
    "full_errors_df = pd.concat([x_test_reset, errors_df], axis=1)"
   ]
  },
  {
   "cell_type": "code",
   "execution_count": null,
   "id": "19ba531a",
   "metadata": {},
   "outputs": [],
   "source": [
    "print(full_errors_df.head())"
   ]
  },
  {
   "cell_type": "code",
   "execution_count": null,
   "id": "76159bd4",
   "metadata": {},
   "outputs": [],
   "source": [
    "\n",
    "print(full_errors_df.columns)"
   ]
  },
  {
   "cell_type": "code",
   "execution_count": null,
   "id": "187de4a1",
   "metadata": {},
   "outputs": [],
   "source": [
    "error_cols = full_errors_df[['name', 'Error', 'Absolute Error']]\n",
    "print(error_cols.head(10))"
   ]
  },
  {
   "cell_type": "markdown",
   "id": "911ff0b6",
   "metadata": {},
   "source": [
    "# Worst Prediction"
   ]
  },
  {
   "cell_type": "code",
   "execution_count": null,
   "id": "de49c7c0",
   "metadata": {},
   "outputs": [],
   "source": [
    "# 4️⃣ Sort by largest absolute errors\n",
    "worst_predictions = full_errors_df.sort_values(by='Absolute Error', ascending=False).head(10)\n",
    "\n",
    "print(\"🔎 Top 10 Worst Predictions:\")\n",
    "display(worst_predictions[['Actual', 'Predicted', 'Error', 'Absolute Error']])"
   ]
  },
  {
   "cell_type": "markdown",
   "id": "c93e6a62",
   "metadata": {},
   "source": [
    "# Error Distribution"
   ]
  },
  {
   "cell_type": "code",
   "execution_count": null,
   "id": "62ca4b56",
   "metadata": {},
   "outputs": [],
   "source": [
    "import matplotlib.pyplot as plt\n",
    "import seaborn as sns \n",
    "plt.figure(figsize=(8, 5))\n",
    "sns.histplot(errors, bins=30, kde=True)\n",
    "plt.title(\"Distribution of Prediction Errors\")\n",
    "plt.xlabel(\"Error (Actual - Predicted)\")\n",
    "plt.ylabel(\"Frequency\")\n",
    "plt.show()"
   ]
  },
  {
   "cell_type": "markdown",
   "id": "209b1cef",
   "metadata": {},
   "source": [
    "# Actual vs Predicted"
   ]
  },
  {
   "cell_type": "code",
   "execution_count": null,
   "id": "acce83ee",
   "metadata": {},
   "outputs": [],
   "source": [
    "import matplotlib.pyplot as plt\n",
    "import seaborn as sns\n",
    "\n",
    "plt.figure(figsize=(6, 6))\n",
    "sns.scatterplot(x=y_test_clean, y=y_pred)\n",
    "plt.plot([y_test_clean.min(), y_test_clean.max()], [y_test_clean.min(), y_test_clean.max()], 'r--')  # Ideal chiziq\n",
    "plt.xlabel(\"Actual Values\")\n",
    "plt.ylabel(\"Predicted Values\")\n",
    "plt.title(\"Actual vs Predicted Scatterplot\")\n",
    "plt.show()"
   ]
  }
 ],
 "metadata": {
  "language_info": {
   "name": "python"
  }
 },
 "nbformat": 4,
 "nbformat_minor": 5
}
